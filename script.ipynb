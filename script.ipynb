{
 "cells": [
  {
   "cell_type": "code",
   "execution_count": 70,
   "id": "initial_id",
   "metadata": {
    "collapsed": true,
    "ExecuteTime": {
     "end_time": "2024-04-20T10:52:15.627271Z",
     "start_time": "2024-04-20T10:52:15.599728Z"
    }
   },
   "outputs": [
    {
     "name": "stdout",
     "output_type": "stream",
     "text": [
      "Indices of top 5 elements in each row:\n",
      " [[ 6 11  1 10  3]\n",
      " [ 7  5 12 15  1]\n",
      " [15  5  9  6 19]\n",
      " [ 1 15 19  6 11]\n",
      " [ 2 16 19  1 17]\n",
      " [ 3  4  0 10 14]\n",
      " [13 15 12 18  7]\n",
      " [12 16 19  7  1]\n",
      " [19  6  9  7  8]\n",
      " [18 19  0  1  9]]\n",
      "Top 5 elements in each row:\n",
      " [[0.99581529 0.96492494 0.9485403  0.94385086 0.84834527]\n",
      " [0.96920587 0.85324598 0.82371767 0.79122743 0.72754361]\n",
      " [0.97509468 0.96551664 0.9416678  0.85900264 0.77450095]\n",
      " [0.9673378  0.96705492 0.92929167 0.91328434 0.88502185]\n",
      " [0.98510868 0.90623142 0.85180858 0.82814661 0.81636431]\n",
      " [0.997994   0.98788917 0.96239507 0.95612316 0.94782189]\n",
      " [0.95556839 0.82680527 0.8002556  0.7510323  0.70641058]\n",
      " [0.98385383 0.94462572 0.92539503 0.92345554 0.89270716]\n",
      " [0.94218472 0.92797617 0.91145088 0.86686091 0.81615075]\n",
      " [0.98299913 0.98224778 0.88826504 0.86031068 0.81642103]]\n"
     ]
    }
   ],
   "source": [
    "import numpy as np\n",
    "\n",
    "def top_k_indices(matrix, k, axis=1):\n",
    "    \"\"\"\n",
    "    返回二维数组中每行或每列前k个最大元素的索引。\n",
    "    \n",
    "    参数:\n",
    "        matrix (np.ndarray): 需要检索的二维NumPy数组\n",
    "        k (int): 需要返回的最大值的数量\n",
    "        axis (int): 指定操作的轴，axis=1表示处理每行，axis=0表示处理每列\n",
    "    \n",
    "    返回:\n",
    "        np.ndarray: 包含每行或每列前k个最大元素索引的二维数组\n",
    "    \"\"\"\n",
    "    # 检查k是否超出轴的长度，如果超出则使用该轴的长度\n",
    "    if axis == 1:  # 处理每行\n",
    "        k = min(k, matrix.shape[1])\n",
    "        indices = np.argsort(matrix, axis=1)[:, -k:][:, ::-1]\n",
    "    elif axis == 0:  # 处理每列\n",
    "        k = min(k, matrix.shape[0])\n",
    "        indices = np.argsort(matrix, axis=0)[-k:, :][::-1, :]\n",
    "    return indices\n",
    "\n",
    "# 示例数据和使用函数\n",
    "probs = np.random.rand(10, 20)  # 创建一个10x20的二维数组\n",
    "k = 5\n",
    "top_indices = top_k_indices(probs, k)\n",
    "print(\"Indices of top\", k, \"elements in each row:\\n\", top_indices)\n",
    "print(\"Top\", k, \"elements in each row:\\n\", np.take_along_axis(probs, top_indices, axis=1))\n"
   ]
  },
  {
   "cell_type": "code",
   "outputs": [
    {
     "data": {
      "text/plain": "{'recall': array([0.33333333, 0.66666667, 0.66666667, 0.66666667]),\n 'precision': array([0.2 , 0.2 , 0.1 , 0.04]),\n 'ndcg': array([0.23463936, 0.40179982, 0.40179982, 0.40179982]),\n 'hit_ratio': array([1., 1., 1., 1.])}"
     },
     "execution_count": 84,
     "metadata": {},
     "output_type": "execute_result"
    }
   ],
   "source": [
    "import numpy as np\n",
    "\n",
    "def precision_at_k(r, k):\n",
    "    assert k >= 1\n",
    "    r = np.asarray(r)[:k]\n",
    "    return np.mean(r)\n",
    "\n",
    "def recall_at_k(r, k, all_pos_num):\n",
    "    r = np.asfarray(r)[:k]\n",
    "    if all_pos_num == 0:\n",
    "        return 0\n",
    "    else:\n",
    "        return np.sum(r) / all_pos_num\n",
    "\n",
    "def dcg_at_k(r, k, method=1):\n",
    "    r = np.asfarray(r)[:k]\n",
    "    if r.size:\n",
    "        if method == 0:\n",
    "            return r[0] + np.sum(r[1:] / np.log2(np.arange(2, r.size + 1)))\n",
    "        elif method == 1:\n",
    "            return np.sum(r / np.log2(np.arange(2, r.size + 2)))\n",
    "    return 0.\n",
    "\n",
    "def ndcg_at_k(r, k, method=1):\n",
    "    dcg_max = dcg_at_k(sorted(r, reverse=True), k, method)\n",
    "    if not dcg_max:\n",
    "        return 0.\n",
    "    return dcg_at_k(r, k, method) / dcg_max\n",
    "\n",
    "def hit_at_k(r, k):\n",
    "    r = np.array(r)[:k]\n",
    "    if np.sum(r) > 0:\n",
    "        return 1.\n",
    "    else:\n",
    "        return 0.\n",
    "\n",
    "def get_performance(user_pos_test, r, Ks):\n",
    "    precision, recall, ndcg, hit_ratio = [], [], [], []\n",
    "\n",
    "    for K in Ks:\n",
    "        precision.append(precision_at_k(r, K))\n",
    "        recall.append(recall_at_k(r, K, len(user_pos_test)))\n",
    "        ndcg.append(ndcg_at_k(r, K))\n",
    "        hit_ratio.append(hit_at_k(r, K))\n",
    "\n",
    "    return {'recall': np.array(recall), 'precision': np.array(precision),\n",
    "            'ndcg': np.array(ndcg), 'hit_ratio': np.array(hit_ratio)}\n",
    "\n",
    "# 转换索引为二元相关性数组\n",
    "def get_binary_relevance(user_interests, num_items):\n",
    "    relevance = np.zeros(50000)\n",
    "    relevance[user_interests] = 1\n",
    "    return relevance\n",
    "\n",
    "user_pos_test = np.array([2, 5, 78])\n",
    "predicted_order = np.array([5, 2, 1, 0, 9, 8, 3, 4, 78])\n",
    "# r = get_binary_relevance(user_pos_test, len(predicted_order))\n",
    "Ks = [5, 10, 20, 50]\n",
    "results = get_performance(user_pos_test, r, Ks)\n",
    "results"
   ],
   "metadata": {
    "collapsed": false,
    "ExecuteTime": {
     "end_time": "2024-04-20T10:54:19.339306Z",
     "start_time": "2024-04-20T10:54:19.337768Z"
    }
   },
   "id": "9fd51a347a7e99dd",
   "execution_count": 84
  },
  {
   "cell_type": "code",
   "outputs": [
    {
     "data": {
      "text/plain": "(array([ 2,  5, 78]), array([ 5,  2,  1,  0,  9,  8,  3,  4, 78]))"
     },
     "execution_count": 85,
     "metadata": {},
     "output_type": "execute_result"
    }
   ],
   "source": [
    "user_pos_test, predicted_order"
   ],
   "metadata": {
    "collapsed": false,
    "ExecuteTime": {
     "end_time": "2024-04-20T10:54:20.185342Z",
     "start_time": "2024-04-20T10:54:20.175267Z"
    }
   },
   "id": "305795b8fd5fca23",
   "execution_count": 85
  },
  {
   "cell_type": "code",
   "outputs": [
    {
     "name": "stdout",
     "output_type": "stream",
     "text": [
      "NDCG@5: 1.4232\n",
      "Recall@5: 1.0000\n"
     ]
    }
   ],
   "source": [
    "import numpy as np\n",
    "\n",
    "def get_binary_relevance(rank_indices, ground_truth_indices, data_size):\n",
    "    \"\"\"\n",
    "    给定排名索引和实际索引，返回一个二进制相关性数组。\n",
    "    \"\"\"\n",
    "    relevance = np.zeros(data_size, dtype=int)\n",
    "    relevance[rank_indices] = 1\n",
    "    ground_truth_relevance = np.zeros(data_size, dtype=int)\n",
    "    ground_truth_relevance[ground_truth_indices] = 1\n",
    "    return relevance, ground_truth_relevance\n",
    "\n",
    "def calculate_ndcg(relevance, ground_truth_relevance, k):\n",
    "    \"\"\"\n",
    "    计算NDCG@k。\n",
    "    \"\"\"\n",
    "    def dcg(relevance_scores):\n",
    "        \"\"\"辅助函数，用于计算DCG。\"\"\"\n",
    "        return np.sum((2 ** relevance_scores - 1) / np.log2(np.arange(2, len(relevance_scores) + 2)))\n",
    "    \n",
    "    dcg_val = dcg(relevance[:k])\n",
    "    idcg_val = dcg(ground_truth_relevance[:k])\n",
    "    return dcg_val / idcg_val if idcg_val > 0 else 0\n",
    "\n",
    "def calculate_recall(predicted_rank_indices, ground_truth_indices, k):\n",
    "    \"\"\"\n",
    "    Calculate Recall@k.\n",
    "    \n",
    "    Parameters:\n",
    "    - predicted_rank_indices: The indices of items as they are ranked by the prediction.\n",
    "    - ground_truth_indices: The indices of items that are actually relevant.\n",
    "    - k: The number of top-ranked items to consider for calculation of Recall.\n",
    "    \n",
    "    Returns:\n",
    "    - Recall@k as a float.\n",
    "    \"\"\"\n",
    "    # Create a set of the top K predicted indices\n",
    "    top_k_predicted_set = set(predicted_rank_indices[:k])\n",
    "    \n",
    "    # Create a set of all the ground truth relevant indices\n",
    "    ground_truth_set = set(ground_truth_indices)\n",
    "    \n",
    "    # Calculate the number of hits in the top K predictions\n",
    "    hits_in_top_k = len(top_k_predicted_set.intersection(ground_truth_set))\n",
    "    \n",
    "    # Calculate Recall@K\n",
    "    return hits_in_top_k / len(ground_truth_set) if ground_truth_set else 0\n",
    "\n",
    "# 假设数据\n",
    "predicted_rank_indices = np.array([1, 23, 3, 4, 5])\n",
    "ground_truth_indices = np.array([100, 10, 1, 8, 4])\n",
    "data_size = max(np.max(predicted_rank_indices), np.max(ground_truth_indices)) + 1  # 根据最大索引确定数组大小\n",
    "\n",
    "# 计算二进制相关性分数\n",
    "relevance, ground_truth_relevance = get_binary_relevance(predicted_rank_indices, ground_truth_indices, data_size)\n",
    "\n",
    "# 计算NDCG和Recall\n",
    "k = 5  # 计算前5个的指标\n",
    "ndcg_value = calculate_ndcg(relevance, ground_truth_relevance, k)\n",
    "recall_value = calculate_recall(relevance, ground_truth_relevance, k)\n",
    "\n",
    "print(f\"NDCG@{k}: {ndcg_value:.4f}\")\n",
    "print(f\"Recall@{k}: {recall_value:.4f}\")\n"
   ],
   "metadata": {
    "collapsed": false,
    "ExecuteTime": {
     "end_time": "2024-04-20T04:34:22.011144Z",
     "start_time": "2024-04-20T04:34:22.005752Z"
    }
   },
   "id": "11fe51aea8462387",
   "execution_count": 33
  },
  {
   "cell_type": "code",
   "outputs": [],
   "source": [
    "import pickle\n",
    "import pandas as pd\n",
    "with open('../BigDataSource/Teddy2024/附件1/image_features_cpu.pkl', 'rb') as f:\n",
    "    all_image_features = pickle.load(f)"
   ],
   "metadata": {
    "collapsed": false,
    "ExecuteTime": {
     "end_time": "2024-04-20T06:47:11.287640Z",
     "start_time": "2024-04-20T06:47:09.326861Z"
    }
   },
   "id": "7efe60aa0885a74",
   "execution_count": 4
  },
  {
   "cell_type": "code",
   "outputs": [],
   "source": [
    "with open('../BigDataSource/Teddy2024/附件1/text_features_cpu.pkl', 'rb') as f:\n",
    "    all_text_features = pickle.load(f)"
   ],
   "metadata": {
    "collapsed": false,
    "ExecuteTime": {
     "end_time": "2024-04-20T06:47:13.164708Z",
     "start_time": "2024-04-20T06:47:11.436179Z"
    }
   },
   "id": "d3c916df38d74d9e",
   "execution_count": 6
  },
  {
   "cell_type": "code",
   "outputs": [],
   "source": [
    "data = pd.read_csv('../BigDataSource/Teddy2024/附件1/ImageWordData.csv').to_numpy()"
   ],
   "metadata": {
    "collapsed": false,
    "ExecuteTime": {
     "end_time": "2024-04-20T06:48:07.648988Z",
     "start_time": "2024-04-20T06:48:07.577823Z"
    }
   },
   "id": "64a817b12c1d4f70",
   "execution_count": 15
  },
  {
   "cell_type": "code",
   "outputs": [
    {
     "data": {
      "text/plain": "'Image14001004-7525.jpg'"
     },
     "execution_count": 16,
     "metadata": {},
     "output_type": "execute_result"
    }
   ],
   "source": [
    "all_image_features[0][0]"
   ],
   "metadata": {
    "collapsed": false,
    "ExecuteTime": {
     "end_time": "2024-04-20T06:48:07.912702Z",
     "start_time": "2024-04-20T06:48:07.910860Z"
    }
   },
   "id": "77aa1aa056790a5b",
   "execution_count": 16
  },
  {
   "cell_type": "code",
   "outputs": [
    {
     "data": {
      "text/plain": "'只看阵容对手就已经吓尿了,巴西队黄金一代神挡杀神,佛挡杀佛!'"
     },
     "execution_count": 19,
     "metadata": {},
     "output_type": "execute_result"
    }
   ],
   "source": [
    "all_text_features[0][0]"
   ],
   "metadata": {
    "collapsed": false,
    "ExecuteTime": {
     "end_time": "2024-04-20T06:48:20.239955Z",
     "start_time": "2024-04-20T06:48:20.233941Z"
    }
   },
   "id": "4a5cb535bd6559a8",
   "execution_count": 19
  },
  {
   "cell_type": "code",
   "outputs": [
    {
     "name": "stdout",
     "output_type": "stream",
     "text": [
      "Row indices where column 0 is Image14001004-7525.jpg: [29482]\n"
     ]
    }
   ],
   "source": [
    "import numpy as np\n",
    "\n",
    "# 已知的列索引\n",
    "col_index = 0\n",
    "\n",
    "# 目标值\n",
    "target_value = all_image_features[0][0]\n",
    "\n",
    "# 使用np.where找到特定列中特定值的行索引\n",
    "row_indices = np.where(data[:, col_index] == target_value)[0]\n",
    "\n",
    "# 输出行索引\n",
    "print(\"Row indices where column {} is {}: {}\".format(col_index, target_value, row_indices))\n"
   ],
   "metadata": {
    "collapsed": false,
    "ExecuteTime": {
     "end_time": "2024-04-20T06:50:24.439925Z",
     "start_time": "2024-04-20T06:50:24.435788Z"
    }
   },
   "id": "6cfa7c8af8409dee",
   "execution_count": 24
  },
  {
   "cell_type": "code",
   "outputs": [
    {
     "name": "stdout",
     "output_type": "stream",
     "text": [
      "Row indices where column 1 is 只看阵容对手就已经吓尿了,巴西队黄金一代神挡杀神,佛挡杀佛!: [1]\n"
     ]
    }
   ],
   "source": [
    "import numpy as np\n",
    "\n",
    "# 已知的列索引\n",
    "col_index = 1\n",
    "\n",
    "# 目标值\n",
    "target_value = all_text_features[0][0]\n",
    "\n",
    "# 使用np.where找到特定列中特定值的行索引\n",
    "row_indices = np.where(data[:, col_index] == target_value)[0]\n",
    "\n",
    "# 输出行索引\n",
    "print(\"Row indices where column {} is {}: {}\".format(col_index, target_value, row_indices))\n"
   ],
   "metadata": {
    "collapsed": false,
    "ExecuteTime": {
     "end_time": "2024-04-20T06:51:29.999880Z",
     "start_time": "2024-04-20T06:51:29.996313Z"
    }
   },
   "id": "f4b365b1a858528c",
   "execution_count": 25
  },
  {
   "cell_type": "code",
   "outputs": [],
   "source": [
    "all_image_idx = []\n",
    "all_text_idx = []\n",
    "for i in range(len(all_text_features)):\n",
    "    all_image_idx.append(all_image_features[i][0])\n",
    "    all_text_idx.append(all_text_features[i][0])"
   ],
   "metadata": {
    "collapsed": false,
    "ExecuteTime": {
     "end_time": "2024-04-20T07:05:34.457166Z",
     "start_time": "2024-04-20T07:05:34.454985Z"
    }
   },
   "id": "2287bb5e87acda9b",
   "execution_count": 47
  },
  {
   "cell_type": "code",
   "outputs": [
    {
     "name": "stderr",
     "output_type": "stream",
     "text": [
      "100%|██████████| 50000/50000 [00:32<00:00, 1544.01it/s]\n"
     ]
    }
   ],
   "source": [
    "from tqdm import * \n",
    "\n",
    "new_image_features = []\n",
    "new_text_features = []\n",
    "for i in trange(len(data)):\n",
    "    image_idx = all_image_idx.index(data[i][0])\n",
    "    text_idx = all_text_idx.index(data[i][1])\n",
    "    new_image_features.append([data[i][0], data[i][1], all_image_features[image_idx][1]])\n",
    "    new_text_features.append([data[i][0], data[i][1], all_text_features[text_idx][1]])\n",
    "    # print(image_idx, text_idx)"
   ],
   "metadata": {
    "collapsed": false,
    "ExecuteTime": {
     "end_time": "2024-04-20T07:06:14.197965Z",
     "start_time": "2024-04-20T07:05:41.811408Z"
    }
   },
   "id": "dc080ca3abd31367",
   "execution_count": 48
  },
  {
   "cell_type": "code",
   "outputs": [
    {
     "name": "stdout",
     "output_type": "stream",
     "text": [
      "Recalls@3: [0.03488372 0.04395604 0.0212766  0.01098901 0.03296703 0.02083333\n",
      " 0.01075269 0.02173913 0.         0.01041667]\n",
      "NDCGs@3: [0.50263179 0.40530239 0.21078559 0.09010001 0.33723521 0.16410877\n",
      " 0.07979454 0.26852557 0.         0.12647135]\n"
     ]
    }
   ],
   "source": [
    "import numpy as np\n",
    "\n",
    "def recall_at_k(relevant, recommended, k):\n",
    "    \"\"\"\n",
    "    计算 Recall@K\n",
    "    :param relevant: 实际感兴趣的项目矩阵，每行代表一个用户的相关项目集合，二维数组\n",
    "    :param recommended: 推荐系统给出的推荐项目矩阵，每行代表一个用户的推荐项目列表，二维数组\n",
    "    :param k: 考虑的推荐列表的前K项\n",
    "    :return: 每个用户的 Recall@K 的值，一维数组\n",
    "    \"\"\"\n",
    "    recalls = []\n",
    "    for rel_set, rec_list in zip(relevant, recommended):\n",
    "        if k < len(rec_list):\n",
    "            rec_list_k = rec_list[:k]\n",
    "        else:\n",
    "            rec_list_k = rec_list\n",
    "        relevant_recommended = set(rel_set).intersection(rec_list_k)\n",
    "        if len(rel_set) > 0:\n",
    "            recalls.append(len(relevant_recommended) / len(set(rel_set)))\n",
    "        else:\n",
    "            recalls.append(0)\n",
    "    return np.array(recalls)\n",
    "\n",
    "def dcg_at_k(scores, k):\n",
    "    \"\"\"\n",
    "    计算 DCG@K\n",
    "    :param scores: 相关性得分列表，列表类型\n",
    "    :param k: 考虑的推荐列表的前K项\n",
    "    :return: DCG@K 的值\n",
    "    \"\"\"\n",
    "    scores = scores[:k]\n",
    "    if len(scores):\n",
    "        return np.sum(scores / np.log2(np.arange(2, len(scores) + 2)))  # log base 2 of positions 2 through k+1\n",
    "    return 0\n",
    "\n",
    "def ndcg_at_k(relevant, recommended, k):\n",
    "    \"\"\"\n",
    "    计算 NDCG@K\n",
    "    :param relevant: 实际感兴趣的项目矩阵，二维数组\n",
    "    :param recommended: 推荐项目矩阵，二维数组\n",
    "    :param k: 考虑的推荐列表的前K项\n",
    "    :return: 每个用户的 NDCG@K 的值，一维数组\n",
    "    \"\"\"\n",
    "    ndcgs = []\n",
    "    for rel_set, rec_list in zip(relevant, recommended):\n",
    "        rel_set = set(rel_set)\n",
    "        if k < len(rec_list):\n",
    "            rec_list_k = rec_list[:k]\n",
    "        else:\n",
    "            rec_list_k = rec_list\n",
    "        \n",
    "        actual_scores = [1 if item in rel_set else 0 for item in rec_list_k]\n",
    "        ideal_scores = [1] * min(len(rel_set), k)\n",
    "        \n",
    "        actual_dcg = dcg_at_k(actual_scores, k)\n",
    "        ideal_dcg = dcg_at_k(ideal_scores, k)\n",
    "        \n",
    "        if ideal_dcg > 0:\n",
    "            ndcgs.append(actual_dcg / ideal_dcg)\n",
    "        else:\n",
    "            ndcgs.append(0)\n",
    "    return np.array(ndcgs)\n",
    "\n",
    "# 示例数据\n",
    "n = 10  # 假设有5个用户\n",
    "np.random.seed(0)\n",
    "relevant = np.random.randint(1, 500, (n, 100))\n",
    "recommended = np.random.randint(1, 500, (n, 100))\n",
    "\n",
    "# 计算 Recall@K 和 NDCG@K\n",
    "k_value = 8\n",
    "recalls = recall_at_k(relevant, recommended, k_value)\n",
    "ndcgs = ndcg_at_k(relevant, recommended, k_value)\n",
    "\n",
    "print(\"Recalls@3:\", recalls)\n",
    "print(\"NDCGs@3:\", ndcgs)\n"
   ],
   "metadata": {
    "collapsed": false,
    "ExecuteTime": {
     "end_time": "2024-04-20T11:30:27.067288Z",
     "start_time": "2024-04-20T11:30:27.061447Z"
    }
   },
   "id": "6e0282688f218cb1",
   "execution_count": 88
  },
  {
   "cell_type": "code",
   "outputs": [
    {
     "data": {
      "text/plain": "(10, 100)"
     },
     "execution_count": 87,
     "metadata": {},
     "output_type": "execute_result"
    }
   ],
   "source": [
    "relevant.shape"
   ],
   "metadata": {
    "collapsed": false,
    "ExecuteTime": {
     "end_time": "2024-04-20T10:54:27.329053Z",
     "start_time": "2024-04-20T10:54:27.321701Z"
    }
   },
   "id": "7a609c1aaa49ad2f",
   "execution_count": 87
  },
  {
   "cell_type": "code",
   "outputs": [
    {
     "data": {
      "text/plain": "array([[243, 359,  21, 172, 119, 129, 485, 366, 106, 195, 226, 141, 272,\n        119,  34, 152, 397, 390,  39, 258, 267,   7, 382, 263, 103, 423,\n        332, 371, 342, 383, 371, 179, 308, 259, 333, 158,  10, 116, 457,\n        390, 117, 182, 236, 194, 300,  80,  63, 333,  48,  77, 150, 121,\n        275, 346,  14, 223,  93, 237, 106, 214,   7, 101,  49,  41, 411,\n        159, 390, 144, 448, 486,  38,  60, 114,  96, 353, 497, 209, 289,\n         63, 395, 397,  94, 321, 414, 347, 488, 151, 404, 390, 293,  84,\n        128, 485, 262, 349, 461, 155, 242,  84, 397],\n       [487, 136, 181,  81, 414,   1, 216, 208, 331, 253, 132,  62, 324,\n        145, 369, 458,  85, 117, 230, 256, 313, 319, 441,  49, 146, 374,\n        442,  10, 493, 191,  80, 231, 207, 418, 389, 401, 229, 328, 319,\n        280, 348, 367,   8, 279, 355, 159, 247,  81, 156,  48, 496, 115,\n         12, 472, 335, 488, 287,  91, 291,  55, 338, 164,  72, 366, 316,\n        113, 422,  69, 438,  14, 102, 276, 364, 265, 353, 210, 198, 381,\n        101, 386, 254, 158, 390, 465, 231, 425, 151,  31, 256,  20, 261,\n        149, 363,  75, 124, 452, 215, 317, 230, 251],\n       [ 94, 170,  41, 189, 210, 180, 297,  60, 491, 479,  30, 226,  95,\n        239, 166, 383, 217, 273, 356, 168, 158,  66, 280, 201, 385,  88,\n        294, 368, 448, 411, 218, 346, 135, 217, 464, 102, 298, 402, 465,\n        369,  44, 111, 454, 375, 404, 240, 279, 366, 396,  12, 418, 392,\n        120, 283,  49, 200, 240, 183,  97, 357, 339,  88, 406,   3, 265,\n        267, 262, 295, 423, 101, 450, 118,  60, 165, 390, 262,  39, 164,\n         89, 434, 208, 341, 371, 266, 133, 434,  25,  95, 387, 340, 388,\n         78, 268, 398, 485,  82, 155, 455, 176,  99],\n       [ 22, 405, 171, 379, 442, 146, 102, 474, 245, 470, 184, 101, 197,\n        112, 227, 268, 483,  98, 239, 404, 369,  12, 482,  26,  98, 352,\n        302, 263,  90, 345, 494,  39,  52,  17, 408, 219, 260, 347, 431,\n        123, 414, 259, 134, 378, 456, 272, 335, 420, 181, 360, 375, 264,\n        180, 359, 250, 436, 414, 184, 114, 396, 452, 206, 379, 312,  89,\n        253, 325, 118, 372, 471, 186, 350, 103, 396, 207,  83, 474, 237,\n          4, 166, 392, 286,  79, 268, 458,  12, 273,  61, 124, 104, 192,\n        188, 130, 403, 182, 285, 449, 342, 217,  74],\n       [393, 467, 396, 477, 374, 436, 338, 440,  16, 132, 107, 473, 214,\n        285, 315, 214,  79, 368, 322, 333, 268, 282, 360, 268, 347, 238,\n        419, 386, 145, 258,  17,  34,  34, 173, 487, 297, 329, 206, 107,\n         84, 243, 417, 408, 325, 416, 151,  65, 230, 288,  80,  84, 272,\n        308, 397, 174,  11, 106, 337,  71,  22, 223, 196, 337, 321, 130,\n        307, 353, 364, 467, 339, 186, 407, 272, 400,  29, 328, 284, 217,\n        314, 315, 217, 461, 270, 403,  79, 463, 277,  72, 184, 301, 236,\n        246,  92,  45, 272,  88, 460,  78, 414,  96],\n       [111, 211, 133,  29, 194,  50, 434, 344,  58, 209,  42, 475, 241,\n        195, 432, 274,  21, 167, 321, 135, 237, 151,  80,  75, 163, 169,\n        167, 150, 291, 374, 161, 427, 384, 301, 100, 298, 250, 360, 412,\n        252, 305, 384, 139, 325, 274, 260, 102,  95, 472, 286, 103, 124,\n        159, 204, 451, 478, 317, 136, 180, 245,  74, 472, 449, 497, 402,\n        169, 244,  22,  95, 411, 144, 241, 274, 267, 146, 132, 488,  74,\n        286, 196, 456, 465, 227, 133, 446, 347, 101, 135,  33,  82, 120,\n        375, 246, 294, 120, 284,  52,  79, 444,  87],\n       [ 96,   9, 313, 286, 157, 480, 419, 187, 384, 383, 466, 477, 112,\n        145, 457,  60, 248, 493,   8, 397, 289, 213, 236,  76, 222,  41,\n          1, 213, 110,  93, 206, 166, 432,  62, 104, 435,  69, 495, 461,\n        186, 376, 486, 497, 133, 106,  37, 337, 467, 166, 223, 374, 495,\n        292, 433, 129,  50, 186, 266,  51, 226, 177, 498,  13, 199, 125,\n        421, 100, 359,  37, 287, 115, 148, 423, 429,  36, 271,  30, 436,\n         61, 338, 324, 286, 156, 132,  34, 246, 436, 375, 412, 229,  57,\n        278, 168, 235, 331,  30, 242, 414, 446,  59],\n       [281, 115, 273, 449, 357, 483, 124,  14, 258, 252, 259, 323, 148,\n        251, 461, 159,  40, 470,  78, 434, 283, 372, 141, 242, 449, 258,\n        421, 267, 363, 289, 285, 187, 195, 221,  66, 206, 340,  48,  82,\n        421, 200, 310, 199, 138,  16, 275, 158, 182, 445,  43, 467, 131,\n        286, 402,  36, 377, 276, 401,  24, 141, 356, 366, 185, 195, 277,\n        132,  82, 429,  39,  43, 459,  38, 363,  41, 368, 284, 133, 436,\n        407, 166, 292,  31, 264, 473,  89, 240, 400, 395, 148, 334, 488,\n        313, 486, 488, 403, 456,  61,  25, 161, 365],\n       [296, 373, 105, 383, 368, 117, 485, 491,  17, 437, 219, 489, 209,\n        303, 225,  95, 341, 280, 144, 173,  84, 120,  56, 355, 412, 302,\n        483, 338, 216, 412,  78, 433, 472, 351, 390, 378, 232, 226, 370,\n        483, 285, 245,  66,  69, 214, 457, 253, 371, 418, 375, 484,  49,\n        100, 474,  70, 450, 100,  72,   2, 130, 200, 154, 101,  78, 109,\n        179, 412,  97,  44, 276, 355, 302, 101, 337, 113, 235, 378, 428,\n        452,   9, 212, 431,  65, 373, 405,  97, 483, 364, 390, 342, 281,\n          3, 456, 109, 204, 244, 285, 375, 352,  66],\n       [465, 371, 211, 399,  22, 112, 368, 198, 290, 107, 131,  28, 233,\n        376, 148, 400, 328, 493, 286, 420, 226, 305, 434, 337, 185, 320,\n        473, 443, 390, 308, 251,  62, 107, 468, 274,  46, 481,  63,  23,\n        226, 103, 138, 262, 333,  62, 171, 248, 401, 316, 274, 197, 317,\n        154, 143, 366, 318, 182,  82,  30, 199,  29, 203, 134, 485, 485,\n        341, 440, 499, 179,  87, 182, 267,  44, 444, 415, 316, 143, 433,\n        121, 382,  57, 450, 361, 392, 454, 144, 120, 490, 309, 289,  88,\n        463, 419,  30,  52, 474, 438, 261, 193, 380]])"
     },
     "execution_count": 67,
     "metadata": {},
     "output_type": "execute_result"
    }
   ],
   "source": [
    "recommended"
   ],
   "metadata": {
    "collapsed": false,
    "ExecuteTime": {
     "end_time": "2024-04-20T08:19:07.674042Z",
     "start_time": "2024-04-20T08:19:07.666658Z"
    }
   },
   "id": "5bc356f17cd87308",
   "execution_count": 67
  },
  {
   "cell_type": "code",
   "outputs": [
    {
     "data": {
      "text/plain": "array([0.03488372, 0.04395604, 0.0212766 , 0.01098901, 0.03296703,\n       0.02083333, 0.01075269, 0.02173913, 0.        , 0.01041667])"
     },
     "execution_count": 68,
     "metadata": {},
     "output_type": "execute_result"
    }
   ],
   "source": [
    "recalls"
   ],
   "metadata": {
    "collapsed": false,
    "ExecuteTime": {
     "end_time": "2024-04-20T08:19:08.122207Z",
     "start_time": "2024-04-20T08:19:08.113633Z"
    }
   },
   "id": "ce330c8a9eaf1fb6",
   "execution_count": 68
  },
  {
   "cell_type": "code",
   "outputs": [
    {
     "name": "stdout",
     "output_type": "stream",
     "text": [
      "Loading vision model config from /Users/zengyuxiang/Documents/科研代码/CLIP_finetune/cn_clip/clip/model_configs/ViT-B-16.json\n",
      "Loading text model config from /Users/zengyuxiang/Documents/科研代码/CLIP_finetune/cn_clip/clip/model_configs/RoBERTa-wwm-ext-base-chinese.json\n",
      "Model info {'embed_dim': 512, 'image_resolution': 224, 'vision_layers': 12, 'vision_width': 768, 'vision_patch_size': 16, 'vocab_size': 21128, 'text_attention_probs_dropout_prob': 0.1, 'text_hidden_act': 'gelu', 'text_hidden_dropout_prob': 0.1, 'text_hidden_size': 768, 'text_initializer_range': 0.02, 'text_intermediate_size': 3072, 'text_max_position_embeddings': 512, 'text_num_attention_heads': 12, 'text_num_hidden_layers': 12, 'text_type_vocab_size': 2}\n"
     ]
    }
   ],
   "source": [
    "from cn_clip.clip import load_from_name\n",
    "\n",
    "model, preprocess = load_from_name(\"ViT-B-16\", download_root='../BigDataSource/', vision_model_name='ViT-B-16',text_model_name='RoBERTa-wwm-ext-base-chinese')"
   ],
   "metadata": {
    "collapsed": false,
    "ExecuteTime": {
     "end_time": "2024-04-20T15:45:22.302042Z",
     "start_time": "2024-04-20T15:45:20.140987Z"
    }
   },
   "id": "6c80ab5e84fee729",
   "execution_count": 2
  },
  {
   "cell_type": "code",
   "outputs": [],
   "source": [
    "vision"
   ],
   "metadata": {
    "collapsed": false
   },
   "id": "579ef2f62668bfb5"
  }
 ],
 "metadata": {
  "kernelspec": {
   "display_name": "Python 3",
   "language": "python",
   "name": "python3"
  },
  "language_info": {
   "codemirror_mode": {
    "name": "ipython",
    "version": 2
   },
   "file_extension": ".py",
   "mimetype": "text/x-python",
   "name": "python",
   "nbconvert_exporter": "python",
   "pygments_lexer": "ipython2",
   "version": "2.7.6"
  }
 },
 "nbformat": 4,
 "nbformat_minor": 5
}
