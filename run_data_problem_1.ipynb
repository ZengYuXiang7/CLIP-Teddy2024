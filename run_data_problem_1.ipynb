{
 "cells": [
  {
   "cell_type": "code",
   "outputs": [],
   "source": [],
   "metadata": {
    "collapsed": false,
    "ExecuteTime": {
     "end_time": "2024-04-22T08:42:58.517247Z",
     "start_time": "2024-04-22T08:42:58.508181Z"
    }
   },
   "id": "96046a7bd9fdd24a",
   "execution_count": 82
  },
  {
   "cell_type": "code",
   "outputs": [],
   "source": [
    "import os\n",
    "import torch\n",
    "import pickle\n",
    "from tqdm import *\n",
    "import numpy as np\n",
    "import pandas as pd\n",
    "from PIL import Image\n",
    "import cn_clip.clip as clip\n",
    "from cn_clip.clip import load_from_name, available_models\n",
    "from eval_recall import get_performance\n",
    "from utils.config import get_config\n",
    "from utils.utils import set_seed\n",
    "from time import time\n",
    "\n",
    "class Raw2Vector:\n",
    "    def __init__(self, image_model, text_model, args):\n",
    "        self.args = args\n",
    "        print(\"Available models:\", available_models())\n",
    "        # Available models: ['ViT-B-16', 'ViT-L-14', 'ViT-L-14-336', 'ViT-H-14', 'RN50']\n",
    "        device = \"cuda\" if torch.cuda.is_available() else \"cpu\"\n",
    "        self.model, self.preprocess = load_from_name(\"ViT-B-16\", device=device, download_root='../BigDataSource/')\n",
    "        self.model.eval()\n",
    "\n",
    "    def image2tensor(self, image):\n",
    "        image = image.unsqueeze(0).to(self.args.device)\n",
    "        with torch.no_grad():\n",
    "            image_features = self.model.encode_image(image)\n",
    "            image_features /= image_features.norm(dim=-1, keepdim=True)\n",
    "        return image_features\n",
    "\n",
    "    def text2tensor(self, text):\n",
    "        # text = text.unsqueeze(0).to(self.args.device)\n",
    "        with torch.no_grad():\n",
    "            text_features = self.model.encode_text(text)\n",
    "            text_features /= text_features.norm(dim=-1, keepdim=True)\n",
    "        return text_features\n",
    "\n",
    "    def retrieve(self, query, database):\n",
    "        # query = query.unsqueeze(0).to(self.args.device)\n",
    "        query, database = query.to(self.args.device), database.to(self.args.device)\n",
    "        logit_scale = self.model.logit_scale.exp().to(self.args.device)\n",
    "        logits_per_query = logit_scale * query @ database.t()\n",
    "        probs = logits_per_query.softmax(dim=-1).cpu().detach().numpy()\n",
    "        return probs\n"
   ],
   "metadata": {
    "collapsed": false,
    "ExecuteTime": {
     "end_time": "2024-04-22T08:42:58.536076Z",
     "start_time": "2024-04-22T08:42:58.523074Z"
    }
   },
   "id": "971bd18e86090060",
   "execution_count": 83
  },
  {
   "cell_type": "code",
   "outputs": [],
   "source": [],
   "metadata": {
    "collapsed": false,
    "ExecuteTime": {
     "end_time": "2024-04-22T08:42:58.536384Z",
     "start_time": "2024-04-22T08:42:58.526030Z"
    }
   },
   "id": "7494631408fee008",
   "execution_count": 83
  },
  {
   "cell_type": "code",
   "outputs": [],
   "source": [
    "\n",
    "\n",
    "def high_speed_retreive(database, query, model, k):\n",
    "    if isinstance(database, torch.Tensor):\n",
    "        database = database.cpu()\n",
    "    if isinstance(query, torch.Tensor):\n",
    "        query = query.cpu()\n",
    "    # Group truth 自己检索自己，除了自己以外的排名，故 + 1\n",
    "    from modules.models.Retrieve import LSH, L2Index\n",
    "    d = 512  # 向量维度\n",
    "    if model == 'L2':\n",
    "        print('执行L2检索部分')\n",
    "        t1 = time()\n",
    "        l2index = L2Index(k=k, d=d)\n",
    "        topk_distence, topk_indices = l2index.search_topk_embeds(database, query)\n",
    "        t2 = time()\n",
    "        print(f'L2: {t2 - t1 : .2f}s')\n",
    "    elif model == 'KNN':\n",
    "        print('执行KNN检索部分')\n",
    "        probs = transfer.retrieve(database, query)\n",
    "        t1 = time()\n",
    "        def numpy_top_k_indices(matrix, k, axis=1):\n",
    "            if axis == 1:  # 处理每行\n",
    "                k = min(k, matrix.shape[1])\n",
    "                indices = np.argsort(matrix, axis=1)[:, -k:][:, ::-1]\n",
    "            elif axis == 0:  # 处理每列\n",
    "                k = min(k, matrix.shape[0])\n",
    "                indices = np.argsort(matrix, axis=0)[-k:, :][::-1, :]\n",
    "            return indices\n",
    "        topk_indices = numpy_top_k_indices(probs, k, 1)\n",
    "        t2 = time()\n",
    "        print(f'KNN: {t2 - t1 : .2f}s')\n",
    "    elif model == 'LSH':\n",
    "        print('执行LSH检索部分')\n",
    "        t1 = time()\n",
    "        lsh = LSH(k=k, d=d, nbits=2048)\n",
    "        topk_distence, topk_indices = lsh.search_topk_embeds(database, query)\n",
    "        t2 = time()\n",
    "        print(f'LSH: {t2 - t1 : .2f}s')\n",
    "    return topk_indices\n"
   ],
   "metadata": {
    "collapsed": false,
    "ExecuteTime": {
     "end_time": "2024-04-22T08:42:58.536589Z",
     "start_time": "2024-04-22T08:42:58.531946Z"
    }
   },
   "id": "43f599bf705e9e04",
   "execution_count": 84
  },
  {
   "cell_type": "code",
   "outputs": [],
   "source": [
    "\n",
    "def get_all_image():\n",
    "    # 本地化保存\n",
    "    try:\n",
    "        with open('../BigDataSource/Teddy2024/附件2/image_features_问题1.pkl', 'rb') as f:\n",
    "            all_image_features = pickle.load(f)\n",
    "            # torch.load(f, map_location='cpu')\n",
    "    except:\n",
    "        # 获得附件1数据集代码\n",
    "        all_image = os.listdir('../BigDataSource/Teddy2024/附件2/ImageData')\n",
    "\n",
    "        # 获得预训练模型\n",
    "        transfer = Raw2Vector('ViT-B-16', '1', args)\n",
    "\n",
    "        # 准备用多线程代码迅速获得所有图像的张量\n",
    "        from concurrent.futures import ThreadPoolExecutor, as_completed\n",
    "        def function(inputs):\n",
    "            image_name = inputs\n",
    "            image_address = '../BigDataSource/Teddy2024/附件2/ImageData/'\n",
    "            file_name = image_address + image_name\n",
    "            raw_image = Image.open(file_name)\n",
    "            image_tensor = transfer.preprocess(raw_image)\n",
    "            image_features = transfer.image2tensor(image_tensor)\n",
    "            return image_name, image_features\n",
    "\n",
    "        input_list = [image_name for image_name in all_image]\n",
    "        all_image_features = []\n",
    "        with ThreadPoolExecutor(max_workers=16) as executor:\n",
    "            futures = [executor.submit(function, inputs) for inputs in input_list]\n",
    "            for future in tqdm(as_completed(futures), total=len(all_image)):\n",
    "                image_name, image_features = future.result()\n",
    "                all_image_features.append([image_name, image_features.cpu()])\n",
    "        with open('../BigDataSource/Teddy2024/附件2/image_features_问题1.pkl', 'wb') as f:\n",
    "            pickle.dump(all_image_features, f)\n",
    "        print('图像数据预训练并存储完毕!')\n",
    "    return all_image_features\n",
    "\n",
    "def get_all_text():\n",
    "    # 本地化保存\n",
    "    try:\n",
    "        with open('../BigDataSource/Teddy2024/附件2/text_features_问题1.pkl', 'rb') as f:\n",
    "            all_text_features = pickle.load(f)\n",
    "    except:\n",
    "        # 获得附件1数据集代码\n",
    "        all_text = pd.read_csv('../BigDataSource/Teddy2024/附件2/word_test.csv').to_numpy()[:, 1]\n",
    "\n",
    "        # 获得预训练模型\n",
    "        transfer = Raw2Vector('ViT-B-16', '1', args)\n",
    "\n",
    "        # 准备用多线程代码迅速获得所有文本的张量\n",
    "        from concurrent.futures import ThreadPoolExecutor, as_completed\n",
    "        def function(inputs):\n",
    "            raw_text = inputs\n",
    "            text_tensor = clip.tokenize(raw_text).to(args.device)\n",
    "            text_features = transfer.text2tensor(text_tensor)\n",
    "            return raw_text, text_features\n",
    "\n",
    "        input_list = [raw_text for raw_text in all_text]\n",
    "        all_text_features = []\n",
    "        with ThreadPoolExecutor(max_workers=16) as executor:\n",
    "            futures = [executor.submit(function, inputs) for inputs in input_list]\n",
    "            for future in tqdm(as_completed(futures), total=len(all_text)):\n",
    "                raw_text, text_features = future.result()\n",
    "                all_text_features.append([raw_text, text_features.cpu()])\n",
    "        with open('../BigDataSource/Teddy2024/附件2/text_features_问题1.pkl', 'wb') as f:\n",
    "            pickle.dump(all_text_features, f)\n",
    "        print('文本数据预训练并存储完毕!')\n",
    "    return all_text_features"
   ],
   "metadata": {
    "collapsed": false,
    "ExecuteTime": {
     "end_time": "2024-04-22T08:42:58.550803Z",
     "start_time": "2024-04-22T08:42:58.534055Z"
    }
   },
   "id": "9b8272d702c784bf",
   "execution_count": 85
  },
  {
   "cell_type": "code",
   "outputs": [
    {
     "name": "stdout",
     "output_type": "stream",
     "text": [
      "{'experiment': 'Run the experiment now!'}\n",
      "Available models: ['ViT-B-16', 'ViT-L-14', 'ViT-L-14-336', 'ViT-H-14', 'RN50']\n",
      "Loading vision model config from /Users/zengyuxiang/Documents/科研代码/CLIP_finetune/cn_clip/clip/model_configs/ViT-B-16.json\n",
      "Loading text model config from /Users/zengyuxiang/Documents/科研代码/CLIP_finetune/cn_clip/clip/model_configs/RoBERTa-wwm-ext-base-chinese.json\n",
      "Model info {'embed_dim': 512, 'image_resolution': 224, 'vision_layers': 12, 'vision_width': 768, 'vision_patch_size': 16, 'vocab_size': 21128, 'text_attention_probs_dropout_prob': 0.1, 'text_hidden_act': 'gelu', 'text_hidden_dropout_prob': 0.1, 'text_hidden_size': 768, 'text_initializer_range': 0.02, 'text_intermediate_size': 3072, 'text_max_position_embeddings': 512, 'text_num_attention_heads': 12, 'text_num_hidden_layers': 12, 'text_type_vocab_size': 2}\n"
     ]
    }
   ],
   "source": [
    "args = get_config()\n",
    "set_seed(2024)\n",
    "transfer = Raw2Vector('ViT-B-16', '1', args)\n"
   ],
   "metadata": {
    "collapsed": false,
    "ExecuteTime": {
     "end_time": "2024-04-22T08:43:00.507732Z",
     "start_time": "2024-04-22T08:42:58.542749Z"
    }
   },
   "id": "c1a324dd7762bb9b",
   "execution_count": 86
  },
  {
   "cell_type": "code",
   "outputs": [],
   "source": [
    "# 是否数据清洗\n",
    "# preprocess() \"ImageWordData_new\"\n",
    "\n",
    "# 首先获得所有的特征\n",
    "all_text_features = get_all_text()\n",
    "all_image_features = get_all_image()"
   ],
   "metadata": {
    "collapsed": false,
    "ExecuteTime": {
     "end_time": "2024-04-22T08:43:02.551055Z",
     "start_time": "2024-04-22T08:43:00.508249Z"
    }
   },
   "id": "fc27f0bdf27ce383",
   "execution_count": 87
  },
  {
   "cell_type": "code",
   "outputs": [],
   "source": [],
   "metadata": {
    "collapsed": false,
    "ExecuteTime": {
     "end_time": "2024-04-22T08:43:02.556292Z",
     "start_time": "2024-04-22T08:43:02.551231Z"
    }
   },
   "id": "9afb21fc0b5e8fa0",
   "execution_count": 87
  },
  {
   "cell_type": "code",
   "outputs": [],
   "source": [],
   "metadata": {
    "collapsed": false,
    "ExecuteTime": {
     "end_time": "2024-04-22T08:43:02.556810Z",
     "start_time": "2024-04-22T08:43:02.553932Z"
    }
   },
   "id": "c620a3c23f989580",
   "execution_count": 87
  },
  {
   "cell_type": "code",
   "outputs": [],
   "source": [],
   "metadata": {
    "collapsed": false,
    "ExecuteTime": {
     "end_time": "2024-04-22T08:43:02.562097Z",
     "start_time": "2024-04-22T08:43:02.556394Z"
    }
   },
   "id": "5ad82e22d551968b",
   "execution_count": 87
  },
  {
   "cell_type": "code",
   "outputs": [
    {
     "name": "stderr",
     "output_type": "stream",
     "text": [
      "100%|██████████| 5000/5000 [00:00<00:00, 43389.56it/s]\n",
      "100%|██████████| 50000/50000 [00:21<00:00, 2323.38it/s] \n"
     ]
    }
   ],
   "source": [
    "\n",
    "# 修正序号\n",
    "try:\n",
    "    with open('../BigDataSource/Teddy2024/附件2/image_features_问题1_final.pkl', 'rb') as f:\n",
    "        all_image_features = pickle.load(f)\n",
    "    with open('../BigDataSource/Teddy2024/附件2/text_features_问题1_final.pkl', 'rb') as f:\n",
    "        all_text_features = pickle.load(f)\n",
    "except:\n",
    "    \n",
    "    # 文本部分\n",
    "    text_data = pd.read_csv('../BigDataSource/Teddy2024/附件2/word_test.csv').to_numpy()\n",
    "    all_text_idx = []\n",
    "    for i in range(len(all_text_features)):\n",
    "        all_text_idx.append(all_text_features[i][0])\n",
    "    new_text_features = []\n",
    "    for i in trange(len(text_data)):\n",
    "        # print(text_data[i][1])\n",
    "        text_idx = all_text_idx.index(text_data[i][1])\n",
    "        new_text_features.append([text_data[i][0], text_data[i][1], all_text_features[text_idx][1]])\n",
    "    all_text_features = new_text_features\n",
    "    \n",
    "    with open('../BigDataSource/Teddy2024/附件2/text_features_问题1_final.pkl', 'wb') as f:\n",
    "        pickle.dump(all_text_features, f)\n",
    "        \n",
    "    # 视频部分\n",
    "    image_data = pd.read_csv('../BigDataSource/Teddy2024/附件2/image_data.csv').to_numpy()\n",
    "    all_image_idx = []\n",
    "    new_image_features = []\n",
    "    for i in range(len(all_image_features)):\n",
    "        all_image_idx.append(all_image_features[i][0])\n",
    "    for i in trange(len(image_data)):\n",
    "        image_idx = all_image_idx.index(image_data[i][0])\n",
    "        new_image_features.append([image_data[i][0], all_image_features[image_idx][1]])\n",
    "    with open('../BigDataSource/Teddy2024/附件2/image_features_问题1_final.pkl', 'wb') as f:\n",
    "        pickle.dump(all_image_features, f)\n",
    "    all_image_features = new_image_features\n"
   ],
   "metadata": {
    "collapsed": false,
    "ExecuteTime": {
     "end_time": "2024-04-22T08:43:26.007260Z",
     "start_time": "2024-04-22T08:43:02.562161Z"
    }
   },
   "id": "62ff075cb1b6505f",
   "execution_count": 88
  },
  {
   "cell_type": "code",
   "outputs": [],
   "source": [
    "np.array(all_text_features)"
   ],
   "metadata": {
    "collapsed": false,
    "ExecuteTime": {
     "end_time": "2024-04-22T08:43:34.742599Z",
     "start_time": "2024-04-22T08:43:34.739641Z"
    }
   },
   "id": "da83777b41cd007b",
   "execution_count": null
  },
  {
   "cell_type": "code",
   "outputs": [
    {
     "name": "stdout",
     "output_type": "stream",
     "text": [
      "torch.Size([50000, 512])\n",
      "Image14001007-4040.jpg\n",
      "torch.Size([5000, 512])\n",
      "后来美国历史学家及情报部高官说:金无怠的的间谍活动是导致韩战延迟\n"
     ]
    }
   ],
   "source": [
    "\n",
    "# 直接获取张量\n",
    "image_features = []\n",
    "for i in range(len(all_image_features)):\n",
    "    image_features.append(all_image_features[i][1])\n",
    "image_features = torch.stack(image_features).squeeze(1)\n",
    "print(image_features.shape)\n",
    "print(all_image_features[0][0])\n",
    "text_features = []\n",
    "for i in range(len(all_text_features)):\n",
    "    text_features.append(all_text_features[i][2])\n",
    "text_features = torch.stack(text_features).squeeze(1)\n",
    "print(text_features.shape)\n",
    "print(all_text_features[0][1])\n"
   ],
   "metadata": {
    "collapsed": false,
    "ExecuteTime": {
     "end_time": "2024-04-22T08:44:02.755874Z",
     "start_time": "2024-04-22T08:44:02.728251Z"
    }
   },
   "id": "7f733bd5a29ee931",
   "execution_count": 93
  },
  {
   "cell_type": "code",
   "outputs": [
    {
     "name": "stdout",
     "output_type": "stream",
     "text": [
      "--------------------------------------------------------------------------------\n",
      "图像检索文本\n",
      "执行L2检索部分\n",
      "L2:  2.06s\n"
     ]
    }
   ],
   "source": [
    "# 图像检索文本\n",
    "print('-' * 80)\n",
    "print('图像检索文本')\n",
    "retrieve_method = 'L2'  # L2 KNN LSH\n",
    "all_pred_rank = high_speed_retreive(text_features, image_features, retrieve_method, 100)"
   ],
   "metadata": {
    "collapsed": false,
    "ExecuteTime": {
     "end_time": "2024-04-22T08:47:41.161337Z",
     "start_time": "2024-04-22T08:47:39.100056Z"
    }
   },
   "id": "cce9d6a2a98fff23",
   "execution_count": 105
  },
  {
   "cell_type": "code",
   "outputs": [
    {
     "data": {
      "text/plain": "array([[3760, 4820, 4153, 4825, 3963],\n       [ 832, 1965, 2766, 3458, 2376],\n       [ 921,  266, 1637, 3529, 4610],\n       ...,\n       [1951, 2399, 4087, 1104, 1073],\n       [3315, 1965, 3898, 3882, 1307],\n       [ 491, 2364, 3718, 3839, 3045]])"
     },
     "execution_count": 106,
     "metadata": {},
     "output_type": "execute_result"
    }
   ],
   "source": [
    "all_pred_rank[:, :5]"
   ],
   "metadata": {
    "collapsed": false,
    "ExecuteTime": {
     "end_time": "2024-04-22T08:47:41.166366Z",
     "start_time": "2024-04-22T08:47:41.161416Z"
    }
   },
   "id": "56cac2d53daf2b2f",
   "execution_count": 106
  },
  {
   "cell_type": "code",
   "outputs": [
    {
     "name": "stdout",
     "output_type": "stream",
     "text": [
      "--------------------------------------------------------------------------------\n",
      "Image14001007-4040.jpg\n",
      "天干地支与五行\n",
      "如《素问·阴阳应象大论》之\"阴胜财阳病,阳胜则阴病\"即用阴阳盛衰\n",
      "正节气丨冬至大如年,关键要有\"料\"!\n",
      "设计 632_580\n",
      "一周晴雨表\n",
      "金玉出海日,临死,坐支,伤官.能歌善舞笔和墨,犹如白虎戏江水.\n",
      "--------------------------------------------------------------------------------\n",
      "Image14001007-4041.jpg\n",
      "华人带400万现金闯关被没收,2019各国海关携带现金\n",
      "这句话的意思是说,看一个人有没有财富,主要看命局财星是否当月令.\n",
      "人还是要靠自己,老婆我俩经过这几年的努力,又问亲戚朋友借了一些钱\n",
      "总之,要让处罚常态化倒逼商家对现金\"来者不拒\".\n",
      "合作投资亏尽身家,起死回生挣1000万\n",
      "乐视是否庞氏骗局不重要,重要的是应欠债还钱\n",
      "--------------------------------------------------------------------------------\n",
      "Image14001007-4042.jpg\n",
      "柯基从秋千上跃下,直接栽倒在地上,流浪狗:为何要行如此大礼?\n",
      "被吓的魂飞魄散,一边大叫一边跑回妈妈身边\n",
      "知道真相的狗哥眼泪掉\n",
      "奇葩:\"狗\"\"鸭\"吻,这一吻,让你懂得\"刺猬爱上玫瑰\"\n",
      "胖橘简直就是只哈士奇,蠢样一模一样!\n",
      "难道这个答案不对吗?大爷不按套路出牌,大冷天的穿个短袖出门.\n",
      "--------------------------------------------------------------------------------\n",
      "Image14001007-4043.jpg\n",
      "±‰°_我国流浪汉现状_美国华人流浪汉\n",
      "寻子13年 开封老汉睡桥洞遇车祸\"疯\"了一样找遍全国\n",
      "农村俗语\"丧人出栋梁,生人不寝房\",说的啥意思?\n",
      "因为人小,出不起力气,工钱少得可怜.为了省路费,一天到晚吃馒头.\n",
      "算卦(算命)不算空,算空两不公,男人\n",
      "身边无数的工作堆起来,把他压得喘不过气来,他就躺在汽车的后座上\n",
      "--------------------------------------------------------------------------------\n",
      "Image14001007-4044.jpg\n",
      "哈哈哈看聊天记录真的是\n",
      "如果你们有兴趣费点眼看图的话,我猜你们不会后悔 明天交检讨,祝我\n",
      "6767jirolee<人名>毛可异和暴躁小当ris聊天记录曝光\n",
      "消费者投诉苏州微拍公司失去投资人信任还能走多远\n",
      "所以,在开始今天的正事儿之前,我仅代表我个人和周六小组全体成员给\n",
      "现在我们一起来看看下面这个聊天记录: 已经成熟人了\n",
      "--------------------------------------------------------------------------------\n",
      "Image14001007-4045.jpg\n",
      "湘财证券\"3.15投资者教育与权益保护\"主题宣传月\n",
      "降息,增额,无本续贷,24小时审批机制………疫情期间全\n",
      "注意了这些行为会侵犯个人隐私权\n",
      "【纪法学堂】\"清风云南\"带您一起学习党的群众纪律①\n",
      "而我们承诺将会严格保密您的相关个人信息\n",
      "反诈秘籍来咯面对如此严峻的情况,今天就向大家推出一本\"反诈秘籍\"\n",
      "--------------------------------------------------------------------------------\n",
      "Image14001007-4046.jpg\n",
      "用于肝郁化火之神经衰弱,症见失眠,多梦,心中烦热,易怒. 1\n",
      "桂利嗪片说明书并按说明使用或在医师指导下购买和使用\n",
      "用于肝胆湿热蕴结所致胆囊炎,胆石症. 5\n",
      "国家卫计委推荐,这些中成药可以抗流感\n",
      "保健品,止痛药\n",
      "买了一堆药,没开封过\n",
      "--------------------------------------------------------------------------------\n",
      "Image14001007-4047.jpg\n",
      "供应南京安和日达地下室采光天窗 采光井隔音天窗\n",
      "阳台楼梯扶手 深圳定制热弯玻璃异形不锈钢旋转钢结构室内外护栏\n",
      "公司坚持\"以质量求生存,以信誉求发展\"的经营宗旨,技术力量雄厚\n",
      "品牌 一体排水沟售后好的制品水沟还可以针对性的提出建造计划,而且\n",
      "市场的混乱,吸引了近千名***品牌销售人员的广泛采访和调研.\n",
      "如果夹层层高过低的话,没有什么使用价值.\n",
      "--------------------------------------------------------------------------------\n",
      "Image14001007-4048.jpg\n",
      "新奥尔良大学女子排球队\n",
      "加州顶尖寄宿高中推荐_课程\n",
      "人体部位和英语习语 (idiom)ppt\n",
      "很好,虽然受过伤但是我们hc没有放弃\n",
      "13-时尚协调组合\n",
      "教学方法:学习各个位置的技术动作,小型团队对抗比赛,全装备训练.\n",
      "--------------------------------------------------------------------------------\n",
      "Image14001007-4049.jpg\n",
      "花红微商十万人就业扶持计划\n",
      "网红教父金石开:5小时7千万的销售神话背后是电商网红\n",
      "趣码以颠覆式底层商业逻辑进行创新,专注餐饮,坚持不赚老板差价不抽\n",
      "郑州获客系统要多少钱\n",
      "以刷单的形式冲击销量进而获取流量,或许刷单式营销是醉清风梦碎创业\n",
      "【写在最后】流量穹顶时代,拼多多开始四面出击,目前社区团购还处在\n",
      "--------------------------------------------------------------------------------\n",
      "Image14001007-4051.jpg\n",
      "<人名>穿粉色长裙现身活动生图曝光似仙女整个商场围满粉丝似\n",
      "美貌不敌<人名>,演技不输杨幂,衣品不亚于杨紫,气质出众的她是谁?\n",
      "提起人间水蜜桃,可能大多数人都会想起拥有神仙颜,高衣品的<人名>\n",
      "红毯的唐嫣 刘雯 杨幂,街拍的<人名> 李沁,为什么偏偏\n",
      "第五名:<人名>,不只是花瓶\n",
      "<人名>的圆润,娇人难忘怀!\n",
      "--------------------------------------------------------------------------------\n",
      "Image14001007-4054.jpg\n",
      "怒火重案曝兄弟反目版预告冲锋版海报\n",
      "福斯探照灯发行的灾难恐怖片《准备好了没》上周三在2270家影院开\n",
      "相比于打戏上的精彩,该片在叙事,人物塑造方面的表现,就显得乏力了\n",
      "《华尔街之狼》里的监证会,咋肥四捏?\n",
      "【金沙-影讯】超硬核动作大片《紧急救援》提档12.18\n",
      "大咖加持,拳拳到肉\r\n",
      "炎炎酷暑,为夏日加料@微博抽奖平台抽奖详情\n",
      "--------------------------------------------------------------------------------\n",
      "Image14001007-4057.jpg\n",
      "广州现代信息工程职业技术学院宿舍怎么样\n",
      "家居 酒店 起居室 设计 装修 780_644\n",
      "密云区职业学校是国家中等职业教育改革发展示范校,北京市英语口语\n",
      "在部分省招生,所以一般没有提前关注提前批的人都不会注意到这个学校\n",
      "是一所兼有医学,特色管理和人文学科的综合性大学.\n",
      "投票你最喜欢的学校?\n",
      "--------------------------------------------------------------------------------\n",
      "Image14001007-4059.jpg\n",
      "三国140:孙策在周瑜的谋划下,大破王朗,<人名>联军,平定江东\n",
      "\",后来,打听小将姓名才知,那便是日后威震天下的<人名>.\n",
      "演义中的秦琼与罗成 有着怎样的宿命纠葛\n",
      "因为水泊梁山一百单八将在屡次击败宋朝正规军还有辽军,迅速搞定王庆\n",
      "张郃死后,魏延已是当时三国第一猛将了.司马懿居然挺枪去战?\n",
      "不仅街亭没守住,还损兵折将,拉垮了整个北伐.\n",
      "--------------------------------------------------------------------------------\n",
      "Image14001007-4060.jpg\n",
      "怀\"初心\",凭\"公心\",带领\"西话\"团队向前冲!\n",
      "他担当实干,重活累活抢着干,遇到险情第一个冲上去.\n",
      "云梦县\"新农人\"荣获\"湖北省十佳农民\"称号_蔬菜\n",
      "\"2019毕业季·向阳追梦行\"——优秀毕业生展播(七)\n",
      "百姓眼中的<人名>:做事绝不徇私一分 为人千方百计帮忙\n",
      "在驻马店市文联等组织的支持帮助下,发展社区文化,培育居民文化素养\n",
      "--------------------------------------------------------------------------------\n",
      "Image14001007-4061.jpg\n",
      "创意排版简约传统陶艺宣传海报素材免费下载,本次作品主题是广告设计\n",
      "平面只是闹着玩儿~      \n",
      "ps:部分图,第一次做!     \n",
      "剔花是辽金时期的装饰技法之一,即是先在器物坯体表面施釉,然后将\n",
      "1600_2454 竖版 竖屏\n",
      "只是告诉你,看设计多一个角度,除了美丑还有市场,消费者,品牌\n"
     ]
    }
   ],
   "source": [
    "for i in range(len(all_pred_rank)):\n",
    "    print('-' * 80)\n",
    "    print(all_image_features[i][0])\n",
    "    for j in range(len(all_pred_rank[i])):\n",
    "        print(all_text_features[all_pred_rank[i][j]][1])\n",
    "        if j > 4:\n",
    "            break\n",
    "    if i >= 15:\n",
    "        break"
   ],
   "metadata": {
    "collapsed": false,
    "ExecuteTime": {
     "end_time": "2024-04-22T08:55:29.220406Z",
     "start_time": "2024-04-22T08:55:29.213171Z"
    }
   },
   "id": "2a33927a2ad941ef",
   "execution_count": 139
  },
  {
   "cell_type": "code",
   "outputs": [],
   "source": [
    "ans = []\n",
    "for i in range(len(all_pred_rank)):\n",
    "    for j in range(len(all_pred_rank[i])):\n",
    "        now = []\n",
    "        now.append(all_image_features[i][0])\n",
    "        now.append(j + 1)\n",
    "        now.append(all_text_features[all_pred_rank[i][j]][0])\n",
    "        ans.append(now)\n",
    "        if j > 3:\n",
    "            break\n",
    "    # break"
   ],
   "metadata": {
    "collapsed": false,
    "ExecuteTime": {
     "end_time": "2024-04-22T08:54:32.228789Z",
     "start_time": "2024-04-22T08:54:31.855337Z"
    }
   },
   "id": "622b71c2d6f9a136",
   "execution_count": 135
  },
  {
   "cell_type": "code",
   "outputs": [
    {
     "data": {
      "text/plain": "[['Image14001007-4040.jpg', 1, 'Word-1000000876'],\n ['Image14001007-4040.jpg', 2, 'Word-1000014544'],\n ['Image14001007-4040.jpg', 3, 'Word-1000010346'],\n ['Image14001007-4040.jpg', 4, 'Word-1000013484'],\n ['Image14001007-4040.jpg', 5, 'Word-1000031024'],\n ['Image14001007-4041.jpg', 1, 'Word-1000029510'],\n ['Image14001007-4041.jpg', 2, 'Word-1000040387'],\n ['Image14001007-4041.jpg', 3, 'Word-1000041370'],\n ['Image14001007-4041.jpg', 4, 'Word-1000044844'],\n ['Image14001007-4041.jpg', 5, 'Word-1000039948'],\n ['Image14001007-4042.jpg', 1, 'Word-1000043813'],\n ['Image14001007-4042.jpg', 2, 'Word-1000022393'],\n ['Image14001007-4042.jpg', 3, 'Word-1000013038'],\n ['Image14001007-4042.jpg', 4, 'Word-1000033515'],\n ['Image14001007-4042.jpg', 5, 'Word-1000047396'],\n ['Image14001007-4043.jpg', 1, 'Word-1000019952'],\n ['Image14001007-4043.jpg', 2, 'Word-1000006679'],\n ['Image14001007-4043.jpg', 3, 'Word-1000036150'],\n ['Image14001007-4043.jpg', 4, 'Word-1000000250'],\n ['Image14001007-4043.jpg', 5, 'Word-1000014169'],\n ['Image14001007-4044.jpg', 1, 'Word-1000038357'],\n ['Image14001007-4044.jpg', 2, 'Word-1000023613'],\n ['Image14001007-4044.jpg', 3, 'Word-1000005550'],\n ['Image14001007-4044.jpg', 4, 'Word-1000044792'],\n ['Image14001007-4044.jpg', 5, 'Word-1000032014'],\n ['Image14001007-4045.jpg', 1, 'Word-1000042840'],\n ['Image14001007-4045.jpg', 2, 'Word-1000048736'],\n ['Image14001007-4045.jpg', 3, 'Word-1000010168'],\n ['Image14001007-4045.jpg', 4, 'Word-1000001216'],\n ['Image14001007-4045.jpg', 5, 'Word-1000038788'],\n ['Image14001007-4046.jpg', 1, 'Word-1000007453'],\n ['Image14001007-4046.jpg', 2, 'Word-1000028749'],\n ['Image14001007-4046.jpg', 3, 'Word-1000003228'],\n ['Image14001007-4046.jpg', 4, 'Word-1000035779'],\n ['Image14001007-4046.jpg', 5, 'Word-1000044392'],\n ['Image14001007-4047.jpg', 1, 'Word-1000026708'],\n ['Image14001007-4047.jpg', 2, 'Word-1000043719'],\n ['Image14001007-4047.jpg', 3, 'Word-1000036438'],\n ['Image14001007-4047.jpg', 4, 'Word-1000047249'],\n ['Image14001007-4047.jpg', 5, 'Word-1000014485'],\n ['Image14001007-4048.jpg', 1, 'Word-1000000822'],\n ['Image14001007-4048.jpg', 2, 'Word-1000037539'],\n ['Image14001007-4048.jpg', 3, 'Word-1000042350'],\n ['Image14001007-4048.jpg', 4, 'Word-1000028943'],\n ['Image14001007-4048.jpg', 5, 'Word-1000005382'],\n ['Image14001007-4049.jpg', 1, 'Word-1000042364'],\n ['Image14001007-4049.jpg', 2, 'Word-1000025201'],\n ['Image14001007-4049.jpg', 3, 'Word-1000018009'],\n ['Image14001007-4049.jpg', 4, 'Word-1000013090'],\n ['Image14001007-4049.jpg', 5, 'Word-1000018617'],\n ['Image14001007-4051.jpg', 1, 'Word-1000000373'],\n ['Image14001007-4051.jpg', 2, 'Word-1000045927'],\n ['Image14001007-4051.jpg', 3, 'Word-1000009356'],\n ['Image14001007-4051.jpg', 4, 'Word-1000004190'],\n ['Image14001007-4051.jpg', 5, 'Word-1000008606'],\n ['Image14001007-4054.jpg', 1, 'Word-1000008062'],\n ['Image14001007-4054.jpg', 2, 'Word-1000031296'],\n ['Image14001007-4054.jpg', 3, 'Word-1000032521'],\n ['Image14001007-4054.jpg', 4, 'Word-1000033724'],\n ['Image14001007-4054.jpg', 5, 'Word-1000022122'],\n ['Image14001007-4057.jpg', 1, 'Word-1000027148'],\n ['Image14001007-4057.jpg', 2, 'Word-1000035598'],\n ['Image14001007-4057.jpg', 3, 'Word-1000016605'],\n ['Image14001007-4057.jpg', 4, 'Word-1000048653'],\n ['Image14001007-4057.jpg', 5, 'Word-1000041215'],\n ['Image14001007-4059.jpg', 1, 'Word-1000027367'],\n ['Image14001007-4059.jpg', 2, 'Word-1000032572'],\n ['Image14001007-4059.jpg', 3, 'Word-1000022038'],\n ['Image14001007-4059.jpg', 4, 'Word-1000003932'],\n ['Image14001007-4059.jpg', 5, 'Word-1000031074'],\n ['Image14001007-4060.jpg', 1, 'Word-1000010860'],\n ['Image14001007-4060.jpg', 2, 'Word-1000020090'],\n ['Image14001007-4060.jpg', 3, 'Word-1000002409'],\n ['Image14001007-4060.jpg', 4, 'Word-1000025417'],\n ['Image14001007-4060.jpg', 5, 'Word-1000017679'],\n ['Image14001007-4061.jpg', 1, 'Word-1000025609'],\n ['Image14001007-4061.jpg', 2, 'Word-1000036674'],\n ['Image14001007-4061.jpg', 3, 'Word-1000046707'],\n ['Image14001007-4061.jpg', 4, 'Word-1000005138'],\n ['Image14001007-4061.jpg', 5, 'Word-1000039924'],\n ['Image14001007-4062.jpg', 1, 'Word-1000045630'],\n ['Image14001007-4062.jpg', 2, 'Word-1000043333'],\n ['Image14001007-4062.jpg', 3, 'Word-1000020194'],\n ['Image14001007-4062.jpg', 4, 'Word-1000037877'],\n ['Image14001007-4062.jpg', 5, 'Word-1000040161'],\n ['Image14001007-4063.jpg', 1, 'Word-1000034578'],\n ['Image14001007-4063.jpg', 2, 'Word-1000027850'],\n ['Image14001007-4063.jpg', 3, 'Word-1000041506'],\n ['Image14001007-4063.jpg', 4, 'Word-1000020820'],\n ['Image14001007-4063.jpg', 5, 'Word-1000044028'],\n ['Image14001007-4064.jpg', 1, 'Word-1000035975'],\n ['Image14001007-4064.jpg', 2, 'Word-1000008208'],\n ['Image14001007-4064.jpg', 3, 'Word-1000027875'],\n ['Image14001007-4064.jpg', 4, 'Word-1000002184'],\n ['Image14001007-4064.jpg', 5, 'Word-1000038659'],\n ['Image14001007-4066.jpg', 1, 'Word-1000021559'],\n ['Image14001007-4066.jpg', 2, 'Word-1000011644'],\n ['Image14001007-4066.jpg', 3, 'Word-1000021430'],\n ['Image14001007-4066.jpg', 4, 'Word-1000048491'],\n ['Image14001007-4066.jpg', 5, 'Word-1000042370'],\n ['Image14001007-4070.jpg', 1, 'Word-1000036835'],\n ['Image14001007-4070.jpg', 2, 'Word-1000044427'],\n ['Image14001007-4070.jpg', 3, 'Word-1000019359'],\n ['Image14001007-4070.jpg', 4, 'Word-1000032108'],\n ['Image14001007-4070.jpg', 5, 'Word-1000000920'],\n ['Image14001007-4072.jpg', 1, 'Word-1000025619'],\n ['Image14001007-4072.jpg', 2, 'Word-1000036138'],\n ['Image14001007-4072.jpg', 3, 'Word-1000041538'],\n ['Image14001007-4072.jpg', 4, 'Word-1000046540'],\n ['Image14001007-4072.jpg', 5, 'Word-1000046114'],\n ['Image14001007-4073.jpg', 1, 'Word-1000038312'],\n ['Image14001007-4073.jpg', 2, 'Word-1000010191'],\n ['Image14001007-4073.jpg', 3, 'Word-1000042434'],\n ['Image14001007-4073.jpg', 4, 'Word-1000031201'],\n ['Image14001007-4073.jpg', 5, 'Word-1000042907'],\n ['Image14001007-4074.jpg', 1, 'Word-1000042036'],\n ['Image14001007-4074.jpg', 2, 'Word-1000025079'],\n ['Image14001007-4074.jpg', 3, 'Word-1000009089'],\n ['Image14001007-4074.jpg', 4, 'Word-1000001206'],\n ['Image14001007-4074.jpg', 5, 'Word-1000049352'],\n ['Image14001007-4075.jpg', 1, 'Word-1000007892'],\n ['Image14001007-4075.jpg', 2, 'Word-1000032278'],\n ['Image14001007-4075.jpg', 3, 'Word-1000046627'],\n ['Image14001007-4075.jpg', 4, 'Word-1000049420'],\n ['Image14001007-4075.jpg', 5, 'Word-1000016680'],\n ['Image14001007-4076.jpg', 1, 'Word-1000009335'],\n ['Image14001007-4076.jpg', 2, 'Word-1000024830'],\n ['Image14001007-4076.jpg', 3, 'Word-1000041126'],\n ['Image14001007-4076.jpg', 4, 'Word-1000035647'],\n ['Image14001007-4076.jpg', 5, 'Word-1000042575'],\n ['Image14001007-4078.jpg', 1, 'Word-1000001459'],\n ['Image14001007-4078.jpg', 2, 'Word-1000013015'],\n ['Image14001007-4078.jpg', 3, 'Word-1000033042'],\n ['Image14001007-4078.jpg', 4, 'Word-1000041537'],\n ['Image14001007-4078.jpg', 5, 'Word-1000004570'],\n ['Image14001007-4079.jpg', 1, 'Word-1000040549'],\n ['Image14001007-4079.jpg', 2, 'Word-1000007323'],\n ['Image14001007-4079.jpg', 3, 'Word-1000011034'],\n ['Image14001007-4079.jpg', 4, 'Word-1000026877'],\n ['Image14001007-4079.jpg', 5, 'Word-1000018028'],\n ['Image14001007-4081.jpg', 1, 'Word-1000025619'],\n ['Image14001007-4081.jpg', 2, 'Word-1000036138'],\n ['Image14001007-4081.jpg', 3, 'Word-1000041538'],\n ['Image14001007-4081.jpg', 4, 'Word-1000046540'],\n ['Image14001007-4081.jpg', 5, 'Word-1000046114'],\n ['Image14001007-4082.jpg', 1, 'Word-1000048935'],\n ['Image14001007-4082.jpg', 2, 'Word-1000022772'],\n ['Image14001007-4082.jpg', 3, 'Word-1000010997'],\n ['Image14001007-4082.jpg', 4, 'Word-1000028015'],\n ['Image14001007-4082.jpg', 5, 'Word-1000048301'],\n ['Image14001007-4083.jpg', 1, 'Word-1000013828'],\n ['Image14001007-4083.jpg', 2, 'Word-1000003851'],\n ['Image14001007-4083.jpg', 3, 'Word-1000016776'],\n ['Image14001007-4083.jpg', 4, 'Word-1000003353'],\n ['Image14001007-4083.jpg', 5, 'Word-1000038167'],\n ['Image14001007-4085.jpg', 1, 'Word-1000042425'],\n ['Image14001007-4085.jpg', 2, 'Word-1000016033'],\n ['Image14001007-4085.jpg', 3, 'Word-1000038895'],\n ['Image14001007-4085.jpg', 4, 'Word-1000047637'],\n ['Image14001007-4085.jpg', 5, 'Word-1000040205'],\n ['Image14001007-4086.jpg', 1, 'Word-1000013529'],\n ['Image14001007-4086.jpg', 2, 'Word-1000007344'],\n ['Image14001007-4086.jpg', 3, 'Word-1000008121'],\n ['Image14001007-4086.jpg', 4, 'Word-1000032126'],\n ['Image14001007-4086.jpg', 5, 'Word-1000011016'],\n ['Image14001007-4087.jpg', 1, 'Word-1000014418'],\n ['Image14001007-4087.jpg', 2, 'Word-1000047553'],\n ['Image14001007-4087.jpg', 3, 'Word-1000038812'],\n ['Image14001007-4087.jpg', 4, 'Word-1000030468'],\n ['Image14001007-4087.jpg', 5, 'Word-1000042747'],\n ['Image14001007-4088.jpg', 1, 'Word-1000027854'],\n ['Image14001007-4088.jpg', 2, 'Word-1000019144'],\n ['Image14001007-4088.jpg', 3, 'Word-1000014790'],\n ['Image14001007-4088.jpg', 4, 'Word-1000020953'],\n ['Image14001007-4088.jpg', 5, 'Word-1000042575'],\n ['Image14001007-4089.jpg', 1, 'Word-1000012674'],\n ['Image14001007-4089.jpg', 2, 'Word-1000020334'],\n ['Image14001007-4089.jpg', 3, 'Word-1000002573'],\n ['Image14001007-4089.jpg', 4, 'Word-1000007499'],\n ['Image14001007-4089.jpg', 5, 'Word-1000010795'],\n ['Image14001007-4090.jpg', 1, 'Word-1000046267'],\n ['Image14001007-4090.jpg', 2, 'Word-1000012538'],\n ['Image14001007-4090.jpg', 3, 'Word-1000010226'],\n ['Image14001007-4090.jpg', 4, 'Word-1000014681'],\n ['Image14001007-4090.jpg', 5, 'Word-1000037910'],\n ['Image14001007-4091.jpg', 1, 'Word-1000034825'],\n ['Image14001007-4091.jpg', 2, 'Word-1000001408'],\n ['Image14001007-4091.jpg', 3, 'Word-1000041481'],\n ['Image14001007-4091.jpg', 4, 'Word-1000028937'],\n ['Image14001007-4091.jpg', 5, 'Word-1000005943'],\n ['Image14001007-4092.jpg', 1, 'Word-1000001758'],\n ['Image14001007-4092.jpg', 2, 'Word-1000033857'],\n ['Image14001007-4092.jpg', 3, 'Word-1000043602'],\n ['Image14001007-4092.jpg', 4, 'Word-1000026508'],\n ['Image14001007-4092.jpg', 5, 'Word-1000018792'],\n ['Image14001007-4093.jpg', 1, 'Word-1000049303'],\n ['Image14001007-4093.jpg', 2, 'Word-1000043759'],\n ['Image14001007-4093.jpg', 3, 'Word-1000025218'],\n ['Image14001007-4093.jpg', 4, 'Word-1000018938'],\n ['Image14001007-4093.jpg', 5, 'Word-1000035742'],\n ['Image14001007-4095.jpg', 1, 'Word-1000047746'],\n ['Image14001007-4095.jpg', 2, 'Word-1000004489'],\n ['Image14001007-4095.jpg', 3, 'Word-1000011913'],\n ['Image14001007-4095.jpg', 4, 'Word-1000042392'],\n ['Image14001007-4095.jpg', 5, 'Word-1000046707'],\n ['Image14001007-4096.jpg', 1, 'Word-1000035703'],\n ['Image14001007-4096.jpg', 2, 'Word-1000010171'],\n ['Image14001007-4096.jpg', 3, 'Word-1000025079'],\n ['Image14001007-4096.jpg', 4, 'Word-1000035537'],\n ['Image14001007-4096.jpg', 5, 'Word-1000019874'],\n ['Image14001007-4098.jpg', 1, 'Word-1000047435'],\n ['Image14001007-4098.jpg', 2, 'Word-1000032161'],\n ['Image14001007-4098.jpg', 3, 'Word-1000021239'],\n ['Image14001007-4098.jpg', 4, 'Word-1000048893'],\n ['Image14001007-4098.jpg', 5, 'Word-1000010868'],\n ['Image14001007-4099.jpg', 1, 'Word-1000023649'],\n ['Image14001007-4099.jpg', 2, 'Word-1000031402'],\n ['Image14001007-4099.jpg', 3, 'Word-1000008725'],\n ['Image14001007-4099.jpg', 4, 'Word-1000005959'],\n ['Image14001007-4099.jpg', 5, 'Word-1000043980'],\n ['Image14001007-4100.jpg', 1, 'Word-1000018742'],\n ['Image14001007-4100.jpg', 2, 'Word-1000028795'],\n ['Image14001007-4100.jpg', 3, 'Word-1000030607'],\n ['Image14001007-4100.jpg', 4, 'Word-1000014892'],\n ['Image14001007-4100.jpg', 5, 'Word-1000032521'],\n ['Image14001007-4101.jpg', 1, 'Word-1000019913'],\n ['Image14001007-4101.jpg', 2, 'Word-1000038762'],\n ['Image14001007-4101.jpg', 3, 'Word-1000001152'],\n ['Image14001007-4101.jpg', 4, 'Word-1000036162'],\n ['Image14001007-4101.jpg', 5, 'Word-1000001042'],\n ['Image14001007-4102.jpg', 1, 'Word-1000016974'],\n ['Image14001007-4102.jpg', 2, 'Word-1000012770'],\n ['Image14001007-4102.jpg', 3, 'Word-1000046031'],\n ['Image14001007-4102.jpg', 4, 'Word-1000007706'],\n ['Image14001007-4102.jpg', 5, 'Word-1000003691'],\n ['Image14001007-4103.jpg', 1, 'Word-1000038924'],\n ['Image14001007-4103.jpg', 2, 'Word-1000010283'],\n ['Image14001007-4103.jpg', 3, 'Word-1000029393'],\n ['Image14001007-4103.jpg', 4, 'Word-1000024614'],\n ['Image14001007-4103.jpg', 5, 'Word-1000016814'],\n ['Image14001007-4105.jpg', 1, 'Word-1000009579'],\n ['Image14001007-4105.jpg', 2, 'Word-1000019707'],\n ['Image14001007-4105.jpg', 3, 'Word-1000023296'],\n ['Image14001007-4105.jpg', 4, 'Word-1000014625'],\n ['Image14001007-4105.jpg', 5, 'Word-1000032572'],\n ['Image14001007-4106.jpg', 1, 'Word-1000030907'],\n ['Image14001007-4106.jpg', 2, 'Word-1000000746'],\n ['Image14001007-4106.jpg', 3, 'Word-1000002899'],\n ['Image14001007-4106.jpg', 4, 'Word-1000036033'],\n ['Image14001007-4106.jpg', 5, 'Word-1000023151'],\n ['Image14001007-4107.jpg', 1, 'Word-1000032255'],\n ['Image14001007-4107.jpg', 2, 'Word-1000042392'],\n ['Image14001007-4107.jpg', 3, 'Word-1000009651'],\n ['Image14001007-4107.jpg', 4, 'Word-1000011228'],\n ['Image14001007-4107.jpg', 5, 'Word-1000016724'],\n ['Image14001007-4108.jpg', 1, 'Word-1000005742'],\n ['Image14001007-4108.jpg', 2, 'Word-1000028482'],\n ['Image14001007-4108.jpg', 3, 'Word-1000045858'],\n ['Image14001007-4108.jpg', 4, 'Word-1000037205'],\n ['Image14001007-4108.jpg', 5, 'Word-1000024073'],\n ['Image14001007-4109.jpg', 1, 'Word-1000040174'],\n ['Image14001007-4109.jpg', 2, 'Word-1000037690'],\n ['Image14001007-4109.jpg', 3, 'Word-1000019283'],\n ['Image14001007-4109.jpg', 4, 'Word-1000006067'],\n ['Image14001007-4109.jpg', 5, 'Word-1000047635'],\n ['Image14001007-4110.jpg', 1, 'Word-1000006056'],\n ['Image14001007-4110.jpg', 2, 'Word-1000023897'],\n ['Image14001007-4110.jpg', 3, 'Word-1000008943'],\n ['Image14001007-4110.jpg', 4, 'Word-1000045205'],\n ['Image14001007-4110.jpg', 5, 'Word-1000010615'],\n ['Image14001007-4111.jpg', 1, 'Word-1000019662'],\n ['Image14001007-4111.jpg', 2, 'Word-1000044913'],\n ['Image14001007-4111.jpg', 3, 'Word-1000034329'],\n ['Image14001007-4111.jpg', 4, 'Word-1000047621'],\n ['Image14001007-4111.jpg', 5, 'Word-1000038228'],\n ['Image14001007-4113.jpg', 1, 'Word-1000022040'],\n ['Image14001007-4113.jpg', 2, 'Word-1000040159'],\n ['Image14001007-4113.jpg', 3, 'Word-1000010777'],\n ['Image14001007-4113.jpg', 4, 'Word-1000026127'],\n ['Image14001007-4113.jpg', 5, 'Word-1000041260'],\n ['Image14001007-4114.jpg', 1, 'Word-1000036094'],\n ['Image14001007-4114.jpg', 2, 'Word-1000011443'],\n ['Image14001007-4114.jpg', 3, 'Word-1000030120'],\n ['Image14001007-4114.jpg', 4, 'Word-1000023843'],\n ['Image14001007-4114.jpg', 5, 'Word-1000047823'],\n ['Image14001007-4115.jpg', 1, 'Word-1000048374'],\n ['Image14001007-4115.jpg', 2, 'Word-1000036677'],\n ['Image14001007-4115.jpg', 3, 'Word-1000048487'],\n ['Image14001007-4115.jpg', 4, 'Word-1000048901'],\n ['Image14001007-4115.jpg', 5, 'Word-1000020602'],\n ['Image14001007-4116.jpg', 1, 'Word-1000045543'],\n ['Image14001007-4116.jpg', 2, 'Word-1000000860'],\n ['Image14001007-4116.jpg', 3, 'Word-1000024503'],\n ['Image14001007-4116.jpg', 4, 'Word-1000022719'],\n ['Image14001007-4116.jpg', 5, 'Word-1000003226'],\n ['Image14001007-4117.jpg', 1, 'Word-1000015562'],\n ['Image14001007-4117.jpg', 2, 'Word-1000035069'],\n ['Image14001007-4117.jpg', 3, 'Word-1000045345'],\n ['Image14001007-4117.jpg', 4, 'Word-1000022242'],\n ['Image14001007-4117.jpg', 5, 'Word-1000000280'],\n ['Image14001007-4118.jpg', 1, 'Word-1000045270'],\n ['Image14001007-4118.jpg', 2, 'Word-1000046393'],\n ['Image14001007-4118.jpg', 3, 'Word-1000040909'],\n ['Image14001007-4118.jpg', 4, 'Word-1000026400'],\n ['Image14001007-4118.jpg', 5, 'Word-1000002944'],\n ['Image14001007-4119.jpg', 1, 'Word-1000018338'],\n ['Image14001007-4119.jpg', 2, 'Word-1000011492'],\n ['Image14001007-4119.jpg', 3, 'Word-1000001526'],\n ['Image14001007-4119.jpg', 4, 'Word-1000009089'],\n ['Image14001007-4119.jpg', 5, 'Word-1000019917'],\n ['Image14001007-4120.jpg', 1, 'Word-1000040205'],\n ['Image14001007-4120.jpg', 2, 'Word-1000048488'],\n ['Image14001007-4120.jpg', 3, 'Word-1000000793'],\n ['Image14001007-4120.jpg', 4, 'Word-1000015613'],\n ['Image14001007-4120.jpg', 5, 'Word-1000032050'],\n ['Image14001007-4122.jpg', 1, 'Word-1000042015'],\n ['Image14001007-4122.jpg', 2, 'Word-1000010965'],\n ['Image14001007-4122.jpg', 3, 'Word-1000034058'],\n ['Image14001007-4122.jpg', 4, 'Word-1000010351'],\n ['Image14001007-4122.jpg', 5, 'Word-1000029581'],\n ['Image14001007-4123.jpg', 1, 'Word-1000010617'],\n ['Image14001007-4123.jpg', 2, 'Word-1000037318'],\n ['Image14001007-4123.jpg', 3, 'Word-1000006947'],\n ['Image14001007-4123.jpg', 4, 'Word-1000036295'],\n ['Image14001007-4123.jpg', 5, 'Word-1000036487'],\n ['Image14001007-4124.jpg', 1, 'Word-1000015856'],\n ['Image14001007-4124.jpg', 2, 'Word-1000003540'],\n ['Image14001007-4124.jpg', 3, 'Word-1000020086'],\n ['Image14001007-4124.jpg', 4, 'Word-1000040564'],\n ['Image14001007-4124.jpg', 5, 'Word-1000018714'],\n ['Image14001007-4126.jpg', 1, 'Word-1000003842'],\n ['Image14001007-4126.jpg', 2, 'Word-1000012030'],\n ['Image14001007-4126.jpg', 3, 'Word-1000010997'],\n ['Image14001007-4126.jpg', 4, 'Word-1000017273'],\n ['Image14001007-4126.jpg', 5, 'Word-1000021067'],\n ['Image14001007-4128.jpg', 1, 'Word-1000006518'],\n ['Image14001007-4128.jpg', 2, 'Word-1000047358'],\n ['Image14001007-4128.jpg', 3, 'Word-1000027707'],\n ['Image14001007-4128.jpg', 4, 'Word-1000015571'],\n ['Image14001007-4128.jpg', 5, 'Word-1000006822'],\n ['Image14001007-4130.jpg', 1, 'Word-1000005514'],\n ['Image14001007-4130.jpg', 2, 'Word-1000003377'],\n ['Image14001007-4130.jpg', 3, 'Word-1000031252'],\n ['Image14001007-4130.jpg', 4, 'Word-1000010459'],\n ['Image14001007-4130.jpg', 5, 'Word-1000027074'],\n ['Image14001007-4131.jpg', 1, 'Word-1000007381'],\n ['Image14001007-4131.jpg', 2, 'Word-1000048894'],\n ['Image14001007-4131.jpg', 3, 'Word-1000030549'],\n ['Image14001007-4131.jpg', 4, 'Word-1000028034'],\n ['Image14001007-4131.jpg', 5, 'Word-1000005575'],\n ['Image14001007-4134.jpg', 1, 'Word-1000030604'],\n ['Image14001007-4134.jpg', 2, 'Word-1000046214'],\n ['Image14001007-4134.jpg', 3, 'Word-1000032648'],\n ['Image14001007-4134.jpg', 4, 'Word-1000035782'],\n ['Image14001007-4134.jpg', 5, 'Word-1000030072'],\n ['Image14001007-4135.jpg', 1, 'Word-1000008113'],\n ['Image14001007-4135.jpg', 2, 'Word-1000005403'],\n ['Image14001007-4135.jpg', 3, 'Word-1000004465'],\n ['Image14001007-4135.jpg', 4, 'Word-1000006867'],\n ['Image14001007-4135.jpg', 5, 'Word-1000004734'],\n ['Image14001007-4137.jpg', 1, 'Word-1000013038'],\n ['Image14001007-4137.jpg', 2, 'Word-1000044730'],\n ['Image14001007-4137.jpg', 3, 'Word-1000022393'],\n ['Image14001007-4137.jpg', 4, 'Word-1000043813'],\n ['Image14001007-4137.jpg', 5, 'Word-1000009279'],\n ['Image14001007-4138.jpg', 1, 'Word-1000038003'],\n ['Image14001007-4138.jpg', 2, 'Word-1000039729'],\n ['Image14001007-4138.jpg', 3, 'Word-1000014418'],\n ['Image14001007-4138.jpg', 4, 'Word-1000015771'],\n ['Image14001007-4138.jpg', 5, 'Word-1000000505'],\n ['Image14001007-4139.jpg', 1, 'Word-1000033752'],\n ['Image14001007-4139.jpg', 2, 'Word-1000017399'],\n ['Image14001007-4139.jpg', 3, 'Word-1000000630'],\n ['Image14001007-4139.jpg', 4, 'Word-1000000375'],\n ['Image14001007-4139.jpg', 5, 'Word-1000043541'],\n ['Image14001007-4140.jpg', 1, 'Word-1000027845'],\n ['Image14001007-4140.jpg', 2, 'Word-1000021404'],\n ['Image14001007-4140.jpg', 3, 'Word-1000025252'],\n ['Image14001007-4140.jpg', 4, 'Word-1000031176'],\n ['Image14001007-4140.jpg', 5, 'Word-1000011034'],\n ['Image14001007-4142.jpg', 1, 'Word-1000035399'],\n ['Image14001007-4142.jpg', 2, 'Word-1000030097'],\n ['Image14001007-4142.jpg', 3, 'Word-1000008032'],\n ['Image14001007-4142.jpg', 4, 'Word-1000029557'],\n ['Image14001007-4142.jpg', 5, 'Word-1000026011'],\n ['Image14001007-4143.jpg', 1, 'Word-1000011362'],\n ['Image14001007-4143.jpg', 2, 'Word-1000015613'],\n ['Image14001007-4143.jpg', 3, 'Word-1000025216'],\n ['Image14001007-4143.jpg', 4, 'Word-1000028118'],\n ['Image14001007-4143.jpg', 5, 'Word-1000043153'],\n ['Image14001007-4145.jpg', 1, 'Word-1000025497'],\n ['Image14001007-4145.jpg', 2, 'Word-1000007265'],\n ['Image14001007-4145.jpg', 3, 'Word-1000025411'],\n ['Image14001007-4145.jpg', 4, 'Word-1000007833'],\n ['Image14001007-4145.jpg', 5, 'Word-1000037539'],\n ['Image14001007-4146.jpg', 1, 'Word-1000041248'],\n ['Image14001007-4146.jpg', 2, 'Word-1000029259'],\n ['Image14001007-4146.jpg', 3, 'Word-1000008517'],\n ['Image14001007-4146.jpg', 4, 'Word-1000019037'],\n ['Image14001007-4146.jpg', 5, 'Word-1000009225'],\n ['Image14001007-4147.jpg', 1, 'Word-1000005541'],\n ['Image14001007-4147.jpg', 2, 'Word-1000004101'],\n ['Image14001007-4147.jpg', 3, 'Word-1000013624'],\n ['Image14001007-4147.jpg', 4, 'Word-1000000127'],\n ['Image14001007-4147.jpg', 5, 'Word-1000036833'],\n ['Image14001007-4148.jpg', 1, 'Word-1000038987'],\n ['Image14001007-4148.jpg', 2, 'Word-1000017598'],\n ['Image14001007-4148.jpg', 3, 'Word-1000004905'],\n ['Image14001007-4148.jpg', 4, 'Word-1000018848'],\n ['Image14001007-4148.jpg', 5, 'Word-1000033675'],\n ['Image14001007-4150.jpg', 1, 'Word-1000038213'],\n ['Image14001007-4150.jpg', 2, 'Word-1000038373'],\n ['Image14001007-4150.jpg', 3, 'Word-1000011210'],\n ['Image14001007-4150.jpg', 4, 'Word-1000045339'],\n ['Image14001007-4150.jpg', 5, 'Word-1000040888'],\n ['Image14001007-4151.jpg', 1, 'Word-1000017931'],\n ['Image14001007-4151.jpg', 2, 'Word-1000038353'],\n ['Image14001007-4151.jpg', 3, 'Word-1000043138'],\n ['Image14001007-4151.jpg', 4, 'Word-1000031759'],\n ['Image14001007-4151.jpg', 5, 'Word-1000001018'],\n ['Image14001007-4153.jpg', 1, 'Word-1000048926'],\n ['Image14001007-4153.jpg', 2, 'Word-1000012259'],\n ['Image14001007-4153.jpg', 3, 'Word-1000017894'],\n ['Image14001007-4153.jpg', 4, 'Word-1000010190'],\n ['Image14001007-4153.jpg', 5, 'Word-1000014328'],\n ['Image14001007-4154.jpg', 1, 'Word-1000035069'],\n ['Image14001007-4154.jpg', 2, 'Word-1000017819'],\n ['Image14001007-4154.jpg', 3, 'Word-1000024359'],\n ['Image14001007-4154.jpg', 4, 'Word-1000009284'],\n ['Image14001007-4154.jpg', 5, 'Word-1000019058'],\n ['Image14001007-4155.jpg', 1, 'Word-1000001475'],\n ['Image14001007-4155.jpg', 2, 'Word-1000030108'],\n ['Image14001007-4155.jpg', 3, 'Word-1000013497'],\n ['Image14001007-4155.jpg', 4, 'Word-1000015210'],\n ['Image14001007-4155.jpg', 5, 'Word-1000032481'],\n ['Image14001007-4158.jpg', 1, 'Word-1000043959'],\n ['Image14001007-4158.jpg', 2, 'Word-1000035153'],\n ['Image14001007-4158.jpg', 3, 'Word-1000024073'],\n ['Image14001007-4158.jpg', 4, 'Word-1000034962'],\n ['Image14001007-4158.jpg', 5, 'Word-1000025654'],\n ['Image14001007-4159.jpg', 1, 'Word-1000026400'],\n ['Image14001007-4159.jpg', 2, 'Word-1000020545'],\n ['Image14001007-4159.jpg', 3, 'Word-1000012029'],\n ['Image14001007-4159.jpg', 4, 'Word-1000015530'],\n ['Image14001007-4159.jpg', 5, 'Word-1000038676'],\n ['Image14001007-4160.jpg', 1, 'Word-1000034127'],\n ['Image14001007-4160.jpg', 2, 'Word-1000009721'],\n ['Image14001007-4160.jpg', 3, 'Word-1000018448'],\n ['Image14001007-4160.jpg', 4, 'Word-1000022995'],\n ['Image14001007-4160.jpg', 5, 'Word-1000009766'],\n ['Image14001007-4161.jpg', 1, 'Word-1000029557'],\n ['Image14001007-4161.jpg', 2, 'Word-1000032110'],\n ['Image14001007-4161.jpg', 3, 'Word-1000047819'],\n ['Image14001007-4161.jpg', 4, 'Word-1000043961'],\n ['Image14001007-4161.jpg', 5, 'Word-1000016724'],\n ['Image14001007-4163.jpg', 1, 'Word-1000010325'],\n ['Image14001007-4163.jpg', 2, 'Word-1000000569'],\n ['Image14001007-4163.jpg', 3, 'Word-1000043047'],\n ['Image14001007-4163.jpg', 4, 'Word-1000019706'],\n ['Image14001007-4163.jpg', 5, 'Word-1000045460'],\n ['Image14001007-4164.jpg', 1, 'Word-1000035074'],\n ['Image14001007-4164.jpg', 2, 'Word-1000041238'],\n ['Image14001007-4164.jpg', 3, 'Word-1000005823'],\n ['Image14001007-4164.jpg', 4, 'Word-1000016091'],\n ['Image14001007-4164.jpg', 5, 'Word-1000039132'],\n ['Image14001007-4166.jpg', 1, 'Word-1000035157'],\n ['Image14001007-4166.jpg', 2, 'Word-1000005930'],\n ['Image14001007-4166.jpg', 3, 'Word-1000003131'],\n ['Image14001007-4166.jpg', 4, 'Word-1000041881'],\n ['Image14001007-4166.jpg', 5, 'Word-1000006548'],\n ['Image14001007-4167.jpg', 1, 'Word-1000041865'],\n ['Image14001007-4167.jpg', 2, 'Word-1000003831'],\n ['Image14001007-4167.jpg', 3, 'Word-1000024194'],\n ['Image14001007-4167.jpg', 4, 'Word-1000024684'],\n ['Image14001007-4167.jpg', 5, 'Word-1000038398'],\n ['Image14001007-4168.jpg', 1, 'Word-1000025497'],\n ['Image14001007-4168.jpg', 2, 'Word-1000038532'],\n ['Image14001007-4168.jpg', 3, 'Word-1000006974'],\n ['Image14001007-4168.jpg', 4, 'Word-1000027476'],\n ['Image14001007-4168.jpg', 5, 'Word-1000041055'],\n ['Image14001007-4169.jpg', 1, 'Word-1000014966'],\n ['Image14001007-4169.jpg', 2, 'Word-1000038915'],\n ['Image14001007-4169.jpg', 3, 'Word-1000018369'],\n ['Image14001007-4169.jpg', 4, 'Word-1000023808'],\n ['Image14001007-4169.jpg', 5, 'Word-1000036674'],\n ['Image14001007-4170.jpg', 1, 'Word-1000022995'],\n ['Image14001007-4170.jpg', 2, 'Word-1000044070'],\n ['Image14001007-4170.jpg', 3, 'Word-1000011228'],\n ['Image14001007-4170.jpg', 4, 'Word-1000042392'],\n ['Image14001007-4170.jpg', 5, 'Word-1000008713'],\n ['Image14001007-4171.jpg', 1, 'Word-1000039266'],\n ['Image14001007-4171.jpg', 2, 'Word-1000009964'],\n ['Image14001007-4171.jpg', 3, 'Word-1000022003'],\n ['Image14001007-4171.jpg', 4, 'Word-1000006249'],\n ['Image14001007-4171.jpg', 5, 'Word-1000034365'],\n ['Image14001007-4174.jpg', 1, 'Word-1000018400'],\n ['Image14001007-4174.jpg', 2, 'Word-1000041677'],\n ['Image14001007-4174.jpg', 3, 'Word-1000045252'],\n ['Image14001007-4174.jpg', 4, 'Word-1000000505'],\n ['Image14001007-4174.jpg', 5, 'Word-1000044913'],\n ['Image14001007-4175.jpg', 1, 'Word-1000029803'],\n ['Image14001007-4175.jpg', 2, 'Word-1000010504'],\n ['Image14001007-4175.jpg', 3, 'Word-1000005412'],\n ['Image14001007-4175.jpg', 4, 'Word-1000049805'],\n ['Image14001007-4175.jpg', 5, 'Word-1000009989'],\n ['Image14001007-4177.jpg', 1, 'Word-1000034105'],\n ['Image14001007-4177.jpg', 2, 'Word-1000016814'],\n ['Image14001007-4177.jpg', 3, 'Word-1000032723'],\n ['Image14001007-4177.jpg', 4, 'Word-1000038924'],\n ['Image14001007-4177.jpg', 5, 'Word-1000018341'],\n ['Image14001007-4178.jpg', 1, 'Word-1000045472'],\n ['Image14001007-4178.jpg', 2, 'Word-1000042033'],\n ['Image14001007-4178.jpg', 3, 'Word-1000018755'],\n ['Image14001007-4178.jpg', 4, 'Word-1000022231'],\n ['Image14001007-4178.jpg', 5, 'Word-1000023636'],\n ['Image14001007-4179.jpg', 1, 'Word-1000035830'],\n ['Image14001007-4179.jpg', 2, 'Word-1000020462'],\n ['Image14001007-4179.jpg', 3, 'Word-1000013162'],\n ['Image14001007-4179.jpg', 4, 'Word-1000002778'],\n ['Image14001007-4179.jpg', 5, 'Word-1000004017'],\n ['Image14001007-4180.jpg', 1, 'Word-1000003798'],\n ['Image14001007-4180.jpg', 2, 'Word-1000041540'],\n ['Image14001007-4180.jpg', 3, 'Word-1000007318'],\n ['Image14001007-4180.jpg', 4, 'Word-1000043428'],\n ['Image14001007-4180.jpg', 5, 'Word-1000015588'],\n ['Image14001007-4181.jpg', 1, 'Word-1000022108'],\n ['Image14001007-4181.jpg', 2, 'Word-1000001211'],\n ['Image14001007-4181.jpg', 3, 'Word-1000049075'],\n ['Image14001007-4181.jpg', 4, 'Word-1000031930'],\n ['Image14001007-4181.jpg', 5, 'Word-1000048996'],\n ['Image14001007-4182.jpg', 1, 'Word-1000037176'],\n ['Image14001007-4182.jpg', 2, 'Word-1000009426'],\n ['Image14001007-4182.jpg', 3, 'Word-1000004975'],\n ['Image14001007-4182.jpg', 4, 'Word-1000045578'],\n ['Image14001007-4182.jpg', 5, 'Word-1000043178'],\n ['Image14001007-4183.jpg', 1, 'Word-1000003669'],\n ['Image14001007-4183.jpg', 2, 'Word-1000043910'],\n ['Image14001007-4183.jpg', 3, 'Word-1000031872'],\n ['Image14001007-4183.jpg', 4, 'Word-1000005553'],\n ['Image14001007-4183.jpg', 5, 'Word-1000026814'],\n ['Image14001007-4184.jpg', 1, 'Word-1000016122'],\n ['Image14001007-4184.jpg', 2, 'Word-1000018742'],\n ['Image14001007-4184.jpg', 3, 'Word-1000046121'],\n ['Image14001007-4184.jpg', 4, 'Word-1000036674'],\n ['Image14001007-4184.jpg', 5, 'Word-1000008066'],\n ['Image14001007-4185.jpg', 1, 'Word-1000024600'],\n ['Image14001007-4185.jpg', 2, 'Word-1000023608'],\n ['Image14001007-4185.jpg', 3, 'Word-1000041839'],\n ['Image14001007-4185.jpg', 4, 'Word-1000023857'],\n ['Image14001007-4185.jpg', 5, 'Word-1000036896'],\n ['Image14001007-4186.jpg', 1, 'Word-1000029866'],\n ['Image14001007-4186.jpg', 2, 'Word-1000014065'],\n ['Image14001007-4186.jpg', 3, 'Word-1000030316'],\n ['Image14001007-4186.jpg', 4, 'Word-1000004563'],\n ['Image14001007-4186.jpg', 5, 'Word-1000022338'],\n ['Image14001007-4187.jpg', 1, 'Word-1000002901'],\n ['Image14001007-4187.jpg', 2, 'Word-1000018228'],\n ['Image14001007-4187.jpg', 3, 'Word-1000025683'],\n ['Image14001007-4187.jpg', 4, 'Word-1000040908'],\n ['Image14001007-4187.jpg', 5, 'Word-1000000793'],\n ['Image14001007-4188.jpg', 1, 'Word-1000000102'],\n ['Image14001007-4188.jpg', 2, 'Word-1000009614'],\n ['Image14001007-4188.jpg', 3, 'Word-1000036905'],\n ['Image14001007-4188.jpg', 4, 'Word-1000019294'],\n ['Image14001007-4188.jpg', 5, 'Word-1000044105'],\n ['Image14001007-4191.jpg', 1, 'Word-1000009913'],\n ['Image14001007-4191.jpg', 2, 'Word-1000023171'],\n ['Image14001007-4191.jpg', 3, 'Word-1000022049'],\n ['Image14001007-4191.jpg', 4, 'Word-1000014196'],\n ['Image14001007-4191.jpg', 5, 'Word-1000028515'],\n ['Image14001007-4193.jpg', 1, 'Word-1000010868'],\n ['Image14001007-4193.jpg', 2, 'Word-1000032823'],\n ['Image14001007-4193.jpg', 3, 'Word-1000014544'],\n ['Image14001007-4193.jpg', 4, 'Word-1000038616'],\n ['Image14001007-4193.jpg', 5, 'Word-1000004909'],\n ['Image14001007-4194.jpg', 1, 'Word-1000033938'],\n ['Image14001007-4194.jpg', 2, 'Word-1000025600'],\n ['Image14001007-4194.jpg', 3, 'Word-1000045542'],\n ['Image14001007-4194.jpg', 4, 'Word-1000023796'],\n ['Image14001007-4194.jpg', 5, 'Word-1000041129'],\n ['Image14001007-4196.jpg', 1, 'Word-1000017015'],\n ['Image14001007-4196.jpg', 2, 'Word-1000046183'],\n ['Image14001007-4196.jpg', 3, 'Word-1000011183'],\n ['Image14001007-4196.jpg', 4, 'Word-1000022068'],\n ['Image14001007-4196.jpg', 5, 'Word-1000004502'],\n ['Image14001007-4197.jpg', 1, 'Word-1000036287'],\n ['Image14001007-4197.jpg', 2, 'Word-1000008113'],\n ['Image14001007-4197.jpg', 3, 'Word-1000014396'],\n ['Image14001007-4197.jpg', 4, 'Word-1000036088'],\n ['Image14001007-4197.jpg', 5, 'Word-1000027981'],\n ['Image14001007-4198.jpg', 1, 'Word-1000012304'],\n ['Image14001007-4198.jpg', 2, 'Word-1000009794'],\n ['Image14001007-4198.jpg', 3, 'Word-1000037877'],\n ['Image14001007-4198.jpg', 4, 'Word-1000011809'],\n ['Image14001007-4198.jpg', 5, 'Word-1000010872'],\n ['Image14001007-4200.jpg', 1, 'Word-1000044341'],\n ['Image14001007-4200.jpg', 2, 'Word-1000040928'],\n ['Image14001007-4200.jpg', 3, 'Word-1000032708'],\n ['Image14001007-4200.jpg', 4, 'Word-1000004936'],\n ['Image14001007-4200.jpg', 5, 'Word-1000026050'],\n ['Image14001007-4201.jpg', 1, 'Word-1000006437'],\n ['Image14001007-4201.jpg', 2, 'Word-1000030907'],\n ['Image14001007-4201.jpg', 3, 'Word-1000012754'],\n ['Image14001007-4201.jpg', 4, 'Word-1000036674'],\n ['Image14001007-4201.jpg', 5, 'Word-1000046707'],\n ['Image14001007-4202.jpg', 1, 'Word-1000003804'],\n ['Image14001007-4202.jpg', 2, 'Word-1000013341'],\n ['Image14001007-4202.jpg', 3, 'Word-1000025587'],\n ['Image14001007-4202.jpg', 4, 'Word-1000010326'],\n ['Image14001007-4202.jpg', 5, 'Word-1000021861'],\n ['Image14001007-4203.jpg', 1, 'Word-1000038904'],\n ['Image14001007-4203.jpg', 2, 'Word-1000043072'],\n ['Image14001007-4203.jpg', 3, 'Word-1000035612'],\n ['Image14001007-4203.jpg', 4, 'Word-1000038996'],\n ['Image14001007-4203.jpg', 5, 'Word-1000046653'],\n ['Image14001007-4205.jpg', 1, 'Word-1000019670'],\n ['Image14001007-4205.jpg', 2, 'Word-1000005309'],\n ['Image14001007-4205.jpg', 3, 'Word-1000038145'],\n ['Image14001007-4205.jpg', 4, 'Word-1000036478'],\n ['Image14001007-4205.jpg', 5, 'Word-1000023770'],\n ['Image14001007-4208.jpg', 1, 'Word-1000004558'],\n ['Image14001007-4208.jpg', 2, 'Word-1000000625'],\n ['Image14001007-4208.jpg', 3, 'Word-1000000471'],\n ['Image14001007-4208.jpg', 4, 'Word-1000010505'],\n ['Image14001007-4208.jpg', 5, 'Word-1000025201'],\n ['Image14001007-4209.jpg', 1, 'Word-1000005608'],\n ['Image14001007-4209.jpg', 2, 'Word-1000001322'],\n ['Image14001007-4209.jpg', 3, 'Word-1000017873'],\n ['Image14001007-4209.jpg', 4, 'Word-1000021626'],\n ['Image14001007-4209.jpg', 5, 'Word-1000029379'],\n ['Image14001007-4210.jpg', 1, 'Word-1000002024'],\n ['Image14001007-4210.jpg', 2, 'Word-1000012390'],\n ['Image14001007-4210.jpg', 3, 'Word-1000007892'],\n ['Image14001007-4210.jpg', 4, 'Word-1000049848'],\n ['Image14001007-4210.jpg', 5, 'Word-1000043069'],\n ['Image14001007-4211.jpg', 1, 'Word-1000032452'],\n ['Image14001007-4211.jpg', 2, 'Word-1000003330'],\n ['Image14001007-4211.jpg', 3, 'Word-1000047635'],\n ['Image14001007-4211.jpg', 4, 'Word-1000047008'],\n ['Image14001007-4211.jpg', 5, 'Word-1000021106'],\n ['Image14001007-4214.jpg', 1, 'Word-1000010304'],\n ['Image14001007-4214.jpg', 2, 'Word-1000000746'],\n ['Image14001007-4214.jpg', 3, 'Word-1000044105'],\n ['Image14001007-4214.jpg', 4, 'Word-1000023151'],\n ['Image14001007-4214.jpg', 5, 'Word-1000045857'],\n ['Image14001007-4215.jpg', 1, 'Word-1000015261'],\n ['Image14001007-4215.jpg', 2, 'Word-1000031455'],\n ['Image14001007-4215.jpg', 3, 'Word-1000003730'],\n ['Image14001007-4215.jpg', 4, 'Word-1000035049'],\n ['Image14001007-4215.jpg', 5, 'Word-1000010414'],\n ['Image14001007-4216.jpg', 1, 'Word-1000021114'],\n ['Image14001007-4216.jpg', 2, 'Word-1000033695'],\n ['Image14001007-4216.jpg', 3, 'Word-1000013497'],\n ['Image14001007-4216.jpg', 4, 'Word-1000014103'],\n ['Image14001007-4216.jpg', 5, 'Word-1000014050'],\n ['Image14001007-4217.jpg', 1, 'Word-1000035475'],\n ['Image14001007-4217.jpg', 2, 'Word-1000011657'],\n ['Image14001007-4217.jpg', 3, 'Word-1000013713'],\n ['Image14001007-4217.jpg', 4, 'Word-1000011479'],\n ['Image14001007-4217.jpg', 5, 'Word-1000011695'],\n ['Image14001007-4219.jpg', 1, 'Word-1000044533'],\n ['Image14001007-4219.jpg', 2, 'Word-1000040658'],\n ['Image14001007-4219.jpg', 3, 'Word-1000028507'],\n ['Image14001007-4219.jpg', 4, 'Word-1000040632'],\n ['Image14001007-4219.jpg', 5, 'Word-1000006939'],\n ['Image14001007-4220.jpg', 1, 'Word-1000000268'],\n ['Image14001007-4220.jpg', 2, 'Word-1000017873'],\n ['Image14001007-4220.jpg', 3, 'Word-1000037877'],\n ['Image14001007-4220.jpg', 4, 'Word-1000032648'],\n ['Image14001007-4220.jpg', 5, 'Word-1000022287'],\n ['Image14001007-4221.jpg', 1, 'Word-1000000674'],\n ['Image14001007-4221.jpg', 2, 'Word-1000041260'],\n ['Image14001007-4221.jpg', 3, 'Word-1000011495'],\n ['Image14001007-4221.jpg', 4, 'Word-1000010777'],\n ['Image14001007-4221.jpg', 5, 'Word-1000021682'],\n ['Image14001007-4223.jpg', 1, 'Word-1000006867'],\n ['Image14001007-4223.jpg', 2, 'Word-1000029357'],\n ['Image14001007-4223.jpg', 3, 'Word-1000033044'],\n ['Image14001007-4223.jpg', 4, 'Word-1000021150'],\n ['Image14001007-4223.jpg', 5, 'Word-1000046707'],\n ['Image14001007-4224.jpg', 1, 'Word-1000044533'],\n ['Image14001007-4224.jpg', 2, 'Word-1000013624'],\n ['Image14001007-4224.jpg', 3, 'Word-1000037635'],\n ['Image14001007-4224.jpg', 4, 'Word-1000010712'],\n ['Image14001007-4224.jpg', 5, 'Word-1000010735'],\n ['Image14001007-4225.jpg', 1, 'Word-1000008558'],\n ['Image14001007-4225.jpg', 2, 'Word-1000020904'],\n ['Image14001007-4225.jpg', 3, 'Word-1000020678'],\n ['Image14001007-4225.jpg', 4, 'Word-1000008972'],\n ['Image14001007-4225.jpg', 5, 'Word-1000014706'],\n ['Image14001007-4226.jpg', 1, 'Word-1000047167'],\n ['Image14001007-4226.jpg', 2, 'Word-1000015967'],\n ['Image14001007-4226.jpg', 3, 'Word-1000018462'],\n ['Image14001007-4226.jpg', 4, 'Word-1000025542'],\n ['Image14001007-4226.jpg', 5, 'Word-1000023849'],\n ['Image14001007-4227.jpg', 1, 'Word-1000036124'],\n ['Image14001007-4227.jpg', 2, 'Word-1000015320'],\n ['Image14001007-4227.jpg', 3, 'Word-1000016269'],\n ['Image14001007-4227.jpg', 4, 'Word-1000033118'],\n ['Image14001007-4227.jpg', 5, 'Word-1000037910'],\n ['Image14001007-4228.jpg', 1, 'Word-1000005541'],\n ['Image14001007-4228.jpg', 2, 'Word-1000030067'],\n ['Image14001007-4228.jpg', 3, 'Word-1000021320'],\n ['Image14001007-4228.jpg', 4, 'Word-1000007550'],\n ['Image14001007-4228.jpg', 5, 'Word-1000010959'],\n ['Image14001007-4229.jpg', 1, 'Word-1000032129'],\n ['Image14001007-4229.jpg', 2, 'Word-1000049283'],\n ['Image14001007-4229.jpg', 3, 'Word-1000016369'],\n ['Image14001007-4229.jpg', 4, 'Word-1000020293'],\n ['Image14001007-4229.jpg', 5, 'Word-1000038647'],\n ['Image14001007-4230.jpg', 1, 'Word-1000037167'],\n ['Image14001007-4230.jpg', 2, 'Word-1000000876'],\n ['Image14001007-4230.jpg', 3, 'Word-1000045520'],\n ['Image14001007-4230.jpg', 4, 'Word-1000002345'],\n ['Image14001007-4230.jpg', 5, 'Word-1000037838'],\n ['Image14001007-4231.jpg', 1, 'Word-1000035322'],\n ['Image14001007-4231.jpg', 2, 'Word-1000046922'],\n ['Image14001007-4231.jpg', 3, 'Word-1000020002'],\n ['Image14001007-4231.jpg', 4, 'Word-1000021066'],\n ['Image14001007-4231.jpg', 5, 'Word-1000045858'],\n ['Image14001007-4232.jpg', 1, 'Word-1000013927'],\n ['Image14001007-4232.jpg', 2, 'Word-1000034468'],\n ['Image14001007-4232.jpg', 3, 'Word-1000003813'],\n ['Image14001007-4232.jpg', 4, 'Word-1000034058'],\n ['Image14001007-4232.jpg', 5, 'Word-1000018826'],\n ['Image14001007-4234.jpg', 1, 'Word-1000001205'],\n ['Image14001007-4234.jpg', 2, 'Word-1000037729'],\n ['Image14001007-4234.jpg', 3, 'Word-1000048127'],\n ['Image14001007-4234.jpg', 4, 'Word-1000020337'],\n ['Image14001007-4234.jpg', 5, 'Word-1000031901'],\n ['Image14001007-4236.jpg', 1, 'Word-1000029084'],\n ['Image14001007-4236.jpg', 2, 'Word-1000033056'],\n ['Image14001007-4236.jpg', 3, 'Word-1000044392'],\n ['Image14001007-4236.jpg', 4, 'Word-1000015017'],\n ['Image14001007-4236.jpg', 5, 'Word-1000025473'],\n ['Image14001007-4237.jpg', 1, 'Word-1000018051'],\n ['Image14001007-4237.jpg', 2, 'Word-1000017798'],\n ['Image14001007-4237.jpg', 3, 'Word-1000017528'],\n ['Image14001007-4237.jpg', 4, 'Word-1000001231'],\n ['Image14001007-4237.jpg', 5, 'Word-1000025499'],\n ['Image14001007-4239.jpg', 1, 'Word-1000035343'],\n ['Image14001007-4239.jpg', 2, 'Word-1000042603'],\n ['Image14001007-4239.jpg', 3, 'Word-1000004028'],\n ['Image14001007-4239.jpg', 4, 'Word-1000009580'],\n ['Image14001007-4239.jpg', 5, 'Word-1000044066'],\n ['Image14001007-4240.jpg', 1, 'Word-1000025763'],\n ['Image14001007-4240.jpg', 2, 'Word-1000044730'],\n ['Image14001007-4240.jpg', 3, 'Word-1000001812'],\n ['Image14001007-4240.jpg', 4, 'Word-1000021424'],\n ['Image14001007-4240.jpg', 5, 'Word-1000045611'],\n ['Image14001007-4241.jpg', 1, 'Word-1000014283'],\n ['Image14001007-4241.jpg', 2, 'Word-1000013285'],\n ['Image14001007-4241.jpg', 3, 'Word-1000018848'],\n ['Image14001007-4241.jpg', 4, 'Word-1000048094'],\n ['Image14001007-4241.jpg', 5, 'Word-1000006397'],\n ['Image14001007-4242.jpg', 1, 'Word-1000001667'],\n ['Image14001007-4242.jpg', 2, 'Word-1000042931'],\n ['Image14001007-4242.jpg', 3, 'Word-1000039050'],\n ['Image14001007-4242.jpg', 4, 'Word-1000037312'],\n ['Image14001007-4242.jpg', 5, 'Word-1000019144'],\n ['Image14001007-4243.jpg', 1, 'Word-1000013948'],\n ['Image14001007-4243.jpg', 2, 'Word-1000032481'],\n ['Image14001007-4243.jpg', 3, 'Word-1000010234'],\n ['Image14001007-4243.jpg', 4, 'Word-1000023638'],\n ['Image14001007-4243.jpg', 5, 'Word-1000045416'],\n ['Image14001007-4244.jpg', 1, 'Word-1000041894'],\n ['Image14001007-4244.jpg', 2, 'Word-1000035475'],\n ['Image14001007-4244.jpg', 3, 'Word-1000017876'],\n ['Image14001007-4244.jpg', 4, 'Word-1000002404'],\n ['Image14001007-4244.jpg', 5, 'Word-1000043090'],\n ['Image14001007-4245.jpg', 1, 'Word-1000018375'],\n ['Image14001007-4245.jpg', 2, 'Word-1000025846'],\n ['Image14001007-4245.jpg', 3, 'Word-1000037838'],\n ['Image14001007-4245.jpg', 4, 'Word-1000014169'],\n ['Image14001007-4245.jpg', 5, 'Word-1000001152'],\n ['Image14001007-4247.jpg', 1, 'Word-1000005861'],\n ['Image14001007-4247.jpg', 2, 'Word-1000038915'],\n ['Image14001007-4247.jpg', 3, 'Word-1000030962'],\n ['Image14001007-4247.jpg', 4, 'Word-1000043465'],\n ['Image14001007-4247.jpg', 5, 'Word-1000010627'],\n ['Image14001007-4248.jpg', 1, 'Word-1000025757'],\n ['Image14001007-4248.jpg', 2, 'Word-1000047011'],\n ['Image14001007-4248.jpg', 3, 'Word-1000029162'],\n ['Image14001007-4248.jpg', 4, 'Word-1000016165'],\n ['Image14001007-4248.jpg', 5, 'Word-1000038302'],\n ['Image14001007-4249.jpg', 1, 'Word-1000031621'],\n ['Image14001007-4249.jpg', 2, 'Word-1000004776'],\n ['Image14001007-4249.jpg', 3, 'Word-1000024127'],\n ['Image14001007-4249.jpg', 4, 'Word-1000029978'],\n ['Image14001007-4249.jpg', 5, 'Word-1000037266'],\n ['Image14001007-4251.jpg', 1, 'Word-1000015217'],\n ['Image14001007-4251.jpg', 2, 'Word-1000026234'],\n ['Image14001007-4251.jpg', 3, 'Word-1000003199'],\n ['Image14001007-4251.jpg', 4, 'Word-1000028546'],\n ['Image14001007-4251.jpg', 5, 'Word-1000032219'],\n ['Image14001007-4252.jpg', 1, 'Word-1000008890'],\n ['Image14001007-4252.jpg', 2, 'Word-1000035452'],\n ['Image14001007-4252.jpg', 3, 'Word-1000042972'],\n ['Image14001007-4252.jpg', 4, 'Word-1000047993'],\n ['Image14001007-4252.jpg', 5, 'Word-1000033857'],\n ['Image14001007-4254.jpg', 1, 'Word-1000024663'],\n ['Image14001007-4254.jpg', 2, 'Word-1000030468'],\n ['Image14001007-4254.jpg', 3, 'Word-1000038726'],\n ['Image14001007-4254.jpg', 4, 'Word-1000011183'],\n ['Image14001007-4254.jpg', 5, 'Word-1000028410'],\n ['Image14001007-4255.jpg', 1, 'Word-1000038726'],\n ['Image14001007-4255.jpg', 2, 'Word-1000019553'],\n ['Image14001007-4255.jpg', 3, 'Word-1000040531'],\n ['Image14001007-4255.jpg', 4, 'Word-1000018936'],\n ['Image14001007-4255.jpg', 5, 'Word-1000024663'],\n ['Image14001007-4256.jpg', 1, 'Word-1000014099'],\n ['Image14001007-4256.jpg', 2, 'Word-1000023638'],\n ['Image14001007-4256.jpg', 3, 'Word-1000037415'],\n ['Image14001007-4256.jpg', 4, 'Word-1000012836'],\n ['Image14001007-4256.jpg', 5, 'Word-1000032481'],\n ['Image14001007-4257.jpg', 1, 'Word-1000038398'],\n ['Image14001007-4257.jpg', 2, 'Word-1000009836'],\n ['Image14001007-4257.jpg', 3, 'Word-1000049113'],\n ['Image14001007-4257.jpg', 4, 'Word-1000049799'],\n ['Image14001007-4257.jpg', 5, 'Word-1000004255'],\n ['Image14001007-4258.jpg', 1, 'Word-1000017807'],\n ['Image14001007-4258.jpg', 2, 'Word-1000038987'],\n ['Image14001007-4258.jpg', 3, 'Word-1000003093'],\n ['Image14001007-4258.jpg', 4, 'Word-1000021704'],\n ['Image14001007-4258.jpg', 5, 'Word-1000015320'],\n ['Image14001007-4259.jpg', 1, 'Word-1000035206'],\n ['Image14001007-4259.jpg', 2, 'Word-1000047873'],\n ['Image14001007-4259.jpg', 3, 'Word-1000006251'],\n ['Image14001007-4259.jpg', 4, 'Word-1000013410'],\n ['Image14001007-4259.jpg', 5, 'Word-1000004002'],\n ['Image14001007-4261.jpg', 1, 'Word-1000040065'],\n ['Image14001007-4261.jpg', 2, 'Word-1000016157'],\n ['Image14001007-4261.jpg', 3, 'Word-1000037091'],\n ['Image14001007-4261.jpg', 4, 'Word-1000009723'],\n ['Image14001007-4261.jpg', 5, 'Word-1000000053'],\n ['Image14001007-4262.jpg', 1, 'Word-1000020312'],\n ['Image14001007-4262.jpg', 2, 'Word-1000006715'],\n ['Image14001007-4262.jpg', 3, 'Word-1000007996'],\n ['Image14001007-4262.jpg', 4, 'Word-1000005894'],\n ['Image14001007-4262.jpg', 5, 'Word-1000038781'],\n ['Image14001007-4264.jpg', 1, 'Word-1000011829'],\n ['Image14001007-4264.jpg', 2, 'Word-1000000825'],\n ['Image14001007-4264.jpg', 3, 'Word-1000036438'],\n ['Image14001007-4264.jpg', 4, 'Word-1000009721'],\n ['Image14001007-4264.jpg', 5, 'Word-1000044917'],\n ['Image14001007-4265.jpg', 1, 'Word-1000011098'],\n ['Image14001007-4265.jpg', 2, 'Word-1000042262'],\n ['Image14001007-4265.jpg', 3, 'Word-1000043874'],\n ['Image14001007-4265.jpg', 4, 'Word-1000001344'],\n ['Image14001007-4265.jpg', 5, 'Word-1000010255'],\n ['Image14001007-4266.jpg', 1, 'Word-1000010325'],\n ['Image14001007-4266.jpg', 2, 'Word-1000041894'],\n ['Image14001007-4266.jpg', 3, 'Word-1000021422'],\n ['Image14001007-4266.jpg', 4, 'Word-1000042806'],\n ['Image14001007-4266.jpg', 5, 'Word-1000019947'],\n ['Image14001007-4267.jpg', 1, 'Word-1000010222'],\n ['Image14001007-4267.jpg', 2, 'Word-1000042546'],\n ['Image14001007-4267.jpg', 3, 'Word-1000004002'],\n ['Image14001007-4267.jpg', 4, 'Word-1000045879'],\n ['Image14001007-4267.jpg', 5, 'Word-1000011279'],\n ['Image14001007-4268.jpg', 1, 'Word-1000035929'],\n ['Image14001007-4268.jpg', 2, 'Word-1000018164'],\n ['Image14001007-4268.jpg', 3, 'Word-1000048579'],\n ['Image14001007-4268.jpg', 4, 'Word-1000011913'],\n ['Image14001007-4268.jpg', 5, 'Word-1000009721'],\n ['Image14001007-4270.jpg', 1, 'Word-1000029874'],\n ['Image14001007-4270.jpg', 2, 'Word-1000029188'],\n ['Image14001007-4270.jpg', 3, 'Word-1000026506'],\n ['Image14001007-4270.jpg', 4, 'Word-1000015161'],\n ['Image14001007-4270.jpg', 5, 'Word-1000028730'],\n ['Image14001007-4271.jpg', 1, 'Word-1000007870'],\n ['Image14001007-4271.jpg', 2, 'Word-1000017807'],\n ['Image14001007-4271.jpg', 3, 'Word-1000023789'],\n ['Image14001007-4271.jpg', 4, 'Word-1000029608'],\n ['Image14001007-4271.jpg', 5, 'Word-1000004472'],\n ['Image14001007-4272.jpg', 1, 'Word-1000032334'],\n ['Image14001007-4272.jpg', 2, 'Word-1000039298'],\n ['Image14001007-4272.jpg', 3, 'Word-1000005346'],\n ['Image14001007-4272.jpg', 4, 'Word-1000040135'],\n ['Image14001007-4272.jpg', 5, 'Word-1000006947'],\n ['Image14001007-4273.jpg', 1, 'Word-1000002520'],\n ['Image14001007-4273.jpg', 2, 'Word-1000019376'],\n ['Image14001007-4273.jpg', 3, 'Word-1000016700'],\n ['Image14001007-4273.jpg', 4, 'Word-1000024913'],\n ['Image14001007-4273.jpg', 5, 'Word-1000049450'],\n ['Image14001007-4274.jpg', 1, 'Word-1000024365'],\n ['Image14001007-4274.jpg', 2, 'Word-1000005959'],\n ['Image14001007-4274.jpg', 3, 'Word-1000007892'],\n ['Image14001007-4274.jpg', 4, 'Word-1000029866'],\n ['Image14001007-4274.jpg', 5, 'Word-1000006814'],\n ['Image14001007-4275.jpg', 1, 'Word-1000006725'],\n ['Image14001007-4275.jpg', 2, 'Word-1000023171'],\n ['Image14001007-4275.jpg', 3, 'Word-1000027546'],\n ['Image14001007-4275.jpg', 4, 'Word-1000020194'],\n ['Image14001007-4275.jpg', 5, 'Word-1000010537'],\n ['Image14001007-4278.jpg', 1, 'Word-1000013501'],\n ['Image14001007-4278.jpg', 2, 'Word-1000013038'],\n ['Image14001007-4278.jpg', 3, 'Word-1000033515'],\n ['Image14001007-4278.jpg', 4, 'Word-1000019710'],\n ['Image14001007-4278.jpg', 5, 'Word-1000022393'],\n ['Image14001007-4281.jpg', 1, 'Word-1000031176'],\n ['Image14001007-4281.jpg', 2, 'Word-1000027845'],\n ['Image14001007-4281.jpg', 3, 'Word-1000021404'],\n ['Image14001007-4281.jpg', 4, 'Word-1000020953'],\n ['Image14001007-4281.jpg', 5, 'Word-1000008163'],\n ['Image14001007-4282.jpg', 1, 'Word-1000033037'],\n ['Image14001007-4282.jpg', 2, 'Word-1000014720'],\n ['Image14001007-4282.jpg', 3, 'Word-1000049420'],\n ['Image14001007-4282.jpg', 4, 'Word-1000016007'],\n ['Image14001007-4282.jpg', 5, 'Word-1000011431'],\n ['Image14001007-4285.jpg', 1, 'Word-1000005443'],\n ['Image14001007-4285.jpg', 2, 'Word-1000013137'],\n ['Image14001007-4285.jpg', 3, 'Word-1000031784'],\n ['Image14001007-4285.jpg', 4, 'Word-1000036334'],\n ['Image14001007-4285.jpg', 5, 'Word-1000008132'],\n ['Image14001007-4286.jpg', 1, 'Word-1000004211'],\n ['Image14001007-4286.jpg', 2, 'Word-1000004834'],\n ['Image14001007-4286.jpg', 3, 'Word-1000009543'],\n ['Image14001007-4286.jpg', 4, 'Word-1000024755'],\n ['Image14001007-4286.jpg', 5, 'Word-1000040282'],\n ['Image14001007-4287.jpg', 1, 'Word-1000017598'],\n ['Image14001007-4287.jpg', 2, 'Word-1000030259'],\n ['Image14001007-4287.jpg', 3, 'Word-1000001018'],\n ['Image14001007-4287.jpg', 4, 'Word-1000038353'],\n ['Image14001007-4287.jpg', 5, 'Word-1000003955'],\n ['Image14001007-4289.jpg', 1, 'Word-1000008890'],\n ['Image14001007-4289.jpg', 2, 'Word-1000047993'],\n ['Image14001007-4289.jpg', 3, 'Word-1000011774'],\n ['Image14001007-4289.jpg', 4, 'Word-1000005608'],\n ['Image14001007-4289.jpg', 5, 'Word-1000007538'],\n ['Image14001007-4290.jpg', 1, 'Word-1000013742'],\n ['Image14001007-4290.jpg', 2, 'Word-1000024917'],\n ['Image14001007-4290.jpg', 3, 'Word-1000044020'],\n ['Image14001007-4290.jpg', 4, 'Word-1000043047'],\n ['Image14001007-4290.jpg', 5, 'Word-1000043862'],\n ['Image14001007-4291.jpg', 1, 'Word-1000042034'],\n ['Image14001007-4291.jpg', 2, 'Word-1000044613'],\n ['Image14001007-4291.jpg', 3, 'Word-1000018221'],\n ['Image14001007-4291.jpg', 4, 'Word-1000043081'],\n ['Image14001007-4291.jpg', 5, 'Word-1000033447'],\n ['Image14001007-4292.jpg', 1, 'Word-1000003358'],\n ['Image14001007-4292.jpg', 2, 'Word-1000021811'],\n ['Image14001007-4292.jpg', 3, 'Word-1000001857'],\n ['Image14001007-4292.jpg', 4, 'Word-1000006822'],\n ['Image14001007-4292.jpg', 5, 'Word-1000040135'],\n ['Image14001007-4293.jpg', 1, 'Word-1000041531'],\n ['Image14001007-4293.jpg', 2, 'Word-1000012355'],\n ['Image14001007-4293.jpg', 3, 'Word-1000004489'],\n ['Image14001007-4293.jpg', 4, 'Word-1000035030'],\n ['Image14001007-4293.jpg', 5, 'Word-1000010168'],\n ['Image14001007-4294.jpg', 1, 'Word-1000034019'],\n ['Image14001007-4294.jpg', 2, 'Word-1000042917'],\n ['Image14001007-4294.jpg', 3, 'Word-1000027429'],\n ['Image14001007-4294.jpg', 4, 'Word-1000023432'],\n ['Image14001007-4294.jpg', 5, 'Word-1000048082'],\n ['Image14001007-4295.jpg', 1, 'Word-1000024359'],\n ['Image14001007-4295.jpg', 2, 'Word-1000006630'],\n ['Image14001007-4295.jpg', 3, 'Word-1000019205'],\n ['Image14001007-4295.jpg', 4, 'Word-1000002033'],\n ['Image14001007-4295.jpg', 5, 'Word-1000018599'],\n ['Image14001007-4297.jpg', 1, 'Word-1000020591'],\n ['Image14001007-4297.jpg', 2, 'Word-1000021775'],\n ['Image14001007-4297.jpg', 3, 'Word-1000045097'],\n ['Image14001007-4297.jpg', 4, 'Word-1000015166'],\n ['Image14001007-4297.jpg', 5, 'Word-1000012336'],\n ['Image14001007-4298.jpg', 1, 'Word-1000004047'],\n ['Image14001007-4298.jpg', 2, 'Word-1000022287'],\n ['Image14001007-4298.jpg', 3, 'Word-1000038302'],\n ['Image14001007-4298.jpg', 4, 'Word-1000037458'],\n ['Image14001007-4298.jpg', 5, 'Word-1000017873'],\n ['Image14001007-4299.jpg', 1, 'Word-1000016336'],\n ['Image14001007-4299.jpg', 2, 'Word-1000005462'],\n ['Image14001007-4299.jpg', 3, 'Word-1000036094'],\n ['Image14001007-4299.jpg', 4, 'Word-1000023879'],\n ['Image14001007-4299.jpg', 5, 'Word-1000027357'],\n ['Image14001007-4300.jpg', 1, 'Word-1000006404'],\n ['Image14001007-4300.jpg', 2, 'Word-1000043638'],\n ['Image14001007-4300.jpg', 3, 'Word-1000034581'],\n ['Image14001007-4300.jpg', 4, 'Word-1000004920'],\n ['Image14001007-4300.jpg', 5, 'Word-1000042036'],\n ['Image14001007-4301.jpg', 1, 'Word-1000011279'],\n ['Image14001007-4301.jpg', 2, 'Word-1000008416'],\n ['Image14001007-4301.jpg', 3, 'Word-1000019376'],\n ['Image14001007-4301.jpg', 4, 'Word-1000038140'],\n ['Image14001007-4301.jpg', 5, 'Word-1000044971'],\n ['Image14001007-4304.jpg', 1, 'Word-1000030326'],\n ['Image14001007-4304.jpg', 2, 'Word-1000020945'],\n ['Image14001007-4304.jpg', 3, 'Word-1000007527'],\n ['Image14001007-4304.jpg', 4, 'Word-1000005629'],\n ['Image14001007-4304.jpg', 5, 'Word-1000016269'],\n ['Image14001007-4305.jpg', 1, 'Word-1000028730'],\n ['Image14001007-4305.jpg', 2, 'Word-1000043935'],\n ['Image14001007-4305.jpg', 3, 'Word-1000018895'],\n ['Image14001007-4305.jpg', 4, 'Word-1000012617'],\n ['Image14001007-4305.jpg', 5, 'Word-1000018096'],\n ['Image14001007-4306.jpg', 1, 'Word-1000038353'],\n ['Image14001007-4306.jpg', 2, 'Word-1000023738'],\n ['Image14001007-4306.jpg', 3, 'Word-1000007296'],\n ['Image14001007-4306.jpg', 4, 'Word-1000017931'],\n ['Image14001007-4306.jpg', 5, 'Word-1000049182'],\n ...]"
     },
     "execution_count": 134,
     "metadata": {},
     "output_type": "execute_result"
    }
   ],
   "source": [
    "# ans"
   ],
   "metadata": {
    "collapsed": false,
    "ExecuteTime": {
     "end_time": "2024-04-22T08:54:23.727184Z",
     "start_time": "2024-04-22T08:54:23.722451Z"
    }
   },
   "id": "ac9b3d18c5607596",
   "execution_count": 134
  },
  {
   "cell_type": "code",
   "outputs": [],
   "source": [],
   "metadata": {
    "collapsed": false
   },
   "id": "35256c22cbb8c6d3"
  }
 ],
 "metadata": {
  "kernelspec": {
   "display_name": "Python 3",
   "language": "python",
   "name": "python3"
  },
  "language_info": {
   "codemirror_mode": {
    "name": "ipython",
    "version": 2
   },
   "file_extension": ".py",
   "mimetype": "text/x-python",
   "name": "python",
   "nbconvert_exporter": "python",
   "pygments_lexer": "ipython2",
   "version": "2.7.6"
  }
 },
 "nbformat": 4,
 "nbformat_minor": 5
}
