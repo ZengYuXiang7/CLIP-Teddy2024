{
 "cells": [
  {
   "cell_type": "code",
   "outputs": [],
   "source": [
    "import os\n",
    "import pandas as pd\n",
    "import numpy as np\n",
    "from tqdm import *"
   ],
   "metadata": {
    "collapsed": false,
    "ExecuteTime": {
     "end_time": "2024-04-16T06:32:47.651312Z",
     "start_time": "2024-04-16T06:32:47.394312Z"
    }
   },
   "id": "4277bae54ca6f28d",
   "execution_count": 1
  },
  {
   "cell_type": "code",
   "outputs": [
    {
     "data": {
      "text/plain": "['Image14001016-4576.jpg',\n 'Image14105001-8071.jpg',\n 'Image14105002-0481.jpg',\n 'Image14105001-0439.jpg',\n 'Image14001016-0704.jpg',\n 'Image14105001-8065.jpg',\n 'Image14001014-2197.jpg',\n 'Image14105003-4803.jpg',\n 'Image14105004-5952.jpg',\n 'Image14105001-4111.jpg',\n 'Image14105001-6706.jpg',\n 'Image14105003-8787.jpg',\n 'Image14001015-3289.jpg',\n 'Image14105002-9499.jpg',\n 'Image14105001-1928.jpg',\n 'Image14105004-5013.jpg',\n 'Image14001014-3276.jpg',\n 'Image14105002-6741.jpg',\n 'Image14105002-0456.jpg',\n 'Image14105004-1513.jpg',\n 'Image14001014-1307.jpg',\n 'Image14001014-7762.jpg',\n 'Image14105003-0330.jpg',\n 'Image14001014-5175.jpg',\n 'Image14105002-6033.jpg',\n 'Image14105002-8778.jpg',\n 'Image14001016-5867.jpg',\n 'Image14105004-3476.jpg',\n 'Image14105002-4142.jpg',\n 'Image14105002-3605.jpg',\n 'Image14105004-5991.jpg',\n 'Image14001015-9001.jpg',\n 'Image14001016-3594.jpg',\n 'Image14105003-3605.jpg',\n 'Image14105002-3177.jpg',\n 'Image14105001-6538.jpg',\n 'Image14001015-4914.jpg',\n 'Image14105003-5937.jpg',\n 'Image14001014-4914.jpg',\n 'Image14001015-4900.jpg',\n 'Image14001015-1878.jpg',\n 'Image14105001-9637.jpg',\n 'Image14001015-2381.jpg',\n 'Image14105004-1936.jpg',\n 'Image14001014-8860.jpg',\n 'Image14001014-3935.jpg',\n 'Image14105003-2916.jpg',\n 'Image14105004-0382.jpg',\n 'Image14001016-5442.jpg',\n 'Image14105001-2776.jpg',\n 'Image14105001-9623.jpg',\n 'Image14105003-6557.jpg',\n 'Image14105003-9664.jpg',\n 'Image14105001-1294.jpg',\n 'Image14001015-3060.jpg',\n 'Image14001016-3966.jpg',\n 'Image14001015-7206.jpg',\n 'Image14105001-2945.jpg',\n 'Image14001014-7212.jpg',\n 'Image14105002-5738.jpg',\n 'Image14105003-9670.jpg',\n 'Image14001014-8653.jpg',\n 'Image14105001-7829.jpg',\n 'Image14105002-1576.jpg',\n 'Image14001013-8352.jpg',\n 'Image14105002-4368.jpg',\n 'Image14001015-2424.jpg',\n 'Image14105001-5970.jpg',\n 'Image14105003-5704.jpg',\n 'Image14001015-6642.jpg',\n 'Image14105002-9894.jpg',\n 'Image14001015-0233.jpg',\n 'Image14001016-5481.jpg',\n 'Image14105004-2556.jpg',\n 'Image14105003-7107.jpg',\n 'Image14105003-7661.jpg',\n 'Image14001014-2424.jpg',\n 'Image14105001-1323.jpg',\n 'Image14105002-2692.jpg',\n 'Image14105002-7932.jpg',\n 'Image14001015-6911.jpg',\n 'Image14001016-2271.jpg',\n 'Image14105003-4591.jpg',\n 'Image14105001-3246.jpg',\n 'Image14001016-4614.jpg',\n 'Image14105002-3598.jpg',\n 'Image14105002-4591.jpg',\n 'Image14001015-8096.jpg',\n 'Image14105004-4912.jpg',\n 'Image14105004-0584.jpg',\n 'Image14001014-3699.jpg',\n 'Image14105004-2393.jpg',\n 'Image14001015-0384.jpg',\n 'Image14105004-3933.jpg',\n 'Image14001015-3699.jpg',\n 'Image14105004-5403.jpg',\n 'Image14001016-1963.jpg',\n 'Image14105003-6345.jpg',\n 'Image14105001-0954.jpg',\n 'Image14105003-7729.jpg',\n 'Image14105002-5894.jpg',\n 'Image14105004-2350.jpg',\n 'Image14105004-6136.jpg',\n 'Image14001015-3896.jpg',\n 'Image14001014-8069.jpg',\n 'Image14001015-6736.jpg',\n 'Image14105003-3215.jpg',\n 'Image14105002-3567.jpg',\n 'Image14105002-6379.jpg',\n 'Image14105004-4735.jpg',\n 'Image14105001-5421.jpg',\n 'Image14001014-8294.jpg',\n 'Image14105002-1827.jpg',\n 'Image14105004-0976.jpg',\n 'Image14105003-0287.jpg',\n 'Image14001014-0804.jpg',\n 'Image14105004-2807.jpg',\n 'Image14001015-7831.jpg',\n 'Image14105003-6812.jpg',\n 'Image14105001-7578.jpg',\n 'Image14001015-0192.jpg',\n 'Image14001016-3345.jpg',\n 'Image14105004-6485.jpg',\n 'Image14105002-3995.jpg',\n 'Image14001014-5773.jpg',\n 'Image14105004-3516.jpg',\n 'Image14105003-4750.jpg',\n 'Image14105004-5601.jpg',\n 'Image14105002-9512.jpg',\n 'Image14001015-1273.jpg',\n 'Image14105003-6153.jpg',\n 'Image14105002-3771.jpg',\n 'Image14001016-1585.jpg',\n 'Image14105003-1614.jpg',\n 'Image14105004-2146.jpg',\n 'Image14105001-8688.jpg',\n 'Image14105001-8850.jpg',\n 'Image14001016-6598.jpg',\n 'Image14105004-1329.jpg',\n 'Image14001014-2034.jpg',\n 'Image14001015-4450.jpg',\n 'Image14001015-1528.jpg',\n 'Image14001015-7159.jpg',\n 'Image14105003-3770.jpg',\n 'Image14001014-2035.jpg',\n 'Image14105002-3770.jpg',\n 'Image14001015-6535.jpg',\n 'Image14001015-6253.jpg',\n 'Image14105001-3910.jpg',\n 'Image14105003-8631.jpg',\n 'Image14001014-0150.jpg',\n 'Image14001015-1514.jpg',\n 'Image14105002-6146.jpg',\n 'Image14001014-3471.jpg',\n 'Image14001013-9313.jpg',\n 'Image14105004-1472.jpg',\n 'Image14105002-2320.jpg',\n 'Image14105002-5329.jpg',\n 'Image14105001-2398.jpg',\n 'Image14001014-3303.jpg',\n 'Image14001014-5772.jpg',\n 'Image14105004-3517.jpg',\n 'Image14105003-1629.jpg',\n 'Image14105004-1300.jpg',\n 'Image14105003-5329.jpg',\n 'Image14105001-9232.jpg',\n 'Image14001016-0895.jpg',\n 'Image14105003-4962.jpg',\n 'Image14105001-5408.jpg',\n 'Image14001016-3350.jpg',\n 'Image14001014-5955.jpg',\n 'Image14001014-2784.jpg',\n 'Image14105001-8676.jpg',\n 'Image14105003-0286.jpg',\n 'Image14105002-1832.jpg',\n 'Image14001016-2066.jpg',\n 'Image14105001-1120.jpg',\n 'Image14105003-0292.jpg',\n 'Image14105002-2678.jpg',\n 'Image14001015-2545.jpg',\n 'Image14105002-1371.jpg',\n 'Image14105004-4734.jpg',\n 'Image14001016-6943.jpg',\n 'Image14105004-1894.jpg',\n 'Image14105003-4209.jpg',\n 'Image14105004-3729.jpg',\n 'Image14105003-6378.jpg',\n 'Image14105003-0721.jpg',\n 'Image14001014-9438.jpg',\n 'Image14001015-7373.jpg',\n 'Image14105001-4299.jpg',\n 'Image14105002-4547.jpg',\n 'Image14001014-8732.jpg',\n 'Image14105003-0735.jpg',\n 'Image14001016-5537.jpg',\n 'Image14105004-3098.jpg',\n 'Image14105002-9088.jpg',\n 'Image14001014-3854.jpg',\n 'Image14001015-1931.jpg',\n 'Image14001014-6938.jpg',\n 'Image14001016-6994.jpg',\n 'Image14001014-6086.jpg',\n 'Image14001015-0385.jpg',\n 'Image14001014-4849.jpg',\n 'Image14105001-0996.jpg',\n 'Image14001015-8097.jpg',\n 'Image14105002-5856.jpg',\n 'Image14001014-6904.jpg',\n 'Image14001016-3608.jpg',\n 'Image14105002-6393.jpg',\n 'Image14105002-0084.jpg',\n 'Image14105003-1577.jpg',\n 'Image14001016-6189.jpg',\n 'Image14105002-1563.jpg',\n 'Image14001015-2357.jpg',\n 'Image14105003-1211.jpg',\n 'Image14001014-7549.jpg',\n 'Image14001014-6119.jpg',\n 'Image14001016-1802.jpg',\n 'Image14105003-8209.jpg',\n 'Image14001014-8652.jpg',\n 'Image14105001-9805.jpg',\n 'Image14105003-7884.jpg',\n 'Image14105002-6230.jpg',\n 'Image14001015-8120.jpg',\n 'Image14001014-5362.jpg',\n 'Image14001015-1676.jpg',\n 'Image14105004-5576.jpg',\n 'Image14105002-8209.jpg',\n 'Image14001014-8646.jpg',\n 'Image14105003-9665.jpg',\n 'Image14105003-7890.jpg',\n 'Image14001015-8652.jpg',\n 'Image14105001-4460.jpg',\n 'Image14001016-3032.jpg',\n 'Image14001014-4929.jpg',\n 'Image14105001-2011.jpg',\n 'Image14001015-4083.jpg',\n 'Image14105001-9144.jpg',\n 'Image14001014-8875.jpg',\n 'Image14105001-9622.jpg',\n 'Image14001014-8861.jpg',\n 'Image14001016-1631.jpg',\n 'Image14105004-0397.jpg',\n 'Image14001015-5389.jpg',\n 'Image14001016-4749.jpg',\n 'Image14105001-2005.jpg',\n 'Image14105004-3846.jpg',\n 'Image14105002-7853.jpg',\n 'Image14105003-4396.jpg',\n 'Image14001014-3908.jpg',\n 'Image14001014-4901.jpg',\n 'Image14105001-7141.jpg',\n 'Image14001016-1382.jpg',\n 'Image14105001-3870.jpg',\n 'Image14001016-2853.jpg',\n 'Image14001015-6455.jpg',\n 'Image14105004-2755.jpg',\n 'Image14105003-8037.jpg',\n 'Image14105004-0142.jpg',\n 'Image14001014-0742.jpg',\n 'Image14001016-4588.jpg',\n 'Image14001014-4524.jpg',\n 'Image14105003-3176.jpg',\n 'Image14001015-8322.jpg',\n 'Image14105002-6032.jpg',\n 'Image14105004-3311.jpg',\n 'Image14105002-9301.jpg',\n 'Image14001013-9267.jpg',\n 'Image14001015-3277.jpg',\n 'Image14001014-6469.jpg',\n 'Image14105004-5774.jpg',\n 'Image14001016-3556.jpg',\n 'Image14105001-0404.jpg',\n 'Image14001016-6348.jpg',\n 'Image14105001-2213.jpg',\n 'Image14105002-9498.jpg',\n 'Image14105004-3488.jpg',\n 'Image14105001-4662.jpg',\n 'Image14001016-1433.jpg',\n 'Image14105004-6282.jpg',\n 'Image14105001-7357.jpg',\n 'Image14105001-6049.jpg',\n 'Image14105003-0480.jpg',\n 'Image14001015-8493.jpg',\n 'Image14105001-5554.jpg',\n 'Image14105001-7355.jpg',\n 'Image14105001-7433.jpg',\n 'Image14001016-6410.jpg',\n 'Image14105001-3641.jpg',\n 'Image14001015-0973.jpg',\n 'Image14105003-2295.jpg',\n 'Image14105001-4890.jpg',\n 'Image14001013-8812.jpg',\n 'Image14001014-2180.jpg',\n 'Image14105001-6077.jpg',\n 'Image14105001-8728.jpg',\n 'Image14001015-2180.jpg',\n 'Image14105001-0374.jpg',\n 'Image14001016-1357.jpg',\n 'Image14105004-6280.jpg',\n 'Image14105001-6063.jpg',\n 'Image14105004-1289.jpg',\n 'Image14105004-0197.jpg',\n 'Image14001014-5823.jpg',\n 'Image14105004-1262.jpg',\n 'Image14105001-1081.jpg',\n 'Image14001015-3275.jpg',\n 'Image14001015-5604.jpg',\n 'Image14105003-6742.jpg',\n 'Image14001014-1310.jpg',\n 'Image14105001-3682.jpg',\n 'Image14105003-0327.jpg',\n 'Image14001014-1304.jpg',\n 'Image14001015-7749.jpg',\n 'Image14001016-3597.jpg',\n 'Image14001015-0740.jpg',\n 'Image14105003-1011.jpg',\n 'Image14001014-7749.jpg',\n 'Image14105003-1005.jpg',\n 'Image14105002-1777.jpg',\n 'Image14105002-7306.jpg',\n 'Image14001016-7083.jpg',\n 'Image14105002-3389.jpg',\n 'Image14105001-8264.jpg',\n 'Image14105004-4681.jpg',\n 'Image14001015-2396.jpg',\n 'Image14105004-0381.jpg',\n 'Image14105002-9840.jpg',\n 'Image14001016-4987.jpg',\n 'Image14001014-3088.jpg',\n 'Image14001013-8392.jpg',\n 'Image14105001-7619.jpg',\n 'Image14001013-8379.jpg',\n 'Image14105004-6069.jpg',\n 'Image14105002-4425.jpg',\n 'Image14105003-0131.jpg',\n 'Image14105004-1060.jpg',\n 'Image14001015-0218.jpg',\n 'Image14001014-1660.jpg',\n 'Image14105003-0125.jpg',\n 'Image14105002-4431.jpg',\n 'Image14105002-7138.jpg',\n 'Image14105002-7676.jpg',\n 'Image14001015-2433.jpg',\n 'Image14105001-9191.jpg',\n 'Image14105003-7110.jpg',\n 'Image14001013-8437.jpg',\n 'Image14105002-5075.jpg',\n 'Image14105004-0356.jpg',\n 'Image14001016-5496.jpg',\n 'Image14001015-0556.jpg',\n 'Image14105002-5713.jpg',\n 'Image14001014-6912.jpg',\n 'Image14105004-4911.jpg',\n 'Image14105002-6385.jpg',\n 'Image14001015-6906.jpg',\n 'Image14105001-0980.jpg',\n 'Image14105001-2629.jpg',\n 'Image14105001-3537.jpg',\n 'Image14105003-9908.jpg',\n 'Image14105001-1320.jpg',\n 'Image14105002-2861.jpg',\n 'Image14105001-4502.jpg',\n 'Image14105002-9920.jpg',\n 'Image14105001-0764.jpg',\n 'Image14105004-1699.jpg',\n 'Image14001015-4687.jpg',\n 'Image14105002-4551.jpg',\n 'Image14001014-6709.jpg',\n 'Image14001015-7417.jpg',\n 'Image14001015-4678.jpg',\n 'Image14105002-6352.jpg',\n 'Image14105001-5185.jpg',\n 'Image14001015-4650.jpg',\n 'Image14105003-6408.jpg',\n 'Image14001015-2221.jpg',\n 'Image14105002-9049.jpg',\n 'Image14105003-5101.jpg',\n 'Image14105004-5428.jpg',\n 'Image14105003-3216.jpg',\n 'Image14105003-4579.jpg',\n 'Image14001016-4830.jpg',\n 'Image14105002-1373.jpg',\n 'Image14001013-8543.jpg',\n 'Image14105003-9049.jpg',\n 'Image14001015-9406.jpg',\n 'Image14001014-4888.jpg',\n 'Image14001015-9360.jpg',\n 'Image14001014-3659.jpg',\n 'Image14001014-4136.jpg',\n 'Image14105002-7070.jpg',\n 'Image14105002-5667.jpg',\n 'Image14105001-3721.jpg',\n 'Image14105001-5350.jpg',\n 'Image14105003-0284.jpg',\n 'Image14105001-6895.jpg',\n 'Image14105002-6193.jpg',\n 'Image14105001-3735.jpg',\n 'Image14105002-3955.jpg',\n 'Image14001016-7120.jpg',\n 'Image14105003-8182.jpg',\n 'Image14105003-1818.jpg',\n 'Image14001015-6286.jpg',\n 'Image14105002-8196.jpg',\n 'Image14001016-3434.jpg',\n 'Image14105003-6805.jpg',\n 'Image14105001-0566.jpg',\n 'Image14105001-4700.jpg',\n 'Image14001016-5910.jpg',\n 'Image14001014-8240.jpg',\n 'Image14105004-1316.jpg',\n 'Image14105004-0008.jpg',\n 'Image14105002-4753.jpg',\n 'Image14001014-5002.jpg',\n 'Image14105003-3982.jpg',\n 'Image14105004-3273.jpg',\n 'Image14001014-6279.jpg',\n 'Image14105003-4753.jpg',\n 'Image14105001-4927.jpg',\n 'Image14001015-9610.jpg',\n 'Image14001015-0152.jpg',\n 'Image14001016-5092.jpg',\n 'Image14001014-2751.jpg',\n 'Image14105003-1165.jpg',\n 'Image14105001-9595.jpg',\n 'Image14001016-5086.jpg',\n 'Image14105004-3529.jpg',\n 'Image14001015-6537.jpg',\n 'Image14105002-7514.jpg',\n 'Image14105003-3000.jpg',\n 'Image14105004-2637.jpg',\n 'Image14105002-3772.jpg',\n 'Image14105002-8140.jpg',\n 'Image14001015-3328.jpg',\n 'Image14001014-0153.jpg',\n 'Image14105004-0021.jpg',\n 'Image14001014-8269.jpg',\n 'Image14001015-9605.jpg',\n 'Image14001016-3390.jpg',\n 'Image14105002-1164.jpg',\n 'Image14105002-9538.jpg',\n 'Image14001015-0153.jpg',\n 'Image14001015-4453.jpg',\n 'Image14105004-6322.jpg',\n 'Image14105002-3001.jpg',\n 'Image14001014-1259.jpg',\n 'Image14001015-3314.jpg',\n 'Image14105002-3029.jpg',\n 'Image14105002-5458.jpg',\n 'Image14001015-1503.jpg',\n 'Image14001014-3466.jpg',\n 'Image14001015-8241.jpg',\n 'Image14105003-6145.jpg',\n 'Image14105002-0252.jpg',\n 'Image14105002-6623.jpg',\n 'Image14105003-4020.jpg',\n 'Image14001015-3300.jpg',\n 'Image14001014-8527.jpg',\n 'Image14105003-7529.jpg',\n 'Image14001015-6293.jpg',\n 'Image14001015-2793.jpg',\n 'Image14105001-0573.jpg',\n 'Image14105004-2839.jpg',\n 'Image14001015-7827.jpg',\n 'Image14001016-0128.jpg',\n 'Image14105004-5818.jpg',\n 'Image14105003-6838.jpg',\n 'Image14105004-0960.jpg',\n 'Image14001014-8296.jpg',\n 'Image14001014-9188.jpg',\n 'Image14105003-4949.jpg',\n 'Image14105001-3046.jpg',\n 'Image14105001-2358.jpg',\n 'Image14001016-0672.jpg',\n 'Image14105002-1831.jpg',\n 'Image14001016-4825.jpg',\n 'Image14001014-4651.jpg',\n 'Image14001014-1729.jpg',\n 'Image14001015-4645.jpg',\n 'Image14105001-8488.jpg',\n 'Image14001015-5229.jpg',\n 'Image14001014-8057.jpg',\n 'Image14105002-4222.jpg',\n 'Image14105003-0736.jpg',\n 'Image14105003-6347.jpg',\n 'Image14001016-1961.jpg',\n 'Image14105004-2408.jpg',\n 'Image14001014-3664.jpg',\n 'Image14105002-0722.jpg',\n 'Image14105003-2647.jpg',\n 'Image14105004-3070.jpg',\n 'Image14105003-6421.jpg',\n 'Image14105002-5882.jpg',\n 'Image14105003-0050.jpg',\n 'Image14001013-9112.jpg',\n 'Image14105004-1673.jpg',\n 'Image14001015-3102.jpg',\n 'Image14105003-8395.jpg',\n 'Image14105002-9921.jpg',\n 'Image14001016-4158.jpg',\n 'Image14001016-2529.jpg',\n 'Image14105003-9921.jpg',\n 'Image14001014-2591.jpg',\n 'Image14105003-2874.jpg',\n 'Image14105002-9935.jpg',\n 'Image14105001-5621.jpg',\n 'Image14001014-4876.jpg',\n 'Image14105002-5699.jpg',\n 'Image14001014-6913.jpg',\n 'Image14001016-6001.jpg',\n 'Image14105002-0093.jpg',\n 'Image14001016-5508.jpg',\n 'Image14105002-7924.jpg',\n 'Image14001016-1829.jpg',\n 'Image14001015-2426.jpg',\n 'Image14001016-6820.jpg',\n 'Image14001013-8350.jpg',\n 'Image14001015-6126.jpg',\n 'Image14001015-1885.jpg',\n 'Image14001014-9573.jpg',\n 'Image14001014-6126.jpg',\n 'Image14001014-1649.jpg',\n 'Image14105001-5966.jpg',\n 'Image14001014-5407.jpg',\n 'Image14001015-1675.jpg',\n 'Image14105001-3481.jpg',\n 'Image14105004-1713.jpg',\n 'Image14105001-0188.jpg',\n 'Image14001014-8651.jpg',\n 'Image14105002-0124.jpg',\n 'Image14001015-1107.jpg',\n 'Image14105001-3318.jpg',\n 'Image14105003-9855.jpg',\n 'Image14105001-2774.jpg',\n 'Image14001016-3757.jpg',\n 'Image14105001-4305.jpg',\n 'Image14001015-7589.jpg',\n 'Image14001014-4902.jpg',\n 'Image14105003-0859.jpg',\n 'Image14001016-6607.jpg',\n 'Image14105003-7688.jpg',\n 'Image14105001-2984.jpg',\n 'Image14105001-3456.jpg',\n 'Image14001015-4902.jpg',\n 'Image14001014-8692.jpg',\n 'Image14105001-8265.jpg',\n 'Image14001015-9598.jpg',\n 'Image14105002-7307.jpg',\n 'Image14105001-8932.jpg',\n 'Image14001015-2624.jpg',\n 'Image14001015-7984.jpg',\n 'Image14105002-1010.jpg',\n 'Image14001015-7990.jpg',\n 'Image14105003-3161.jpg',\n 'Image14105003-7307.jpg',\n 'Image14001014-6442.jpg',\n 'Image14105004-0627.jpg',\n 'Image14105004-6256.jpg',\n 'Image14001016-2688.jpg',\n 'Image14105002-2243.jpg',\n 'Image14001014-3512.jpg',\n 'Image14001015-1311.jpg',\n 'Image14105001-5594.jpg',\n 'Image14105001-7383.jpg',\n 'Image14105002-2525.jpg',\n 'Image14001013-9502.jpg',\n 'Image14001014-0769.jpg',\n 'Image14105002-2531.jpg',\n 'Image14105002-6757.jpg',\n 'Image14105002-7449.jpg',\n 'Image14105001-4846.jpg',\n 'Image14105002-1986.jpg',\n 'Image14001015-7012.jpg',\n 'Image14001014-9995.jpg',\n 'Image14105003-0332.jpg',\n 'Image14001016-1430.jpg',\n 'Image14001014-1488.jpg',\n 'Image14105002-3808.jpg',\n 'Image14001015-7953.jpg',\n 'Image14001016-3233.jpg',\n 'Image14001014-4296.jpg',\n 'Image14105001-2576.jpg',\n 'Image14105004-6295.jpg',\n 'Image14001015-5822.jpg',\n 'Image14105002-0497.jpg',\n 'Image14105002-5289.jpg',\n 'Image14001013-8813.jpg',\n 'Image14001014-8490.jpg',\n 'Image14001015-2191.jpg',\n 'Image14105001-0365.jpg',\n 'Image14105004-0838.jpg',\n 'Image14001016-4558.jpg',\n 'Image14001016-1420.jpg',\n 'Image14001014-0792.jpg',\n 'Image14001015-4286.jpg',\n 'Image14105004-5954.jpg',\n 'Image14001016-2883.jpg',\n 'Image14105003-8959.jpg',\n 'Image14105002-1941.jpg',\n 'Image14001014-9952.jpg',\n 'Image14105001-1735.jpg',\n 'Image14105002-4193.jpg',\n 'Image14105003-0487.jpg',\n 'Image14001014-0962.jpg',\n 'Image14105001-7422.jpg',\n 'Image14105003-5299.jpg',\n 'Image14001015-6334.jpg',\n 'Image14001015-0745.jpg',\n 'Image14001014-0037.jpg',\n 'Image14105001-8922.jpg',\n 'Image14105004-0145.jpg',\n 'Image14001015-7758.jpg',\n 'Image14001015-1329.jpg',\n 'Image14001016-7086.jpg',\n 'Image14001015-6320.jpg',\n 'Image14001016-2840.jpg',\n 'Image14001014-7764.jpg',\n 'Image14001014-1315.jpg',\n 'Image14001015-1467.jpg',\n 'Image14001015-7770.jpg',\n 'Image14001014-5615.jpg',\n 'Image14105003-9306.jpg',\n 'Image14105001-5590.jpg',\n 'Image14105003-2253.jpg',\n 'Image14105004-3464.jpg',\n 'Image14001014-4279.jpg',\n 'Image14105001-1090.jpg',\n 'Image14105001-0601.jpg',\n 'Image14105001-3308.jpg',\n 'Image14001014-4090.jpg',\n 'Image14001014-7599.jpg',\n 'Image14105004-1930.jpg',\n 'Image14001014-3933.jpg',\n 'Image14105004-2587.jpg',\n 'Image14001015-6687.jpg',\n 'Image14105003-0861.jpg',\n 'Image14001014-8696.jpg',\n 'Image14105002-2086.jpg',\n 'Image14001015-4912.jpg',\n 'Image14105003-2079.jpg',\n 'Image14001015-6888.jpg',\n 'Image14001016-6830.jpg',\n 'Image14001014-9563.jpg',\n 'Image14001016-4955.jpg',\n 'Image14001014-8133.jpg',\n 'Image14105002-2737.jpg',\n 'Image14105002-7897.jpg',\n 'Image14001014-4709.jpg',\n 'Image14105004-5203.jpg',\n 'Image14105002-7129.jpg',\n 'Image14105002-6237.jpg',\n 'Image14105003-6551.jpg',\n 'Image14105002-9676.jpg',\n 'Image14001015-3700.jpg',\n 'Image14001015-5371.jpg',\n 'Image14105001-8329.jpg',\n 'Image14001014-4682.jpg',\n 'Image14001016-2539.jpg',\n 'Image14105001-9989.jpg',\n 'Image14001016-6993.jpg',\n 'Image14105001-3268.jpg',\n 'Image14001014-4696.jpg',\n 'Image14001016-1742.jpg',\n 'Image14001016-4612.jpg',\n 'Image14105003-0083.jpg',\n 'Image14105001-8467.jpg',\n 'Image14105001-8301.jpg',\n 'Image14105003-6380.jpg',\n 'Image14105002-7934.jpg',\n 'Image14105003-3213.jpg',\n 'Image14001015-0355.jpg',\n 'Image14105002-6419.jpg',\n 'Image14001014-7348.jpg',\n 'Image14105002-3561.jpg',\n 'Image14105002-3207.jpg',\n 'Image14105003-1362.jpg',\n 'Image14105002-7061.jpg',\n 'Image14001015-6056.jpg',\n 'Image14105002-9058.jpg',\n 'Image14105002-7075.jpg',\n 'Image14001015-0427.jpg',\n 'Image14001016-5281.jpg',\n 'Image14105002-3213.jpg',\n 'Image14001015-4641.jpg',\n 'Image14001016-6788.jpg',\n 'Image14001014-6724.jpg',\n 'Image14105001-8498.jpg',\n 'Image14001015-2556.jpg',\n 'Image14105004-0227.jpg',\n 'Image14105001-0952.jpg',\n 'Image14001014-3112.jpg',\n 'Image14001015-7406.jpg',\n 'Image14001015-8735.jpg',\n 'Image14105002-8408.jpg',\n 'Image14105004-2418.jpg',\n 'Image14105002-6343.jpg',\n 'Image14001015-7360.jpg',\n 'Image14001013-9102.jpg',\n 'Image14105001-7797.jpg',\n 'Image14001015-5563.jpg',\n 'Image14105002-2131.jpg',\n 'Image14105003-2643.jpg',\n 'Image14001014-3106.jpg',\n 'Image14105002-2657.jpg',\n 'Image14001015-3674.jpg',\n 'Image14105002-3549.jpg',\n 'Image14001015-4494.jpg',\n 'Image14105002-4971.jpg',\n 'Image14105001-6106.jpg',\n 'Image14001015-0180.jpg',\n 'Image14105002-6814.jpg',\n 'Image14105002-8187.jpg',\n 'Image14105004-0958.jpg',\n 'Image14105002-3944.jpg',\n 'Image14105003-1821.jpg',\n 'Image14105001-1655.jpg',\n 'Image14105004-2801.jpg',\n 'Image14001016-2075.jpg',\n 'Image14105003-4795.jpg',\n 'Image14105002-2496.jpg',\n 'Image14105001-3730.jpg',\n 'Image14001016-2920.jpg',\n 'Image14001015-5991.jpg',\n 'Image14001015-2998.jpg',\n 'Image14001015-9615.jpg',\n 'Image14105002-9528.jpg',\n 'Image14001015-1249.jpg',\n 'Image14105002-5460.jpg',\n 'Image14105003-3763.jpg',\n 'Image14001014-8523.jpg',\n 'Image14105004-1475.jpg',\n 'Image14001015-1513.jpg',\n 'Image14001014-5761.jpg',\n 'Image14105002-7539.jpg',\n 'Image14001015-3462.jpg',\n 'Image14001014-3462.jpg',\n 'Image14105004-3276.jpg',\n 'Image14105002-4742.jpg',\n 'Image14105002-0243.jpg',\n 'Image14105004-3263.jpg',\n 'Image14001013-9315.jpg',\n 'Image14105001-6846.jpg',\n 'Image14105002-3986.jpg',\n 'Image14001016-5914.jpg',\n 'Image14001014-5990.jpg',\n 'Image14105003-1175.jpg',\n 'Image14001014-4324.jpg',\n 'Image14105003-3776.jpg',\n 'Image14105002-7504.jpg',\n 'Image14001015-0156.jpg',\n 'Image14001014-9166.jpg',\n 'Image14001013-8989.jpg',\n 'Image14105002-8804.jpg',\n 'Image14105001-5340.jpg',\n 'Image14105001-1132.jpg',\n 'Image14105002-8810.jpg',\n 'Image14105001-8116.jpg',\n 'Image14105002-6815.jpg',\n 'Image14105001-6113.jpg',\n 'Image14105001-9546.jpg',\n 'Image14105001-2413.jpg',\n 'Image14105004-3288.jpg',\n 'Image14105001-4076.jpg',\n 'Image14001015-6282.jpg',\n 'Image14105003-8838.jpg',\n 'Image14001014-7188.jpg',\n 'Image14105001-6107.jpg',\n 'Image14105002-6801.jpg',\n 'Image14105002-0727.jpg',\n 'Image14105003-2642.jpg',\n 'Image14001014-5210.jpg',\n 'Image14001014-7407.jpg',\n 'Image14105001-6488.jpg',\n 'Image14105004-1104.jpg',\n 'Image14105003-0733.jpg',\n 'Image14001014-7361.jpg',\n 'Image14001014-2219.jpg',\n 'Image14105004-3713.jpg',\n 'Image14001014-5576.jpg',\n 'Image14001015-6719.jpg',\n 'Image14001014-5562.jpg',\n 'Image14001013-9671.jpg',\n 'Image14105001-1495.jpg',\n 'Image14001014-1704.jpg',\n 'Image14001015-3107.jpg',\n 'Image14105004-5410.jpg',\n 'Image14105003-3548.jpg',\n 'Image14105002-9071.jpg',\n 'Image14001015-7349.jpg',\n 'Image14001016-5280.jpg',\n 'Image14105002-8347.jpg',\n 'Image14105002-9059.jpg',\n 'Image14001015-9402.jpg',\n 'Image14105001-5803.jpg',\n 'Image14105002-7712.jpg',\n 'Image14105003-7074.jpg',\n 'Image14105001-5817.jpg',\n 'Image14105002-7706.jpg',\n 'Image14001014-4640.jpg',\n 'Image14001016-5294.jpg',\n 'Image14105003-3574.jpg',\n 'Image14105004-0554.jpg',\n 'Image14105002-4569.jpg',\n 'Image14001014-0340.jpg',\n 'Image14001016-6776.jpg',\n 'Image14105003-7921.jpg',\n 'Image14105001-3533.jpg',\n 'Image14001016-0461.jpg',\n 'Image14105001-5156.jpg',\n 'Image14105002-4596.jpg',\n 'Image14105003-7935.jpg',\n 'Image14001014-3846.jpg',\n 'Image14105002-8384.jpg',\n 'Image14001016-5243.jpg',\n 'Image14105001-0006.jpg',\n 'Image14105003-8390.jpg',\n 'Image14105002-2871.jpg',\n 'Image14001015-3846.jpg',\n 'Image14105003-0900.jpg',\n 'Image14001013-9856.jpg',\n 'Image14001016-4149.jpg',\n 'Image14105004-4929.jpg',\n 'Image14105004-2380.jpg',\n 'Image14001015-4708.jpg',\n 'Image14001016-1810.jpg',\n 'Image14105004-1070.jpg',\n 'Image14001014-5402.jpg',\n 'Image14001015-8640.jpg',\n 'Image14105003-2044.jpg',\n 'Image14001015-8898.jpg',\n 'Image14001016-1804.jpg',\n 'Image14105001-0827.jpg',\n 'Image14105003-7882.jpg',\n 'Image14105002-6236.jpg',\n 'Image14105002-9105.jpg',\n 'Image14001015-7215.jpg',\n 'Image14001015-0552.jpg',\n 'Image14001015-8668.jpg',\n 'Image14105004-3883.jpg',\n 'Image14001015-9576.jpg',\n 'Image14105004-0346.jpg',\n 'Image14001013-9739.jpg',\n 'Image14001016-4798.jpg',\n 'Image14105001-5963.jpg',\n 'Image14105003-5071.jpg',\n 'Image14105002-7114.jpg',\n 'Image14001015-1880.jpg',\n 'Image14105003-6578.jpg',\n 'Image14105001-1250.jpg',\n 'Image14105001-1536.jpg',\n 'Image14105003-0684.jpg',\n 'Image14105001-8274.jpg',\n 'Image14105003-0690.jpg',\n 'Image14105003-2087.jpg',\n 'Image14001016-3746.jpg',\n 'Image14001016-1151.jpg',\n 'Image14105001-9630.jpg',\n 'Image14001014-1857.jpg',\n 'Image14001015-3932.jpg',\n 'Image14001014-6686.jpg',\n 'Image14001014-8873.jpg',\n 'Image14105001-1278.jpg',\n 'Image14105004-4685.jpg',\n 'Image14001014-8324.jpg',\n 'Image14105002-4637.jpg',\n 'Image14001014-4278.jpg',\n 'Image14105002-1983.jpg',\n 'Image14105004-0178.jpg',\n 'Image14001013-8619.jpg',\n 'Image14001015-7771.jpg',\n 'Image14105001-5585.jpg',\n 'Image14001015-2621.jpg',\n 'Image14105004-0150.jpg',\n 'Image14001015-9774.jpg',\n 'Image14001014-2153.jpg',\n 'Image14001016-5848.jpg',\n 'Image14105004-4336.jpg',\n 'Image14001014-4244.jpg',\n 'Image14105004-2021.jpg',\n 'Image14105003-1001.jpg',\n 'Image14105002-8025.jpg',\n 'Image14001016-2855.jpg',\n 'Image14001016-3593.jpg',\n 'Image14001015-6453.jpg',\n 'Image14105002-8743.jpg',\n 'Image14105002-3616.jpg',\n 'Image14105003-8031.jpg',\n 'Image14001014-6321.jpg',\n 'Image14105001-1907.jpg',\n 'Image14001016-0717.jpg',\n 'Image14001016-1409.jpg',\n 'Image14001015-9953.jpg',\n 'Image14105002-6785.jpg',\n 'Image14001016-4217.jpg',\n 'Image14105003-5298.jpg',\n 'Image14105003-4186.jpg',\n 'Image14001016-2666.jpg',\n 'Image14001016-6400.jpg',\n 'Image14105001-7437.jpg',\n 'Image14105001-3889.jpg',\n 'Image14105001-4880.jpg',\n 'Image14001015-2812.jpg',\n 'Image14001016-6372.jpg',\n 'Image14105002-4810.jpg',\n 'Image14105002-1968.jpg',\n 'Image14105004-0839.jpg',\n 'Image14105001-6715.jpg',\n 'Image14001015-5199.jpg',\n 'Image14001016-2128.jpg',\n 'Image14105002-8782.jpg',\n 'Image14105003-6963.jpg',\n 'Image14001015-8497.jpg',\n 'Image14105003-8741.jpg',\n 'Image14105002-5517.jpg',\n 'Image14001014-5158.jpg',\n 'Image14105002-1017.jpg',\n 'Image14001016-0932.jpg',\n 'Image14001015-5158.jpg',\n 'Image14001015-9762.jpg',\n 'Image14001015-6451.jpg',\n 'Image14001014-2623.jpg',\n 'Image14001014-4252.jpg',\n 'Image14001015-7029.jpg',\n 'Image14001014-9776.jpg',\n 'Image14105003-4147.jpg',\n 'Image14105003-9305.jpg',\n 'Image14105004-5016.jpg',\n 'Image14105004-5002.jpg',\n 'Image14001015-5164.jpg',\n 'Image14001014-7001.jpg',\n 'Image14001013-9263.jpg',\n 'Image14105001-1087.jpg',\n 'Image14105001-3690.jpg',\n 'Image14105002-7328.jpg',\n 'Image14105004-5764.jpg',\n 'Image14001016-1153.jpg',\n 'Image14001014-6690.jpg',\n 'Image14105001-0170.jpg',\n 'Image14001014-3930.jpg',\n 'Image14105001-3479.jpg',\n 'Image14105002-0862.jpg',\n 'Image14105001-6515.jpg',\n 'Image14001015-3930.jpg',\n 'Image14105001-1534.jpg',\n 'Image14001016-5309.jpg',\n 'Image14105001-5020.jpg',\n 'Image14105003-7116.jpg',\n 'Image14001014-6135.jpg',\n 'Image14105002-9649.jpg',\n 'Image14105002-7102.jpg',\n 'Image14001013-8357.jpg',\n 'Image14001013-9049.jpg',\n 'Image14001013-8343.jpg',\n 'Image14105003-9891.jpg',\n 'Image14105001-7810.jpg',\n 'Image14001015-6135.jpg',\n 'Image14105002-1567.jpg',\n 'Image14001014-4736.jpg',\n 'Image14001014-0550.jpg',\n 'Image14105002-6546.jpg',\n 'Image14105004-5214.jpg',\n 'Image14001014-3071.jpg',\n 'Image14001014-1100.jpg',\n 'Image14105003-7894.jpg',\n 'Image14001013-9075.jpg',\n 'Image14105001-2798.jpg',\n 'Image14001015-1666.jpg',\n 'Image14105001-3492.jpg',\n 'Image14001014-1114.jpg',\n 'Image14001014-9548.jpg',\n 'Image14001013-9707.jpg',\n 'Image14105002-4345.jpg',\n 'Image14001016-1806.jpg',\n 'Image14105004-3671.jpg',\n 'Image14105002-9661.jpg',\n 'Image14001015-7571.jpg',\n 'Image14001014-1935.jpg',\n 'Image14001015-4681.jpg',\n 'Image14001014-2582.jpg',\n 'Image14105002-9098.jpg',\n 'Image14001014-2596.jpg',\n 'Image14105001-4276.jpg',\n 'Image14001016-1033.jpg',\n 'Image14105001-9752.jpg',\n 'Image14105003-9098.jpg',\n 'Image14001014-4859.jpg',\n 'Image14105001-4538.jpg',\n 'Image14001015-4871.jpg',\n 'Image14105001-7743.jpg',\n 'Image14001016-2506.jpg',\n 'Image14001016-2260.jpg',\n 'Image14105001-5632.jpg',\n 'Image14105003-5846.jpg',\n 'Image14001015-4124.jpg',\n 'Image14001014-5548.jpg',\n 'Image14001016-3195.jpg',\n 'Image14105002-1407.jpg',\n 'Image14105001-9791.jpg',\n 'Image14001015-6041.jpg',\n ...]"
     },
     "execution_count": 2,
     "metadata": {},
     "output_type": "execute_result"
    }
   ],
   "source": [
    "allImages = os.listdir('../BigDataSource/Teddy2024/附件3/ImageData')\n",
    "allImages"
   ],
   "metadata": {
    "collapsed": false,
    "ExecuteTime": {
     "end_time": "2024-04-16T06:32:47.684548Z",
     "start_time": "2024-04-16T06:32:47.651554Z"
    }
   },
   "id": "26dc94d8f5edeec5",
   "execution_count": 2
  },
  {
   "cell_type": "code",
   "outputs": [
    {
     "data": {
      "text/plain": "(5000, 1)"
     },
     "execution_count": 3,
     "metadata": {},
     "output_type": "execute_result"
    }
   ],
   "source": [
    "allImagesList = pd.read_csv('../BigDataSource/Teddy2024/附件3/image_test.csv')\n",
    "allImagesList.shape"
   ],
   "metadata": {
    "collapsed": false,
    "ExecuteTime": {
     "end_time": "2024-04-16T06:32:47.692019Z",
     "start_time": "2024-04-16T06:32:47.683811Z"
    }
   },
   "id": "1aebfb6083713876",
   "execution_count": 3
  },
  {
   "cell_type": "code",
   "outputs": [
    {
     "name": "stderr",
     "output_type": "stream",
     "text": [
      "/Users/zengyuxiang/opt/anaconda3/lib/python3.8/site-packages/scipy/__init__.py:143: UserWarning: A NumPy version >=1.19.5 and <1.27.0 is required for this version of SciPy (detected version 1.19.2)\n",
      "  warnings.warn(f\"A NumPy version >={np_minversion} and <{np_maxversion}\"\n",
      "100%|██████████| 50000/50000 [08:18<00:00, 100.26it/s]"
     ]
    },
    {
     "name": "stdout",
     "output_type": "stream",
     "text": [
      "Done!\n"
     ]
    },
    {
     "name": "stderr",
     "output_type": "stream",
     "text": [
      "\n"
     ]
    }
   ],
   "source": [
    "import chardet\n",
    "from modules.models.SBERT import Text2Vec\n",
    "\n",
    "file_name = '../BigDataSource/Teddy2024/附件3/word_data.csv'\n",
    "# 首先，读取文件的一部分字节来检测编码\n",
    "with open(file_name, 'rb') as f:\n",
    "    raw_data = f.read(5000)\n",
    "    result = chardet.detect(raw_data)\n",
    "    encoding = result['encoding']\n",
    "allTextList = pd.read_csv(file_name, encoding=encoding)\n",
    "allTextList = np.array(allTextList)\n",
    "\n",
    "def process_word(inputs):\n",
    "    word, text_transfer = inputs\n",
    "    features = text_transfer.text2vec(word)\n",
    "    return features\n",
    "\n",
    "\n",
    "text2vec = Text2Vec()\n",
    "inputList = [(allTextList[i, 1], text2vec) for i in range(len(allTextList))]\n",
    "from concurrent.futures import ThreadPoolExecutor, as_completed\n",
    "# Execute\n",
    "all_text_features = []\n",
    "with ThreadPoolExecutor(max_workers=16) as executor:\n",
    "    futures = [executor.submit(process_word, inputs) for inputs in inputList]\n",
    "    for future in tqdm(as_completed(futures), total=len(inputList)):\n",
    "        all_text_features.append(future.result())\n",
    "print('Done!')"
   ],
   "metadata": {
    "collapsed": false,
    "ExecuteTime": {
     "end_time": "2024-04-16T06:41:14.098619Z",
     "start_time": "2024-04-16T06:32:47.693267Z"
    }
   },
   "id": "1dce04cef6107628",
   "execution_count": 4
  },
  {
   "cell_type": "code",
   "outputs": [],
   "source": [
    "import pickle\n",
    "with open('../BigDataSource/Teddy2024/附件3/word_features.pkl', 'wb') as f:\n",
    "    pickle.dump(all_text_features, f)"
   ],
   "metadata": {
    "collapsed": false,
    "ExecuteTime": {
     "end_time": "2024-04-16T06:41:14.313905Z",
     "start_time": "2024-04-16T06:41:14.098262Z"
    }
   },
   "id": "bd01e03abdfbd819",
   "execution_count": 5
  },
  {
   "cell_type": "code",
   "outputs": [],
   "source": [
    "# allImagesFeatures = []\n",
    "# for i in trange(len(allImages)):\n",
    "#     imageTranfer = Image2tensor()\n",
    "#     file_name = '../BigDataSource/Teddy2024/附件3/ImageData/' + allImages[i]\n",
    "#     image = Image.open(file_name)\n",
    "#     features = imageTranfer.image2tensor(image)\n",
    "#     allImagesFeatures.append(features)\n",
    "# allImagesFeatures"
   ],
   "metadata": {
    "collapsed": false,
    "ExecuteTime": {
     "end_time": "2024-04-16T06:41:14.323696Z",
     "start_time": "2024-04-16T06:41:14.315541Z"
    }
   },
   "id": "963020e9f1dfdd43",
   "execution_count": 6
  },
  {
   "cell_type": "code",
   "outputs": [
    {
     "name": "stderr",
     "output_type": "stream",
     "text": [
      "/Users/zengyuxiang/opt/anaconda3/lib/python3.8/site-packages/torchvision/io/image.py:13: UserWarning: Failed to load image Python extension: 'dlopen(/Users/zengyuxiang/opt/anaconda3/lib/python3.8/site-packages/torchvision/image.so, 0x0006): Symbol not found: __ZN3c1017RegisterOperatorsD1Ev\n",
      "  Referenced from: <70619B86-59ED-3849-B040-4C861402850E> /Users/zengyuxiang/opt/anaconda3/lib/python3.8/site-packages/torchvision/image.so\n",
      "  Expected in:     <9E86230E-21B4-3734-AB52-949AE1F40CB9> /Users/zengyuxiang/opt/anaconda3/lib/python3.8/site-packages/torch/lib/libtorch_cpu.dylib'If you don't plan on using image functionality from `torchvision.io`, you can ignore this warning. Otherwise, there might be something wrong with your environment. Did you have `libjpeg` or `libpng` installed before building `torchvision` from source?\n",
      "  warn(\n",
      "100%|██████████| 5000/5000 [01:43<00:00, 48.29it/s]"
     ]
    },
    {
     "name": "stdout",
     "output_type": "stream",
     "text": [
      "Done!\n"
     ]
    },
    {
     "name": "stderr",
     "output_type": "stream",
     "text": [
      "\n"
     ]
    }
   ],
   "source": [
    "from modules.models.ResNet50 import Image2tensor\n",
    "from PIL import Image\n",
    "\n",
    "# 这里是执行多线程代码，线性运算过慢，线性预算代码在上面，用时8mins\n",
    "from concurrent.futures import ThreadPoolExecutor, as_completed\n",
    "\n",
    "# function\n",
    "def process_image(inputs):\n",
    "    imageTranfer, image_name = inputs\n",
    "    file_name = '../BigDataSource/Teddy2024/附件3/ImageData/' + image_name\n",
    "    image = Image.open(file_name)\n",
    "    features = imageTranfer.image2tensor(image)\n",
    "    return features\n",
    "\n",
    "# input\n",
    "allImages = os.listdir('../BigDataSource/Teddy2024/附件3/ImageData')\n",
    "imageTranfer = Image2tensor()\n",
    "inputList = [(imageTranfer, imageNames) for imageNames in allImages]\n",
    "\n",
    "# Execute\n",
    "allImagesFeatures = []\n",
    "allImages = os.listdir('../BigDataSource/Teddy2024/附件3/ImageData')\n",
    "with ThreadPoolExecutor(max_workers=16) as executor:\n",
    "    futures = [executor.submit(process_image, inputs) for inputs in inputList]\n",
    "    for future in tqdm(as_completed(futures), total=len(allImages)):\n",
    "        allImagesFeatures.append(future.result())\n",
    "print('Done!')"
   ],
   "metadata": {
    "collapsed": false,
    "ExecuteTime": {
     "end_time": "2024-04-16T06:42:58.378819Z",
     "start_time": "2024-04-16T06:41:14.322155Z"
    }
   },
   "id": "a33b636df5e580b0",
   "execution_count": 7
  },
  {
   "cell_type": "code",
   "outputs": [
    {
     "data": {
      "text/plain": "(5000, 1000)"
     },
     "execution_count": 8,
     "metadata": {},
     "output_type": "execute_result"
    }
   ],
   "source": [
    "# 将所有变量转成numpy形式\n",
    "allImagesFeatures_now = []\n",
    "for i in range(len(allImagesFeatures)):\n",
    "    imageFeatures = np.array(allImagesFeatures[i]).reshape(-1, )\n",
    "    allImagesFeatures_now.append(imageFeatures)\n",
    "allImagesFeatures = np.array(allImagesFeatures_now)\n",
    "allImagesFeatures.shape"
   ],
   "metadata": {
    "collapsed": false,
    "ExecuteTime": {
     "end_time": "2024-04-16T06:42:58.408420Z",
     "start_time": "2024-04-16T06:42:58.381674Z"
    }
   },
   "id": "2bf1c65e5e16f46",
   "execution_count": 8
  },
  {
   "cell_type": "code",
   "outputs": [
    {
     "data": {
      "text/plain": "(50000, 1)"
     },
     "execution_count": 9,
     "metadata": {},
     "output_type": "execute_result"
    }
   ],
   "source": [
    "# 将所有变量转成numpy形式\n",
    "allTextFeatures_now = []\n",
    "for i in range(len(allTextList)):\n",
    "    textFeatures = np.array(allTextList[i, 1]).reshape(-1, )\n",
    "    allTextFeatures_now.append(textFeatures)\n",
    "allTextFeatures = np.array(allTextFeatures_now)\n",
    "allTextFeatures.shape"
   ],
   "metadata": {
    "collapsed": false,
    "ExecuteTime": {
     "end_time": "2024-04-16T06:42:58.474940Z",
     "start_time": "2024-04-16T06:42:58.458466Z"
    }
   },
   "id": "b8b4588be7259e9d",
   "execution_count": 9
  },
  {
   "cell_type": "code",
   "outputs": [
    {
     "data": {
      "text/plain": "((50000, 1), (5000, 1000))"
     },
     "execution_count": 10,
     "metadata": {},
     "output_type": "execute_result"
    }
   ],
   "source": [
    "allTextFeatures.shape, allImagesFeatures.shape"
   ],
   "metadata": {
    "collapsed": false,
    "ExecuteTime": {
     "end_time": "2024-04-16T06:42:58.475519Z",
     "start_time": "2024-04-16T06:42:58.473249Z"
    }
   },
   "id": "23e4ebd82282afc3",
   "execution_count": 10
  },
  {
   "cell_type": "code",
   "outputs": [
    {
     "name": "stdout",
     "output_type": "stream",
     "text": [
      "降维后的视觉特征形状: (5000, 384)\n"
     ]
    }
   ],
   "source": [
    "from sklearn.decomposition import PCA\n",
    "import numpy as np\n",
    "\n",
    "# 假设 `visual_features` 是一个形状为 (n_samples, 1000) 的数组，\n",
    "\n",
    "# 初始化PCA对象，设置目标维度为384\n",
    "pca = PCA(n_components=384)\n",
    "\n",
    "# 对视觉特征进行降维\n",
    "scaled_allImagesFeatures = pca.fit_transform(allImagesFeatures)\n",
    "\n",
    "# 查看降维后的形状，确认是否为 (n_samples, 384)\n",
    "print(\"降维后的视觉特征形状:\", scaled_allImagesFeatures.shape)\n"
   ],
   "metadata": {
    "collapsed": false,
    "ExecuteTime": {
     "end_time": "2024-04-16T06:42:59.494299Z",
     "start_time": "2024-04-16T06:42:58.475991Z"
    }
   },
   "id": "c8cab9a8585ee185",
   "execution_count": 11
  },
  {
   "cell_type": "code",
   "outputs": [],
   "source": [
    "xb = scaled_allImagesFeatures\n",
    "xq = allTextFeatures"
   ],
   "metadata": {
    "collapsed": false,
    "ExecuteTime": {
     "end_time": "2024-04-16T06:42:59.494602Z",
     "start_time": "2024-04-16T06:42:59.492152Z"
    }
   },
   "id": "ace80fc425e19d62",
   "execution_count": 12
  },
  {
   "cell_type": "code",
   "outputs": [
    {
     "ename": "ValueError",
     "evalue": "could not convert string to float: '洛阳楼盘 老城区楼盘 道北楼盘 保利<人名>'",
     "output_type": "error",
     "traceback": [
      "\u001B[0;31m---------------------------------------------------------------------------\u001B[0m",
      "\u001B[0;31mValueError\u001B[0m                                Traceback (most recent call last)",
      "\u001B[0;32m<ipython-input-13-3e86711b0215>\u001B[0m in \u001B[0;36m<module>\u001B[0;34m\u001B[0m\n\u001B[1;32m      8\u001B[0m \u001B[0mt1\u001B[0m \u001B[0;34m=\u001B[0m \u001B[0mtime\u001B[0m\u001B[0;34m(\u001B[0m\u001B[0;34m)\u001B[0m\u001B[0;34m\u001B[0m\u001B[0;34m\u001B[0m\u001B[0m\n\u001B[1;32m      9\u001B[0m \u001B[0mlsh\u001B[0m \u001B[0;34m=\u001B[0m \u001B[0mLSH\u001B[0m\u001B[0;34m(\u001B[0m\u001B[0mk\u001B[0m\u001B[0;34m=\u001B[0m\u001B[0mk\u001B[0m\u001B[0;34m,\u001B[0m \u001B[0md\u001B[0m\u001B[0;34m=\u001B[0m\u001B[0md\u001B[0m\u001B[0;34m,\u001B[0m \u001B[0mnbits\u001B[0m\u001B[0;34m=\u001B[0m\u001B[0;36m4\u001B[0m\u001B[0;34m)\u001B[0m\u001B[0;34m\u001B[0m\u001B[0;34m\u001B[0m\u001B[0m\n\u001B[0;32m---> 10\u001B[0;31m \u001B[0mtopk_distence\u001B[0m\u001B[0;34m,\u001B[0m \u001B[0mtopk_indices\u001B[0m \u001B[0;34m=\u001B[0m \u001B[0mlsh\u001B[0m\u001B[0;34m.\u001B[0m\u001B[0msearch_topk_embeds\u001B[0m\u001B[0;34m(\u001B[0m\u001B[0mxb\u001B[0m\u001B[0;34m,\u001B[0m \u001B[0mxq\u001B[0m\u001B[0;34m)\u001B[0m\u001B[0;34m\u001B[0m\u001B[0;34m\u001B[0m\u001B[0m\n\u001B[0m\u001B[1;32m     11\u001B[0m \u001B[0mt2\u001B[0m \u001B[0;34m=\u001B[0m \u001B[0mtime\u001B[0m\u001B[0;34m(\u001B[0m\u001B[0;34m)\u001B[0m\u001B[0;34m\u001B[0m\u001B[0;34m\u001B[0m\u001B[0m\n\u001B[1;32m     12\u001B[0m \u001B[0mprint\u001B[0m\u001B[0;34m(\u001B[0m\u001B[0;34mf'LSH: {t2 - t1 : .2f}s'\u001B[0m\u001B[0;34m)\u001B[0m\u001B[0;34m\u001B[0m\u001B[0;34m\u001B[0m\u001B[0m\n",
      "\u001B[0;32m~/Documents/实战代码/4.1 泰迪杯实战/modules/models/Retrieve.py\u001B[0m in \u001B[0;36msearch_topk_embeds\u001B[0;34m(self, data_base, h_query)\u001B[0m\n\u001B[1;32m     15\u001B[0m \u001B[0;34m\u001B[0m\u001B[0m\n\u001B[1;32m     16\u001B[0m     \u001B[0;32mdef\u001B[0m \u001B[0msearch_topk_embeds\u001B[0m\u001B[0;34m(\u001B[0m\u001B[0mself\u001B[0m\u001B[0;34m,\u001B[0m \u001B[0mdata_base\u001B[0m\u001B[0;34m,\u001B[0m \u001B[0mh_query\u001B[0m\u001B[0;34m)\u001B[0m\u001B[0;34m:\u001B[0m\u001B[0;34m\u001B[0m\u001B[0;34m\u001B[0m\u001B[0m\n\u001B[0;32m---> 17\u001B[0;31m         \u001B[0mdata_base\u001B[0m\u001B[0;34m,\u001B[0m \u001B[0mh_query\u001B[0m \u001B[0;34m=\u001B[0m \u001B[0mnp\u001B[0m\u001B[0;34m.\u001B[0m\u001B[0marray\u001B[0m\u001B[0;34m(\u001B[0m\u001B[0mdata_base\u001B[0m\u001B[0;34m)\u001B[0m\u001B[0;34m.\u001B[0m\u001B[0mastype\u001B[0m\u001B[0;34m(\u001B[0m\u001B[0;34m'float32'\u001B[0m\u001B[0;34m)\u001B[0m\u001B[0;34m,\u001B[0m \u001B[0mnp\u001B[0m\u001B[0;34m.\u001B[0m\u001B[0marray\u001B[0m\u001B[0;34m(\u001B[0m\u001B[0mh_query\u001B[0m\u001B[0;34m)\u001B[0m\u001B[0;34m.\u001B[0m\u001B[0mastype\u001B[0m\u001B[0;34m(\u001B[0m\u001B[0;34m'float32'\u001B[0m\u001B[0;34m)\u001B[0m\u001B[0;34m\u001B[0m\u001B[0;34m\u001B[0m\u001B[0m\n\u001B[0m\u001B[1;32m     18\u001B[0m         \u001B[0;32mif\u001B[0m \u001B[0;32mnot\u001B[0m \u001B[0mself\u001B[0m\u001B[0;34m.\u001B[0m\u001B[0mis_data_added\u001B[0m\u001B[0;34m:\u001B[0m\u001B[0;34m\u001B[0m\u001B[0;34m\u001B[0m\u001B[0m\n\u001B[1;32m     19\u001B[0m             \u001B[0mself\u001B[0m\u001B[0;34m.\u001B[0m\u001B[0mindex\u001B[0m\u001B[0;34m.\u001B[0m\u001B[0madd\u001B[0m\u001B[0;34m(\u001B[0m\u001B[0mdata_base\u001B[0m\u001B[0;34m)\u001B[0m\u001B[0;34m\u001B[0m\u001B[0;34m\u001B[0m\u001B[0m\n",
      "\u001B[0;31mValueError\u001B[0m: could not convert string to float: '洛阳楼盘 老城区楼盘 道北楼盘 保利<人名>'"
     ]
    }
   ],
   "source": [
    "from modules.models.Retrieve import LSH, L2Index\n",
    "from time import time \n",
    "\n",
    "d = 384  # 向量维度\n",
    "k = 5\n",
    "np.random.seed(1234)  # 保证可复现的结果\n",
    "\n",
    "t1 = time()\n",
    "lsh = LSH(k=k, d=d, nbits=4)\n",
    "topk_distence, topk_indices = lsh.search_topk_embeds(xb, xq)\n",
    "t2 = time()\n",
    "print(f'LSH: {t2 - t1 : .2f}s')\n"
   ],
   "metadata": {
    "collapsed": false,
    "ExecuteTime": {
     "end_time": "2024-04-16T06:42:59.786274Z",
     "start_time": "2024-04-16T06:42:59.495146Z"
    }
   },
   "id": "ca4c22d1327f529d",
   "execution_count": 13
  },
  {
   "cell_type": "code",
   "outputs": [],
   "source": [
    "topk_indices"
   ],
   "metadata": {
    "collapsed": false,
    "ExecuteTime": {
     "start_time": "2024-04-16T06:42:59.784697Z"
    }
   },
   "id": "1450484cf79c88d1",
   "execution_count": null
  },
  {
   "cell_type": "code",
   "outputs": [],
   "source": [
    "xb = scaled_allImagesFeatures\n",
    "xq = allTextFeatures"
   ],
   "metadata": {
    "collapsed": false,
    "ExecuteTime": {
     "start_time": "2024-04-16T06:42:59.785966Z"
    }
   },
   "id": "1db54d2c7b6217e3",
   "execution_count": null
  },
  {
   "cell_type": "code",
   "outputs": [],
   "source": [
    "\n",
    "t1 = time()\n",
    "l2index = L2Index(k=k, d=d)\n",
    "topk_distence, topk_indices = l2index.search_topk_embeds(xb, xq)\n",
    "t2 = time()\n",
    "print(f'L2: {t2 - t1 : .2f}s')"
   ],
   "metadata": {
    "collapsed": false,
    "ExecuteTime": {
     "end_time": "2024-04-16T06:42:59.788032Z",
     "start_time": "2024-04-16T06:42:59.787491Z"
    }
   },
   "id": "2283858e4a570ba1",
   "execution_count": null
  },
  {
   "cell_type": "code",
   "outputs": [],
   "source": [
    "topk_indices"
   ],
   "metadata": {
    "collapsed": false,
    "ExecuteTime": {
     "start_time": "2024-04-16T06:42:59.788895Z"
    }
   },
   "id": "c4b6ce36c9ac5338",
   "execution_count": null
  },
  {
   "cell_type": "code",
   "outputs": [],
   "source": [],
   "metadata": {
    "collapsed": false,
    "ExecuteTime": {
     "end_time": "2024-04-16T06:42:59.791994Z",
     "start_time": "2024-04-16T06:42:59.789829Z"
    }
   },
   "id": "90aba076e366c054",
   "execution_count": null
  }
 ],
 "metadata": {
  "kernelspec": {
   "display_name": "Python 3",
   "language": "python",
   "name": "python3"
  },
  "language_info": {
   "codemirror_mode": {
    "name": "ipython",
    "version": 2
   },
   "file_extension": ".py",
   "mimetype": "text/x-python",
   "name": "python",
   "nbconvert_exporter": "python",
   "pygments_lexer": "ipython2",
   "version": "2.7.6"
  }
 },
 "nbformat": 4,
 "nbformat_minor": 5
}
