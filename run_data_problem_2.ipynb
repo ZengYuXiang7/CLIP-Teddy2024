{
 "cells": [
  {
   "cell_type": "code",
   "outputs": [],
   "source": [],
   "metadata": {
    "collapsed": false,
    "ExecuteTime": {
     "end_time": "2024-04-22T09:17:50.111048Z",
     "start_time": "2024-04-22T09:17:50.097112Z"
    }
   },
   "id": "b7f22c2b80c47f1a",
   "execution_count": 20
  },
  {
   "cell_type": "code",
   "outputs": [],
   "source": [],
   "metadata": {
    "collapsed": false,
    "ExecuteTime": {
     "end_time": "2024-04-22T09:17:50.127397Z",
     "start_time": "2024-04-22T09:17:50.113716Z"
    }
   },
   "id": "3fe30d52cdf944ef",
   "execution_count": 20
  },
  {
   "cell_type": "code",
   "outputs": [],
   "source": [
    "import os\n",
    "import torch\n",
    "import pickle\n",
    "from tqdm import *\n",
    "import numpy as np\n",
    "import pandas as pd\n",
    "from PIL import Image\n",
    "import cn_clip.clip as clip\n",
    "from cn_clip.clip import load_from_name, available_models\n",
    "from eval_recall import get_performance\n",
    "from utils.config import get_config\n",
    "from utils.utils import set_seed\n",
    "from time import time\n",
    "\n",
    "class Raw2Vector:\n",
    "    def __init__(self, image_model, text_model, args):\n",
    "        self.args = args\n",
    "        print(\"Available models:\", available_models())\n",
    "        # Available models: ['ViT-B-16', 'ViT-L-14', 'ViT-L-14-336', 'ViT-H-14', 'RN50']\n",
    "        device = \"cuda\" if torch.cuda.is_available() else \"cpu\"\n",
    "        self.model, self.preprocess = load_from_name(\"ViT-B-16\", device=device, download_root='../BigDataSource/')\n",
    "        self.model.eval()\n",
    "\n",
    "    def image2tensor(self, image):\n",
    "        image = image.unsqueeze(0).to(self.args.device)\n",
    "        with torch.no_grad():\n",
    "            image_features = self.model.encode_image(image)\n",
    "            image_features /= image_features.norm(dim=-1, keepdim=True)\n",
    "        return image_features\n",
    "\n",
    "    def text2tensor(self, text):\n",
    "        # text = text.unsqueeze(0).to(self.args.device)\n",
    "        with torch.no_grad():\n",
    "            text_features = self.model.encode_text(text)\n",
    "            text_features /= text_features.norm(dim=-1, keepdim=True)\n",
    "        return text_features\n",
    "\n",
    "    def retrieve(self, query, database):\n",
    "        # query = query.unsqueeze(0).to(self.args.device)\n",
    "        query, database = query.to(self.args.device), database.to(self.args.device)\n",
    "        logit_scale = self.model.logit_scale.exp().to(self.args.device)\n",
    "        logits_per_query = logit_scale * query @ database.t()\n",
    "        probs = logits_per_query.softmax(dim=-1).cpu().detach().numpy()\n",
    "        return probs\n"
   ],
   "metadata": {
    "collapsed": false,
    "ExecuteTime": {
     "end_time": "2024-04-22T09:17:50.127836Z",
     "start_time": "2024-04-22T09:17:50.122385Z"
    }
   },
   "id": "c0117b667b85d218",
   "execution_count": 21
  },
  {
   "cell_type": "code",
   "outputs": [],
   "source": [],
   "metadata": {
    "collapsed": false,
    "ExecuteTime": {
     "end_time": "2024-04-22T09:17:50.136856Z",
     "start_time": "2024-04-22T09:17:50.129474Z"
    }
   },
   "id": "eebf9f6cf31b7a03",
   "execution_count": 21
  },
  {
   "cell_type": "code",
   "outputs": [],
   "source": [
    "\n",
    "\n",
    "def high_speed_retreive(database, query, model, k):\n",
    "    if isinstance(database, torch.Tensor):\n",
    "        database = database.cpu()\n",
    "    if isinstance(query, torch.Tensor):\n",
    "        query = query.cpu()\n",
    "    # Group truth 自己检索自己，除了自己以外的排名，故 + 1\n",
    "    from modules.models.Retrieve import LSH, L2Index\n",
    "    d = 512  # 向量维度\n",
    "    if model == 'L2':\n",
    "        print('执行L2检索部分')\n",
    "        t1 = time()\n",
    "        l2index = L2Index(k=k, d=d)\n",
    "        topk_distence, topk_indices = l2index.search_topk_embeds(database, query)\n",
    "        t2 = time()\n",
    "        print(f'L2: {t2 - t1 : .2f}s')\n",
    "    elif model == 'KNN':\n",
    "        print('执行KNN检索部分')\n",
    "        probs = transfer.retrieve(database, query)\n",
    "        t1 = time()\n",
    "        def numpy_top_k_indices(matrix, k, axis=1):\n",
    "            if axis == 1:  # 处理每行\n",
    "                k = min(k, matrix.shape[1])\n",
    "                indices = np.argsort(matrix, axis=1)[:, -k:][:, ::-1]\n",
    "            elif axis == 0:  # 处理每列\n",
    "                k = min(k, matrix.shape[0])\n",
    "                indices = np.argsort(matrix, axis=0)[-k:, :][::-1, :]\n",
    "            return indices\n",
    "        topk_indices = numpy_top_k_indices(probs, k, 1)\n",
    "        t2 = time()\n",
    "        print(f'KNN: {t2 - t1 : .2f}s')\n",
    "    elif model == 'LSH':\n",
    "        print('执行LSH检索部分')\n",
    "        t1 = time()\n",
    "        lsh = LSH(k=k, d=d, nbits=2048)\n",
    "        topk_distence, topk_indices = lsh.search_topk_embeds(database, query)\n",
    "        t2 = time()\n",
    "        print(f'LSH: {t2 - t1 : .2f}s')\n",
    "    return topk_indices\n"
   ],
   "metadata": {
    "collapsed": false,
    "ExecuteTime": {
     "end_time": "2024-04-22T09:17:50.146613Z",
     "start_time": "2024-04-22T09:17:50.135993Z"
    }
   },
   "id": "bdd2f19caf3f1fb5",
   "execution_count": 22
  },
  {
   "cell_type": "code",
   "outputs": [],
   "source": [
    "\n",
    "def get_all_image():\n",
    "    # 本地化保存\n",
    "    try:\n",
    "        with open('../BigDataSource/Teddy2024/附件3/image_features_问题2.pkl', 'rb') as f:\n",
    "            all_image_features = pickle.load(f)\n",
    "            # torch.load(f, map_location='cpu')\n",
    "    except:\n",
    "        # 获得附件1数据集代码\n",
    "        all_image = os.listdir('../BigDataSource/Teddy2024/附件3/ImageData')\n",
    "\n",
    "        # 获得预训练模型\n",
    "        transfer = Raw2Vector('ViT-B-16', '1', args)\n",
    "\n",
    "        # 准备用多线程代码迅速获得所有图像的张量\n",
    "        from concurrent.futures import ThreadPoolExecutor, as_completed\n",
    "        def function(inputs):\n",
    "            image_name = inputs\n",
    "            image_address = '../BigDataSource/Teddy2024/附件3/ImageData/'\n",
    "            file_name = image_address + image_name\n",
    "            raw_image = Image.open(file_name)\n",
    "            image_tensor = transfer.preprocess(raw_image)\n",
    "            image_features = transfer.image2tensor(image_tensor)\n",
    "            return image_name, image_features\n",
    "\n",
    "        input_list = [image_name for image_name in all_image]\n",
    "        all_image_features = []\n",
    "        with ThreadPoolExecutor(max_workers=16) as executor:\n",
    "            futures = [executor.submit(function, inputs) for inputs in input_list]\n",
    "            for future in tqdm(as_completed(futures), total=len(all_image)):\n",
    "                image_name, image_features = future.result()\n",
    "                all_image_features.append([image_name, image_features.cpu()])\n",
    "        with open('../BigDataSource/Teddy2024/附件3/image_features_问题2.pkl', 'wb') as f:\n",
    "            pickle.dump(all_image_features, f)\n",
    "        print('图像数据预训练并存储完毕!')\n",
    "    return all_image_features\n",
    "\n",
    "def get_all_text():\n",
    "    # 本地化保存\n",
    "    try:\n",
    "        with open('../BigDataSource/Teddy2024/附件3/text_features_问题2.pkl', 'rb') as f:\n",
    "            all_text_features = pickle.load(f)\n",
    "    except:\n",
    "        # 获得附件1数据集代码\n",
    "        all_text = pd.read_csv('../BigDataSource/Teddy2024/附件3/word_data.csv').to_numpy()[:, 1]\n",
    "\n",
    "        # 获得预训练模型\n",
    "        transfer = Raw2Vector('ViT-B-16', '1', args)\n",
    "\n",
    "        # 准备用多线程代码迅速获得所有文本的张量\n",
    "        from concurrent.futures import ThreadPoolExecutor, as_completed\n",
    "        def function(inputs):\n",
    "            raw_text = inputs\n",
    "            text_tensor = clip.tokenize(raw_text).to(args.device)\n",
    "            text_features = transfer.text2tensor(text_tensor)\n",
    "            return raw_text, text_features\n",
    "\n",
    "        input_list = [raw_text for raw_text in all_text]\n",
    "        all_text_features = []\n",
    "        with ThreadPoolExecutor(max_workers=16) as executor:\n",
    "            futures = [executor.submit(function, inputs) for inputs in input_list]\n",
    "            for future in tqdm(as_completed(futures), total=len(all_text)):\n",
    "                raw_text, text_features = future.result()\n",
    "                all_text_features.append([raw_text, text_features.cpu()])\n",
    "        with open('../BigDataSource/Teddy2024/附件3/text_features_问题2.pkl', 'wb') as f:\n",
    "            pickle.dump(all_text_features, f)\n",
    "        print('文本数据预训练并存储完毕!')\n",
    "    return all_text_features"
   ],
   "metadata": {
    "collapsed": false,
    "ExecuteTime": {
     "end_time": "2024-04-22T09:17:50.147728Z",
     "start_time": "2024-04-22T09:17:50.144294Z"
    }
   },
   "id": "db0fd0d22463d474",
   "execution_count": 23
  },
  {
   "cell_type": "code",
   "outputs": [
    {
     "name": "stdout",
     "output_type": "stream",
     "text": [
      "{'experiment': 'Run the experiment now!'}\n",
      "Available models: ['ViT-B-16', 'ViT-L-14', 'ViT-L-14-336', 'ViT-H-14', 'RN50']\n",
      "Loading vision model config from /Users/zengyuxiang/Documents/科研代码/CLIP_finetune/cn_clip/clip/model_configs/ViT-B-16.json\n",
      "Loading text model config from /Users/zengyuxiang/Documents/科研代码/CLIP_finetune/cn_clip/clip/model_configs/RoBERTa-wwm-ext-base-chinese.json\n",
      "Model info {'embed_dim': 512, 'image_resolution': 224, 'vision_layers': 12, 'vision_width': 768, 'vision_patch_size': 16, 'vocab_size': 21128, 'text_attention_probs_dropout_prob': 0.1, 'text_hidden_act': 'gelu', 'text_hidden_dropout_prob': 0.1, 'text_hidden_size': 768, 'text_initializer_range': 0.02, 'text_intermediate_size': 3072, 'text_max_position_embeddings': 512, 'text_num_attention_heads': 12, 'text_num_hidden_layers': 12, 'text_type_vocab_size': 2}\n"
     ]
    }
   ],
   "source": [
    "args = get_config()\n",
    "set_seed(2024)\n",
    "transfer = Raw2Vector('ViT-B-16', '1', args)\n"
   ],
   "metadata": {
    "collapsed": false,
    "ExecuteTime": {
     "end_time": "2024-04-22T09:17:52.365412Z",
     "start_time": "2024-04-22T09:17:50.148815Z"
    }
   },
   "id": "25c28c330497f2d3",
   "execution_count": 24
  },
  {
   "cell_type": "code",
   "outputs": [],
   "source": [
    "# 是否数据清洗\n",
    "# preprocess() \"ImageWordData_new\"\n",
    "\n",
    "# 首先获得所有的特征\n",
    "all_text_features = get_all_text()\n",
    "all_image_features = get_all_image()"
   ],
   "metadata": {
    "collapsed": false,
    "ExecuteTime": {
     "end_time": "2024-04-22T09:17:53.930682Z",
     "start_time": "2024-04-22T09:17:52.366192Z"
    }
   },
   "id": "9a64aeb0920ecb74",
   "execution_count": 25
  },
  {
   "cell_type": "code",
   "outputs": [],
   "source": [],
   "metadata": {
    "collapsed": false,
    "ExecuteTime": {
     "end_time": "2024-04-22T09:17:53.935404Z",
     "start_time": "2024-04-22T09:17:53.931453Z"
    }
   },
   "id": "f1e972e868e58d3d",
   "execution_count": 25
  },
  {
   "cell_type": "code",
   "outputs": [],
   "source": [],
   "metadata": {
    "collapsed": false,
    "ExecuteTime": {
     "end_time": "2024-04-22T09:17:53.936401Z",
     "start_time": "2024-04-22T09:17:53.933747Z"
    }
   },
   "id": "b4e16297e80d27e9",
   "execution_count": 25
  },
  {
   "cell_type": "code",
   "outputs": [],
   "source": [],
   "metadata": {
    "collapsed": false,
    "ExecuteTime": {
     "end_time": "2024-04-22T09:17:53.936877Z",
     "start_time": "2024-04-22T09:17:53.935348Z"
    }
   },
   "id": "d10afdd6534ada6f",
   "execution_count": 25
  },
  {
   "cell_type": "code",
   "outputs": [
    {
     "name": "stderr",
     "output_type": "stream",
     "text": [
      "100%|██████████| 50000/50000 [00:09<00:00, 5026.82it/s] \n",
      "100%|██████████| 5000/5000 [00:00<00:00, 29070.75it/s]\n"
     ]
    }
   ],
   "source": [
    "\n",
    "# 修正序号\n",
    "try:\n",
    "    with open('../BigDataSource/Teddy2024/附件3/image_features_问题2_final.pkl', 'rb') as f:\n",
    "        all_image_features = pickle.load(f)\n",
    "    with open('../BigDataSource/Teddy2024/附件3/text_features_问题2_final.pkl', 'rb') as f:\n",
    "        all_text_features = pickle.load(f)\n",
    "except:\n",
    "    \n",
    "    # 文本部分\n",
    "    text_data = pd.read_csv('../BigDataSource/Teddy2024/附件3/word_data.csv').to_numpy()\n",
    "    all_text_idx = []\n",
    "    for i in range(len(all_text_features)):\n",
    "        all_text_idx.append(all_text_features[i][0])\n",
    "    new_text_features = []\n",
    "    for i in trange(len(text_data)):\n",
    "        # print(text_data[i][1])\n",
    "        text_idx = all_text_idx.index(text_data[i][1])\n",
    "        new_text_features.append([text_data[i][0], text_data[i][1], all_text_features[text_idx][1]])\n",
    "    all_text_features = new_text_features\n",
    "    \n",
    "    with open('../BigDataSource/Teddy2024/附件3/text_features_问题2_final.pkl', 'wb') as f:\n",
    "        pickle.dump(all_text_features, f)\n",
    "        \n",
    "    # 视频部分\n",
    "    image_data = pd.read_csv('../BigDataSource/Teddy2024/附件3/image_test.csv').to_numpy()\n",
    "    all_image_idx = []\n",
    "    new_image_features = []\n",
    "    for i in range(len(all_image_features)):\n",
    "        all_image_idx.append(all_image_features[i][0])\n",
    "    for i in trange(len(image_data)):\n",
    "        image_idx = all_image_idx.index(image_data[i][0])\n",
    "        new_image_features.append([image_data[i][0], all_image_features[image_idx][1]])\n",
    "    with open('../BigDataSource/Teddy2024/附件3/image_features_问题2_final.pkl', 'wb') as f:\n",
    "        pickle.dump(all_image_features, f)\n",
    "    all_image_features = new_image_features\n"
   ],
   "metadata": {
    "collapsed": false,
    "ExecuteTime": {
     "end_time": "2024-04-22T09:18:06.817547Z",
     "start_time": "2024-04-22T09:17:53.940616Z"
    }
   },
   "id": "fb8fb163e423dd2f",
   "execution_count": 26
  },
  {
   "cell_type": "code",
   "outputs": [
    {
     "ename": "KeyboardInterrupt",
     "evalue": "",
     "output_type": "error",
     "traceback": [
      "\u001B[0;31m---------------------------------------------------------------------------\u001B[0m",
      "\u001B[0;31mKeyboardInterrupt\u001B[0m                         Traceback (most recent call last)",
      "\u001B[0;32m<ipython-input-27-d813fe89698d>\u001B[0m in \u001B[0;36m<module>\u001B[0;34m\u001B[0m\n\u001B[0;32m----> 1\u001B[0;31m \u001B[0mnp\u001B[0m\u001B[0;34m.\u001B[0m\u001B[0marray\u001B[0m\u001B[0;34m(\u001B[0m\u001B[0mall_text_features\u001B[0m\u001B[0;34m)\u001B[0m\u001B[0;34m\u001B[0m\u001B[0;34m\u001B[0m\u001B[0m\n\u001B[0m",
      "\u001B[0;32m~/opt/anaconda3/lib/python3.8/site-packages/torch/_tensor.py\u001B[0m in \u001B[0;36m__repr__\u001B[0;34m(self, tensor_contents)\u001B[0m\n\u001B[1;32m    459\u001B[0m             )\n\u001B[1;32m    460\u001B[0m         \u001B[0;31m# All strings are unicode in Python 3.\u001B[0m\u001B[0;34m\u001B[0m\u001B[0;34m\u001B[0m\u001B[0;34m\u001B[0m\u001B[0m\n\u001B[0;32m--> 461\u001B[0;31m         \u001B[0;32mreturn\u001B[0m \u001B[0mtorch\u001B[0m\u001B[0;34m.\u001B[0m\u001B[0m_tensor_str\u001B[0m\u001B[0;34m.\u001B[0m\u001B[0m_str\u001B[0m\u001B[0;34m(\u001B[0m\u001B[0mself\u001B[0m\u001B[0;34m,\u001B[0m \u001B[0mtensor_contents\u001B[0m\u001B[0;34m=\u001B[0m\u001B[0mtensor_contents\u001B[0m\u001B[0;34m)\u001B[0m\u001B[0;34m\u001B[0m\u001B[0;34m\u001B[0m\u001B[0m\n\u001B[0m\u001B[1;32m    462\u001B[0m \u001B[0;34m\u001B[0m\u001B[0m\n\u001B[1;32m    463\u001B[0m     def backward(\n",
      "\u001B[0;32m~/opt/anaconda3/lib/python3.8/site-packages/torch/_tensor_str.py\u001B[0m in \u001B[0;36m_str\u001B[0;34m(self, tensor_contents)\u001B[0m\n\u001B[1;32m    675\u001B[0m     \u001B[0;32mwith\u001B[0m \u001B[0mtorch\u001B[0m\u001B[0;34m.\u001B[0m\u001B[0mno_grad\u001B[0m\u001B[0;34m(\u001B[0m\u001B[0;34m)\u001B[0m\u001B[0;34m,\u001B[0m \u001B[0mtorch\u001B[0m\u001B[0;34m.\u001B[0m\u001B[0mutils\u001B[0m\u001B[0;34m.\u001B[0m\u001B[0m_python_dispatch\u001B[0m\u001B[0;34m.\u001B[0m\u001B[0m_disable_current_modes\u001B[0m\u001B[0;34m(\u001B[0m\u001B[0;34m)\u001B[0m\u001B[0;34m:\u001B[0m\u001B[0;34m\u001B[0m\u001B[0;34m\u001B[0m\u001B[0m\n\u001B[1;32m    676\u001B[0m         \u001B[0mguard\u001B[0m \u001B[0;34m=\u001B[0m \u001B[0mtorch\u001B[0m\u001B[0;34m.\u001B[0m\u001B[0m_C\u001B[0m\u001B[0;34m.\u001B[0m\u001B[0m_DisableFuncTorch\u001B[0m\u001B[0;34m(\u001B[0m\u001B[0;34m)\u001B[0m\u001B[0;34m\u001B[0m\u001B[0;34m\u001B[0m\u001B[0m\n\u001B[0;32m--> 677\u001B[0;31m         \u001B[0;32mreturn\u001B[0m \u001B[0m_str_intern\u001B[0m\u001B[0;34m(\u001B[0m\u001B[0mself\u001B[0m\u001B[0;34m,\u001B[0m \u001B[0mtensor_contents\u001B[0m\u001B[0;34m=\u001B[0m\u001B[0mtensor_contents\u001B[0m\u001B[0;34m)\u001B[0m\u001B[0;34m\u001B[0m\u001B[0;34m\u001B[0m\u001B[0m\n\u001B[0m",
      "\u001B[0;32m~/opt/anaconda3/lib/python3.8/site-packages/torch/_tensor_str.py\u001B[0m in \u001B[0;36m_str_intern\u001B[0;34m(inp, tensor_contents)\u001B[0m\n\u001B[1;32m    595\u001B[0m                         \u001B[0mtensor_str\u001B[0m \u001B[0;34m=\u001B[0m \u001B[0m_tensor_str\u001B[0m\u001B[0;34m(\u001B[0m\u001B[0mself\u001B[0m\u001B[0;34m.\u001B[0m\u001B[0mto_dense\u001B[0m\u001B[0;34m(\u001B[0m\u001B[0;34m)\u001B[0m\u001B[0;34m,\u001B[0m \u001B[0mindent\u001B[0m\u001B[0;34m)\u001B[0m\u001B[0;34m\u001B[0m\u001B[0;34m\u001B[0m\u001B[0m\n\u001B[1;32m    596\u001B[0m                     \u001B[0;32melse\u001B[0m\u001B[0;34m:\u001B[0m\u001B[0;34m\u001B[0m\u001B[0;34m\u001B[0m\u001B[0m\n\u001B[0;32m--> 597\u001B[0;31m                         \u001B[0mtensor_str\u001B[0m \u001B[0;34m=\u001B[0m \u001B[0m_tensor_str\u001B[0m\u001B[0;34m(\u001B[0m\u001B[0mself\u001B[0m\u001B[0;34m,\u001B[0m \u001B[0mindent\u001B[0m\u001B[0;34m)\u001B[0m\u001B[0;34m\u001B[0m\u001B[0;34m\u001B[0m\u001B[0m\n\u001B[0m\u001B[1;32m    598\u001B[0m \u001B[0;34m\u001B[0m\u001B[0m\n\u001B[1;32m    599\u001B[0m     \u001B[0;32mif\u001B[0m \u001B[0mself\u001B[0m\u001B[0;34m.\u001B[0m\u001B[0mlayout\u001B[0m \u001B[0;34m!=\u001B[0m \u001B[0mtorch\u001B[0m\u001B[0;34m.\u001B[0m\u001B[0mstrided\u001B[0m\u001B[0;34m:\u001B[0m\u001B[0;34m\u001B[0m\u001B[0;34m\u001B[0m\u001B[0m\n",
      "\u001B[0;32m~/opt/anaconda3/lib/python3.8/site-packages/torch/_tensor_str.py\u001B[0m in \u001B[0;36m_tensor_str\u001B[0;34m(self, indent)\u001B[0m\n\u001B[1;32m    347\u001B[0m         )\n\u001B[1;32m    348\u001B[0m     \u001B[0;32melse\u001B[0m\u001B[0;34m:\u001B[0m\u001B[0;34m\u001B[0m\u001B[0;34m\u001B[0m\u001B[0m\n\u001B[0;32m--> 349\u001B[0;31m         \u001B[0mformatter\u001B[0m \u001B[0;34m=\u001B[0m \u001B[0m_Formatter\u001B[0m\u001B[0;34m(\u001B[0m\u001B[0mget_summarized_data\u001B[0m\u001B[0;34m(\u001B[0m\u001B[0mself\u001B[0m\u001B[0;34m)\u001B[0m \u001B[0;32mif\u001B[0m \u001B[0msummarize\u001B[0m \u001B[0;32melse\u001B[0m \u001B[0mself\u001B[0m\u001B[0;34m)\u001B[0m\u001B[0;34m\u001B[0m\u001B[0;34m\u001B[0m\u001B[0m\n\u001B[0m\u001B[1;32m    350\u001B[0m         \u001B[0;32mreturn\u001B[0m \u001B[0m_tensor_str_with_formatter\u001B[0m\u001B[0;34m(\u001B[0m\u001B[0mself\u001B[0m\u001B[0;34m,\u001B[0m \u001B[0mindent\u001B[0m\u001B[0;34m,\u001B[0m \u001B[0msummarize\u001B[0m\u001B[0;34m,\u001B[0m \u001B[0mformatter\u001B[0m\u001B[0;34m)\u001B[0m\u001B[0;34m\u001B[0m\u001B[0;34m\u001B[0m\u001B[0m\n\u001B[1;32m    351\u001B[0m \u001B[0;34m\u001B[0m\u001B[0m\n",
      "\u001B[0;32m~/opt/anaconda3/lib/python3.8/site-packages/torch/_tensor_str.py\u001B[0m in \u001B[0;36m__init__\u001B[0;34m(self, tensor)\u001B[0m\n\u001B[1;32m    176\u001B[0m                 ):\n\u001B[1;32m    177\u001B[0m                     \u001B[0mself\u001B[0m\u001B[0;34m.\u001B[0m\u001B[0msci_mode\u001B[0m \u001B[0;34m=\u001B[0m \u001B[0;32mTrue\u001B[0m\u001B[0;34m\u001B[0m\u001B[0;34m\u001B[0m\u001B[0m\n\u001B[0;32m--> 178\u001B[0;31m                     \u001B[0;32mfor\u001B[0m \u001B[0mvalue\u001B[0m \u001B[0;32min\u001B[0m \u001B[0mnonzero_finite_vals\u001B[0m\u001B[0;34m:\u001B[0m\u001B[0;34m\u001B[0m\u001B[0;34m\u001B[0m\u001B[0m\n\u001B[0m\u001B[1;32m    179\u001B[0m                         \u001B[0mvalue_str\u001B[0m \u001B[0;34m=\u001B[0m \u001B[0;34mf\"{{:.{PRINT_OPTS.precision}e}}\"\u001B[0m\u001B[0;34m.\u001B[0m\u001B[0mformat\u001B[0m\u001B[0;34m(\u001B[0m\u001B[0mvalue\u001B[0m\u001B[0;34m)\u001B[0m\u001B[0;34m\u001B[0m\u001B[0;34m\u001B[0m\u001B[0m\n\u001B[1;32m    180\u001B[0m                         \u001B[0mself\u001B[0m\u001B[0;34m.\u001B[0m\u001B[0mmax_width\u001B[0m \u001B[0;34m=\u001B[0m \u001B[0mmax\u001B[0m\u001B[0;34m(\u001B[0m\u001B[0mself\u001B[0m\u001B[0;34m.\u001B[0m\u001B[0mmax_width\u001B[0m\u001B[0;34m,\u001B[0m \u001B[0mlen\u001B[0m\u001B[0;34m(\u001B[0m\u001B[0mvalue_str\u001B[0m\u001B[0;34m)\u001B[0m\u001B[0;34m)\u001B[0m\u001B[0;34m\u001B[0m\u001B[0;34m\u001B[0m\u001B[0m\n",
      "\u001B[0;31mKeyboardInterrupt\u001B[0m: "
     ]
    }
   ],
   "source": [],
   "metadata": {
    "collapsed": false,
    "ExecuteTime": {
     "end_time": "2024-04-22T09:19:16.646514Z",
     "start_time": "2024-04-22T09:18:06.819420Z"
    }
   },
   "id": "46f0be9fb4f5dbf",
   "execution_count": 27
  },
  {
   "cell_type": "code",
   "outputs": [
    {
     "name": "stdout",
     "output_type": "stream",
     "text": [
      "torch.Size([5000, 512])\n",
      "Image14001013-8213.jpg\n",
      "torch.Size([50000, 512])\n",
      "洛阳楼盘 老城区楼盘 道北楼盘 保利<人名>\n"
     ]
    }
   ],
   "source": [
    "\n",
    "# 直接获取张量\n",
    "image_features = []\n",
    "for i in range(len(all_image_features)):\n",
    "    image_features.append(all_image_features[i][1])\n",
    "image_features = torch.stack(image_features).squeeze(1)\n",
    "print(image_features.shape)\n",
    "print(all_image_features[0][0])\n",
    "text_features = []\n",
    "for i in range(len(all_text_features)):\n",
    "    text_features.append(all_text_features[i][2])\n",
    "text_features = torch.stack(text_features).squeeze(1)\n",
    "print(text_features.shape)\n",
    "print(all_text_features[0][1])\n"
   ],
   "metadata": {
    "collapsed": false,
    "ExecuteTime": {
     "end_time": "2024-04-22T09:19:19.293321Z",
     "start_time": "2024-04-22T09:19:19.242250Z"
    }
   },
   "id": "a15c29526d1477a7",
   "execution_count": 28
  },
  {
   "cell_type": "code",
   "outputs": [
    {
     "name": "stdout",
     "output_type": "stream",
     "text": [
      "--------------------------------------------------------------------------------\n",
      "图像检索文本\n",
      "执行L2检索部分\n",
      "L2:  2.12s\n"
     ]
    }
   ],
   "source": [
    "# 图像检索文本\n",
    "print('-' * 80)\n",
    "print('图像检索文本')\n",
    "retrieve_method = 'L2'  # L2 KNN LSH\n",
    "all_pred_rank = high_speed_retreive(image_features, text_features, retrieve_method, 100)"
   ],
   "metadata": {
    "collapsed": false,
    "ExecuteTime": {
     "end_time": "2024-04-22T09:19:21.986379Z",
     "start_time": "2024-04-22T09:19:19.685723Z"
    }
   },
   "id": "3f10a124f5f9d29f",
   "execution_count": 29
  },
  {
   "cell_type": "code",
   "outputs": [
    {
     "data": {
      "text/plain": "array([[2625, 3050, 1584, 3273, 2239],\n       [ 626, 4374, 1031, 1530, 4409],\n       [ 721, 4601,  397, 1725,  347],\n       ...,\n       [3437, 2979,  768, 1283, 4264],\n       [4245, 3247, 1568, 3129, 2707],\n       [2642, 1148, 1681,  379, 3527]])"
     },
     "execution_count": 30,
     "metadata": {},
     "output_type": "execute_result"
    }
   ],
   "source": [
    "all_pred_rank[:, :5]"
   ],
   "metadata": {
    "collapsed": false,
    "ExecuteTime": {
     "end_time": "2024-04-22T09:19:21.991020Z",
     "start_time": "2024-04-22T09:19:21.988517Z"
    }
   },
   "id": "bc20a35fc0095584",
   "execution_count": 30
  },
  {
   "cell_type": "code",
   "outputs": [
    {
     "name": "stdout",
     "output_type": "stream",
     "text": [
      "--------------------------------------------------------------------------------\n",
      "Word-1000050001\n",
      "Image14105001-4209.jpg\n",
      "Image14105002-0128.jpg\n",
      "Image14001015-7681.jpg\n",
      "Image14105002-3035.jpg\n",
      "Image14001016-6410.jpg\n",
      "Image14105003-5600.jpg\n",
      "--------------------------------------------------------------------------------\n",
      "Word-1000050002\n",
      "Image14001014-6338.jpg\n",
      "Image14105003-8121.jpg\n",
      "Image14001015-1205.jpg\n",
      "Image14001015-7023.jpg\n",
      "Image14105003-8764.jpg\n",
      "Image14001015-4578.jpg\n",
      "--------------------------------------------------------------------------------\n",
      "Word-1000050003\n",
      "Image14001014-7361.jpg\n",
      "Image14105004-1311.jpg\n",
      "Image14001014-3471.jpg\n",
      "Image14001015-9660.jpg\n",
      "Image14001014-2784.jpg\n",
      "Image14001015-8968.jpg\n",
      "--------------------------------------------------------------------------------\n",
      "Word-1000050004\n",
      "Image14105003-6963.jpg\n",
      "Image14001015-5164.jpg\n",
      "Image14001014-2703.jpg\n",
      "Image14001014-6942.jpg\n",
      "Image14001016-7163.jpg\n",
      "Image14105003-4856.jpg\n",
      "--------------------------------------------------------------------------------\n",
      "Word-1000050005\n",
      "Image14001016-5884.jpg\n",
      "Image14001014-3695.jpg\n",
      "Image14001013-8333.jpg\n",
      "Image14001014-9515.jpg\n",
      "Image14105003-0516.jpg\n",
      "Image14105004-6236.jpg\n",
      "--------------------------------------------------------------------------------\n",
      "Word-1000050006\n",
      "Image14105003-7116.jpg\n",
      "Image14105002-5873.jpg\n",
      "Image14105002-7011.jpg\n",
      "Image14001015-9615.jpg\n",
      "Image14105002-4777.jpg\n",
      "Image14001015-2292.jpg\n",
      "--------------------------------------------------------------------------------\n",
      "Word-1000050007\n",
      "Image14105002-5270.jpg\n",
      "Image14105004-1329.jpg\n",
      "Image14105003-9131.jpg\n",
      "Image14001016-0560.jpg\n",
      "Image14001015-1043.jpg\n",
      "Image14105002-2829.jpg\n",
      "--------------------------------------------------------------------------------\n",
      "Word-1000050008\n",
      "Image14105002-6321.jpg\n",
      "Image14001015-4902.jpg\n",
      "Image14105001-7199.jpg\n",
      "Image14001015-9871.jpg\n",
      "Image14105002-7240.jpg\n",
      "Image14105003-1483.jpg\n",
      "--------------------------------------------------------------------------------\n",
      "Word-1000050009\n",
      "Image14105003-3776.jpg\n",
      "Image14001014-8789.jpg\n",
      "Image14105002-7341.jpg\n",
      "Image14105001-5156.jpg\n",
      "Image14001014-3141.jpg\n",
      "Image14105004-4030.jpg\n",
      "--------------------------------------------------------------------------------\n",
      "Word-1000050010\n",
      "Image14105004-1513.jpg\n",
      "Image14105003-0590.jpg\n",
      "Image14001014-1304.jpg\n",
      "Image14105002-6681.jpg\n",
      "Image14105004-6136.jpg\n",
      "Image14001015-0292.jpg\n",
      "--------------------------------------------------------------------------------\n",
      "Word-1000050011\n",
      "Image14105004-4462.jpg\n",
      "Image14105004-3749.jpg\n",
      "Image14105002-1049.jpg\n",
      "Image14001014-5576.jpg\n",
      "Image14105001-7333.jpg\n",
      "Image14001016-0717.jpg\n",
      "--------------------------------------------------------------------------------\n",
      "Word-1000050012\n",
      "Image14105002-8865.jpg\n",
      "Image14105001-2745.jpg\n",
      "Image14001013-9391.jpg\n",
      "Image14105002-0243.jpg\n",
      "Image14105004-4624.jpg\n",
      "Image14105001-7825.jpg\n",
      "--------------------------------------------------------------------------------\n",
      "Word-1000050013\n",
      "Image14001016-5226.jpg\n",
      "Image14105004-1085.jpg\n",
      "Image14105002-2552.jpg\n",
      "Image14001013-9509.jpg\n",
      "Image14105004-6318.jpg\n",
      "Image14105003-3176.jpg\n",
      "--------------------------------------------------------------------------------\n",
      "Word-1000050014\n",
      "Image14105001-4127.jpg\n",
      "Image14105003-3524.jpg\n",
      "Image14001015-2916.jpg\n",
      "Image14105004-3941.jpg\n",
      "Image14001015-8886.jpg\n",
      "Image14001014-6767.jpg\n",
      "--------------------------------------------------------------------------------\n",
      "Word-1000050015\n",
      "Image14001015-1865.jpg\n",
      "Image14105004-0162.jpg\n",
      "Image14001015-4638.jpg\n",
      "Image14105003-4579.jpg\n",
      "Image14105004-5454.jpg\n",
      "Image14001016-4576.jpg\n",
      "--------------------------------------------------------------------------------\n",
      "Word-1000050016\n",
      "Image14105003-2743.jpg\n",
      "Image14001014-6007.jpg\n",
      "Image14105002-4843.jpg\n",
      "Image14001014-9952.jpg\n",
      "Image14105002-1164.jpg\n",
      "Image14001016-7098.jpg\n"
     ]
    }
   ],
   "source": [
    "for i in range(len(all_pred_rank)):\n",
    "    print('-' * 80)\n",
    "    print(all_text_features[i][0])\n",
    "    for j in range(len(all_pred_rank[i])):\n",
    "        print(all_image_features[all_pred_rank[i][j]][0])\n",
    "        if j > 4:\n",
    "            break\n",
    "    if i >= 15:\n",
    "        break"
   ],
   "metadata": {
    "collapsed": false,
    "ExecuteTime": {
     "end_time": "2024-04-22T09:19:22.064919Z",
     "start_time": "2024-04-22T09:19:22.052723Z"
    }
   },
   "id": "5c231cbe0643f1cd",
   "execution_count": 31
  },
  {
   "cell_type": "code",
   "outputs": [
    {
     "data": {
      "text/plain": "[['Word-1000050001', 1, 'Image14105001-4209.jpg'],\n ['Word-1000050001', 2, 'Image14105002-0128.jpg'],\n ['Word-1000050001', 3, 'Image14001015-7681.jpg'],\n ['Word-1000050001', 4, 'Image14105002-3035.jpg'],\n ['Word-1000050001', 5, 'Image14001016-6410.jpg'],\n ['Word-1000050002', 1, 'Image14001014-6338.jpg'],\n ['Word-1000050002', 2, 'Image14105003-8121.jpg'],\n ['Word-1000050002', 3, 'Image14001015-1205.jpg'],\n ['Word-1000050002', 4, 'Image14001015-7023.jpg'],\n ['Word-1000050002', 5, 'Image14105003-8764.jpg'],\n ['Word-1000050003', 1, 'Image14001014-7361.jpg'],\n ['Word-1000050003', 2, 'Image14105004-1311.jpg'],\n ['Word-1000050003', 3, 'Image14001014-3471.jpg'],\n ['Word-1000050003', 4, 'Image14001015-9660.jpg'],\n ['Word-1000050003', 5, 'Image14001014-2784.jpg'],\n ['Word-1000050004', 1, 'Image14105003-6963.jpg'],\n ['Word-1000050004', 2, 'Image14001015-5164.jpg'],\n ['Word-1000050004', 3, 'Image14001014-2703.jpg'],\n ['Word-1000050004', 4, 'Image14001014-6942.jpg'],\n ['Word-1000050004', 5, 'Image14001016-7163.jpg'],\n ['Word-1000050005', 1, 'Image14001016-5884.jpg'],\n ['Word-1000050005', 2, 'Image14001014-3695.jpg'],\n ['Word-1000050005', 3, 'Image14001013-8333.jpg'],\n ['Word-1000050005', 4, 'Image14001014-9515.jpg'],\n ['Word-1000050005', 5, 'Image14105003-0516.jpg'],\n ['Word-1000050006', 1, 'Image14105003-7116.jpg'],\n ['Word-1000050006', 2, 'Image14105002-5873.jpg'],\n ['Word-1000050006', 3, 'Image14105002-7011.jpg'],\n ['Word-1000050006', 4, 'Image14001015-9615.jpg'],\n ['Word-1000050006', 5, 'Image14105002-4777.jpg'],\n ['Word-1000050007', 1, 'Image14105002-5270.jpg'],\n ['Word-1000050007', 2, 'Image14105004-1329.jpg'],\n ['Word-1000050007', 3, 'Image14105003-9131.jpg'],\n ['Word-1000050007', 4, 'Image14001016-0560.jpg'],\n ['Word-1000050007', 5, 'Image14001015-1043.jpg'],\n ['Word-1000050008', 1, 'Image14105002-6321.jpg'],\n ['Word-1000050008', 2, 'Image14001015-4902.jpg'],\n ['Word-1000050008', 3, 'Image14105001-7199.jpg'],\n ['Word-1000050008', 4, 'Image14001015-9871.jpg'],\n ['Word-1000050008', 5, 'Image14105002-7240.jpg'],\n ['Word-1000050009', 1, 'Image14105003-3776.jpg'],\n ['Word-1000050009', 2, 'Image14001014-8789.jpg'],\n ['Word-1000050009', 3, 'Image14105002-7341.jpg'],\n ['Word-1000050009', 4, 'Image14105001-5156.jpg'],\n ['Word-1000050009', 5, 'Image14001014-3141.jpg'],\n ['Word-1000050010', 1, 'Image14105004-1513.jpg'],\n ['Word-1000050010', 2, 'Image14105003-0590.jpg'],\n ['Word-1000050010', 3, 'Image14001014-1304.jpg'],\n ['Word-1000050010', 4, 'Image14105002-6681.jpg'],\n ['Word-1000050010', 5, 'Image14105004-6136.jpg'],\n ['Word-1000050011', 1, 'Image14105004-4462.jpg'],\n ['Word-1000050011', 2, 'Image14105004-3749.jpg'],\n ['Word-1000050011', 3, 'Image14105002-1049.jpg'],\n ['Word-1000050011', 4, 'Image14001014-5576.jpg'],\n ['Word-1000050011', 5, 'Image14105001-7333.jpg'],\n ['Word-1000050012', 1, 'Image14105002-8865.jpg'],\n ['Word-1000050012', 2, 'Image14105001-2745.jpg'],\n ['Word-1000050012', 3, 'Image14001013-9391.jpg'],\n ['Word-1000050012', 4, 'Image14105002-0243.jpg'],\n ['Word-1000050012', 5, 'Image14105004-4624.jpg'],\n ['Word-1000050013', 1, 'Image14001016-5226.jpg'],\n ['Word-1000050013', 2, 'Image14105004-1085.jpg'],\n ['Word-1000050013', 3, 'Image14105002-2552.jpg'],\n ['Word-1000050013', 4, 'Image14001013-9509.jpg'],\n ['Word-1000050013', 5, 'Image14105004-6318.jpg'],\n ['Word-1000050014', 1, 'Image14105001-4127.jpg'],\n ['Word-1000050014', 2, 'Image14105003-3524.jpg'],\n ['Word-1000050014', 3, 'Image14001015-2916.jpg'],\n ['Word-1000050014', 4, 'Image14105004-3941.jpg'],\n ['Word-1000050014', 5, 'Image14001015-8886.jpg'],\n ['Word-1000050015', 1, 'Image14001015-1865.jpg'],\n ['Word-1000050015', 2, 'Image14105004-0162.jpg'],\n ['Word-1000050015', 3, 'Image14001015-4638.jpg'],\n ['Word-1000050015', 4, 'Image14105003-4579.jpg'],\n ['Word-1000050015', 5, 'Image14105004-5454.jpg'],\n ['Word-1000050016', 1, 'Image14105003-2743.jpg'],\n ['Word-1000050016', 2, 'Image14001014-6007.jpg'],\n ['Word-1000050016', 3, 'Image14105002-4843.jpg'],\n ['Word-1000050016', 4, 'Image14001014-9952.jpg'],\n ['Word-1000050016', 5, 'Image14105002-1164.jpg'],\n ['Word-1000050017', 1, 'Image14001016-3336.jpg'],\n ['Word-1000050017', 2, 'Image14001015-7717.jpg'],\n ['Word-1000050017', 3, 'Image14001014-7118.jpg'],\n ['Word-1000050017', 4, 'Image14105003-3982.jpg'],\n ['Word-1000050017', 5, 'Image14105004-2946.jpg'],\n ['Word-1000050018', 1, 'Image14105001-8371.jpg'],\n ['Word-1000050018', 2, 'Image14001014-7690.jpg'],\n ['Word-1000050018', 3, 'Image14105004-6223.jpg'],\n ['Word-1000050018', 4, 'Image14105002-6861.jpg'],\n ['Word-1000050018', 5, 'Image14105003-5723.jpg'],\n ['Word-1000050019', 1, 'Image14105004-1329.jpg'],\n ['Word-1000050019', 2, 'Image14001015-5453.jpg'],\n ['Word-1000050019', 3, 'Image14105004-5321.jpg'],\n ['Word-1000050019', 4, 'Image14105004-4187.jpg'],\n ['Word-1000050019', 5, 'Image14001016-4746.jpg'],\n ['Word-1000050020', 1, 'Image14001014-0661.jpg'],\n ['Word-1000050020', 2, 'Image14105003-8657.jpg'],\n ['Word-1000050020', 3, 'Image14001016-3470.jpg'],\n ['Word-1000050020', 4, 'Image14001014-2149.jpg'],\n ['Word-1000050020', 5, 'Image14001015-3674.jpg'],\n ['Word-1000050021', 1, 'Image14001015-3060.jpg'],\n ['Word-1000050021', 2, 'Image14001016-1166.jpg'],\n ['Word-1000050021', 3, 'Image14105003-3310.jpg'],\n ['Word-1000050021', 4, 'Image14105002-5087.jpg'],\n ['Word-1000050021', 5, 'Image14001015-4557.jpg'],\n ['Word-1000050022', 1, 'Image14105002-2737.jpg'],\n ['Word-1000050022', 2, 'Image14001016-1420.jpg'],\n ['Word-1000050022', 3, 'Image14105001-9767.jpg'],\n ['Word-1000050022', 4, 'Image14001015-2887.jpg'],\n ['Word-1000050022', 5, 'Image14105001-5217.jpg'],\n ['Word-1000050023', 1, 'Image14105004-4998.jpg'],\n ['Word-1000050023', 2, 'Image14105003-6489.jpg'],\n ['Word-1000050023', 3, 'Image14105004-1329.jpg'],\n ['Word-1000050023', 4, 'Image14001016-1062.jpg'],\n ['Word-1000050023', 5, 'Image14105001-5063.jpg'],\n ['Word-1000050024', 1, 'Image14105003-0286.jpg'],\n ['Word-1000050024', 2, 'Image14105004-0839.jpg'],\n ['Word-1000050024', 3, 'Image14105001-4172.jpg'],\n ['Word-1000050024', 4, 'Image14001014-9747.jpg'],\n ['Word-1000050024', 5, 'Image14001016-3874.jpg'],\n ['Word-1000050025', 1, 'Image14001015-0932.jpg'],\n ['Word-1000050025', 2, 'Image14105004-4453.jpg'],\n ['Word-1000050025', 3, 'Image14105003-5422.jpg'],\n ['Word-1000050025', 4, 'Image14001014-3826.jpg'],\n ['Word-1000050025', 5, 'Image14001014-7019.jpg'],\n ['Word-1000050026', 1, 'Image14001016-2748.jpg'],\n ['Word-1000050026', 2, 'Image14105003-9755.jpg'],\n ['Word-1000050026', 3, 'Image14105003-4138.jpg'],\n ['Word-1000050026', 4, 'Image14105002-4581.jpg'],\n ['Word-1000050026', 5, 'Image14001016-5315.jpg'],\n ['Word-1000050027', 1, 'Image14001015-3293.jpg'],\n ['Word-1000050027', 2, 'Image14105001-0500.jpg'],\n ['Word-1000050027', 3, 'Image14105002-4870.jpg'],\n ['Word-1000050027', 4, 'Image14001014-8976.jpg'],\n ['Word-1000050027', 5, 'Image14105002-6433.jpg'],\n ['Word-1000050028', 1, 'Image14001016-6462.jpg'],\n ['Word-1000050028', 2, 'Image14105004-4202.jpg'],\n ['Word-1000050028', 3, 'Image14001015-3328.jpg'],\n ['Word-1000050028', 4, 'Image14001016-5713.jpg'],\n ['Word-1000050028', 5, 'Image14001015-3528.jpg'],\n ['Word-1000050029', 1, 'Image14105004-6328.jpg'],\n ['Word-1000050029', 2, 'Image14001014-4118.jpg'],\n ['Word-1000050029', 3, 'Image14001014-3963.jpg'],\n ['Word-1000050029', 4, 'Image14105002-2072.jpg'],\n ['Word-1000050029', 5, 'Image14001016-3594.jpg'],\n ['Word-1000050030', 1, 'Image14001015-7449.jpg'],\n ['Word-1000050030', 2, 'Image14001014-1454.jpg'],\n ['Word-1000050030', 3, 'Image14001015-7580.jpg'],\n ['Word-1000050030', 4, 'Image14105003-4563.jpg'],\n ['Word-1000050030', 5, 'Image14105004-2556.jpg'],\n ['Word-1000050031', 1, 'Image14105002-7989.jpg'],\n ['Word-1000050031', 2, 'Image14105001-4195.jpg'],\n ['Word-1000050031', 3, 'Image14105003-8741.jpg'],\n ['Word-1000050031', 4, 'Image14105002-5333.jpg'],\n ['Word-1000050031', 5, 'Image14105004-1547.jpg'],\n ['Word-1000050032', 1, 'Image14001015-7749.jpg'],\n ['Word-1000050032', 2, 'Image14001015-8617.jpg'],\n ['Word-1000050032', 3, 'Image14001016-4798.jpg'],\n ['Word-1000050032', 4, 'Image14105004-5650.jpg'],\n ['Word-1000050032', 5, 'Image14105002-1051.jpg'],\n ['Word-1000050033', 1, 'Image14001016-2186.jpg'],\n ['Word-1000050033', 2, 'Image14001014-8766.jpg'],\n ['Word-1000050033', 3, 'Image14105001-4801.jpg'],\n ['Word-1000050033', 4, 'Image14001014-9952.jpg'],\n ['Word-1000050033', 5, 'Image14001016-6247.jpg'],\n ['Word-1000050034', 1, 'Image14001014-9208.jpg'],\n ['Word-1000050034', 2, 'Image14001016-2260.jpg'],\n ['Word-1000050034', 3, 'Image14105001-1120.jpg'],\n ['Word-1000050034', 4, 'Image14001015-5440.jpg'],\n ['Word-1000050034', 5, 'Image14001014-4296.jpg'],\n ['Word-1000050035', 1, 'Image14105002-1875.jpg'],\n ['Word-1000050035', 2, 'Image14001015-1409.jpg'],\n ['Word-1000050035', 3, 'Image14105002-4762.jpg'],\n ['Word-1000050035', 4, 'Image14105003-2205.jpg'],\n ['Word-1000050035', 5, 'Image14105002-6674.jpg'],\n ['Word-1000050036', 1, 'Image14001015-0097.jpg'],\n ['Word-1000050036', 2, 'Image14105004-3516.jpg'],\n ['Word-1000050036', 3, 'Image14105002-9612.jpg'],\n ['Word-1000050036', 4, 'Image14001015-7916.jpg'],\n ['Word-1000050036', 5, 'Image14105001-7311.jpg'],\n ['Word-1000050037', 1, 'Image14001016-4636.jpg'],\n ['Word-1000050037', 2, 'Image14105002-3586.jpg'],\n ['Word-1000050037', 3, 'Image14105002-4798.jpg'],\n ['Word-1000050037', 4, 'Image14105002-3023.jpg'],\n ['Word-1000050037', 5, 'Image14001015-7478.jpg'],\n ['Word-1000050038', 1, 'Image14001014-3659.jpg'],\n ['Word-1000050038', 2, 'Image14105004-2350.jpg'],\n ['Word-1000050038', 3, 'Image14001013-9882.jpg'],\n ['Word-1000050038', 4, 'Image14105004-2674.jpg'],\n ['Word-1000050038', 5, 'Image14001013-8350.jpg'],\n ['Word-1000050039', 1, 'Image14001014-7136.jpg'],\n ['Word-1000050039', 2, 'Image14105003-0491.jpg'],\n ['Word-1000050039', 3, 'Image14001016-6672.jpg'],\n ['Word-1000050039', 4, 'Image14105002-2589.jpg'],\n ['Word-1000050039', 5, 'Image14105003-8959.jpg'],\n ['Word-1000050040', 1, 'Image14105003-7440.jpg'],\n ['Word-1000050040', 2, 'Image14001015-7266.jpg'],\n ['Word-1000050040', 3, 'Image14105002-3567.jpg'],\n ['Word-1000050040', 4, 'Image14001016-2815.jpg'],\n ['Word-1000050040', 5, 'Image14105001-7070.jpg'],\n ['Word-1000050041', 1, 'Image14001015-4020.jpg'],\n ['Word-1000050041', 2, 'Image14105003-5873.jpg'],\n ['Word-1000050041', 3, 'Image14105004-2291.jpg'],\n ['Word-1000050041', 4, 'Image14001016-4792.jpg'],\n ['Word-1000050041', 5, 'Image14105002-7521.jpg'],\n ['Word-1000050042', 1, 'Image14001015-1388.jpg'],\n ['Word-1000050042', 2, 'Image14001014-4663.jpg'],\n ['Word-1000050042', 3, 'Image14001016-6353.jpg'],\n ['Word-1000050042', 4, 'Image14001015-7518.jpg'],\n ['Word-1000050042', 5, 'Image14105001-4646.jpg'],\n ['Word-1000050043', 1, 'Image14105004-1173.jpg'],\n ['Word-1000050043', 2, 'Image14105004-0399.jpg'],\n ['Word-1000050043', 3, 'Image14105004-0122.jpg'],\n ['Word-1000050043', 4, 'Image14105001-0792.jpg'],\n ['Word-1000050043', 5, 'Image14001016-5570.jpg'],\n ['Word-1000050044', 1, 'Image14105002-7947.jpg'],\n ['Word-1000050044', 2, 'Image14001014-2025.jpg'],\n ['Word-1000050044', 3, 'Image14001014-2205.jpg'],\n ['Word-1000050044', 4, 'Image14001013-8812.jpg'],\n ['Word-1000050044', 5, 'Image14105004-1329.jpg'],\n ['Word-1000050045', 1, 'Image14001014-3000.jpg'],\n ['Word-1000050045', 2, 'Image14105004-4912.jpg'],\n ['Word-1000050045', 3, 'Image14001015-0601.jpg'],\n ['Word-1000050045', 4, 'Image14001014-8860.jpg'],\n ['Word-1000050045', 5, 'Image14001014-8269.jpg'],\n ['Word-1000050046', 1, 'Image14001016-3560.jpg'],\n ['Word-1000050046', 2, 'Image14105001-9248.jpg'],\n ['Word-1000050046', 3, 'Image14001014-5046.jpg'],\n ['Word-1000050046', 4, 'Image14001015-7749.jpg'],\n ['Word-1000050046', 5, 'Image14001015-3968.jpg'],\n ['Word-1000050047', 1, 'Image14105002-2613.jpg'],\n ['Word-1000050047', 2, 'Image14105001-5217.jpg'],\n ['Word-1000050047', 3, 'Image14105002-2737.jpg'],\n ['Word-1000050047', 4, 'Image14001016-5181.jpg'],\n ['Word-1000050047', 5, 'Image14105002-1246.jpg'],\n ['Word-1000050048', 1, 'Image14105004-2484.jpg'],\n ['Word-1000050048', 2, 'Image14105001-5063.jpg'],\n ['Word-1000050048', 3, 'Image14105001-4022.jpg'],\n ['Word-1000050048', 4, 'Image14105004-2734.jpg'],\n ['Word-1000050048', 5, 'Image14001013-8558.jpg'],\n ['Word-1000050049', 1, 'Image14001015-5655.jpg'],\n ['Word-1000050049', 2, 'Image14001014-6338.jpg'],\n ['Word-1000050049', 3, 'Image14105001-1771.jpg'],\n ['Word-1000050049', 4, 'Image14105004-5310.jpg'],\n ['Word-1000050049', 5, 'Image14105004-6062.jpg'],\n ['Word-1000050050', 1, 'Image14105003-0921.jpg'],\n ['Word-1000050050', 2, 'Image14105004-5862.jpg'],\n ['Word-1000050050', 3, 'Image14105003-1309.jpg'],\n ['Word-1000050050', 4, 'Image14105002-5942.jpg'],\n ['Word-1000050050', 5, 'Image14001015-2902.jpg'],\n ['Word-1000050051', 1, 'Image14001016-4987.jpg'],\n ['Word-1000050051', 2, 'Image14001015-5822.jpg'],\n ['Word-1000050051', 3, 'Image14001016-0318.jpg'],\n ['Word-1000050051', 4, 'Image14105001-7365.jpg'],\n ['Word-1000050051', 5, 'Image14001016-1420.jpg'],\n ['Word-1000050052', 1, 'Image14105003-0578.jpg'],\n ['Word-1000050052', 2, 'Image14105002-1494.jpg'],\n ['Word-1000050052', 3, 'Image14105003-1480.jpg'],\n ['Word-1000050052', 4, 'Image14105002-9829.jpg'],\n ['Word-1000050052', 5, 'Image14105001-4179.jpg'],\n ['Word-1000050053', 1, 'Image14105001-3850.jpg'],\n ['Word-1000050053', 2, 'Image14001016-3617.jpg'],\n ['Word-1000050053', 3, 'Image14001016-3710.jpg'],\n ['Word-1000050053', 4, 'Image14001015-6595.jpg'],\n ['Word-1000050053', 5, 'Image14105002-0072.jpg'],\n ['Word-1000050054', 1, 'Image14001015-9061.jpg'],\n ['Word-1000050054', 2, 'Image14105003-4795.jpg'],\n ['Word-1000050054', 3, 'Image14105002-7915.jpg'],\n ['Word-1000050054', 4, 'Image14105002-3918.jpg'],\n ['Word-1000050054', 5, 'Image14105004-3529.jpg'],\n ['Word-1000050055', 1, 'Image14105001-7577.jpg'],\n ['Word-1000050055', 2, 'Image14105004-2188.jpg'],\n ['Word-1000050055', 3, 'Image14001014-2128.jpg'],\n ['Word-1000050055', 4, 'Image14105002-2348.jpg'],\n ['Word-1000050055', 5, 'Image14001014-0365.jpg'],\n ['Word-1000050056', 1, 'Image14105004-3529.jpg'],\n ['Word-1000050056', 2, 'Image14001015-4681.jpg'],\n ['Word-1000050056', 3, 'Image14105004-4277.jpg'],\n ['Word-1000050056', 4, 'Image14001014-6942.jpg'],\n ['Word-1000050056', 5, 'Image14105003-4856.jpg'],\n ['Word-1000050057', 1, 'Image14001014-1649.jpg'],\n ['Word-1000050057', 2, 'Image14105004-0994.jpg'],\n ['Word-1000050057', 3, 'Image14001015-0175.jpg'],\n ['Word-1000050057', 4, 'Image14001015-8962.jpg'],\n ['Word-1000050057', 5, 'Image14105003-3595.jpg'],\n ['Word-1000050058', 1, 'Image14105001-8186.jpg'],\n ['Word-1000050058', 2, 'Image14001014-6686.jpg'],\n ['Word-1000050058', 3, 'Image14105003-6553.jpg'],\n ['Word-1000050058', 4, 'Image14105001-2271.jpg'],\n ['Word-1000050058', 5, 'Image14001015-9619.jpg'],\n ['Word-1000050059', 1, 'Image14001016-4935.jpg'],\n ['Word-1000050059', 2, 'Image14001015-6850.jpg'],\n ['Word-1000050059', 3, 'Image14001015-7417.jpg'],\n ['Word-1000050059', 4, 'Image14001015-4900.jpg'],\n ['Word-1000050059', 5, 'Image14001015-4395.jpg'],\n ['Word-1000050060', 1, 'Image14105003-5244.jpg'],\n ['Word-1000050060', 2, 'Image14105001-2593.jpg'],\n ['Word-1000050060', 3, 'Image14001015-9660.jpg'],\n ['Word-1000050060', 4, 'Image14105002-2531.jpg'],\n ['Word-1000050060', 5, 'Image14001016-4023.jpg'],\n ['Word-1000050061', 1, 'Image14001015-3963.jpg'],\n ['Word-1000050061', 2, 'Image14001014-7654.jpg'],\n ['Word-1000050061', 3, 'Image14001015-7231.jpg'],\n ['Word-1000050061', 4, 'Image14105001-7311.jpg'],\n ['Word-1000050061', 5, 'Image14105003-4361.jpg'],\n ['Word-1000050062', 1, 'Image14105001-4641.jpg'],\n ['Word-1000050062', 2, 'Image14001015-3349.jpg'],\n ['Word-1000050062', 3, 'Image14105003-2516.jpg'],\n ['Word-1000050062', 4, 'Image14105004-4249.jpg'],\n ['Word-1000050062', 5, 'Image14105002-0774.jpg'],\n ['Word-1000050063', 1, 'Image14001014-5330.jpg'],\n ['Word-1000050063', 2, 'Image14105001-9415.jpg'],\n ['Word-1000050063', 3, 'Image14001015-2292.jpg'],\n ['Word-1000050063', 4, 'Image14001014-2751.jpg'],\n ['Word-1000050063', 5, 'Image14001015-4340.jpg'],\n ['Word-1000050064', 1, 'Image14001015-0499.jpg'],\n ['Word-1000050064', 2, 'Image14105002-8645.jpg'],\n ['Word-1000050064', 3, 'Image14105004-1173.jpg'],\n ['Word-1000050064', 4, 'Image14105001-0975.jpg'],\n ['Word-1000050064', 5, 'Image14001014-1732.jpg'],\n ['Word-1000050065', 1, 'Image14105003-5329.jpg'],\n ['Word-1000050065', 2, 'Image14105002-0497.jpg'],\n ['Word-1000050065', 3, 'Image14105003-7319.jpg'],\n ['Word-1000050065', 4, 'Image14105003-2642.jpg'],\n ['Word-1000050065', 5, 'Image14001014-1857.jpg'],\n ['Word-1000050066', 1, 'Image14105002-8399.jpg'],\n ['Word-1000050066', 2, 'Image14105003-4938.jpg'],\n ['Word-1000050066', 3, 'Image14105003-6495.jpg'],\n ['Word-1000050066', 4, 'Image14105004-2308.jpg'],\n ['Word-1000050066', 5, 'Image14001015-1084.jpg'],\n ['Word-1000050067', 1, 'Image14001014-6382.jpg'],\n ['Word-1000050067', 2, 'Image14105004-4271.jpg'],\n ['Word-1000050067', 3, 'Image14105004-4013.jpg'],\n ['Word-1000050067', 4, 'Image14105004-2146.jpg'],\n ['Word-1000050067', 5, 'Image14105003-7182.jpg'],\n ['Word-1000050068', 1, 'Image14001014-1307.jpg'],\n ['Word-1000050068', 2, 'Image14001016-4746.jpg'],\n ['Word-1000050068', 3, 'Image14105002-6250.jpg'],\n ['Word-1000050068', 4, 'Image14001016-3032.jpg'],\n ['Word-1000050068', 5, 'Image14001015-5453.jpg'],\n ['Word-1000050069', 1, 'Image14105004-4277.jpg'],\n ['Word-1000050069', 2, 'Image14105003-2828.jpg'],\n ['Word-1000050069', 3, 'Image14105004-0074.jpg'],\n ['Word-1000050069', 4, 'Image14105004-4556.jpg'],\n ['Word-1000050069', 5, 'Image14105003-1001.jpg'],\n ['Word-1000050070', 1, 'Image14105003-5143.jpg'],\n ['Word-1000050070', 2, 'Image14001015-4711.jpg'],\n ['Word-1000050070', 3, 'Image14105002-4478.jpg'],\n ['Word-1000050070', 4, 'Image14001016-4612.jpg'],\n ['Word-1000050070', 5, 'Image14001015-2441.jpg'],\n ['Word-1000050071', 1, 'Image14105003-2258.jpg'],\n ['Word-1000050071', 2, 'Image14105003-0131.jpg'],\n ['Word-1000050071', 3, 'Image14001014-6946.jpg'],\n ['Word-1000050071', 4, 'Image14105001-3533.jpg'],\n ['Word-1000050071', 5, 'Image14001016-7459.jpg'],\n ['Word-1000050072', 1, 'Image14105003-5435.jpg'],\n ['Word-1000050072', 2, 'Image14105002-9498.jpg'],\n ['Word-1000050072', 3, 'Image14001014-5175.jpg'],\n ['Word-1000050072', 4, 'Image14001015-1467.jpg'],\n ['Word-1000050072', 5, 'Image14105003-4506.jpg'],\n ['Word-1000050073', 1, 'Image14001016-5157.jpg'],\n ['Word-1000050073', 2, 'Image14105002-9568.jpg'],\n ['Word-1000050073', 3, 'Image14001015-7029.jpg'],\n ['Word-1000050073', 4, 'Image14001014-2337.jpg'],\n ['Word-1000050073', 5, 'Image14105001-7365.jpg'],\n ['Word-1000050074', 1, 'Image14001014-3663.jpg'],\n ['Word-1000050074', 2, 'Image14001015-4962.jpg'],\n ['Word-1000050074', 3, 'Image14001015-7771.jpg'],\n ['Word-1000050074', 4, 'Image14001013-9652.jpg'],\n ['Word-1000050074', 5, 'Image14001016-2156.jpg'],\n ['Word-1000050075', 1, 'Image14105004-4188.jpg'],\n ['Word-1000050075', 2, 'Image14105003-0690.jpg'],\n ['Word-1000050075', 3, 'Image14001014-9050.jpg'],\n ['Word-1000050075', 4, 'Image14105003-6536.jpg'],\n ['Word-1000050075', 5, 'Image14001016-7210.jpg'],\n ['Word-1000050076', 1, 'Image14001014-4482.jpg'],\n ['Word-1000050076', 2, 'Image14001016-6471.jpg'],\n ['Word-1000050076', 3, 'Image14105004-5679.jpg'],\n ['Word-1000050076', 4, 'Image14001014-6597.jpg'],\n ['Word-1000050076', 5, 'Image14105003-6553.jpg'],\n ['Word-1000050077', 1, 'Image14001013-9736.jpg'],\n ['Word-1000050077', 2, 'Image14105003-7194.jpg'],\n ['Word-1000050077', 3, 'Image14001014-8210.jpg'],\n ['Word-1000050077', 4, 'Image14001014-4598.jpg'],\n ['Word-1000050077', 5, 'Image14001014-0769.jpg'],\n ['Word-1000050078', 1, 'Image14001014-8785.jpg'],\n ['Word-1000050078', 2, 'Image14105004-0495.jpg'],\n ['Word-1000050078', 3, 'Image14001015-6170.jpg'],\n ['Word-1000050078', 4, 'Image14001015-0009.jpg'],\n ['Word-1000050078', 5, 'Image14001015-0942.jpg'],\n ['Word-1000050079', 1, 'Image14001014-5583.jpg'],\n ['Word-1000050079', 2, 'Image14001014-5619.jpg'],\n ['Word-1000050079', 3, 'Image14001014-3805.jpg'],\n ['Word-1000050079', 4, 'Image14105003-9368.jpg'],\n ['Word-1000050079', 5, 'Image14001015-6371.jpg'],\n ['Word-1000050080', 1, 'Image14001015-1707.jpg'],\n ['Word-1000050080', 2, 'Image14001015-7653.jpg'],\n ['Word-1000050080', 3, 'Image14105002-7153.jpg'],\n ['Word-1000050080', 4, 'Image14001014-9317.jpg'],\n ['Word-1000050080', 5, 'Image14105001-6735.jpg'],\n ['Word-1000050081', 1, 'Image14105004-6485.jpg'],\n ['Word-1000050081', 2, 'Image14001014-7977.jpg'],\n ['Word-1000050081', 3, 'Image14105004-4106.jpg'],\n ['Word-1000050081', 4, 'Image14105001-9101.jpg'],\n ['Word-1000050081', 5, 'Image14001016-6594.jpg'],\n ['Word-1000050082', 1, 'Image14001016-7288.jpg'],\n ['Word-1000050082', 2, 'Image14001014-6946.jpg'],\n ['Word-1000050082', 3, 'Image14001014-8151.jpg'],\n ['Word-1000050082', 4, 'Image14105003-0131.jpg'],\n ['Word-1000050082', 5, 'Image14001016-2506.jpg'],\n ['Word-1000050083', 1, 'Image14001014-3391.jpg'],\n ['Word-1000050083', 2, 'Image14001014-1935.jpg'],\n ['Word-1000050083', 3, 'Image14001014-1729.jpg'],\n ['Word-1000050083', 4, 'Image14105002-2525.jpg'],\n ['Word-1000050083', 5, 'Image14105001-2355.jpg'],\n ['Word-1000050084', 1, 'Image14001014-7941.jpg'],\n ['Word-1000050084', 2, 'Image14001015-9248.jpg'],\n ['Word-1000050084', 3, 'Image14001015-8668.jpg'],\n ['Word-1000050084', 4, 'Image14001015-6704.jpg'],\n ['Word-1000050084', 5, 'Image14001015-3572.jpg'],\n ['Word-1000050085', 1, 'Image14105001-3004.jpg'],\n ['Word-1000050085', 2, 'Image14001016-2242.jpg'],\n ['Word-1000050085', 3, 'Image14001014-4115.jpg'],\n ['Word-1000050085', 4, 'Image14105002-8687.jpg'],\n ['Word-1000050085', 5, 'Image14001013-9035.jpg'],\n ['Word-1000050086', 1, 'Image14105004-3644.jpg'],\n ['Word-1000050086', 2, 'Image14105001-5350.jpg'],\n ['Word-1000050086', 3, 'Image14105001-6991.jpg'],\n ['Word-1000050086', 4, 'Image14001014-9498.jpg'],\n ['Word-1000050086', 5, 'Image14105001-4793.jpg'],\n ['Word-1000050087', 1, 'Image14001016-6400.jpg'],\n ['Word-1000050087', 2, 'Image14001014-1555.jpg'],\n ['Word-1000050087', 3, 'Image14105002-0774.jpg'],\n ['Word-1000050087', 4, 'Image14001016-3648.jpg'],\n ['Word-1000050087', 5, 'Image14105001-2984.jpg'],\n ['Word-1000050088', 1, 'Image14105001-8163.jpg'],\n ['Word-1000050088', 2, 'Image14001014-4317.jpg'],\n ['Word-1000050088', 3, 'Image14105004-4765.jpg'],\n ['Word-1000050088', 4, 'Image14001015-1526.jpg'],\n ['Word-1000050088', 5, 'Image14105004-1428.jpg'],\n ['Word-1000050089', 1, 'Image14105002-4581.jpg'],\n ['Word-1000050089', 2, 'Image14105003-9619.jpg'],\n ['Word-1000050089', 3, 'Image14105002-9595.jpg'],\n ['Word-1000050089', 4, 'Image14001015-2501.jpg'],\n ['Word-1000050089', 5, 'Image14105004-1401.jpg'],\n ['Word-1000050090', 1, 'Image14105001-9144.jpg'],\n ['Word-1000050090', 2, 'Image14105003-9517.jpg'],\n ['Word-1000050090', 3, 'Image14105001-2398.jpg'],\n ['Word-1000050090', 4, 'Image14105002-4478.jpg'],\n ['Word-1000050090', 5, 'Image14001015-6776.jpg'],\n ['Word-1000050091', 1, 'Image14105001-9928.jpg'],\n ['Word-1000050091', 2, 'Image14001013-8813.jpg'],\n ['Word-1000050091', 3, 'Image14001016-4609.jpg'],\n ['Word-1000050091', 4, 'Image14105003-0690.jpg'],\n ['Word-1000050091', 5, 'Image14105002-0885.jpg'],\n ['Word-1000050092', 1, 'Image14105001-5255.jpg'],\n ['Word-1000050092', 2, 'Image14105001-3025.jpg'],\n ['Word-1000050092', 3, 'Image14105003-2205.jpg'],\n ['Word-1000050092', 4, 'Image14105002-1555.jpg'],\n ['Word-1000050092', 5, 'Image14001015-8099.jpg'],\n ['Word-1000050093', 1, 'Image14001015-3963.jpg'],\n ['Word-1000050093', 2, 'Image14001015-2528.jpg'],\n ['Word-1000050093', 3, 'Image14105002-7627.jpg'],\n ['Word-1000050093', 4, 'Image14001014-5279.jpg'],\n ['Word-1000050093', 5, 'Image14105004-5450.jpg'],\n ['Word-1000050094', 1, 'Image14105002-4109.jpg'],\n ['Word-1000050094', 2, 'Image14001014-9893.jpg'],\n ['Word-1000050094', 3, 'Image14001014-3242.jpg'],\n ['Word-1000050094', 4, 'Image14001016-6810.jpg'],\n ['Word-1000050094', 5, 'Image14105001-4987.jpg'],\n ['Word-1000050095', 1, 'Image14105001-2113.jpg'],\n ['Word-1000050095', 2, 'Image14001016-2414.jpg'],\n ['Word-1000050095', 3, 'Image14105002-0722.jpg'],\n ['Word-1000050095', 4, 'Image14001014-1404.jpg'],\n ['Word-1000050095', 5, 'Image14001016-3718.jpg'],\n ['Word-1000050096', 1, 'Image14105004-3943.jpg'],\n ['Word-1000050096', 2, 'Image14105001-3449.jpg'],\n ['Word-1000050096', 3, 'Image14001015-7523.jpg'],\n ['Word-1000050096', 4, 'Image14001016-6672.jpg'],\n ['Word-1000050096', 5, 'Image14001014-1259.jpg'],\n ['Word-1000050097', 1, 'Image14105001-5278.jpg'],\n ['Word-1000050097', 2, 'Image14001014-6267.jpg'],\n ['Word-1000050097', 3, 'Image14001016-3514.jpg'],\n ['Word-1000050097', 4, 'Image14105001-2916.jpg'],\n ['Word-1000050097', 5, 'Image14105003-0957.jpg'],\n ['Word-1000050098', 1, 'Image14001015-0887.jpg'],\n ['Word-1000050098', 2, 'Image14105002-0644.jpg'],\n ['Word-1000050098', 3, 'Image14001013-9502.jpg'],\n ['Word-1000050098', 4, 'Image14105001-5876.jpg'],\n ['Word-1000050098', 5, 'Image14001014-2751.jpg'],\n ['Word-1000050099', 1, 'Image14105004-6223.jpg'],\n ['Word-1000050099', 2, 'Image14105004-4106.jpg'],\n ['Word-1000050099', 3, 'Image14001015-3993.jpg'],\n ['Word-1000050099', 4, 'Image14001014-7690.jpg'],\n ['Word-1000050099', 5, 'Image14105003-6641.jpg'],\n ['Word-1000050100', 1, 'Image14105001-8562.jpg'],\n ['Word-1000050100', 2, 'Image14105001-0891.jpg'],\n ['Word-1000050100', 3, 'Image14105001-8720.jpg'],\n ['Word-1000050100', 4, 'Image14001016-0692.jpg'],\n ['Word-1000050100', 5, 'Image14105002-2371.jpg'],\n ['Word-1000050101', 1, 'Image14105003-2833.jpg'],\n ['Word-1000050101', 2, 'Image14001016-0082.jpg'],\n ['Word-1000050101', 3, 'Image14105003-2516.jpg'],\n ['Word-1000050101', 4, 'Image14105001-5702.jpg'],\n ['Word-1000050101', 5, 'Image14001015-4687.jpg'],\n ['Word-1000050102', 1, 'Image14001015-4783.jpg'],\n ['Word-1000050102', 2, 'Image14001015-8980.jpg'],\n ['Word-1000050102', 3, 'Image14105004-0075.jpg'],\n ['Word-1000050102', 4, 'Image14001016-4898.jpg'],\n ['Word-1000050102', 5, 'Image14105004-5536.jpg'],\n ['Word-1000050103', 1, 'Image14105004-0994.jpg'],\n ['Word-1000050103', 2, 'Image14001015-0175.jpg'],\n ['Word-1000050103', 3, 'Image14001016-0083.jpg'],\n ['Word-1000050103', 4, 'Image14001015-3056.jpg'],\n ['Word-1000050103', 5, 'Image14001014-0275.jpg'],\n ['Word-1000050104', 1, 'Image14105003-8941.jpg'],\n ['Word-1000050104', 2, 'Image14001015-0722.jpg'],\n ['Word-1000050104', 3, 'Image14105001-6547.jpg'],\n ['Word-1000050104', 4, 'Image14001015-2358.jpg'],\n ['Word-1000050104', 5, 'Image14105001-4793.jpg'],\n ['Word-1000050105', 1, 'Image14001014-2079.jpg'],\n ['Word-1000050105', 2, 'Image14105002-0892.jpg'],\n ['Word-1000050105', 3, 'Image14105004-6113.jpg'],\n ['Word-1000050105', 4, 'Image14001016-1804.jpg'],\n ['Word-1000050105', 5, 'Image14105002-8384.jpg'],\n ['Word-1000050106', 1, 'Image14001015-8241.jpg'],\n ['Word-1000050106', 2, 'Image14001014-5576.jpg'],\n ['Word-1000050106', 3, 'Image14105003-9684.jpg'],\n ['Word-1000050106', 4, 'Image14105002-0456.jpg'],\n ['Word-1000050106', 5, 'Image14105002-8766.jpg'],\n ['Word-1000050107', 1, 'Image14001015-8886.jpg'],\n ['Word-1000050107', 2, 'Image14105002-1225.jpg'],\n ['Word-1000050107', 3, 'Image14105001-5913.jpg'],\n ['Word-1000050107', 4, 'Image14001014-6767.jpg'],\n ['Word-1000050107', 5, 'Image14105001-8065.jpg'],\n ['Word-1000050108', 1, 'Image14001015-4427.jpg'],\n ['Word-1000050108', 2, 'Image14001014-7019.jpg'],\n ['Word-1000050108', 3, 'Image14105003-9377.jpg'],\n ['Word-1000050108', 4, 'Image14001014-2440.jpg'],\n ['Word-1000050108', 5, 'Image14105002-6115.jpg'],\n ['Word-1000050109', 1, 'Image14105003-9392.jpg'],\n ['Word-1000050109', 2, 'Image14105001-8562.jpg'],\n ['Word-1000050109', 3, 'Image14001015-3170.jpg'],\n ['Word-1000050109', 4, 'Image14105001-0891.jpg'],\n ['Word-1000050109', 5, 'Image14001015-0887.jpg'],\n ['Word-1000050110', 1, 'Image14105001-8646.jpg'],\n ['Word-1000050110', 2, 'Image14001014-7717.jpg'],\n ['Word-1000050110', 3, 'Image14001014-5734.jpg'],\n ['Word-1000050110', 4, 'Image14105001-1175.jpg'],\n ['Word-1000050110', 5, 'Image14105001-0082.jpg'],\n ['Word-1000050111', 1, 'Image14001015-3145.jpg'],\n ['Word-1000050111', 2, 'Image14105003-7041.jpg'],\n ['Word-1000050111', 3, 'Image14105002-6685.jpg'],\n ['Word-1000050111', 4, 'Image14105002-7706.jpg'],\n ['Word-1000050111', 5, 'Image14105002-0797.jpg'],\n ['Word-1000050112', 1, 'Image14001015-0562.jpg'],\n ['Word-1000050112', 2, 'Image14001014-3370.jpg'],\n ['Word-1000050112', 3, 'Image14105004-1513.jpg'],\n ['Word-1000050112', 4, 'Image14001016-3690.jpg'],\n ['Word-1000050112', 5, 'Image14105002-3086.jpg'],\n ['Word-1000050113', 1, 'Image14001014-3078.jpg'],\n ['Word-1000050113', 2, 'Image14105003-0736.jpg'],\n ['Word-1000050113', 3, 'Image14001015-7490.jpg'],\n ['Word-1000050113', 4, 'Image14001014-2472.jpg'],\n ['Word-1000050113', 5, 'Image14105004-1070.jpg'],\n ['Word-1000050114', 1, 'Image14001014-8345.jpg'],\n ['Word-1000050114', 2, 'Image14105003-0850.jpg'],\n ['Word-1000050114', 3, 'Image14001015-7024.jpg'],\n ['Word-1000050114', 4, 'Image14105004-4685.jpg'],\n ['Word-1000050114', 5, 'Image14001015-0883.jpg'],\n ['Word-1000050115', 1, 'Image14105001-6685.jpg'],\n ['Word-1000050115', 2, 'Image14105002-8514.jpg'],\n ['Word-1000050115', 3, 'Image14105003-9684.jpg'],\n ['Word-1000050115', 4, 'Image14001015-9824.jpg'],\n ['Word-1000050115', 5, 'Image14105001-0006.jpg'],\n ['Word-1000050116', 1, 'Image14105002-9594.jpg'],\n ['Word-1000050116', 2, 'Image14105001-3825.jpg'],\n ['Word-1000050116', 3, 'Image14105003-3982.jpg'],\n ['Word-1000050116', 4, 'Image14001016-3594.jpg'],\n ['Word-1000050116', 5, 'Image14105001-5425.jpg'],\n ['Word-1000050117', 1, 'Image14001014-5514.jpg'],\n ['Word-1000050117', 2, 'Image14105003-8390.jpg'],\n ['Word-1000050117', 3, 'Image14001016-6514.jpg'],\n ['Word-1000050117', 4, 'Image14001014-6904.jpg'],\n ['Word-1000050117', 5, 'Image14105001-9096.jpg'],\n ['Word-1000050118', 1, 'Image14105003-6963.jpg'],\n ['Word-1000050118', 2, 'Image14105001-1505.jpg'],\n ['Word-1000050118', 3, 'Image14105003-4856.jpg'],\n ['Word-1000050118', 4, 'Image14001014-4118.jpg'],\n ['Word-1000050118', 5, 'Image14001016-5147.jpg'],\n ['Word-1000050119', 1, 'Image14001013-9742.jpg'],\n ['Word-1000050119', 2, 'Image14001013-8413.jpg'],\n ['Word-1000050119', 3, 'Image14105001-4794.jpg'],\n ['Word-1000050119', 4, 'Image14105002-5008.jpg'],\n ['Word-1000050119', 5, 'Image14001014-4558.jpg'],\n ['Word-1000050120', 1, 'Image14001014-7130.jpg'],\n ['Word-1000050120', 2, 'Image14001014-6627.jpg'],\n ['Word-1000050120', 3, 'Image14105002-6570.jpg'],\n ['Word-1000050120', 4, 'Image14001015-4600.jpg'],\n ['Word-1000050120', 5, 'Image14105003-2253.jpg'],\n ['Word-1000050121', 1, 'Image14105002-9960.jpg'],\n ['Word-1000050121', 2, 'Image14105001-3134.jpg'],\n ['Word-1000050121', 3, 'Image14001015-0471.jpg'],\n ['Word-1000050121', 4, 'Image14001015-6453.jpg'],\n ['Word-1000050121', 5, 'Image14001013-9802.jpg'],\n ['Word-1000050122', 1, 'Image14105001-8186.jpg'],\n ['Word-1000050122', 2, 'Image14105003-5937.jpg'],\n ['Word-1000050122', 3, 'Image14001014-6473.jpg'],\n ['Word-1000050122', 4, 'Image14105002-8743.jpg'],\n ['Word-1000050122', 5, 'Image14105001-2271.jpg'],\n ['Word-1000050123', 1, 'Image14001016-6454.jpg'],\n ['Word-1000050123', 2, 'Image14105001-7930.jpg'],\n ['Word-1000050123', 3, 'Image14001015-4968.jpg'],\n ['Word-1000050123', 4, 'Image14105003-6742.jpg'],\n ['Word-1000050123', 5, 'Image14105004-2567.jpg'],\n ['Word-1000050124', 1, 'Image14105002-7744.jpg'],\n ['Word-1000050124', 2, 'Image14001014-4119.jpg'],\n ['Word-1000050124', 3, 'Image14001016-5309.jpg'],\n ['Word-1000050124', 4, 'Image14105001-8932.jpg'],\n ['Word-1000050124', 5, 'Image14105003-5630.jpg'],\n ['Word-1000050125', 1, 'Image14001014-2702.jpg'],\n ['Word-1000050125', 2, 'Image14001015-2244.jpg'],\n ['Word-1000050125', 3, 'Image14105003-0470.jpg'],\n ['Word-1000050125', 4, 'Image14105001-0684.jpg'],\n ['Word-1000050125', 5, 'Image14105001-7285.jpg'],\n ['Word-1000050126', 1, 'Image14105003-5562.jpg'],\n ['Word-1000050126', 2, 'Image14001016-1301.jpg'],\n ['Word-1000050126', 3, 'Image14001016-3745.jpg'],\n ['Word-1000050126', 4, 'Image14105004-1899.jpg'],\n ['Word-1000050126', 5, 'Image14105003-5071.jpg'],\n ['Word-1000050127', 1, 'Image14001014-2506.jpg'],\n ['Word-1000050127', 2, 'Image14105001-2516.jpg'],\n ['Word-1000050127', 3, 'Image14001015-2302.jpg'],\n ['Word-1000050127', 4, 'Image14105001-9359.jpg'],\n ['Word-1000050127', 5, 'Image14001015-6355.jpg'],\n ['Word-1000050128', 1, 'Image14105002-7569.jpg'],\n ['Word-1000050128', 2, 'Image14105004-1566.jpg'],\n ['Word-1000050128', 3, 'Image14105002-2659.jpg'],\n ['Word-1000050128', 4, 'Image14001015-5856.jpg'],\n ['Word-1000050128', 5, 'Image14001014-2702.jpg'],\n ['Word-1000050129', 1, 'Image14105001-1428.jpg'],\n ['Word-1000050129', 2, 'Image14001015-1471.jpg'],\n ['Word-1000050129', 3, 'Image14105001-3870.jpg'],\n ['Word-1000050129', 4, 'Image14105004-4010.jpg'],\n ['Word-1000050129', 5, 'Image14001014-1999.jpg'],\n ['Word-1000050130', 1, 'Image14105003-1485.jpg'],\n ['Word-1000050130', 2, 'Image14001015-1984.jpg'],\n ['Word-1000050130', 3, 'Image14105001-7923.jpg'],\n ['Word-1000050130', 4, 'Image14105002-7982.jpg'],\n ['Word-1000050130', 5, 'Image14105002-0072.jpg'],\n ['Word-1000050131', 1, 'Image14105003-6643.jpg'],\n ['Word-1000050131', 2, 'Image14105004-5214.jpg'],\n ['Word-1000050131', 3, 'Image14105002-1419.jpg'],\n ['Word-1000050131', 4, 'Image14105002-3534.jpg'],\n ['Word-1000050131', 5, 'Image14105003-0384.jpg'],\n ['Word-1000050132', 1, 'Image14105004-3176.jpg'],\n ['Word-1000050132', 2, 'Image14105003-8085.jpg'],\n ['Word-1000050132', 3, 'Image14001014-7804.jpg'],\n ['Word-1000050132', 4, 'Image14001016-5243.jpg'],\n ['Word-1000050132', 5, 'Image14105004-5705.jpg'],\n ['Word-1000050133', 1, 'Image14105002-3892.jpg'],\n ['Word-1000050133', 2, 'Image14105002-2343.jpg'],\n ['Word-1000050133', 3, 'Image14105004-6136.jpg'],\n ['Word-1000050133', 4, 'Image14001014-6711.jpg'],\n ['Word-1000050133', 5, 'Image14001015-2262.jpg'],\n ['Word-1000050134', 1, 'Image14001014-9663.jpg'],\n ['Word-1000050134', 2, 'Image14105003-9891.jpg'],\n ['Word-1000050134', 3, 'Image14105002-4163.jpg'],\n ['Word-1000050134', 4, 'Image14105001-7309.jpg'],\n ['Word-1000050134', 5, 'Image14105003-4556.jpg'],\n ['Word-1000050135', 1, 'Image14001015-9170.jpg'],\n ['Word-1000050135', 2, 'Image14001015-5520.jpg'],\n ['Word-1000050135', 3, 'Image14001014-9573.jpg'],\n ['Word-1000050135', 4, 'Image14001014-9380.jpg'],\n ['Word-1000050135', 5, 'Image14001016-2085.jpg'],\n ['Word-1000050136', 1, 'Image14001016-7090.jpg'],\n ['Word-1000050136', 2, 'Image14105004-0783.jpg'],\n ['Word-1000050136', 3, 'Image14001016-2760.jpg'],\n ['Word-1000050136', 4, 'Image14001014-9830.jpg'],\n ['Word-1000050136', 5, 'Image14001015-9230.jpg'],\n ['Word-1000050137', 1, 'Image14001014-8770.jpg'],\n ['Word-1000050137', 2, 'Image14105001-2113.jpg'],\n ['Word-1000050137', 3, 'Image14105003-6345.jpg'],\n ['Word-1000050137', 4, 'Image14001015-2928.jpg'],\n ['Word-1000050137', 5, 'Image14001015-4181.jpg'],\n ['Word-1000050138', 1, 'Image14001016-0901.jpg'],\n ['Word-1000050138', 2, 'Image14001014-7480.jpg'],\n ['Word-1000050138', 3, 'Image14105001-1596.jpg'],\n ['Word-1000050138', 4, 'Image14105004-1969.jpg'],\n ['Word-1000050138', 5, 'Image14001014-5792.jpg'],\n ['Word-1000050139', 1, 'Image14105002-4478.jpg'],\n ['Word-1000050139', 2, 'Image14001015-4711.jpg'],\n ['Word-1000050139', 3, 'Image14105001-1534.jpg'],\n ['Word-1000050139', 4, 'Image14105002-4329.jpg'],\n ['Word-1000050139', 5, 'Image14105001-6381.jpg'],\n ['Word-1000050140', 1, 'Image14105002-6785.jpg'],\n ['Word-1000050140', 2, 'Image14001014-3685.jpg'],\n ['Word-1000050140', 3, 'Image14001014-8294.jpg'],\n ['Word-1000050140', 4, 'Image14105004-1329.jpg'],\n ['Word-1000050140', 5, 'Image14001014-0610.jpg'],\n ['Word-1000050141', 1, 'Image14105002-9121.jpg'],\n ['Word-1000050141', 2, 'Image14001015-3056.jpg'],\n ['Word-1000050141', 3, 'Image14105001-6017.jpg'],\n ['Word-1000050141', 4, 'Image14001014-1488.jpg'],\n ['Word-1000050141', 5, 'Image14105004-0150.jpg'],\n ['Word-1000050142', 1, 'Image14001015-0586.jpg'],\n ['Word-1000050142', 2, 'Image14105001-0996.jpg'],\n ['Word-1000050142', 3, 'Image14001015-5619.jpg'],\n ['Word-1000050142', 4, 'Image14105002-8804.jpg'],\n ['Word-1000050142', 5, 'Image14001014-1307.jpg'],\n ['Word-1000050143', 1, 'Image14105003-0542.jpg'],\n ['Word-1000050143', 2, 'Image14001014-3046.jpg'],\n ['Word-1000050143', 3, 'Image14105003-0006.jpg'],\n ['Word-1000050143', 4, 'Image14105004-3516.jpg'],\n ['Word-1000050143', 5, 'Image14105004-3883.jpg'],\n ['Word-1000050144', 1, 'Image14001015-2867.jpg'],\n ['Word-1000050144', 2, 'Image14105002-7934.jpg'],\n ['Word-1000050144', 3, 'Image14105002-4142.jpg'],\n ['Word-1000050144', 4, 'Image14105004-0399.jpg'],\n ['Word-1000050144', 5, 'Image14001016-1365.jpg'],\n ['Word-1000050145', 1, 'Image14105003-0144.jpg'],\n ['Word-1000050145', 2, 'Image14105002-1827.jpg'],\n ['Word-1000050145', 3, 'Image14105002-6343.jpg'],\n ['Word-1000050145', 4, 'Image14105002-4222.jpg'],\n ['Word-1000050145', 5, 'Image14001016-7364.jpg'],\n ['Word-1000050146', 1, 'Image14105004-3628.jpg'],\n ['Word-1000050146', 2, 'Image14105003-1498.jpg'],\n ['Word-1000050146', 3, 'Image14001013-9736.jpg'],\n ['Word-1000050146', 4, 'Image14105002-1994.jpg'],\n ['Word-1000050146', 5, 'Image14105002-8209.jpg'],\n ['Word-1000050147', 1, 'Image14105002-1298.jpg'],\n ['Word-1000050147', 2, 'Image14105001-5843.jpg'],\n ['Word-1000050147', 3, 'Image14105004-2393.jpg'],\n ['Word-1000050147', 4, 'Image14105001-1264.jpg'],\n ['Word-1000050147', 5, 'Image14105002-4368.jpg'],\n ['Word-1000050148', 1, 'Image14105003-0125.jpg'],\n ['Word-1000050148', 2, 'Image14105001-0865.jpg'],\n ['Word-1000050148', 3, 'Image14105001-0020.jpg'],\n ['Word-1000050148', 4, 'Image14001014-6686.jpg'],\n ['Word-1000050148', 5, 'Image14001015-5164.jpg'],\n ['Word-1000050149', 1, 'Image14105002-6237.jpg'],\n ['Word-1000050149', 2, 'Image14001015-4600.jpg'],\n ['Word-1000050149', 3, 'Image14105002-5153.jpg'],\n ['Word-1000050149', 4, 'Image14105003-0735.jpg'],\n ['Word-1000050149', 5, 'Image14001014-5070.jpg'],\n ['Word-1000050150', 1, 'Image14105003-5226.jpg'],\n ['Word-1000050150', 2, 'Image14105004-5818.jpg'],\n ['Word-1000050150', 3, 'Image14001014-9152.jpg'],\n ['Word-1000050150', 4, 'Image14105002-3482.jpg'],\n ['Word-1000050150', 5, 'Image14001015-4585.jpg'],\n ['Word-1000050151', 1, 'Image14105002-3534.jpg'],\n ['Word-1000050151', 2, 'Image14001015-5395.jpg'],\n ['Word-1000050151', 3, 'Image14105001-4010.jpg'],\n ['Word-1000050151', 4, 'Image14105004-1161.jpg'],\n ['Word-1000050151', 5, 'Image14001016-5893.jpg'],\n ['Word-1000050152', 1, 'Image14001016-6102.jpg'],\n ['Word-1000050152', 2, 'Image14001015-6170.jpg'],\n ['Word-1000050152', 3, 'Image14105002-0797.jpg'],\n ['Word-1000050152', 4, 'Image14105004-0864.jpg'],\n ['Word-1000050152', 5, 'Image14105004-3529.jpg'],\n ['Word-1000050153', 1, 'Image14105004-6113.jpg'],\n ['Word-1000050153', 2, 'Image14105001-5381.jpg'],\n ['Word-1000050153', 3, 'Image14001014-2079.jpg'],\n ['Word-1000050153', 4, 'Image14001015-4341.jpg'],\n ['Word-1000050153', 5, 'Image14105003-3846.jpg'],\n ['Word-1000050154', 1, 'Image14105001-0234.jpg'],\n ['Word-1000050154', 2, 'Image14105003-1080.jpg'],\n ['Word-1000050154', 3, 'Image14001016-5561.jpg'],\n ['Word-1000050154', 4, 'Image14105001-5966.jpg'],\n ['Word-1000050154', 5, 'Image14001013-9958.jpg'],\n ['Word-1000050155', 1, 'Image14001015-7266.jpg'],\n ['Word-1000050155', 2, 'Image14001014-7492.jpg'],\n ['Word-1000050155', 3, 'Image14105001-0574.jpg'],\n ['Word-1000050155', 4, 'Image14001013-8379.jpg'],\n ['Word-1000050155', 5, 'Image14105003-7440.jpg'],\n ['Word-1000050156', 1, 'Image14001014-7692.jpg'],\n ['Word-1000050156', 2, 'Image14105001-3134.jpg'],\n ['Word-1000050156', 3, 'Image14001014-3512.jpg'],\n ['Word-1000050156', 4, 'Image14105002-8567.jpg'],\n ['Word-1000050156', 5, 'Image14001014-6227.jpg'],\n ['Word-1000050157', 1, 'Image14001014-5935.jpg'],\n ['Word-1000050157', 2, 'Image14001016-1398.jpg'],\n ['Word-1000050157', 3, 'Image14105002-7724.jpg'],\n ['Word-1000050157', 4, 'Image14001014-6792.jpg'],\n ['Word-1000050157', 5, 'Image14105002-9995.jpg'],\n ['Word-1000050158', 1, 'Image14001014-2308.jpg'],\n ['Word-1000050158', 2, 'Image14001015-9486.jpg'],\n ['Word-1000050158', 3, 'Image14001015-1143.jpg'],\n ['Word-1000050158', 4, 'Image14105002-2070.jpg'],\n ['Word-1000050158', 5, 'Image14001014-5158.jpg'],\n ['Word-1000050159', 1, 'Image14001015-1940.jpg'],\n ['Word-1000050159', 2, 'Image14001015-5742.jpg'],\n ['Word-1000050159', 3, 'Image14001015-7580.jpg'],\n ['Word-1000050159', 4, 'Image14001015-8960.jpg'],\n ['Word-1000050159', 5, 'Image14105002-2510.jpg'],\n ['Word-1000050160', 1, 'Image14105001-0707.jpg'],\n ['Word-1000050160', 2, 'Image14105003-3595.jpg'],\n ['Word-1000050160', 3, 'Image14105003-4407.jpg'],\n ['Word-1000050160', 4, 'Image14001015-4557.jpg'],\n ['Word-1000050160', 5, 'Image14105001-6492.jpg'],\n ['Word-1000050161', 1, 'Image14001015-0153.jpg'],\n ['Word-1000050161', 2, 'Image14001013-9430.jpg'],\n ['Word-1000050161', 3, 'Image14001014-6992.jpg'],\n ['Word-1000050161', 4, 'Image14105001-9764.jpg'],\n ['Word-1000050161', 5, 'Image14001015-2191.jpg'],\n ['Word-1000050162', 1, 'Image14105004-0364.jpg'],\n ['Word-1000050162', 2, 'Image14105004-3996.jpg'],\n ['Word-1000050162', 3, 'Image14105002-6379.jpg'],\n ['Word-1000050162', 4, 'Image14105001-3844.jpg'],\n ['Word-1000050162', 5, 'Image14001014-0139.jpg'],\n ['Word-1000050163', 1, 'Image14001014-8269.jpg'],\n ['Word-1000050163', 2, 'Image14001014-3471.jpg'],\n ['Word-1000050163', 3, 'Image14105001-8468.jpg'],\n ['Word-1000050163', 4, 'Image14105003-0986.jpg'],\n ['Word-1000050163', 5, 'Image14001016-5086.jpg'],\n ['Word-1000050164', 1, 'Image14105003-0491.jpg'],\n ['Word-1000050164', 2, 'Image14001016-5713.jpg'],\n ['Word-1000050164', 3, 'Image14105002-0497.jpg'],\n ['Word-1000050164', 4, 'Image14105003-6266.jpg'],\n ['Word-1000050164', 5, 'Image14001015-0801.jpg'],\n ['Word-1000050165', 1, 'Image14105003-1083.jpg'],\n ['Word-1000050165', 2, 'Image14001016-2395.jpg'],\n ['Word-1000050165', 3, 'Image14105004-0497.jpg'],\n ['Word-1000050165', 4, 'Image14001015-9630.jpg'],\n ['Word-1000050165', 5, 'Image14105004-3639.jpg'],\n ['Word-1000050166', 1, 'Image14105004-0075.jpg'],\n ['Word-1000050166', 2, 'Image14105004-6439.jpg'],\n ['Word-1000050166', 3, 'Image14001015-8980.jpg'],\n ['Word-1000050166', 4, 'Image14105002-2957.jpg'],\n ['Word-1000050166', 5, 'Image14001014-2472.jpg'],\n ['Word-1000050167', 1, 'Image14105002-3449.jpg'],\n ['Word-1000050167', 2, 'Image14105003-3100.jpg'],\n ['Word-1000050167', 3, 'Image14105003-7729.jpg'],\n ['Word-1000050167', 4, 'Image14105001-3850.jpg'],\n ['Word-1000050167', 5, 'Image14001016-6745.jpg'],\n ['Word-1000050168', 1, 'Image14001014-9074.jpg'],\n ['Word-1000050168', 2, 'Image14105001-1761.jpg'],\n ['Word-1000050168', 3, 'Image14105003-9049.jpg'],\n ['Word-1000050168', 4, 'Image14105004-4202.jpg'],\n ['Word-1000050168', 5, 'Image14105001-1229.jpg'],\n ['Word-1000050169', 1, 'Image14001015-9734.jpg'],\n ['Word-1000050169', 2, 'Image14001015-2902.jpg'],\n ['Word-1000050169', 3, 'Image14105001-0092.jpg'],\n ['Word-1000050169', 4, 'Image14105001-9657.jpg'],\n ['Word-1000050169', 5, 'Image14001015-3575.jpg'],\n ['Word-1000050170', 1, 'Image14001015-7597.jpg'],\n ['Word-1000050170', 2, 'Image14105002-9512.jpg'],\n ['Word-1000050170', 3, 'Image14105002-8246.jpg'],\n ['Word-1000050170', 4, 'Image14001015-1467.jpg'],\n ['Word-1000050170', 5, 'Image14105003-2572.jpg'],\n ['Word-1000050171', 1, 'Image14105004-3639.jpg'],\n ['Word-1000050171', 2, 'Image14105002-3770.jpg'],\n ['Word-1000050171', 3, 'Image14001016-6696.jpg'],\n ['Word-1000050171', 4, 'Image14105003-1684.jpg'],\n ['Word-1000050171', 5, 'Image14105003-7440.jpg'],\n ['Word-1000050172', 1, 'Image14001015-0831.jpg'],\n ['Word-1000050172', 2, 'Image14105001-2593.jpg'],\n ['Word-1000050172', 3, 'Image14001016-5765.jpg'],\n ['Word-1000050172', 4, 'Image14105003-2183.jpg'],\n ['Word-1000050172', 5, 'Image14001014-0804.jpg'],\n ['Word-1000050173', 1, 'Image14001015-2717.jpg'],\n ['Word-1000050173', 2, 'Image14001016-2483.jpg'],\n ['Word-1000050173', 3, 'Image14105002-6058.jpg'],\n ['Word-1000050173', 4, 'Image14105002-0093.jpg'],\n ['Word-1000050173', 5, 'Image14105002-8818.jpg'],\n ['Word-1000050174', 1, 'Image14001014-5804.jpg'],\n ['Word-1000050174', 2, 'Image14105001-7251.jpg'],\n ['Word-1000050174', 3, 'Image14001014-8004.jpg'],\n ['Word-1000050174', 4, 'Image14105003-4074.jpg'],\n ['Word-1000050174', 5, 'Image14001016-5034.jpg'],\n ['Word-1000050175', 1, 'Image14001014-5823.jpg'],\n ['Word-1000050175', 2, 'Image14001015-9704.jpg'],\n ['Word-1000050175', 3, 'Image14001016-4888.jpg'],\n ['Word-1000050175', 4, 'Image14001016-2156.jpg'],\n ['Word-1000050175', 5, 'Image14001014-4914.jpg'],\n ['Word-1000050176', 1, 'Image14001014-9804.jpg'],\n ['Word-1000050176', 2, 'Image14105002-2005.jpg'],\n ['Word-1000050176', 3, 'Image14001014-2088.jpg'],\n ['Word-1000050176', 4, 'Image14001014-0066.jpg'],\n ['Word-1000050176', 5, 'Image14001014-3038.jpg'],\n ['Word-1000050177', 1, 'Image14001014-4441.jpg'],\n ['Word-1000050177', 2, 'Image14001014-7654.jpg'],\n ['Word-1000050177', 3, 'Image14001015-9170.jpg'],\n ['Word-1000050177', 4, 'Image14001016-1017.jpg'],\n ['Word-1000050177', 5, 'Image14001015-7771.jpg'],\n ['Word-1000050178', 1, 'Image14105003-6421.jpg'],\n ['Word-1000050178', 2, 'Image14001015-6372.jpg'],\n ['Word-1000050178', 3, 'Image14001016-4700.jpg'],\n ['Word-1000050178', 4, 'Image14105003-4246.jpg'],\n ['Word-1000050178', 5, 'Image14001015-5069.jpg'],\n ['Word-1000050179', 1, 'Image14001016-4103.jpg'],\n ['Word-1000050179', 2, 'Image14001015-8960.jpg'],\n ['Word-1000050179', 3, 'Image14105003-3719.jpg'],\n ['Word-1000050179', 4, 'Image14001014-9686.jpg'],\n ['Word-1000050179', 5, 'Image14105002-8913.jpg'],\n ['Word-1000050180', 1, 'Image14105002-9105.jpg'],\n ['Word-1000050180', 2, 'Image14001015-3720.jpg'],\n ['Word-1000050180', 3, 'Image14105002-5087.jpg'],\n ['Word-1000050180', 4, 'Image14105003-4319.jpg'],\n ['Word-1000050180', 5, 'Image14105002-0797.jpg'],\n ['Word-1000050181', 1, 'Image14105001-3959.jpg'],\n ['Word-1000050181', 2, 'Image14001016-0825.jpg'],\n ['Word-1000050181', 3, 'Image14105001-6735.jpg'],\n ['Word-1000050181', 4, 'Image14001014-3535.jpg'],\n ['Word-1000050181', 5, 'Image14105004-4202.jpg'],\n ['Word-1000050182', 1, 'Image14001015-3530.jpg'],\n ['Word-1000050182', 2, 'Image14105002-4320.jpg'],\n ['Word-1000050182', 3, 'Image14105002-1652.jpg'],\n ['Word-1000050182', 4, 'Image14001015-4075.jpg'],\n ['Word-1000050182', 5, 'Image14105002-3244.jpg'],\n ['Word-1000050183', 1, 'Image14001016-4149.jpg'],\n ['Word-1000050183', 2, 'Image14105002-6058.jpg'],\n ['Word-1000050183', 3, 'Image14105003-1520.jpg'],\n ['Word-1000050183', 4, 'Image14105003-4270.jpg'],\n ['Word-1000050183', 5, 'Image14105002-0774.jpg'],\n ['Word-1000050184', 1, 'Image14001014-9744.jpg'],\n ['Word-1000050184', 2, 'Image14105003-1097.jpg'],\n ['Word-1000050184', 3, 'Image14105001-2398.jpg'],\n ['Word-1000050184', 4, 'Image14001013-9856.jpg'],\n ['Word-1000050184', 5, 'Image14105002-3482.jpg'],\n ['Word-1000050185', 1, 'Image14001015-2262.jpg'],\n ['Word-1000050185', 2, 'Image14105001-3246.jpg'],\n ['Word-1000050185', 3, 'Image14105002-5460.jpg'],\n ['Word-1000050185', 4, 'Image14105003-4795.jpg'],\n ['Word-1000050185', 5, 'Image14001016-7364.jpg'],\n ['Word-1000050186', 1, 'Image14105002-3567.jpg'],\n ['Word-1000050186', 2, 'Image14001015-7770.jpg'],\n ['Word-1000050186', 3, 'Image14105002-4100.jpg'],\n ['Word-1000050186', 4, 'Image14105002-1655.jpg'],\n ['Word-1000050186', 5, 'Image14105003-2477.jpg'],\n ['Word-1000050187', 1, 'Image14105003-1211.jpg'],\n ['Word-1000050187', 2, 'Image14001014-4090.jpg'],\n ['Word-1000050187', 3, 'Image14105003-6396.jpg'],\n ['Word-1000050187', 4, 'Image14001013-9045.jpg'],\n ['Word-1000050187', 5, 'Image14001014-0792.jpg'],\n ['Word-1000050188', 1, 'Image14001015-0471.jpg'],\n ['Word-1000050188', 2, 'Image14001014-1999.jpg'],\n ['Word-1000050188', 3, 'Image14001014-7549.jpg'],\n ['Word-1000050188', 4, 'Image14105004-1829.jpg'],\n ['Word-1000050188', 5, 'Image14105004-4010.jpg'],\n ['Word-1000050189', 1, 'Image14001015-8463.jpg'],\n ['Word-1000050189', 2, 'Image14105001-3619.jpg'],\n ['Word-1000050189', 3, 'Image14105002-6725.jpg'],\n ['Word-1000050189', 4, 'Image14105004-3727.jpg'],\n ['Word-1000050189', 5, 'Image14105002-7198.jpg'],\n ['Word-1000050190', 1, 'Image14001015-2867.jpg'],\n ['Word-1000050190', 2, 'Image14105002-7934.jpg'],\n ['Word-1000050190', 3, 'Image14001016-1365.jpg'],\n ['Word-1000050190', 4, 'Image14001016-6455.jpg'],\n ['Word-1000050190', 5, 'Image14001014-9498.jpg'],\n ['Word-1000050191', 1, 'Image14105003-1380.jpg'],\n ['Word-1000050191', 2, 'Image14105003-5095.jpg'],\n ['Word-1000050191', 3, 'Image14001016-1664.jpg'],\n ['Word-1000050191', 4, 'Image14001014-6126.jpg'],\n ['Word-1000050191', 5, 'Image14105001-7285.jpg'],\n ['Word-1000050192', 1, 'Image14001015-4958.jpg'],\n ['Word-1000050192', 2, 'Image14105001-9497.jpg'],\n ['Word-1000050192', 3, 'Image14001014-8226.jpg'],\n ['Word-1000050192', 4, 'Image14105003-0753.jpg'],\n ['Word-1000050192', 5, 'Image14001014-7394.jpg'],\n ['Word-1000050193', 1, 'Image14001015-1371.jpg'],\n ['Word-1000050193', 2, 'Image14105004-2950.jpg'],\n ['Word-1000050193', 3, 'Image14105002-8766.jpg'],\n ['Word-1000050193', 4, 'Image14105004-4173.jpg'],\n ['Word-1000050193', 5, 'Image14105001-9525.jpg'],\n ['Word-1000050194', 1, 'Image14001014-1999.jpg'],\n ['Word-1000050194', 2, 'Image14105001-1428.jpg'],\n ['Word-1000050194', 3, 'Image14001014-9357.jpg'],\n ['Word-1000050194', 4, 'Image14105004-4010.jpg'],\n ['Word-1000050194', 5, 'Image14001016-3695.jpg'],\n ['Word-1000050195', 1, 'Image14001014-6321.jpg'],\n ['Word-1000050195', 2, 'Image14105002-4368.jpg'],\n ['Word-1000050195', 3, 'Image14001014-8266.jpg'],\n ['Word-1000050195', 4, 'Image14105001-5511.jpg'],\n ['Word-1000050195', 5, 'Image14001015-9357.jpg'],\n ['Word-1000050196', 1, 'Image14001015-4833.jpg'],\n ['Word-1000050196', 2, 'Image14001015-7252.jpg'],\n ['Word-1000050196', 3, 'Image14001014-8513.jpg'],\n ['Word-1000050196', 4, 'Image14001016-1017.jpg'],\n ['Word-1000050196', 5, 'Image14105001-5198.jpg'],\n ['Word-1000050197', 1, 'Image14105003-8085.jpg'],\n ['Word-1000050197', 2, 'Image14001015-4968.jpg'],\n ['Word-1000050197', 3, 'Image14105003-0670.jpg'],\n ['Word-1000050197', 4, 'Image14105004-5705.jpg'],\n ['Word-1000050197', 5, 'Image14001014-3440.jpg'],\n ['Word-1000050198', 1, 'Image14001014-6724.jpg'],\n ['Word-1000050198', 2, 'Image14105001-2160.jpg'],\n ['Word-1000050198', 3, 'Image14105003-7708.jpg'],\n ['Word-1000050198', 4, 'Image14105003-7882.jpg'],\n ['Word-1000050198', 5, 'Image14001016-0901.jpg'],\n ['Word-1000050199', 1, 'Image14105002-4742.jpg'],\n ['Word-1000050199', 2, 'Image14105002-9540.jpg'],\n ['Word-1000050199', 3, 'Image14105003-3173.jpg'],\n ['Word-1000050199', 4, 'Image14105002-3801.jpg'],\n ['Word-1000050199', 5, 'Image14105002-9651.jpg'],\n ['Word-1000050200', 1, 'Image14001014-0290.jpg'],\n ['Word-1000050200', 2, 'Image14105003-7226.jpg'],\n ['Word-1000050200', 3, 'Image14001016-6348.jpg'],\n ['Word-1000050200', 4, 'Image14105004-3933.jpg'],\n ['Word-1000050200', 5, 'Image14001016-0988.jpg'],\n ...]"
     },
     "execution_count": 33,
     "metadata": {},
     "output_type": "execute_result"
    }
   ],
   "source": [
    "ans = []\n",
    "for i in range(len(all_pred_rank)):\n",
    "    for j in range(len(all_pred_rank[i])):\n",
    "        now = []\n",
    "        now.append(all_text_features[i][0])\n",
    "        now.append(j + 1)\n",
    "        now.append(all_image_features[all_pred_rank[i][j]][0])\n",
    "        ans.append(now)\n",
    "        if j > 3:\n",
    "            break\n",
    "    # break\n",
    "ans"
   ],
   "metadata": {
    "collapsed": false,
    "ExecuteTime": {
     "end_time": "2024-04-22T09:19:29.195035Z",
     "start_time": "2024-04-22T09:19:29.037952Z"
    }
   },
   "id": "c39ef7b75140b06a",
   "execution_count": 33
  },
  {
   "cell_type": "code",
   "outputs": [],
   "source": [
    "# ans"
   ],
   "metadata": {
    "collapsed": false,
    "ExecuteTime": {
     "end_time": "2024-04-22T09:19:16.654214Z",
     "start_time": "2024-04-22T09:19:16.652125Z"
    }
   },
   "id": "addea6de2be2ecb1",
   "execution_count": null
  },
  {
   "cell_type": "code",
   "outputs": [],
   "source": [],
   "metadata": {
    "collapsed": false,
    "ExecuteTime": {
     "start_time": "2024-04-22T09:19:16.652829Z"
    }
   },
   "id": "7819cfa8922fa301"
  }
 ],
 "metadata": {
  "kernelspec": {
   "display_name": "Python 3",
   "language": "python",
   "name": "python3"
  },
  "language_info": {
   "codemirror_mode": {
    "name": "ipython",
    "version": 2
   },
   "file_extension": ".py",
   "mimetype": "text/x-python",
   "name": "python",
   "nbconvert_exporter": "python",
   "pygments_lexer": "ipython2",
   "version": "2.7.6"
  }
 },
 "nbformat": 4,
 "nbformat_minor": 5
}
