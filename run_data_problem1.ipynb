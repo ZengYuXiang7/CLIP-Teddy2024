{
 "cells": [
  {
   "cell_type": "code",
   "outputs": [],
   "source": [
    "import os\n",
    "import pandas as pd\n",
    "import numpy as np\n",
    "from tqdm import *"
   ],
   "metadata": {
    "collapsed": false,
    "ExecuteTime": {
     "end_time": "2024-04-16T05:41:47.634489Z",
     "start_time": "2024-04-16T05:41:47.627618Z"
    }
   },
   "id": "4277bae54ca6f28d",
   "execution_count": 22
  },
  {
   "cell_type": "code",
   "outputs": [
    {
     "data": {
      "text/plain": "['Image14001012-7288.jpg',\n 'Image14001010-9209.jpg',\n 'Image14001007-7424.jpg',\n 'Image14001009-5164.jpg',\n 'Image14001007-8717.jpg',\n 'Image14001012-1821.jpg',\n 'Image14001011-5341.jpg',\n 'Image14001010-1655.jpg',\n 'Image14001008-8332.jpg',\n 'Image14001008-7001.jpg',\n 'Image14001009-3515.jpg',\n 'Image14001013-2482.jpg',\n 'Image14001010-8117.jpg',\n 'Image14001012-6196.jpg',\n 'Image14001011-3730.jpg',\n 'Image14001007-9409.jpg',\n 'Image14001010-7224.jpg',\n 'Image14001009-8440.jpg',\n 'Image14001011-6890.jpg',\n 'Image14001009-7773.jpg',\n 'Image14001011-8665.jpg',\n 'Image14001008-4508.jpg',\n 'Image14001011-7556.jpg',\n 'Image14001009-1302.jpg',\n 'Image14001011-1127.jpg',\n 'Image14001010-5433.jpg',\n 'Image14001013-0295.jpg',\n 'Image14001012-4781.jpg',\n 'Image14001011-1641.jpg',\n 'Image14001010-5355.jpg',\n 'Image14001009-9038.jpg',\n 'Image14001008-5170.jpg',\n 'Image14001012-3788.jpg',\n 'Image14001009-1464.jpg',\n 'Image14001013-6182.jpg',\n 'Image14001012-2496.jpg',\n 'Image14001011-8103.jpg',\n 'Image14001011-7230.jpg',\n 'Image14001012-3950.jpg',\n 'Image14001008-3501.jpg',\n 'Image14001009-7015.jpg',\n 'Image14001007-5555.jpg',\n 'Image14001008-9992.jpg',\n 'Image14001008-0008.jpg',\n 'Image14001011-3056.jpg',\n 'Image14001010-7542.jpg',\n 'Image14001008-8454.jpg',\n 'Image14001010-6884.jpg',\n 'Image14001008-7767.jpg',\n 'Image14001012-8805.jpg',\n 'Image14001011-5427.jpg',\n 'Image14001010-1133.jpg',\n 'Image14001012-6828.jpg',\n 'Image14001013-4795.jpg',\n 'Image14001012-0281.jpg',\n 'Image14001008-6479.jpg',\n 'Image14001008-1316.jpg',\n 'Image14001009-5602.jpg',\n 'Image14001007-7342.jpg',\n 'Image14001007-8071.jpg',\n 'Image14001011-2348.jpg',\n 'Image14001008-9986.jpg',\n 'Image14001009-4508.jpg',\n 'Image14001010-8665.jpg',\n 'Image14001007-6048.jpg',\n 'Image14001010-7556.jpg',\n 'Image14001013-4959.jpg',\n 'Image14001010-0239.jpg',\n 'Image14001009-3267.jpg',\n 'Image14001012-8811.jpg',\n 'Image14001008-7773.jpg',\n 'Image14001010-6890.jpg',\n 'Image14001010-1127.jpg',\n 'Image14001011-5433.jpg',\n 'Image14001012-0295.jpg',\n 'Image14001013-4781.jpg',\n 'Image14001009-2179.jpg',\n 'Image14001008-1302.jpg',\n 'Image14001007-8065.jpg',\n 'Image14001010-6648.jpg',\n 'Image14001010-5341.jpg',\n 'Image14001011-1655.jpg',\n 'Image14001009-1470.jpg',\n 'Image14001013-7288.jpg',\n 'Image14001013-6196.jpg',\n 'Image14001010-3730.jpg',\n 'Image14001007-4887.jpg',\n 'Image14001011-7224.jpg',\n 'Image14001012-3944.jpg',\n 'Image14001009-7001.jpg',\n 'Image14001009-8454.jpg',\n 'Image14001009-7767.jpg',\n 'Image14001011-6884.jpg',\n 'Image14001008-3273.jpg',\n 'Image14001009-0008.jpg',\n 'Image14001010-3056.jpg',\n 'Image14001009-1316.jpg',\n 'Image14001008-5602.jpg',\n 'Image14001010-2348.jpg',\n 'Image14001013-6828.jpg',\n 'Image14001011-1133.jpg',\n 'Image14001012-4795.jpg',\n 'Image14001007-4139.jpg',\n 'Image14001013-0281.jpg',\n 'Image14001009-5170.jpg',\n 'Image14001013-3788.jpg',\n 'Image14001007-7430.jpg',\n 'Image14001008-1464.jpg',\n 'Image14001007-8703.jpg',\n 'Image14001008-9038.jpg',\n 'Image14001008-8326.jpg',\n 'Image14001013-3950.jpg',\n 'Image14001009-3501.jpg',\n 'Image14001008-7015.jpg',\n 'Image14001012-6182.jpg',\n 'Image14001010-1899.jpg',\n 'Image14001010-8103.jpg',\n 'Image14001013-2496.jpg',\n 'Image14001010-7230.jpg',\n 'Image14001011-3724.jpg',\n 'Image14001010-4711.jpg',\n 'Image14001011-0205.jpg',\n 'Image14001012-4965.jpg',\n 'Image14001011-8659.jpg',\n 'Image14001010-2360.jpg',\n 'Image14001009-7997.jpg',\n 'Image14001011-6674.jpg',\n 'Image14001011-9547.jpg',\n 'Image14001009-6451.jpg',\n 'Image14001007-4111.jpg',\n 'Image14001008-2145.jpg',\n 'Image14001013-6800.jpg',\n 'Image14001009-9762.jpg',\n 'Image14001011-8881.jpg',\n 'Image14001010-6106.jpg',\n 'Image14001012-8187.jpg',\n 'Image14001011-2412.jpg',\n 'Image14001007-7418.jpg',\n 'Image14001010-9235.jpg',\n 'Image14001009-5158.jpg',\n 'Image14001008-6323.jpg',\n 'Image14001008-9010.jpg',\n 'Image14001010-1669.jpg',\n 'Image14001009-3529.jpg',\n 'Image14001010-0577.jpg',\n 'Image14001011-4063.jpg',\n 'Image14001012-9299.jpg',\n 'Image14001007-9435.jpg',\n 'Image14001007-6706.jpg',\n 'Image14001008-0752.jpg',\n 'Image14001007-9353.jpg',\n 'Image14001007-6060.jpg',\n 'Image14001009-4520.jpg',\n 'Image14001008-0034.jpg',\n 'Image14001012-8839.jpg',\n 'Image14001010-0211.jpg',\n 'Image14001011-4705.jpg',\n 'Image14001009-2151.jpg',\n 'Image14001008-6445.jpg',\n 'Image14001008-9776.jpg',\n 'Image14001010-8895.jpg',\n 'Image14001008-7983.jpg',\n 'Image14001010-6660.jpg',\n 'Image14001011-2374.jpg',\n 'Image14001010-9553.jpg',\n 'Image14001007-4677.jpg',\n 'Image14001008-2623.jpg',\n 'Image14001009-9004.jpg',\n 'Image14001013-8193.jpg',\n 'Image14001011-6112.jpg',\n 'Image14001013-1809.jpg',\n 'Image14001009-1458.jpg',\n 'Image14001010-3718.jpg',\n 'Image14001009-0746.jpg',\n 'Image14001008-4252.jpg',\n 'Image14001007-5569.jpg',\n 'Image14001011-0563.jpg',\n 'Image14001008-2637.jpg',\n 'Image14001009-9010.jpg',\n 'Image14001011-1669.jpg',\n 'Image14001011-6106.jpg',\n 'Image14001010-2412.jpg',\n 'Image14001008-5158.jpg',\n 'Image14001011-9235.jpg',\n 'Image14001008-4246.jpg',\n 'Image14001008-3529.jpg',\n 'Image14001011-0577.jpg',\n 'Image14001010-4063.jpg',\n 'Image14001013-4965.jpg',\n 'Image14001009-4534.jpg',\n 'Image14001010-8659.jpg',\n 'Image14001011-4711.jpg',\n 'Image14001010-0205.jpg',\n 'Image14001008-6451.jpg',\n 'Image14001009-2145.jpg',\n 'Image14001012-6800.jpg',\n 'Image14001010-8881.jpg',\n 'Image14001007-8059.jpg',\n 'Image14001008-7997.jpg',\n 'Image14001012-8193.jpg',\n 'Image14001012-1809.jpg',\n 'Image14001010-6112.jpg',\n 'Image14001008-6337.jpg',\n 'Image14001009-2623.jpg',\n 'Image14001011-4077.jpg',\n 'Image14001010-0563.jpg',\n 'Image14001007-9421.jpg',\n 'Image14001011-3718.jpg',\n 'Image14001007-6712.jpg',\n 'Image14001009-4252.jpg',\n 'Image14001011-0211.jpg',\n 'Image14001009-8468.jpg',\n 'Image14001012-4971.jpg',\n 'Image14001008-4520.jpg',\n 'Image14001009-0034.jpg',\n 'Image14001011-6660.jpg',\n 'Image14001009-7983.jpg',\n 'Image14001010-2374.jpg',\n 'Image14001007-4105.jpg',\n 'Image14001009-6445.jpg',\n 'Image14001009-9776.jpg',\n 'Image14001013-6814.jpg',\n 'Image14001013-7539.jpg',\n 'Image14001010-4936.jpg',\n 'Image14001009-7968.jpg',\n 'Image14001012-4742.jpg',\n 'Image14001009-8483.jpg',\n 'Image14001011-6853.jpg',\n 'Image14001013-1148.jpg',\n 'Image14001009-9945.jpg',\n 'Image14001012-2333.jpg',\n 'Image14001010-3081.jpg',\n 'Image14001011-7595.jpg',\n 'Image14001013-3987.jpg',\n 'Image14001013-2441.jpg',\n 'Image14001009-2810.jpg',\n 'Image14001012-8178.jpg',\n 'Image14001010-1696.jpg',\n 'Image14001011-5382.jpg',\n 'Image14001012-0524.jpg',\n 'Image14001008-9789.jpg',\n 'Image14001012-0242.jpg',\n 'Image14001013-4756.jpg',\n 'Image14001007-7381.jpg',\n 'Image14001012-6633.jpg',\n 'Image14001008-9951.jpg',\n 'Image14001013-2327.jpg',\n 'Image14001010-7581.jpg',\n 'Image14001012-9500.jpg',\n 'Image14001011-3095.jpg',\n 'Image14001012-2455.jpg',\n 'Image14001008-2804.jpg',\n 'Image14001007-4850.jpg',\n 'Image14001010-4088.jpg',\n 'Image14001007-5596.jpg',\n 'Image14001010-5396.jpg',\n 'Image14001009-0961.jpg',\n 'Image14001011-1682.jpg',\n 'Image14001012-4024.jpg',\n 'Image14001007-4688.jpg',\n 'Image14001013-0530.jpg',\n 'Image14001013-6155.jpg',\n 'Image14001007-4844.jpg',\n 'Image14001008-2810.jpg',\n 'Image14001012-3987.jpg',\n 'Image14001011-0588.jpg',\n 'Image14001007-5582.jpg',\n 'Image14001011-1696.jpg',\n 'Image14001009-0975.jpg',\n 'Image14001010-5382.jpg',\n 'Image14001013-0524.jpg',\n 'Image14001012-4030.jpg',\n 'Image14001013-8178.jpg',\n 'Image14001012-0256.jpg',\n 'Image14001012-7539.jpg',\n 'Image14001011-4936.jpg',\n 'Image14001007-7395.jpg',\n 'Image14001008-7968.jpg',\n 'Image14001008-9945.jpg',\n 'Image14001012-6627.jpg',\n 'Image14001012-9514.jpg',\n 'Image14001010-7595.jpg',\n 'Image14001008-8483.jpg',\n 'Image14001012-1148.jpg',\n 'Image14001011-4088.jpg',\n 'Image14001007-8918.jpg',\n 'Image14001013-2455.jpg',\n 'Image14001012-6141.jpg',\n 'Image14001009-2804.jpg',\n 'Image14001011-5396.jpg',\n 'Image14001007-6935.jpg',\n 'Image14001010-1682.jpg',\n 'Image14001013-4024.jpg',\n 'Image14001010-4922.jpg',\n 'Image14001012-3039.jpg',\n 'Image14001009-9789.jpg',\n 'Image14001012-4756.jpg',\n 'Image14001008-5819.jpg',\n 'Image14001012-5448.jpg',\n 'Image14001011-6847.jpg',\n 'Image14001009-9951.jpg',\n 'Image14001011-7581.jpg',\n 'Image14001013-5312.jpg',\n 'Image14001012-1606.jpg',\n 'Image14001007-8930.jpg',\n 'Image14001010-1872.jpg',\n 'Image14001008-0791.jpg',\n 'Image14001009-4285.jpg',\n 'Image14001012-8144.jpg',\n 'Image14001013-3763.jpg',\n 'Image14001012-7277.jpg',\n 'Image14001011-3917.jpg',\n 'Image14001008-0949.jpg',\n 'Image14001009-7954.jpg',\n 'Image14001013-7505.jpg',\n 'Image14001012-3011.jpg',\n 'Image14001011-9584.jpg',\n 'Image14001008-2186.jpg',\n 'Image14001009-6492.jpg',\n 'Image14001011-8842.jpg',\n 'Image14001013-1174.jpg',\n 'Image14001012-5460.jpg',\n 'Image14001008-3298.jpg',\n 'Image14001008-5831.jpg',\n 'Image14001009-9979.jpg',\n 'Image14001011-1866.jpg',\n 'Image14001009-0785.jpg',\n 'Image14001013-1612.jpg',\n 'Image14001012-5306.jpg',\n 'Image14001012-4018.jpg',\n 'Image14001013-8150.jpg',\n 'Image14001013-7263.jpg',\n 'Image14001012-3777.jpg',\n 'Image14001009-2192.jpg',\n 'Image14001010-8856.jpg',\n 'Image14001008-7940.jpg',\n 'Image14001013-3005.jpg',\n 'Image14001010-9590.jpg',\n 'Image14001007-9390.jpg',\n 'Image14001013-5474.jpg',\n 'Image14001008-7798.jpg',\n 'Image14001009-5825.jpg',\n 'Image14001008-6492.jpg',\n 'Image14001010-8842.jpg',\n 'Image14001008-7954.jpg',\n 'Image14001012-8636.jpg',\n 'Image14001012-7505.jpg',\n 'Image14001012-9528.jpg',\n 'Image14001007-9384.jpg',\n 'Image14001008-9979.jpg',\n 'Image14001012-1174.jpg',\n 'Image14001013-5460.jpg',\n 'Image14001009-3298.jpg',\n 'Image14001009-5831.jpg',\n 'Image14001009-0791.jpg',\n 'Image14001013-6169.jpg',\n 'Image14001011-1872.jpg',\n 'Image14001012-5312.jpg',\n 'Image14001013-1606.jpg',\n 'Image14001013-0518.jpg',\n 'Image14001010-3917.jpg',\n 'Image14001009-0949.jpg',\n 'Image14001013-8144.jpg',\n 'Image14001013-7277.jpg',\n 'Image14001009-7940.jpg',\n 'Image14001011-9590.jpg',\n 'Image14001012-3005.jpg',\n 'Image14001009-6486.jpg',\n 'Image14001008-2192.jpg',\n 'Image14001011-8856.jpg',\n 'Image14001012-5474.jpg',\n 'Image14001013-1160.jpg',\n 'Image14001009-7798.jpg',\n 'Image14001008-5825.jpg',\n 'Image14001007-8924.jpg',\n 'Image14001012-1612.jpg',\n 'Image14001009-2838.jpg',\n 'Image14001009-4291.jpg',\n 'Image14001013-2469.jpg',\n 'Image14001008-0785.jpg',\n 'Image14001010-1866.jpg',\n 'Image14001013-3777.jpg',\n 'Image14001011-3903.jpg',\n 'Image14001007-6909.jpg',\n 'Image14001013-5851.jpg',\n 'Image14001007-8273.jpg',\n 'Image14001007-7140.jpg',\n 'Image14001009-5400.jpg',\n 'Image14001008-1114.jpg',\n 'Image14001010-7998.jpg',\n 'Image14001012-0083.jpg',\n 'Image14001012-9919.jpg',\n 'Image14001013-4597.jpg',\n 'Image14001010-1331.jpg',\n 'Image14001011-5625.jpg',\n 'Image14001008-9548.jpg',\n 'Image14001013-5689.jpg',\n 'Image14001008-8656.jpg',\n 'Image14001010-7740.jpg',\n 'Image14001011-3254.jpg',\n 'Image14001010-8473.jpg',\n 'Image14001007-5757.jpg',\n 'Image14001009-7217.jpg',\n 'Image14001010-3526.jpg',\n 'Image14001011-7032.jpg',\n 'Image14001013-0929.jpg',\n 'Image14001011-8301.jpg',\n 'Image14001012-2694.jpg',\n 'Image14001009-0578.jpg',\n 'Image14001013-6380.jpg',\n 'Image14001011-0985.jpg',\n 'Image14001009-1666.jpg',\n 'Image14001008-5372.jpg',\n 'Image14001009-6109.jpg',\n 'Image14001007-4449.jpg',\n 'Image14001010-5157.jpg',\n 'Image14001011-1443.jpg',\n 'Image14001012-4583.jpg',\n 'Image14001013-0097.jpg',\n 'Image14001010-5631.jpg',\n 'Image14001011-1325.jpg',\n 'Image14001012-5845.jpg',\n 'Image14001009-1100.jpg',\n 'Image14001011-9779.jpg',\n 'Image14001008-5414.jpg',\n 'Image14001011-7754.jpg',\n 'Image14001011-8467.jpg',\n 'Image14001013-1389.jpg',\n 'Image14001009-7571.jpg',\n 'Image14001007-5031.jpg',\n 'Image14001008-3065.jpg',\n 'Image14001013-7920.jpg',\n 'Image14001009-8642.jpg',\n 'Image14001010-7026.jpg',\n 'Image14001011-3532.jpg',\n 'Image14001010-8315.jpg',\n 'Image14001009-4078.jpg',\n 'Image14001013-2680.jpg',\n 'Image14001009-3717.jpg',\n 'Image14001008-7203.jpg',\n 'Image14001008-8130.jpg',\n 'Image14001010-0749.jpg',\n 'Image14001009-2409.jpg',\n 'Image14001010-1457.jpg',\n 'Image14001013-2858.jpg',\n 'Image14001007-8515.jpg',\n 'Image14001009-5366.jpg',\n 'Image14001007-7626.jpg',\n 'Image14001010-0991.jpg',\n 'Image14001010-7032.jpg',\n 'Image14001013-2694.jpg',\n 'Image14001010-8301.jpg',\n 'Image14001008-0578.jpg',\n 'Image14001012-6380.jpg',\n 'Image14001008-7217.jpg',\n 'Image14001009-3703.jpg',\n 'Image14001008-8124.jpg',\n 'Image14001011-4249.jpg',\n 'Image14001008-6109.jpg',\n 'Image14001010-1443.jpg',\n 'Image14001011-2638.jpg',\n 'Image14001008-1666.jpg',\n 'Image14001010-0985.jpg',\n 'Image14001007-7632.jpg',\n 'Image14001013-0083.jpg',\n 'Image14001011-7998.jpg',\n 'Image14001011-1331.jpg',\n 'Image14001009-9548.jpg',\n 'Image14001010-5625.jpg',\n 'Image14001012-5851.jpg',\n 'Image14001008-5400.jpg',\n 'Image14001009-1114.jpg',\n 'Image14001011-7740.jpg',\n 'Image14001010-3254.jpg',\n 'Image14001011-8473.jpg',\n 'Image14001007-5025.jpg',\n 'Image14001009-7565.jpg',\n 'Image14001009-8656.jpg',\n 'Image14001013-7934.jpg',\n 'Image14001008-3717.jpg',\n 'Image14001009-7203.jpg',\n 'Image14001007-5743.jpg',\n 'Image14001009-8130.jpg',\n 'Image14001010-3532.jpg',\n 'Image14001013-6394.jpg',\n 'Image14001012-2680.jpg',\n 'Image14001011-8315.jpg',\n 'Image14001011-6338.jpg',\n 'Image14001008-5366.jpg',\n 'Image14001009-1672.jpg',\n 'Image14001011-0991.jpg',\n 'Image14001008-2409.jpg',\n 'Image14001011-1457.jpg',\n 'Image14001010-5143.jpg',\n 'Image14001007-8267.jpg',\n 'Image14001008-1100.jpg',\n 'Image14001009-5414.jpg',\n 'Image14001010-9779.jpg',\n 'Image14001013-4583.jpg',\n 'Image14001012-0097.jpg',\n 'Image14001011-5631.jpg',\n 'Image14001010-1325.jpg',\n 'Image14001012-1389.jpg',\n 'Image14001008-7571.jpg',\n 'Image14001009-3065.jpg',\n 'Image14001012-7920.jpg',\n 'Image14001008-8642.jpg',\n 'Image14001011-3240.jpg',\n 'Image14001010-7754.jpg',\n 'Image14001010-8467.jpg',\n 'Image14001010-4275.jpg',\n 'Image14001009-8118.jpg',\n 'Image14001009-0544.jpg',\n 'Image14001013-0915.jpg',\n 'Image14001011-9023.jpg',\n 'Image14001011-6310.jpg',\n 'Image14001010-2604.jpg',\n 'Image14001012-2870.jpg',\n 'Image14001008-2421.jpg',\n 'Image14001009-6135.jpg',\n 'Image14001010-9751.jpg',\n 'Image14001008-1128.jpg',\n 'Image14001011-2176.jpg',\n 'Image14001010-6462.jpg',\n 'Image14001011-5619.jpg',\n 'Image14001008-9574.jpg',\n 'Image14001009-2353.jpg',\n 'Image14001010-9989.jpg',\n 'Image14001011-4507.jpg',\n 'Image14001010-0013.jpg',\n 'Image14001012-7908.jpg',\n 'Image14001008-7559.jpg',\n 'Image14001008-0236.jpg',\n 'Image14001007-6262.jpg',\n 'Image14001007-9151.jpg',\n 'Image14001011-3268.jpg',\n 'Image14001008-0550.jpg',\n 'Image14001010-8329.jpg',\n 'Image14001007-6504.jpg',\n 'Image14001009-4044.jpg',\n 'Image14001007-9637.jpg',\n 'Image14001012-0901.jpg',\n 'Image14001011-4261.jpg',\n 'Image14001008-1896.jpg',\n 'Image14001010-0775.jpg',\n 'Image14001008-9212.jpg',\n 'Image14001013-2864.jpg',\n 'Image14001010-9037.jpg',\n 'Image14001011-2610.jpg',\n 'Image14001012-8385.jpg',\n 'Image14001007-8529.jpg',\n 'Image14001010-6304.jpg',\n 'Image14001009-9560.jpg',\n 'Image14001011-1319.jpg',\n 'Image14001008-2347.jpg',\n 'Image14001007-4313.jpg',\n 'Image14001009-6653.jpg',\n 'Image14001008-5428.jpg',\n 'Image14001011-6476.jpg',\n 'Image14001012-5879.jpg',\n 'Image14001010-2162.jpg',\n 'Image14001008-4736.jpg',\n 'Image14001011-7768.jpg',\n 'Image14001011-0007.jpg',\n 'Image14001010-4513.jpg',\n 'Image14001008-3059.jpg',\n 'Image14001009-9574.jpg',\n 'Image14001009-6647.jpg',\n 'Image14001007-4307.jpg',\n 'Image14001008-2353.jpg',\n 'Image14001011-9751.jpg',\n 'Image14001009-1128.jpg',\n 'Image14001010-2176.jpg',\n 'Image14001011-6462.jpg',\n 'Image14001009-0236.jpg',\n 'Image14001008-4722.jpg',\n 'Image14001010-3268.jpg',\n 'Image14001011-9989.jpg',\n 'Image14001010-4507.jpg',\n 'Image14001013-7908.jpg',\n 'Image14001011-0013.jpg',\n 'Image14001007-5019.jpg',\n 'Image14001009-7559.jpg',\n 'Image14001009-4050.jpg',\n 'Image14001007-6510.jpg',\n 'Image14001008-0544.jpg',\n 'Image14001012-0915.jpg',\n 'Image14001007-9623.jpg',\n 'Image14001010-0761.jpg',\n 'Image14001008-1882.jpg',\n 'Image14001008-8118.jpg',\n 'Image14001011-4275.jpg',\n 'Image14001009-2421.jpg',\n 'Image14001010-6310.jpg',\n 'Image14001012-8391.jpg',\n 'Image14001011-2604.jpg',\n 'Image14001010-9745.jpg',\n 'Image14001010-6476.jpg',\n 'Image14001011-2162.jpg',\n 'Image14001013-5879.jpg',\n 'Image14001008-9560.jpg',\n 'Image14001010-1319.jpg',\n 'Image14001012-9931.jpg',\n 'Image14001009-2347.jpg',\n 'Image14001008-6653.jpg',\n 'Image14001011-4513.jpg',\n 'Image14001009-4736.jpg',\n 'Image14001008-0222.jpg',\n 'Image14001007-9145.jpg',\n 'Image14001010-4261.jpg',\n 'Image14001011-0775.jpg',\n 'Image14001012-2864.jpg',\n 'Image14001007-4461.jpg',\n 'Image14001009-6121.jpg',\n 'Image14001008-2435.jpg',\n 'Image14001008-3918.jpg',\n 'Image14001011-0946.jpg',\n 'Image14001012-4226.jpg',\n 'Image14001011-1480.jpg',\n 'Image14001010-5194.jpg',\n 'Image14001012-5138.jpg',\n 'Image14001013-6343.jpg',\n 'Image14001012-2657.jpg',\n 'Image14001008-8695.jpg',\n 'Image14001010-9976.jpg',\n 'Image14001011-3297.jpg',\n 'Image14001012-9702.jpg',\n 'Image14001008-6860.jpg',\n 'Image14001010-7783.jpg',\n 'Image14001013-2125.jpg',\n 'Image14001013-5892.jpg',\n 'Image14001007-7183.jpg',\n 'Image14001013-4554.jpg',\n 'Image14001012-0040.jpg',\n 'Image14001009-4905.jpg',\n 'Image14001013-4232.jpg',\n 'Image14001012-0726.jpg',\n 'Image14001007-9810.jpg',\n 'Image14001011-5180.jpg',\n 'Image14001010-1494.jpg',\n 'Image14001010-0952.jpg',\n 'Image14001012-9064.jpg',\n 'Image14001012-1438.jpg',\n 'Image14001008-1869.jpg',\n 'Image14001009-6874.jpg',\n 'Image14001011-7797.jpg',\n 'Image14001013-6425.jpg',\n 'Image14001012-2131.jpg',\n 'Image14001009-8681.jpg',\n 'Image14001011-9962.jpg',\n 'Image14001013-0054.jpg',\n 'Image14001012-4540.jpg',\n 'Image14001008-4911.jpg',\n 'Image14001011-6489.jpg',\n 'Image14001009-8859.jpg',\n 'Image14001010-3297.jpg',\n 'Image14001011-7783.jpg',\n 'Image14001009-6860.jpg',\n 'Image14001012-2125.jpg',\n 'Image14001013-6431.jpg',\n 'Image14001011-9976.jpg',\n 'Image14001009-8695.jpg',\n 'Image14001012-4554.jpg',\n 'Image14001013-0040.jpg',\n 'Image14001010-2189.jpg',\n 'Image14001012-5892.jpg',\n 'Image14001007-9804.jpg',\n 'Image14001013-4226.jpg',\n 'Image14001010-1480.jpg',\n 'Image14001009-3918.jpg',\n 'Image14001013-3549.jpg',\n 'Image14001010-0946.jpg',\n 'Image14001012-9070.jpg',\n 'Image14001012-6343.jpg',\n 'Image14001013-2657.jpg',\n 'Image14001013-5138.jpg',\n 'Image14001007-7829.jpg',\n 'Image14001008-8681.jpg',\n 'Image14001010-7797.jpg',\n 'Image14001008-6874.jpg',\n 'Image14001007-6289.jpg',\n 'Image14001013-2131.jpg',\n 'Image14001012-8408.jpg',\n 'Image14001013-5886.jpg',\n 'Image14001010-6489.jpg',\n 'Image14001008-8859.jpg',\n 'Image14001007-7197.jpg',\n 'Image14001012-0054.jpg',\n 'Image14001013-4540.jpg',\n 'Image14001009-4911.jpg',\n 'Image14001011-0952.jpg',\n 'Image14001012-4232.jpg',\n 'Image14001013-0726.jpg',\n 'Image14001010-5180.jpg',\n 'Image14001013-1438.jpg',\n 'Image14001009-1869.jpg',\n 'Image14001012-2643.jpg',\n 'Image14001012-1362.jpg',\n 'Image14001013-2119.jpg',\n 'Image14001011-5802.jpg',\n 'Image14001007-9192.jpg',\n 'Image14001012-7713.jpg',\n 'Image14001008-8871.jpg',\n 'Image14001012-8420.jpg',\n 'Image14001009-4939.jpg',\n 'Image14001013-4568.jpg',\n 'Image14001009-2390.jpg',\n 'Image14001008-6684.jpg',\n 'Image14001009-1699.jpg',\n 'Image14001013-7061.jpg',\n 'Image14001008-3924.jpg',\n 'Image14001009-1841.jpg',\n 'Image14001012-5104.jpg',\n 'Image14001013-1410.jpg',\n 'Image14001009-0587.jpg',\n 'Image14001008-4093.jpg',\n 'Image14001013-6419.jpg',\n 'Image14001011-8498.jpg',\n 'Image14001010-5816.jpg',\n 'Image14001012-5662.jpg',\n 'Image14001013-1376.jpg',\n 'Image14001011-7973.jpg',\n 'Image14001013-0068.jpg',\n 'Image14001009-6690.jpg',\n 'Image14001008-2384.jpg',\n 'Image14001011-9786.jpg',\n 'Image14001012-3213.jpg',\n 'Image14001009-5399.jpg',\n 'Image14001013-3561.jpg',\n 'Image14001012-8346.jpg',\n 'Image14001009-3930.jpg',\n 'Image14001009-4087.jpg',\n 'Image14001008-0593.jpg',\n 'Image14001012-9058.jpg',\n 'Image14001008-1855.jpg',\n 'Image14001012-1404.jpg',\n 'Image14001013-5110.jpg',\n 'Image14001007-9838.jpg',\n 'Image14001013-3575.jpg',\n 'Image14001012-7061.jpg',\n 'Image14001009-3924.jpg',\n 'Image14001012-8352.jpg',\n 'Image14001008-0587.jpg',\n 'Image14001009-4093.jpg',\n 'Image14001007-7815.jpg',\n 'Image14001008-1841.jpg',\n 'Image14001013-5104.jpg',\n 'Image14001012-1410.jpg',\n 'Image14001010-5802.jpg',\n 'Image14001012-2119.jpg',\n 'Image14001012-5676.jpg',\n 'Image14001008-4939.jpg',\n 'Image14001008-2390.jpg',\n 'Image14001009-6684.jpg',\n 'Image14001011-7967.jpg',\n 'Image14001013-7713.jpg',\n 'Image14001012-3207.jpg',\n 'Image14001011-9792.jpg',\n 'Image14001008-5399.jpg',\n 'Image14001012-3561.jpg',\n 'Image14001007-5964.jpg',\n 'Image14001008-3930.jpg',\n 'Image14001009-1855.jpg',\n 'Image14001013-1404.jpg',\n 'Image14001012-5110.jpg',\n 'Image14001008-4087.jpg',\n 'Image14001009-0593.jpg',\n 'Image14001013-5662.jpg',\n 'Image14001012-1376.jpg',\n 'Image14001010-8498.jpg',\n 'Image14001011-5816.jpg',\n 'Image14001008-6848.jpg',\n 'Image14001008-8865.jpg',\n 'Image14001013-3213.jpg',\n 'Image14001010-9786.jpg',\n 'Image14001012-7707.jpg',\n 'Image14001012-8434.jpg',\n 'Image14001007-8298.jpg',\n 'Image14001012-0068.jpg',\n 'Image14001008-6690.jpg',\n 'Image14001010-7973.jpg',\n 'Image14001009-2384.jpg',\n 'Image14001011-3320.jpg',\n 'Image14001010-7634.jpg',\n 'Image14001007-9019.jpg',\n 'Image14001011-5989.jpg',\n 'Image14001010-8507.jpg',\n 'Image14001013-2092.jpg',\n 'Image14001012-6586.jpg',\n 'Image14001008-7411.jpg',\n 'Image14001009-3105.jpg',\n 'Image14001012-7840.jpg',\n 'Image14001008-8722.jpg',\n 'Image14001011-5751.jpg',\n 'Image14001010-1245.jpg',\n 'Image14001007-8307.jpg',\n 'Image14001013-5925.jpg',\n 'Image14001008-1060.jpg',\n 'Image14001009-5574.jpg',\n 'Image14001007-7034.jpg',\n 'Image14001013-0685.jpg',\n 'Image14001008-2569.jpg',\n 'Image14001012-4391.jpg',\n 'Image14001011-1537.jpg',\n 'Image14001010-5023.jpg',\n 'Image14001012-2938.jpg',\n 'Image14001008-5206.jpg',\n 'Image14001009-1712.jpg',\n 'Image14001011-7146.jpg',\n 'Image14001010-3452.jpg',\n 'Image14001008-4118.jpg',\n 'Image14001010-2994.jpg',\n 'Image14001008-3677.jpg',\n 'Image14001009-7363.jpg',\n 'Image14001009-8050.jpg',\n 'Image14001007-5145.jpg',\n 'Image14001009-7405.jpg',\n 'Image14001009-8736.jpg',\n 'Image14001013-7854.jpg',\n 'Image14001011-7620.jpg',\n 'Image14001010-3334.jpg',\n 'Image14001013-6592.jpg',\n 'Image14001012-2086.jpg',\n 'Image14001012-5931.jpg',\n 'Image14001012-3398.jpg',\n 'Image14001009-1074.jpg',\n 'Image14001011-1251.jpg',\n 'Image14001009-9428.jpg',\n 'Image14001010-5745.jpg',\n 'Image14001007-8461.jpg',\n 'Image14001011-2758.jpg',\n 'Image14001008-1706.jpg',\n 'Image14001007-7752.jpg',\n 'Image14001009-5212.jpg',\n 'Image14001013-4385.jpg',\n 'Image14001008-6069.jpg',\n 'Image14001011-5037.jpg',\n 'Image14001010-1523.jpg',\n 'Image14001008-7377.jpg',\n 'Image14001008-8044.jpg',\n 'Image14001011-4329.jpg',\n 'Image14001011-3446.jpg',\n 'Image14001012-0849.jpg',\n 'Image14001010-7152.jpg',\n 'Image14001010-8261.jpg',\n 'Image14001010-6258.jpg',\n 'Image14001007-8475.jpg',\n 'Image14001009-5206.jpg',\n 'Image14001007-7746.jpg',\n 'Image14001008-1712.jpg',\n 'Image14001012-0685.jpg',\n 'Image14001013-4391.jpg',\n 'Image14001010-1537.jpg',\n 'Image14001013-2938.jpg',\n 'Image14001009-3677.jpg',\n 'Image14001011-2994.jpg',\n 'Image14001008-7363.jpg',\n 'Image14001008-8050.jpg',\n 'Image14001010-0629.jpg',\n 'Image14001010-7146.jpg',\n 'Image14001011-3452.jpg',\n 'Image14001007-6458.jpg',\n 'Image14001010-8275.jpg',\n 'Image14001009-4118.jpg',\n 'Image14001009-7411.jpg',\n 'Image14001013-7840.jpg',\n 'Image14001009-8722.jpg',\n 'Image14001010-3320.jpg',\n 'Image14001012-2092.jpg',\n 'Image14001010-5989.jpg',\n 'Image14001011-8507.jpg',\n 'Image14001013-6586.jpg',\n 'Image14001012-5925.jpg',\n 'Image14001011-9619.jpg',\n 'Image14001008-5574.jpg',\n 'Image14001010-5751.jpg',\n 'Image14001011-1245.jpg',\n 'Image14001012-4385.jpg',\n 'Image14001009-6069.jpg',\n 'Image14001013-0691.jpg',\n 'Image14001007-4529.jpg',\n 'Image14001010-5037.jpg',\n 'Image14001009-1706.jpg',\n 'Image14001008-5212.jpg',\n 'Image14001010-3446.jpg',\n 'Image14001011-7152.jpg',\n 'Image14001013-0849.jpg',\n 'Image14001011-8261.jpg',\n 'Image14001009-0418.jpg',\n 'Image14001007-5637.jpg',\n 'Image14001009-7377.jpg',\n 'Image14001008-3663.jpg',\n 'Image14001010-2980.jpg',\n 'Image14001010-4329.jpg',\n 'Image14001009-8044.jpg',\n 'Image14001010-7620.jpg',\n 'Image14001011-3334.jpg',\n 'Image14001010-8513.jpg',\n 'Image14001009-3111.jpg',\n 'Image14001008-7405.jpg',\n 'Image14001008-8736.jpg',\n 'Image14001012-9879.jpg',\n 'Image14001010-1251.jpg',\n 'Image14001011-5745.jpg',\n 'Image14001008-9428.jpg',\n 'Image14001007-8313.jpg',\n 'Image14001013-3398.jpg',\n 'Image14001008-1074.jpg',\n 'Image14001012-2904.jpg',\n 'Image14001007-4501.jpg',\n 'Image14001009-6041.jpg',\n 'Image14001008-2555.jpg',\n 'Image14001011-9157.jpg',\n 'Image14001011-6264.jpg',\n 'Image14001009-0430.jpg',\n 'Image14001008-4124.jpg',\n 'Image14001011-8249.jpg',\n 'Image14001013-0861.jpg',\n 'Image14001011-0615.jpg',\n 'Image14001007-6316.jpg',\n 'Image14001009-4656.jpg',\n 'Image14001008-0342.jpg',\n 'Image14001012-9689.jpg',\n 'Image14001007-9025.jpg',\n 'Image14001010-7608.jpg',\n 'Image14001010-0167.jpg',\n 'Image14001008-9400.jpg',\n 'Image14001010-1279.jpg',\n 'Image14001009-2227.jpg',\n 'Image14001012-9851.jpg',\n 'Image14001007-7008.jpg',\n 'Image14001010-6516.jpg',\n 'Image14001011-2002.jpg',\n 'Image14001013-5919.jpg',\n 'Image14001012-8597.jpg',\n 'Image14001010-9143.jpg',\n 'Image14001010-6270.jpg',\n 'Image14001009-3887.jpg',\n 'Image14001013-2910.jpg',\n 'Image14001009-2541.jpg',\n 'Image14001008-6055.jpg',\n 'Image14001010-0601.jpg',\n 'Image14001009-4130.jpg',\n 'Image14001007-6470.jpg',\n 'Image14001008-0424.jpg',\n 'Image14001007-9743.jpg',\n 'Image14001010-4467.jpg',\n 'Image14001013-7868.jpg',\n 'Image14001011-0173.jpg',\n 'Image14001009-7439.jpg',\n 'Image14001009-0356.jpg',\n 'Image14001008-4642.jpg',\n 'Image14001010-3308.jpg',\n 'Image14001011-9631.jpg',\n 'Image14001009-1048.jpg',\n 'Image14001010-2016.jpg',\n 'Image14001011-6502.jpg',\n 'Image14001009-9414.jpg',\n 'Image14001010-5779.jpg',\n 'Image14001007-4267.jpg',\n 'Image14001008-2233.jpg',\n 'Image14001010-4473.jpg',\n 'Image14001008-3139.jpg',\n 'Image14001009-0342.jpg',\n 'Image14001011-7608.jpg',\n 'Image14001011-9625.jpg',\n 'Image14001008-5548.jpg',\n 'Image14001011-6516.jpg',\n 'Image14001012-5919.jpg',\n 'Image14001011-1279.jpg',\n 'Image14001008-2227.jpg',\n 'Image14001007-4273.jpg',\n 'Image14001009-6733.jpg',\n 'Image14001011-2770.jpg',\n 'Image14001009-3893.jpg',\n 'Image14001007-8449.jpg',\n 'Image14001013-2904.jpg',\n 'Image14001008-9372.jpg',\n 'Image14001008-6041.jpg',\n 'Image14001009-2555.jpg',\n 'Image14001010-0615.jpg',\n 'Image14001008-0430.jpg',\n 'Image14001010-8249.jpg',\n 'Image14001007-6464.jpg',\n 'Image14001009-4124.jpg',\n 'Image14001007-9757.jpg',\n 'Image14001012-0861.jpg',\n 'Image14001008-0356.jpg',\n 'Image14001009-4642.jpg',\n 'Image14001007-6302.jpg',\n 'Image14001007-9031.jpg',\n 'Image14001011-3308.jpg',\n 'Image14001011-4467.jpg',\n 'Image14001010-0173.jpg',\n 'Image14001012-7868.jpg',\n 'Image14001008-7439.jpg',\n 'Image14001011-5779.jpg',\n 'Image14001008-9414.jpg',\n 'Image14001008-6727.jpg',\n 'Image14001008-1048.jpg',\n ...]"
     },
     "execution_count": 23,
     "metadata": {},
     "output_type": "execute_result"
    }
   ],
   "source": [
    "allImages = os.listdir('../BigDataSource/Teddy2024/附件2/ImageData')\n",
    "allImages"
   ],
   "metadata": {
    "collapsed": false,
    "ExecuteTime": {
     "end_time": "2024-04-16T05:41:47.676543Z",
     "start_time": "2024-04-16T05:41:47.638008Z"
    }
   },
   "id": "26dc94d8f5edeec5",
   "execution_count": 23
  },
  {
   "cell_type": "code",
   "outputs": [
    {
     "data": {
      "text/plain": "(50000, 1)"
     },
     "execution_count": 24,
     "metadata": {},
     "output_type": "execute_result"
    }
   ],
   "source": [
    "allImagesList = pd.read_csv('../BigDataSource/Teddy2024/附件2/image_data.csv')\n",
    "allImagesList.shape"
   ],
   "metadata": {
    "collapsed": false,
    "ExecuteTime": {
     "end_time": "2024-04-16T05:41:47.692996Z",
     "start_time": "2024-04-16T05:41:47.672673Z"
    }
   },
   "id": "1aebfb6083713876",
   "execution_count": 24
  },
  {
   "cell_type": "code",
   "outputs": [
    {
     "name": "stderr",
     "output_type": "stream",
     "text": [
      "100%|██████████| 5000/5000 [00:53<00:00, 93.15it/s] "
     ]
    },
    {
     "name": "stdout",
     "output_type": "stream",
     "text": [
      "Done!\n"
     ]
    },
    {
     "name": "stderr",
     "output_type": "stream",
     "text": [
      "\n"
     ]
    }
   ],
   "source": [
    "import chardet\n",
    "from modules.models.SBERT import Text2Vec\n",
    "\n",
    "file_name = '../BigDataSource/Teddy2024/附件2/word_test.csv'\n",
    "# 首先，读取文件的一部分字节来检测编码\n",
    "with open(file_name, 'rb') as f:\n",
    "    raw_data = f.read(5000)\n",
    "    result = chardet.detect(raw_data)\n",
    "    encoding = result['encoding']\n",
    "allTextList = pd.read_csv(file_name, encoding=encoding)\n",
    "allTextList = np.array(allTextList)\n",
    "\n",
    "text2vec = Text2Vec()\n",
    "for i in trange(len(allTextList)):\n",
    "    allTextList[i, 1] = text2vec.text2vec(allTextList[i, 1])\n",
    "print('Done!')"
   ],
   "metadata": {
    "collapsed": false,
    "ExecuteTime": {
     "end_time": "2024-04-16T05:47:31.784944Z",
     "start_time": "2024-04-16T05:41:47.694889Z"
    }
   },
   "id": "1dce04cef6107628",
   "execution_count": 25
  },
  {
   "cell_type": "code",
   "outputs": [],
   "source": [
    "# allImagesFeatures = []\n",
    "# for i in trange(len(allImages)):\n",
    "#     imageTranfer = Image2tensor()\n",
    "#     file_name = '../BigDataSource/Teddy2024/附件2/ImageData/' + allImages[i]\n",
    "#     image = Image.open(file_name)\n",
    "#     features = imageTranfer.image2tensor(image)\n",
    "#     allImagesFeatures.append(features)\n",
    "# allImagesFeatures"
   ],
   "metadata": {
    "collapsed": false,
    "ExecuteTime": {
     "end_time": "2024-04-16T05:47:31.785307Z",
     "start_time": "2024-04-16T05:47:31.783205Z"
    }
   },
   "id": "963020e9f1dfdd43",
   "execution_count": 26
  },
  {
   "cell_type": "code",
   "outputs": [
    {
     "name": "stderr",
     "output_type": "stream",
     "text": [
      " 91%|█████████▏| 45701/50000 [18:25<02:01, 35.28it/s]/Users/zengyuxiang/opt/anaconda3/lib/python3.8/site-packages/PIL/TiffImagePlugin.py:792: UserWarning: Corrupt EXIF data.  Expecting to read 12 bytes but only got 4. \n",
      "  warnings.warn(str(msg))\n",
      "100%|██████████| 50000/50000 [20:23<00:00, 40.85it/s]"
     ]
    },
    {
     "name": "stdout",
     "output_type": "stream",
     "text": [
      "Done!\n"
     ]
    },
    {
     "name": "stderr",
     "output_type": "stream",
     "text": [
      "\n"
     ]
    }
   ],
   "source": [
    "from modules.models.ResNet50 import Image2tensor\n",
    "from PIL import Image\n",
    "\n",
    "# 这里是执行多线程代码，线性运算过慢，线性预算代码在上面，用时8mins\n",
    "from concurrent.futures import ThreadPoolExecutor, as_completed\n",
    "\n",
    "# function\n",
    "def process_image(inputs):\n",
    "    imageTranfer, image_name = inputs\n",
    "    file_name = '../BigDataSource/Teddy2024/附件2/ImageData/' + image_name\n",
    "    image = Image.open(file_name)\n",
    "    features = imageTranfer.image2tensor(image)\n",
    "    return features\n",
    "\n",
    "# input\n",
    "allImages = os.listdir('../BigDataSource/Teddy2024/附件2/ImageData')\n",
    "imageTranfer = Image2tensor()\n",
    "inputList = [(imageTranfer, imageNames) for imageNames in allImages]\n",
    "\n",
    "# Execute\n",
    "allImagesFeatures = []\n",
    "allImages = os.listdir('../BigDataSource/Teddy2024/附件2/ImageData')\n",
    "with ThreadPoolExecutor(max_workers=16) as executor:\n",
    "    futures = [executor.submit(process_image, inputs) for inputs in inputList]\n",
    "    for future in tqdm(as_completed(futures), total=len(allImages)):\n",
    "        allImagesFeatures.append(future.result())\n",
    "print('Done!')"
   ],
   "metadata": {
    "collapsed": false,
    "ExecuteTime": {
     "end_time": "2024-04-16T06:07:56.727499Z",
     "start_time": "2024-04-16T05:47:31.787053Z"
    }
   },
   "id": "a33b636df5e580b0",
   "execution_count": 27
  },
  {
   "cell_type": "code",
   "outputs": [],
   "source": [
    "import pickle\n",
    "with open('../BigDataSource/Teddy2024/附件2/image_features.pkl', 'wb') as f:\n",
    "    pickle.dump(allImagesFeatures, f)"
   ],
   "metadata": {
    "collapsed": false,
    "ExecuteTime": {
     "end_time": "2024-04-16T06:14:20.080303Z",
     "start_time": "2024-04-16T06:14:20.017687Z"
    }
   },
   "id": "5233eb269ef9e084",
   "execution_count": 39
  },
  {
   "cell_type": "code",
   "outputs": [
    {
     "data": {
      "text/plain": "(50000, 1000)"
     },
     "execution_count": 28,
     "metadata": {},
     "output_type": "execute_result"
    }
   ],
   "source": [
    "# 将所有变量转成numpy形式\n",
    "allImagesFeatures_now = []\n",
    "for i in range(len(allImagesFeatures)):\n",
    "    imageFeatures = np.array(allImagesFeatures[i]).reshape(-1, )\n",
    "    allImagesFeatures_now.append(imageFeatures)\n",
    "allImagesFeatures = np.array(allImagesFeatures_now)\n",
    "allImagesFeatures.shape"
   ],
   "metadata": {
    "collapsed": false,
    "ExecuteTime": {
     "end_time": "2024-04-16T06:07:56.999528Z",
     "start_time": "2024-04-16T06:07:56.720550Z"
    }
   },
   "id": "2bf1c65e5e16f46",
   "execution_count": 28
  },
  {
   "cell_type": "code",
   "outputs": [
    {
     "data": {
      "text/plain": "(5000, 384)"
     },
     "execution_count": 29,
     "metadata": {},
     "output_type": "execute_result"
    }
   ],
   "source": [
    "# 将所有变量转成numpy形式\n",
    "allTextFeatures_now = []\n",
    "for i in range(len(allTextList)):\n",
    "    textFeatures = np.array(allTextList[i, 1]).reshape(-1, )\n",
    "    allTextFeatures_now.append(textFeatures)\n",
    "allTextFeatures = np.array(allTextFeatures_now)\n",
    "allTextFeatures.shape"
   ],
   "metadata": {
    "collapsed": false,
    "ExecuteTime": {
     "end_time": "2024-04-16T06:07:57.014319Z",
     "start_time": "2024-04-16T06:07:56.996271Z"
    }
   },
   "id": "b8b4588be7259e9d",
   "execution_count": 29
  },
  {
   "cell_type": "code",
   "outputs": [],
   "source": [
    "# from modules.models.Retrieve import LSH, L2Index\n",
    "# from time import time \n",
    "# \n",
    "# d = 64  # 向量维度\n",
    "# nb = 190000  # 数据库大小\n",
    "# nq = 256 * 10  # 查询向量的数量\n",
    "# np.random.seed(1234)  # 保证可复现的结果\n",
    "# \n",
    "# # 生成一些随机样本向量\n",
    "# xb = np.random.random((nb, d))\n",
    "# xq = np.random.random((nq, d))\n",
    "# \n",
    "# t1 = time()\n",
    "# lsh = LSH(k=3, d=d, nbits=d)\n",
    "# topk_distence, topk_indices = lsh.search_topk_embeds(xb, xq)\n",
    "# t2 = time()\n",
    "# print(f'LSH: {t2 - t1 : .2f}s')\n",
    "# \n",
    "# t1 = time()\n",
    "# l2index = L2Index(k=3, d=d)\n",
    "# topk_distence, topk_indices = l2index.search_topk_embeds(xb, xq)\n",
    "# t2 = time()\n",
    "# print(f'L2: {t2 - t1 : .2f}s')"
   ],
   "metadata": {
    "collapsed": false,
    "ExecuteTime": {
     "end_time": "2024-04-16T06:07:57.014468Z",
     "start_time": "2024-04-16T06:07:57.008443Z"
    }
   },
   "id": "fd4fcbf590707448",
   "execution_count": 30
  },
  {
   "cell_type": "code",
   "outputs": [
    {
     "data": {
      "text/plain": "((5000, 384), (50000, 1000))"
     },
     "execution_count": 31,
     "metadata": {},
     "output_type": "execute_result"
    }
   ],
   "source": [
    "allTextFeatures.shape, allImagesFeatures.shape"
   ],
   "metadata": {
    "collapsed": false,
    "ExecuteTime": {
     "end_time": "2024-04-16T06:07:57.014595Z",
     "start_time": "2024-04-16T06:07:57.011700Z"
    }
   },
   "id": "23e4ebd82282afc3",
   "execution_count": 31
  },
  {
   "cell_type": "code",
   "outputs": [
    {
     "name": "stdout",
     "output_type": "stream",
     "text": [
      "降维后的视觉特征形状: (50000, 384)\n"
     ]
    }
   ],
   "source": [
    "from sklearn.decomposition import PCA\n",
    "import numpy as np\n",
    "\n",
    "# 假设 `visual_features` 是一个形状为 (n_samples, 1000) 的数组，\n",
    "\n",
    "# 初始化PCA对象，设置目标维度为384\n",
    "pca = PCA(n_components=384)\n",
    "\n",
    "# 对视觉特征进行降维\n",
    "scaled_allImagesFeatures = pca.fit_transform(allImagesFeatures)\n",
    "\n",
    "# 查看降维后的形状，确认是否为 (n_samples, 384)\n",
    "print(\"降维后的视觉特征形状:\", scaled_allImagesFeatures.shape)\n"
   ],
   "metadata": {
    "collapsed": false,
    "ExecuteTime": {
     "end_time": "2024-04-16T06:07:59.574973Z",
     "start_time": "2024-04-16T06:07:57.014611Z"
    }
   },
   "id": "c8cab9a8585ee185",
   "execution_count": 32
  },
  {
   "cell_type": "code",
   "outputs": [],
   "source": [
    "xb = scaled_allImagesFeatures\n",
    "xq = allTextFeatures"
   ],
   "metadata": {
    "collapsed": false,
    "ExecuteTime": {
     "end_time": "2024-04-16T06:07:59.577244Z",
     "start_time": "2024-04-16T06:07:59.575804Z"
    }
   },
   "id": "ace80fc425e19d62",
   "execution_count": 33
  },
  {
   "cell_type": "code",
   "outputs": [
    {
     "name": "stdout",
     "output_type": "stream",
     "text": [
      "LSH:  0.05s\n"
     ]
    }
   ],
   "source": [
    "from modules.models.Retrieve import LSH, L2Index\n",
    "from time import time \n",
    "\n",
    "d = 384  # 向量维度\n",
    "k = 5\n",
    "np.random.seed(1234)  # 保证可复现的结果\n",
    "\n",
    "t1 = time()\n",
    "lsh = LSH(k=k, d=d, nbits=4)\n",
    "topk_distence, topk_indices = lsh.search_topk_embeds(xb, xq)\n",
    "t2 = time()\n",
    "print(f'LSH: {t2 - t1 : .2f}s')\n"
   ],
   "metadata": {
    "collapsed": false,
    "ExecuteTime": {
     "end_time": "2024-04-16T06:07:59.628946Z",
     "start_time": "2024-04-16T06:07:59.579365Z"
    }
   },
   "id": "ca4c22d1327f529d",
   "execution_count": 34
  },
  {
   "cell_type": "code",
   "outputs": [
    {
     "data": {
      "text/plain": "array([[ 19,   1,  37,  22,  18],\n       [ 19,   1,  37,  22,  18],\n       [ 66,  29,  92,  84,  25],\n       ...,\n       [  8,   6,  47,  24,   5],\n       [ 69,  42, 157,  93,  20],\n       [ 62,  53,  82,  75,  33]])"
     },
     "execution_count": 35,
     "metadata": {},
     "output_type": "execute_result"
    }
   ],
   "source": [
    "topk_indices"
   ],
   "metadata": {
    "collapsed": false,
    "ExecuteTime": {
     "end_time": "2024-04-16T06:07:59.632099Z",
     "start_time": "2024-04-16T06:07:59.629791Z"
    }
   },
   "id": "1450484cf79c88d1",
   "execution_count": 35
  },
  {
   "cell_type": "code",
   "outputs": [],
   "source": [
    "xb = scaled_allImagesFeatures\n",
    "xq = allTextFeatures"
   ],
   "metadata": {
    "collapsed": false,
    "ExecuteTime": {
     "end_time": "2024-04-16T06:07:59.634269Z",
     "start_time": "2024-04-16T06:07:59.632568Z"
    }
   },
   "id": "1db54d2c7b6217e3",
   "execution_count": 36
  },
  {
   "cell_type": "code",
   "outputs": [
    {
     "name": "stdout",
     "output_type": "stream",
     "text": [
      "L2:  0.63s\n"
     ]
    }
   ],
   "source": [
    "\n",
    "t1 = time()\n",
    "l2index = L2Index(k=k, d=d)\n",
    "topk_distence, topk_indices = l2index.search_topk_embeds(xb, xq)\n",
    "t2 = time()\n",
    "print(f'L2: {t2 - t1 : .2f}s')"
   ],
   "metadata": {
    "collapsed": false,
    "ExecuteTime": {
     "end_time": "2024-04-16T06:08:00.262697Z",
     "start_time": "2024-04-16T06:07:59.635693Z"
    }
   },
   "id": "2283858e4a570ba1",
   "execution_count": 37
  },
  {
   "cell_type": "code",
   "outputs": [
    {
     "data": {
      "text/plain": "array([[49495, 22639, 49241, 11832,  1771],\n       [49495, 22639, 49241, 11832,  1771],\n       [49495, 22639, 49241, 11832,  1771],\n       ...,\n       [49495, 49241, 22639, 11832,  1771],\n       [49495, 22639, 49241, 11832,  1771],\n       [49495, 22639, 49241,  1771, 11832]])"
     },
     "execution_count": 38,
     "metadata": {},
     "output_type": "execute_result"
    }
   ],
   "source": [
    "topk_indices"
   ],
   "metadata": {
    "collapsed": false,
    "ExecuteTime": {
     "end_time": "2024-04-16T06:08:00.265034Z",
     "start_time": "2024-04-16T06:08:00.263710Z"
    }
   },
   "id": "c4b6ce36c9ac5338",
   "execution_count": 38
  },
  {
   "cell_type": "code",
   "outputs": [],
   "source": [],
   "metadata": {
    "collapsed": false,
    "ExecuteTime": {
     "end_time": "2024-04-16T06:08:00.267081Z",
     "start_time": "2024-04-16T06:08:00.265549Z"
    }
   },
   "id": "90aba076e366c054",
   "execution_count": 38
  }
 ],
 "metadata": {
  "kernelspec": {
   "display_name": "Python 3",
   "language": "python",
   "name": "python3"
  },
  "language_info": {
   "codemirror_mode": {
    "name": "ipython",
    "version": 2
   },
   "file_extension": ".py",
   "mimetype": "text/x-python",
   "name": "python",
   "nbconvert_exporter": "python",
   "pygments_lexer": "ipython2",
   "version": "2.7.6"
  }
 },
 "nbformat": 4,
 "nbformat_minor": 5
}
