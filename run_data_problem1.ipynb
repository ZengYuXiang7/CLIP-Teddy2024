{
 "cells": [
  {
   "cell_type": "code",
   "outputs": [],
   "source": [
    "import os\n",
    "import pandas as pd\n",
    "import numpy as np\n",
    "from tqdm import *"
   ],
   "metadata": {
    "collapsed": false,
    "ExecuteTime": {
     "end_time": "2024-04-01T09:11:07.352415Z",
     "start_time": "2024-04-01T09:11:07.159079Z"
    }
   },
   "id": "4277bae54ca6f28d",
   "execution_count": 1
  },
  {
   "cell_type": "code",
   "outputs": [
    {
     "data": {
      "text/plain": "['Image14001007-5555.jpg',\n 'Image14001010-1133.jpg',\n 'Image14001013-4795.jpg',\n 'Image14001007-4139.jpg',\n 'Image14001011-8881.jpg',\n 'Image14001012-8839.jpg',\n 'Image14001013-0530.jpg',\n 'Image14001010-5143.jpg',\n 'Image14001011-0007.jpg',\n 'Image14001010-0946.jpg',\n 'Image14001013-1376.jpg',\n 'Image14001012-1404.jpg',\n 'Image14001012-7840.jpg',\n 'Image14001010-1245.jpg',\n 'Image14001010-3452.jpg',\n 'Image14001010-5751.jpg',\n 'Image14001007-9031.jpg',\n 'Image14001012-4352.jpg',\n 'Image14001009-0395.jpg',\n 'Image14001012-1564.jpg',\n 'Image14001013-5299.jpg',\n 'Image14001010-5221.jpg',\n 'Image14001011-5553.jpg',\n 'Image14001012-6790.jpg',\n 'Image14001008-8508.jpg',\n 'Image14001009-4326.jpg',\n 'Image14001009-6531.jpg',\n 'Image14001007-8878.jpg',\n 'Image14001010-3693.jpg',\n 'Image14001013-0478.jpg',\n 'Image14001009-0183.jpg',\n 'Image14001008-7835.jpg',\n 'Image14001009-5987.jpg',\n 'Image14001010-5208.jpg',\n 'Image14001007-9554.jpg',\n 'Image14001011-0416.jpg',\n 'Image14001012-5298.jpg',\n 'Image14001009-8253.jpg',\n 'Image14001013-3414.jpg',\n 'Image14001013-2722.jpg',\n 'Image14001008-4864.jpg',\n 'Image14001010-0166.jpg',\n 'Image14001010-3309.jpg',\n 'Image14001010-6271.jpg',\n 'Image14001009-3662.jpg',\n 'Image14001013-1405.jpg',\n 'Image14001012-3574.jpg',\n 'Image14001010-3296.jpg',\n 'Image14001011-7782.jpg',\n 'Image14001013-0727.jpg',\n 'Image14001012-1439.jpg',\n 'Image14001011-8328.jpg',\n 'Image14001011-6311.jpg',\n 'Image14001013-7935.jpg',\n 'Image14001010-8466.jpg',\n 'Image14001012-2695.jpg',\n 'Image14001010-5630.jpg',\n 'Image14001011-6846.jpg',\n 'Image14001012-4757.jpg',\n 'Image14001009-2811.jpg',\n 'Image14001011-6852.jpg',\n 'Image14001008-6336.jpg',\n 'Image14001008-8327.jpg',\n 'Image14001009-8327.jpg',\n 'Image14001011-1642.jpg',\n 'Image14001009-5601.jpg',\n 'Image14001008-9007.jpg',\n 'Image14001013-1639.jpg',\n 'Image14001013-7512.jpg',\n 'Image14001011-6878.jpg',\n 'Image14001012-1163.jpg',\n 'Image14001008-5365.jpg',\n 'Image14001010-0776.jpg',\n 'Image14001012-1349.jpg',\n 'Image14001012-9701.jpg',\n 'Image14001008-4084.jpg',\n 'Image14001011-5815.jpg',\n 'Image14001011-2029.jpg',\n 'Image14001008-8721.jpg',\n 'Image14001012-9846.jpg',\n 'Image14001013-6234.jpg',\n 'Image14001012-4379.jpg',\n 'Image14001012-1567.jpg',\n 'Image14001013-7116.jpg',\n 'Image14001012-2293.jpg',\n 'Image14001008-7604.jpg',\n 'Image14001011-0428.jpg',\n 'Image14001008-0619.jpg',\n 'Image14001007-7209.jpg',\n 'Image14001008-2967.jpg',\n 'Image14001013-0321.jpg',\n 'Image14001012-1995.jpg',\n 'Image14001011-3684.jpg',\n 'Image14001012-5271.jpg',\n 'Image14001013-5503.jpg',\n 'Image14001011-3860.jpg',\n 'Image14001012-8754.jpg',\n 'Image14001011-5237.jpg',\n 'Image14001007-5351.jpg',\n 'Image14001012-1200.jpg',\n 'Image14001011-6500.jpg',\n 'Image14001008-7375.jpg',\n 'Image14001007-5621.jpg',\n 'Image14001010-0159.jpg',\n 'Image14001008-0368.jpg',\n 'Image14001012-5884.jpg',\n 'Image14001012-4542.jpg',\n 'Image14001012-0056.jpg',\n 'Image14001010-8459.jpg',\n 'Image14001011-9753.jpg',\n 'Image14001013-7507.jpg',\n 'Image14001010-8840.jpg',\n 'Image14001008-2806.jpg',\n 'Image14001011-3097.jpg',\n 'Image14001011-4934.jpg',\n 'Image14001011-1694.jpg',\n 'Image14001007-4661.jpg',\n 'Image14001009-8324.jpg',\n 'Image14001008-5172.jpg',\n 'Image14001011-1643.jpg',\n 'Image14001011-7540.jpg',\n 'Image14001008-4532.jpg',\n 'Image14001009-5638.jpg',\n 'Image14001013-8195.jpg',\n 'Image14001008-7775.jpg',\n 'Image14001008-1462.jpg',\n 'Image14001010-3722.jpg',\n 'Image14001011-1690.jpg',\n 'Image14001010-7593.jpg',\n 'Image14001013-3759.jpg',\n 'Image14001011-0773.jpg',\n 'Image14001011-5179.jpg',\n 'Image14001009-8678.jpg',\n 'Image14001012-3598.jpg',\n 'Image14001011-9958.jpg',\n 'Image14001013-2123.jpg',\n 'Image14001009-8687.jpg',\n 'Image14001012-3229.jpg',\n 'Image14001010-6262.jpg',\n 'Image14001008-3659.jpg',\n 'Image14001010-6538.jpg',\n 'Image14001012-3413.jpg',\n 'Image14001012-0898.jpg',\n 'Image14001013-4340.jpg',\n 'Image14001010-8717.jpg',\n 'Image14001008-0191.jpg',\n 'Image14001013-5248.jpg',\n 'Image14001010-4688.jpg',\n 'Image14001008-2977.jpg',\n 'Image14001013-7462.jpg',\n 'Image14001012-2283.jpg',\n 'Image14001009-3300.jpg',\n 'Image14001011-8064.jpg',\n 'Image14001008-5981.jpg',\n 'Image14001011-2978.jpg',\n 'Image14001010-8299.jpg',\n 'Image14001009-0386.jpg',\n 'Image14001012-7674.jpg',\n 'Image14001011-2039.jpg',\n 'Image14001007-9022.jpg',\n 'Image14001010-9150.jpg',\n 'Image14001008-1729.jpg',\n 'Image14001008-6867.jpg',\n 'Image14001013-0709.jpg',\n 'Image14001010-3521.jpg',\n 'Image14001008-1675.jpg',\n 'Image14001008-8137.jpg',\n 'Image14001013-0084.jpg',\n 'Image14001011-0766.jpg',\n 'Image14001012-2334.jpg',\n 'Image14001010-2398.jpg',\n 'Image14001008-6481.jpg',\n 'Image14001009-8447.jpg',\n 'Image14001010-3045.jpg',\n 'Image14001009-3512.jpg',\n 'Image14001007-7423.jpg',\n 'Image14001009-7006.jpg',\n 'Image14001009-1311.jpg',\n 'Image14001007-4116.jpg',\n 'Image14001011-8138.jpg',\n 'Image14001011-8892.jpg',\n 'Image14001008-2197.jpg',\n 'Image14001007-6924.jpg',\n 'Image14001012-2444.jpg',\n 'Image14001013-0092.jpg',\n 'Image14001009-3712.jpg',\n 'Image14001010-1334.jpg',\n 'Image14001011-8310.jpg',\n 'Image14001012-6385.jpg',\n 'Image14001008-7428.jpg',\n 'Image14001013-4380.jpg',\n 'Image14001008-3869.jpg',\n 'Image14001009-0637.jpg',\n 'Image14001010-7433.jpg',\n 'Image14001007-6893.jpg',\n 'Image14001007-8672.jpg',\n 'Image14001009-2008.jpg',\n 'Image14001008-7602.jpg',\n 'Image14001009-4492.jpg',\n 'Image14001008-4486.jpg',\n 'Image14001008-0192.jpg',\n 'Image14001010-1081.jpg',\n 'Image14001013-2242.jpg',\n 'Image14001007-8868.jpg',\n 'Image14001012-0440.jpg',\n 'Image14001011-1094.jpg',\n 'Image14001011-5225.jpg',\n 'Image14001013-3820.jpg',\n 'Image14001009-8524.jpg',\n 'Image14001011-5543.jpg',\n 'Image14001010-1043.jpg',\n 'Image14001009-8256.jpg',\n 'Image14001012-4829.jpg',\n 'Image14001009-1528.jpg',\n 'Image14001013-4430.jpg',\n 'Image14001012-5060.jpg',\n 'Image14001009-4691.jpg',\n 'Image14001009-4108.jpg',\n 'Image14001010-8503.jpg',\n 'Image14001009-9404.jpg',\n 'Image14001010-3318.jpg',\n 'Image14001012-3559.jpg',\n 'Image14001010-7787.jpg',\n 'Image14001008-2394.jpg',\n 'Image14001012-7065.jpg',\n 'Image14001012-0093.jpg',\n 'Image14001011-2628.jpg',\n 'Image14001011-0759.jpg',\n 'Image14001007-6272.jpg',\n 'Image14001010-3278.jpg',\n 'Image14001007-4317.jpg',\n 'Image14001013-2860.jpg',\n 'Image14001011-3085.jpg',\n 'Image14001010-1692.jpg',\n 'Image14001012-4746.jpg',\n 'Image14001012-0508.jpg',\n 'Image14001012-8632.jpg',\n 'Image14001008-7944.jpg',\n 'Image14001012-7273.jpg',\n 'Image14001010-0229.jpg',\n 'Image14001011-6894.jpg',\n 'Image14001010-3046.jpg',\n 'Image14001008-8336.jpg',\n 'Image14001010-0201.jpg',\n 'Image14001012-0584.jpg',\n 'Image14001009-6354.jpg',\n 'Image14001009-6432.jpg',\n 'Image14001009-8386.jpg',\n 'Image14001009-4580.jpg',\n 'Image14001008-3589.jpg',\n 'Image14001010-7045.jpg',\n 'Image14001011-4558.jpg',\n 'Image14001013-0962.jpg',\n 'Image14001012-2620.jpg',\n 'Image14001007-9697.jpg',\n 'Image14001008-8812.jpg',\n 'Image14001011-5726.jpg',\n 'Image14001007-8416.jpg',\n 'Image14001007-4562.jpg',\n 'Image14001011-5915.jpg',\n 'Image14001011-3141.jpg',\n 'Image14001010-4148.jpg',\n 'Image14001010-6011.jpg',\n 'Image14001007-4774.jpg',\n 'Image14001008-2913.jpg',\n 'Image14001011-6950.jpg',\n 'Image14001012-3660.jpg',\n 'Image14001012-7413.jpg',\n 'Image14001011-1958.jpg',\n 'Image14001009-2047.jpg',\n 'Image14001007-7268.jpg',\n 'Image14001009-3417.jpg',\n 'Image14001011-0449.jpg',\n 'Image14001010-5928.jpg',\n 'Image14001011-5082.jpg',\n 'Image14001011-7130.jpg',\n 'Image14001010-3342.jpg',\n 'Image14001013-6335.jpg',\n 'Image14001013-7995.jpg',\n 'Image14001008-0240.jpg',\n 'Image14001012-2806.jpg',\n 'Image14001010-7736.jpg',\n 'Image14001010-6428.jpg',\n 'Image14001008-8146.jpg',\n 'Image14001010-7050.jpg',\n 'Image14001009-2866.jpg',\n 'Image14001007-5292.jpg',\n 'Image14001008-0917.jpg',\n 'Image14001007-7485.jpg',\n 'Image14001009-2872.jpg',\n 'Image14001009-0042.jpg',\n 'Image14001012-3098.jpg',\n 'Image14001013-3932.jpg',\n 'Image14001008-2669.jpg',\n 'Image14001013-6686.jpg',\n 'Image14001010-5321.jpg',\n 'Image14001007-5247.jpg',\n 'Image14001012-8859.jpg',\n 'Image14001012-6874.jpg',\n 'Image14001013-2435.jpg',\n 'Image14001009-2864.jpg',\n 'Image14001011-2499.jpg',\n 'Image14001008-8391.jpg',\n 'Image14001013-0550.jpg',\n 'Image14001010-2499.jpg',\n 'Image14001013-4078.jpg',\n 'Image14001008-5460.jpg',\n 'Image14001008-6169.jpg',\n 'Image14001011-8361.jpg',\n 'Image14001009-1148.jpg',\n 'Image14001010-0073.jpg',\n 'Image14001013-7983.jpg',\n 'Image14001013-3501.jpg',\n 'Image14001013-7767.jpg',\n 'Image14001011-8567.jpg',\n 'Image14001008-4150.jpg',\n 'Image14001010-6576.jpg',\n 'Image14001009-6747.jpg',\n 'Image14001009-3818.jpg',\n 'Image14001013-5776.jpg',\n 'Image14001009-2284.jpg',\n 'Image14001012-4681.jpg',\n 'Image14001010-0339.jpg',\n 'Image14001009-2723.jpg',\n 'Image14001008-3429.jpg',\n 'Image14001010-6774.jpg',\n 'Image14001008-9851.jpg',\n 'Image14001009-7698.jpg',\n 'Image14001013-5561.jpg',\n 'Image14001012-4119.jpg',\n 'Image14001012-0357.jpg',\n 'Image14001013-4131.jpg',\n 'Image14001008-9105.jpg',\n 'Image14001007-9246.jpg',\n 'Image14001007-4762.jpg',\n 'Image14001011-1032.jpg',\n 'Image14001011-7325.jpg',\n 'Image14001011-3631.jpg',\n 'Image14001013-5763.jpg',\n 'Image14001012-8535.jpg',\n 'Image14001012-2024.jpg',\n 'Image14001010-3396.jpg',\n 'Image14001010-4360.jpg',\n 'Image14001009-0337.jpg',\n 'Image14001011-0660.jpg',\n 'Image14001009-1015.jpg',\n 'Image14001011-5724.jpg',\n 'Image14001012-7835.jpg',\n 'Image14001012-8441.jpg',\n 'Image14001012-9039.jpg',\n 'Image14001011-9095.jpg',\n 'Image14001012-3500.jpg',\n 'Image14001008-4970.jpg',\n 'Image14001013-2150.jpg',\n 'Image14001009-9501.jpg',\n 'Image14001011-5122.jpg',\n 'Image14001010-8360.jpg',\n 'Image14001012-4290.jpg',\n 'Image14001012-2408.jpg',\n 'Image14001013-3058.jpg',\n 'Image14001010-2301.jpg',\n 'Image14001008-0055.jpg',\n 'Image14001009-2124.jpg',\n 'Image14001009-0079.jpg',\n 'Image14001010-9287.jpg',\n 'Image14001008-9908.jpg',\n 'Image14001009-2861.jpg',\n 'Image14001008-7528.jpg',\n 'Image14001008-1603.jpg',\n 'Image14001007-9685.jpg',\n 'Image14001011-6215.jpg',\n 'Image14001009-2256.jpg',\n 'Image14001009-9471.jpg',\n 'Image14001012-0179.jpg',\n 'Image14001008-4828.jpg',\n 'Image14001009-3835.jpg',\n 'Image14001007-9083.jpg',\n 'Image14001013-2752.jpg',\n 'Image14001009-7886.jpg',\n 'Image14001011-3635.jpg',\n 'Image14001012-7372.jpg',\n 'Image14001008-6583.jpg',\n 'Image14001008-7689.jpg',\n 'Image14001008-8592.jpg',\n 'Image14001013-4647.jpg',\n 'Image14001011-7484.jpg',\n 'Image14001013-2237.jpg',\n 'Image14001008-8593.jpg',\n 'Image14001013-5216.jpg',\n 'Image14001008-3411.jpg',\n 'Image14001013-6092.jpg',\n 'Image14001011-5251.jpg',\n 'Image14001008-0642.jpg',\n 'Image14001007-6602.jpg',\n 'Image14001011-3393.jpg',\n 'Image14001008-7475.jpg',\n 'Image14001011-7136.jpg',\n 'Image14001011-0103.jpg',\n 'Image14001013-0030.jpg',\n 'Image14001008-3968.jpg',\n 'Image14001008-3798.jpg',\n 'Image14001013-5606.jpg',\n 'Image14001008-5470.jpg',\n 'Image14001010-2890.jpg',\n 'Image14001008-5464.jpg',\n 'Image14001007-6212.jpg',\n 'Image14001012-4726.jpg',\n 'Image14001007-6789.jpg',\n 'Image14001012-5362.jpg',\n 'Image14001009-7930.jpg',\n 'Image14001013-6870.jpg',\n 'Image14001007-5519.jpg',\n 'Image14001010-2476.jpg',\n 'Image14001009-9062.jpg',\n 'Image14001010-2312.jpg',\n 'Image14001008-7926.jpg',\n 'Image14001009-8142.jpg',\n 'Image14001011-5125.jpg',\n 'Image14001010-5657.jpg',\n 'Image14001007-8201.jpg',\n 'Image14001013-2619.jpg',\n 'Image14001011-4401.jpg',\n 'Image14001009-2255.jpg',\n 'Image14001010-9119.jpg',\n 'Image14001011-0129.jpg',\n 'Image14001010-5737.jpg',\n 'Image14001011-9119.jpg',\n 'Image14001008-5274.jpg',\n 'Image14001007-9255.jpg',\n 'Image14001009-7661.jpg',\n 'Image14001012-2584.jpg',\n 'Image14001010-7322.jpg',\n 'Image14001011-9496.jpg',\n 'Image14001013-0378.jpg',\n 'Image14001013-5566.jpg',\n 'Image14001009-0683.jpg',\n 'Image14001012-8042.jpg',\n 'Image14001007-6833.jpg',\n 'Image14001013-0422.jpg',\n 'Image14001010-8978.jpg',\n 'Image14001010-3145.jpg',\n 'Image14001012-2585.jpg',\n 'Image14001011-7323.jpg',\n 'Image14001008-9665.jpg',\n 'Image14001011-4399.jpg',\n 'Image14001012-7628.jpg',\n 'Image14001012-9611.jpg',\n 'Image14001013-6278.jpg',\n 'Image14001010-3421.jpg',\n 'Image14001010-1222.jpg',\n 'Image14001011-8212.jpg',\n 'Image14001008-3610.jpg',\n 'Image14001008-6740.jpg',\n 'Image14001012-9822.jpg',\n 'Image14001010-0100.jpg',\n 'Image14001008-4962.jpg',\n 'Image14001012-7990.jpg',\n 'Image14001011-7928.jpg',\n 'Image14001012-7006.jpg',\n 'Image14001013-1463.jpg',\n 'Image14001008-6185.jpg',\n 'Image14001009-4989.jpg',\n 'Image14001008-6620.jpg',\n 'Image14001013-2803.jpg',\n 'Image14001009-4023.jpg',\n 'Image14001011-3794.jpg',\n 'Image14001011-8831.jpg',\n 'Image14001007-8943.jpg',\n 'Image14001007-7457.jpg',\n 'Image14001010-9520.jpg',\n 'Image14001008-7731.jpg',\n 'Image14001011-9263.jpg',\n 'Image14001009-9720.jpg',\n 'Image14001009-5683.jpg',\n 'Image14001012-1122.jpg',\n 'Image14001013-5344.jpg',\n 'Image14001011-1830.jpg',\n 'Image14001010-1373.jpg',\n 'Image14001012-9783.jpg',\n 'Image14001010-1401.jpg',\n 'Image14001010-7104.jpg',\n 'Image14001011-0131.jpg',\n 'Image14001011-1549.jpg',\n 'Image14001008-6771.jpg',\n 'Image14001008-5293.jpg',\n 'Image14001007-6397.jpg',\n 'Image14001012-7157.jpg',\n 'Image14001008-0894.jpg',\n 'Image14001009-8204.jpg',\n 'Image14001008-5052.jpg',\n 'Image14001009-2067.jpg',\n 'Image14001008-2715.jpg',\n 'Image14001012-2205.jpg',\n 'Image14001012-6077.jpg',\n 'Image14001013-7433.jpg',\n 'Image14001011-6795.jpg',\n 'Image14001011-4829.jpg',\n 'Image14001012-1731.jpg',\n 'Image14001008-3387.jpg',\n 'Image14001009-0856.jpg',\n 'Image14001008-0842.jpg',\n 'Image14001013-1094.jpg',\n 'Image14001011-1038.jpg',\n 'Image14001013-4852.jpg',\n 'Image14001008-0103.jpg',\n 'Image14001008-3807.jpg',\n 'Image14001012-5999.jpg',\n 'Image14001013-3442.jpg',\n 'Image14001013-7156.jpg',\n 'Image14001012-3442.jpg',\n 'Image14001013-7618.jpg',\n 'Image14001009-5292.jpg',\n 'Image14001009-7308.jpg',\n 'Image14001012-0822.jpg',\n 'Image14001012-5782.jpg',\n 'Image14001012-9812.jpg',\n 'Image14001011-7111.jpg',\n 'Image14001007-5099.jpg',\n 'Image14001012-7778.jpg',\n 'Image14001011-5869.jpg',\n 'Image14001008-3783.jpg',\n 'Image14001009-6162.jpg',\n 'Image14001010-6435.jpg',\n 'Image14001012-2833.jpg',\n 'Image14001008-5443.jpg',\n 'Image14001008-8173.jpg',\n 'Image14001010-7065.jpg',\n 'Image14001008-4991.jpg',\n 'Image14001010-8430.jpg',\n 'Image14001009-3032.jpg',\n 'Image14001008-8615.jpg',\n 'Image14001011-4785.jpg',\n 'Image14001010-8815.jpg',\n 'Image14001008-0922.jpg',\n 'Image14001011-2445.jpg',\n 'Image14001010-0508.jpg',\n 'Image14001009-6438.jpg',\n 'Image14001008-9079.jpg',\n 'Image14001009-1425.jpg',\n 'Image14001012-4717.jpg',\n 'Image14001013-4071.jpg',\n 'Image14001008-2845.jpg',\n 'Image14001011-1827.jpg',\n 'Image14001010-0293.jpg',\n 'Image14001013-2831.jpg',\n 'Image14001009-4777.jpg',\n 'Image14001007-4420.jpg',\n 'Image14001012-0767.jpg',\n 'Image14001012-7008.jpg',\n 'Image14001011-2876.jpg',\n 'Image14001012-3246.jpg',\n 'Image14001012-5145.jpg',\n 'Image14001010-8234.jpg',\n 'Image14001011-6557.jpg',\n 'Image14001007-4540.jpg',\n 'Image14001012-0161.jpg',\n 'Image14001010-6580.jpg',\n 'Image14001012-6909.jpg',\n 'Image14001008-8575.jpg',\n 'Image14001011-8988.jpg',\n 'Image14001012-4844.jpg',\n 'Image14001009-6564.jpg',\n 'Image14001011-2241.jpg',\n 'Image14001012-4111.jpg',\n 'Image14001012-1041.jpg',\n 'Image14001007-4795.jpg',\n 'Image14001013-1727.jpg',\n 'Image14001012-9409.jpg',\n 'Image14001011-6797.jpg',\n 'Image14001007-8838.jpg',\n 'Image14001010-2254.jpg',\n 'Image14001013-5583.jpg',\n 'Image14001007-5307.jpg',\n 'Image14001010-8023.jpg',\n 'Image14001010-5261.jpg',\n 'Image14001009-0882.jpg',\n 'Image14001012-8925.jpg',\n 'Image14001007-5844.jpg',\n 'Image14001012-0612.jpg',\n 'Image14001013-7828.jpg',\n 'Image14001013-3496.jpg',\n 'Image14001008-2267.jpg',\n 'Image14001010-2042.jpg',\n 'Image14001011-6556.jpg',\n 'Image14001012-1281.jpg',\n 'Image14001007-6342.jpg',\n 'Image14001013-7021.jpg',\n 'Image14001009-1197.jpg',\n 'Image14001012-8448.jpg',\n 'Image14001009-9246.jpg',\n 'Image14001009-0262.jpg',\n 'Image14001012-3290.jpg',\n 'Image14001012-3284.jpg',\n 'Image14001007-7128.jpg',\n 'Image14001013-1691.jpg',\n 'Image14001011-7258.jpg',\n 'Image14001010-2452.jpg',\n 'Image14001008-1424.jpg',\n 'Image14001007-5267.jpg',\n 'Image14001010-4755.jpg',\n 'Image14001011-3748.jpg',\n 'Image14001008-3237.jpg',\n 'Image14001010-7274.jpg',\n 'Image14001009-8362.jpg',\n 'Image14001013-4909.jpg',\n 'Image14001007-7460.jpg',\n 'Image14001008-3223.jpg',\n 'Image14001010-2481.jpg',\n 'Image14001008-7092.jpg',\n 'Image14001013-3069.jpg',\n 'Image14001009-9901.jpg',\n 'Image14001008-6617.jpg',\n 'Image14001013-1483.jpg',\n 'Image14001008-2317.jpg',\n 'Image14001010-4543.jpg',\n 'Image14001008-4014.jpg',\n 'Image14001008-9518.jpg',\n 'Image14001010-8423.jpg',\n 'Image14001007-9897.jpg',\n 'Image14001011-7923.jpg',\n 'Image14001012-5168.jpg',\n 'Image14001013-7019.jpg',\n 'Image14001007-6346.jpg',\n 'Image14001010-4423.jpg',\n 'Image14001010-7664.jpg',\n 'Image14001010-6208.jpg',\n 'Image14001009-3627.jpg',\n 'Image14001008-3633.jpg',\n 'Image14001009-1965.jpg',\n 'Image14001007-5840.jpg',\n 'Image14001008-3182.jpg',\n 'Image14001007-7919.jpg',\n 'Image14001009-5295.jpg',\n 'Image14001013-0602.jpg',\n 'Image14001012-5587.jpg',\n 'Image14001009-0104.jpg',\n 'Image14001008-6213.jpg',\n 'Image14001010-3614.jpg',\n 'Image14001009-7643.jpg',\n 'Image14001012-4896.jpg',\n 'Image14001009-7858.jpg',\n 'Image14001013-0366.jpg',\n 'Image14001011-8797.jpg',\n 'Image14001012-1051.jpg',\n 'Image14001011-7467.jpg',\n 'Image14001008-0893.jpg',\n 'Image14001011-8740.jpg',\n 'Image14001008-5055.jpg',\n 'Image14001008-7642.jpg',\n 'Image14001008-2060.jpg',\n 'Image14001010-0687.jpg',\n 'Image14001012-2982.jpg',\n 'Image14001008-9492.jpg',\n 'Image14001011-0687.jpg',\n 'Image14001008-1970.jpg',\n 'Image14001012-3493.jpg',\n 'Image14001012-6312.jpg',\n 'Image14001013-6474.jpg',\n 'Image14001013-3256.jpg',\n 'Image14001009-5323.jpg',\n 'Image14001009-0529.jpg',\n 'Image14001013-0978.jpg',\n 'Image14001012-0944.jpg',\n 'Image14001008-0515.jpg',\n 'Image14001011-5884.jpg',\n 'Image14001008-7508.jpg',\n 'Image14001008-5848.jpg',\n 'Image14001011-4783.jpg',\n 'Image14001013-0549.jpg',\n 'Image14001011-0283.jpg',\n 'Image14001007-4197.jpg',\n 'Image14001010-0283.jpg',\n 'Image14001010-6619.jpg',\n 'Image14001011-9264.jpg',\n 'Image14001010-9516.jpg',\n 'Image14001009-2666.jpg',\n 'Image14001009-1409.jpg',\n 'Image14001008-0073.jpg',\n 'Image14001009-5137.jpg',\n 'Image14001008-8361.jpg',\n 'Image14001012-7542.jpg',\n 'Image14001009-9094.jpg',\n 'Image14001007-4803.jpg',\n 'Image14001008-1386.jpg',\n 'Image14001012-4711.jpg',\n 'Image14001009-4771.jpg',\n 'Image14001009-3750.jpg',\n 'Image14001008-1635.jpg',\n 'Image14001010-8346.jpg',\n 'Image14001010-7075.jpg',\n 'Image14001008-4981.jpg',\n 'Image14001009-1635.jpg',\n 'Image14001011-3207.jpg',\n 'Image14001008-1806.jpg',\n 'Image14001012-2638.jpg',\n 'Image14001010-2864.jpg',\n 'Image14001007-8591.jpg',\n 'Image14001007-8585.jpg',\n 'Image14001011-8540.jpg',\n 'Image14001009-7456.jpg',\n 'Image14001008-6984.jpg',\n 'Image14001010-9879.jpg',\n 'Image14001013-1523.jpg',\n 'Image14001009-1796.jpg',\n 'Image14001010-4150.jpg',\n 'Image14001008-3432.jpg',\n 'Image14001009-0885.jpg',\n 'Image14001007-5314.jpg',\n 'Image14001011-1955.jpg',\n 'Image14001008-1580.jpg',\n 'Image14001011-4804.jpg',\n 'Image14001011-3819.jpg',\n 'Image14001012-8076.jpg',\n 'Image14001010-4186.jpg',\n 'Image14001011-4179.jpg',\n 'Image14001012-8937.jpg',\n 'Image14001011-3158.jpg',\n 'Image14001012-9142.jpg',\n 'Image14001008-5283.jpg',\n 'Image14001008-4823.jpg',\n 'Image14001012-8248.jpg',\n 'Image14001010-6587.jpg',\n 'Image14001009-8957.jpg',\n 'Image14001011-1203.jpg',\n 'Image14001010-9111.jpg',\n 'Image14001011-0653.jpg',\n 'Image14001009-1768.jpg',\n 'Image14001008-4943.jpg',\n 'Image14001008-2498.jpg',\n 'Image14001012-8472.jpg',\n 'Image14001012-2639.jpg',\n 'Image14001012-8300.jpg',\n 'Image14001009-4994.jpg',\n 'Image14001009-9268.jpg',\n 'Image14001009-2301.jpg',\n 'Image14001009-0502.jpg',\n 'Image14001013-4076.jpg',\n 'Image14001008-1393.jpg',\n 'Image14001010-1834.jpg',\n 'Image14001011-7289.jpg',\n 'Image14001010-3776.jpg',\n 'Image14001008-2659.jpg',\n 'Image14001013-6852.jpg',\n 'Image14001009-4214.jpg',\n 'Image14001010-4031.jpg',\n 'Image14001009-9042.jpg',\n 'Image14001010-8650.jpg',\n 'Image14001010-8888.jpg',\n 'Image14001009-4529.jpg',\n 'Image14001010-7577.jpg',\n 'Image14001009-3520.jpg',\n 'Image14001011-6655.jpg',\n 'Image14001007-4130.jpg',\n 'Image14001009-7008.jpg',\n 'Image14001011-2355.jpg',\n 'Image14001008-0954.jpg',\n 'Image14001008-9794.jpg',\n 'Image14001012-9086.jpg',\n 'Image14001008-9233.jpg',\n 'Image14001010-6331.jpg',\n 'Image14001012-9737.jpg',\n 'Image14001012-5125.jpg',\n 'Image14001008-4139.jpg',\n 'Image14001008-4663.jpg',\n 'Image14001011-0620.jpg',\n 'Image14001013-2070.jpg',\n 'Image14001013-0673.jpg',\n 'Image14001009-1914.jpg',\n 'Image14001013-5723.jpg',\n 'Image14001013-7120.jpg',\n 'Image14001010-2235.jpg',\n 'Image14001009-2776.jpg',\n 'Image14001007-8681.jpg',\n 'Image14001011-4877.jpg',\n 'Image14001009-5970.jpg',\n 'Image14001013-7323.jpg',\n 'Image14001012-7337.jpg',\n 'Image14001010-6085.jpg',\n 'Image14001009-5018.jpg',\n 'Image14001007-4045.jpg',\n 'Image14001008-1518.jpg',\n 'Image14001011-3658.jpg',\n 'Image14001013-6565.jpg',\n 'Image14001007-8496.jpg',\n 'Image14001012-6565.jpg',\n 'Image14001012-8548.jpg',\n 'Image14001010-6522.jpg',\n 'Image14001010-4335.jpg',\n 'Image14001007-4535.jpg',\n 'Image14001011-5017.jpg',\n 'Image14001012-8372.jpg',\n 'Image14001012-3555.jpg',\n 'Image14001009-1691.jpg',\n 'Image14001008-4931.jpg',\n 'Image14001011-0033.jpg',\n 'Image14001011-0755.jpg',\n 'Image14001012-7928.jpg',\n 'Image14001009-0202.jpg',\n 'Image14001008-9781.jpg',\n 'Image14001013-7294.jpg',\n 'Image14001007-7438.jpg',\n 'Image14001010-9573.jpg',\n 'Image14001008-1322.jpg',\n 'Image14001008-5636.jpg',\n 'Image14001008-7745.jpg',\n 'Image14001008-2601.jpg',\n 'Image14001009-0002.jpg',\n 'Image14001007-8090.jpg',\n 'Image14001009-9797.jpg',\n 'Image14001007-7176.jpg',\n 'Image14001009-8674.jpg',\n 'Image14001013-7916.jpg',\n 'Image14001011-9767.jpg',\n 'Image14001008-8648.jpg',\n 'Image14001007-6240.jpg',\n 'Image14001007-9198.jpg',\n 'Image14001010-9954.jpg',\n 'Image14001012-9708.jpg',\n 'Image14001013-6349.jpg',\n 'Image14001012-3557.jpg',\n 'Image14001007-7980.jpg',\n 'Image14001011-0145.jpg',\n 'Image14001010-6534.jpg',\n 'Image14001011-0804.jpg',\n 'Image14001013-1208.jpg',\n 'Image14001008-5581.jpg',\n 'Image14001013-2715.jpg',\n 'Image14001011-5968.jpg',\n 'Image14001007-5832.jpg',\n 'Image14001011-7831.jpg',\n 'Image14001010-7831.jpg',\n 'Image14001007-7200.jpg',\n 'Image14001011-3100.jpg',\n 'Image14001010-4653.jpg',\n 'Image14001007-6644.jpg',\n 'Image14001007-9211.jpg',\n 'Image14001010-7399.jpg',\n 'Image14001007-6693.jpg',\n 'Image14001010-9389.jpg',\n 'Image14001011-3883.jpg',\n 'Image14001008-0605.jpg',\n 'Image14001011-1716.jpg',\n 'Image14001008-2748.jpg',\n 'Image14001007-7573.jpg',\n 'Image14001012-1962.jpg',\n 'Image14001012-5047.jpg',\n 'Image14001012-7650.jpg',\n 'Image14001008-6923.jpg',\n 'Image14001012-3387.jpg',\n 'Image14001009-8729.jpg',\n 'Image14001008-0375.jpg',\n 'Image14001009-0407.jpg',\n 'Image14001012-8365.jpg',\n 'Image14001013-2890.jpg',\n 'Image14001012-6374.jpg',\n 'Image14001008-5392.jpg',\n 'Image14001008-4098.jpg',\n 'Image14001011-2800.jpg',\n 'Image14001008-9231.jpg',\n 'Image14001013-0922.jpg',\n 'Image14001007-4324.jpg',\n 'Image14001012-4588.jpg',\n 'Image14001009-6894.jpg',\n 'Image14001011-8336.jpg',\n 'Image14001012-7254.jpg',\n 'Image14001012-3740.jpg',\n 'Image14001008-0956.jpg',\n 'Image14001013-4007.jpg',\n 'Image14001010-1892.jpg',\n 'Image14001010-9216.jpg',\n 'Image14001009-0017.jpg',\n 'Image14001010-9564.jpg',\n 'Image14001011-3075.jpg',\n 'Image14001011-8652.jpg',\n 'Image14001013-2499.jpg',\n 'Image14001012-1184.jpg',\n 'Image14001013-2328.jpg',\n 'Image14001011-4093.jpg',\n 'Image14001013-3988.jpg',\n 'Image14001011-7997.jpg',\n 'Image14001009-5355.jpg',\n 'Image14001007-7173.jpg',\n 'Image14001007-5016.jpg',\n 'Image14001012-2658.jpg',\n 'Image14001013-4229.jpg',\n 'Image14001009-9584.jpg',\n 'Image14001009-5396.jpg',\n 'Image14001007-9823.jpg',\n 'Image14001009-2214.jpg',\n 'Image14001012-9876.jpg',\n 'Image14001009-2566.jpg',\n 'Image14001010-2958.jpg',\n 'Image14001012-2738.jpg',\n 'Image14001011-5979.jpg',\n 'Image14001012-5282.jpg',\n 'Image14001007-4042.jpg',\n 'Image14001010-9400.jpg',\n 'Image14001008-7152.jpg',\n 'Image14001007-8877.jpg',\n 'Image14001007-4081.jpg',\n 'Image14001013-5241.jpg',\n 'Image14001012-9309.jpg',\n 'Image14001012-6012.jpg',\n 'Image14001012-2261.jpg',\n 'Image14001008-0833.jpg',\n 'Image14001007-6697.jpg',\n 'Image14001013-3157.jpg',\n 'Image14001010-0380.jpg',\n 'Image14001008-5022.jpg',\n 'Image14001010-2568.jpg',\n 'Image14001011-6054.jpg',\n 'Image14001007-6126.jpg',\n 'Image14001012-3194.jpg',\n 'Image14001011-9824.jpg',\n 'Image14001012-5056.jpg',\n 'Image14001011-4482.jpg',\n 'Image14001010-8521.jpg',\n 'Image14001010-3460.jpg',\n 'Image14001009-7351.jpg',\n 'Image14001010-3448.jpg',\n 'Image14001011-4327.jpg',\n 'Image14001008-0416.jpg',\n 'Image14001012-6417.jpg',\n 'Image14001012-4566.jpg',\n 'Image14001008-5383.jpg',\n 'Image14001013-3235.jpg',\n 'Image14001012-7912.jpg',\n 'Image14001008-5432.jpg',\n 'Image14001008-3057.jpg',\n 'Image14001011-2178.jpg',\n 'Image14001009-6113.jpg',\n 'Image14001010-4535.jpg',\n 'Image14001013-7537.jpg',\n 'Image14001009-0006.jpg',\n 'Image14001007-9361.jpg',\n 'Image14001011-9575.jpg',\n 'Image14001012-3948.jpg',\n 'Image14001012-6830.jpg',\n 'Image14001010-0547.jpg',\n 'Image14001012-0925.jpg',\n 'Image14001012-2698.jpg',\n 'Image14001011-3258.jpg',\n 'Image14001013-3592.jpg',\n 'Image14001011-5832.jpg',\n 'Image14001009-6850.jpg',\n 'Image14001009-5395.jpg',\n 'Image14001012-7079.jpg',\n 'Image14001010-4443.jpg',\n 'Image14001012-7680.jpg',\n 'Image14001011-5985.jpg',\n 'Image14001011-4325.jpg',\n 'Image14001009-7347.jpg',\n 'Image14001012-1554.jpg',\n 'Image14001008-1911.jpg',\n 'Image14001013-6213.jpg',\n 'Image14001012-6575.jpg',\n 'Image14001008-4855.jpg',\n 'Image14001009-1087.jpg',\n 'Image14001011-9417.jpg',\n 'Image14001009-3451.jpg',\n 'Image14001009-2029.jpg',\n 'Image14001012-6039.jpg',\n 'Image14001007-8874.jpg',\n 'Image14001013-6011.jpg',\n 'Image14001007-4900.jpg',\n 'Image14001013-2277.jpg',\n 'Image14001012-6010.jpg',\n 'Image14001008-6299.jpg',\n 'Image14001012-3154.jpg',\n 'Image14001013-7326.jpg',\n 'Image14001009-9182.jpg',\n 'Image14001013-0449.jpg',\n 'Image14001011-6080.jpg',\n 'Image14001009-5974.jpg',\n 'Image14001011-3649.jpg',\n 'Image14001009-8539.jpg',\n 'Image14001010-6282.jpg',\n 'Image14001011-4495.jpg',\n 'Image14001009-9394.jpg',\n 'Image14001012-9055.jpg',\n 'Image14001010-2806.jpg',\n 'Image14001013-2100.jpg',\n 'Image14001012-1435.jpg',\n 'Image14001013-7722.jpg',\n 'Image14001012-0059.jpg',\n 'Image14001007-6284.jpg',\n 'Image14001011-1472.jpg',\n 'Image14001009-6138.jpg',\n 'Image14001011-4278.jpg',\n 'Image14001009-0575.jpg',\n 'Image14001012-6399.jpg',\n 'Image14001012-2855.jpg',\n 'Image14001008-3295.jpg',\n 'Image14001012-9531.jpg',\n 'Image14001009-5182.jpg',\n 'Image14001011-3926.jpg',\n 'Image14001008-3256.jpg',\n 'Image14001008-7756.jpg',\n 'Image14001008-6312.jpg',\n 'Image14001007-9410.jpg']"
     },
     "execution_count": 2,
     "metadata": {},
     "output_type": "execute_result"
    }
   ],
   "source": [
    "allImages = os.listdir('../BigDataSource/Teddy2024/附件2/ImageData')\n",
    "allImages"
   ],
   "metadata": {
    "collapsed": false,
    "ExecuteTime": {
     "end_time": "2024-04-01T09:11:07.368326Z",
     "start_time": "2024-04-01T09:11:07.352659Z"
    }
   },
   "id": "26dc94d8f5edeec5",
   "execution_count": 2
  },
  {
   "cell_type": "code",
   "outputs": [
    {
     "data": {
      "text/plain": "(1000, 1)"
     },
     "execution_count": 3,
     "metadata": {},
     "output_type": "execute_result"
    }
   ],
   "source": [
    "allImagesList = pd.read_csv('../BigDataSource/Teddy2024/附件2/image_data.csv')\n",
    "allImagesList.shape"
   ],
   "metadata": {
    "collapsed": false,
    "ExecuteTime": {
     "end_time": "2024-04-01T09:11:07.387430Z",
     "start_time": "2024-04-01T09:11:07.368935Z"
    }
   },
   "id": "1aebfb6083713876",
   "execution_count": 3
  },
  {
   "cell_type": "code",
   "outputs": [
    {
     "name": "stderr",
     "output_type": "stream",
     "text": [
      "100%|██████████| 100/100 [00:03<00:00, 30.02it/s]"
     ]
    },
    {
     "name": "stdout",
     "output_type": "stream",
     "text": [
      "Done!\n"
     ]
    },
    {
     "name": "stderr",
     "output_type": "stream",
     "text": [
      "\n"
     ]
    }
   ],
   "source": [
    "import chardet\n",
    "from modules.models.SBERT import Text2Vec\n",
    "\n",
    "file_name = '../BigDataSource/Teddy2024/附件2/word_test.csv'\n",
    "# 首先，读取文件的一部分字节来检测编码\n",
    "with open(file_name, 'rb') as f:\n",
    "    raw_data = f.read(5000)\n",
    "    result = chardet.detect(raw_data)\n",
    "    encoding = result['encoding']\n",
    "    \n",
    "allTextList = pd.read_csv(file_name, encoding=encoding)\n",
    "allTextList = np.array(allTextList)\n",
    "\n",
    "text2vec = Text2Vec()\n",
    "for i in trange(len(allTextList)):\n",
    "    allTextList[i, 1] = text2vec.text2vec(allTextList[i, 1])\n",
    "print('Done!')"
   ],
   "metadata": {
    "collapsed": false,
    "ExecuteTime": {
     "end_time": "2024-04-01T09:11:17.590012Z",
     "start_time": "2024-04-01T09:11:07.376094Z"
    }
   },
   "id": "1dce04cef6107628",
   "execution_count": 4
  },
  {
   "cell_type": "code",
   "outputs": [],
   "source": [
    "# allImagesFeatures = []\n",
    "# for i in trange(len(allImages)):\n",
    "#     imageTranfer = Image2tensor()\n",
    "#     file_name = '../BigDataSource/Teddy2024/附件2/ImageData/' + allImages[i]\n",
    "#     image = Image.open(file_name)\n",
    "#     features = imageTranfer.image2tensor(image)\n",
    "#     allImagesFeatures.append(features)\n",
    "# allImagesFeatures"
   ],
   "metadata": {
    "collapsed": false,
    "ExecuteTime": {
     "end_time": "2024-04-01T09:11:17.593166Z",
     "start_time": "2024-04-01T09:11:17.590684Z"
    }
   },
   "id": "963020e9f1dfdd43",
   "execution_count": 5
  },
  {
   "cell_type": "code",
   "outputs": [
    {
     "name": "stderr",
     "output_type": "stream",
     "text": [
      "100%|██████████| 1000/1000 [00:19<00:00, 51.65it/s]"
     ]
    },
    {
     "name": "stdout",
     "output_type": "stream",
     "text": [
      "Done!\n"
     ]
    },
    {
     "name": "stderr",
     "output_type": "stream",
     "text": [
      "\n"
     ]
    }
   ],
   "source": [
    "from modules.models.ResNet50 import Image2tensor\n",
    "from PIL import Image\n",
    "\n",
    "# 这里是执行多线程代码，线性运算过慢，线性预算代码在上面，用时8mins\n",
    "from concurrent.futures import ThreadPoolExecutor, as_completed\n",
    "\n",
    "# function\n",
    "def process_image(inputs):\n",
    "    imageTranfer, image_name = inputs\n",
    "    file_name = '../BigDataSource/Teddy2024/附件2/ImageData/' + image_name\n",
    "    image = Image.open(file_name)\n",
    "    features = imageTranfer.image2tensor(image)\n",
    "    return features\n",
    "\n",
    "# input\n",
    "allImages = os.listdir('../BigDataSource/Teddy2024/附件2/ImageData')\n",
    "imageTranfer = Image2tensor()\n",
    "inputList = [(imageTranfer, imageNames) for imageNames in allImages]\n",
    "\n",
    "# Execute\n",
    "allImagesFeatures = []\n",
    "allImages = os.listdir('../BigDataSource/Teddy2024/附件2/ImageData')\n",
    "with ThreadPoolExecutor(max_workers=16) as executor:\n",
    "    futures = [executor.submit(process_image, inputs) for inputs in inputList]\n",
    "    for future in tqdm(as_completed(futures), total=len(allImages)):\n",
    "        allImagesFeatures.append(future.result().reshape(-1, ))\n",
    "print('Done!')"
   ],
   "metadata": {
    "collapsed": false,
    "ExecuteTime": {
     "end_time": "2024-04-01T09:11:45.765131Z",
     "start_time": "2024-04-01T09:11:17.594317Z"
    }
   },
   "id": "a33b636df5e580b0",
   "execution_count": 6
  },
  {
   "cell_type": "code",
   "outputs": [
    {
     "data": {
      "text/plain": "(1000, 1000)"
     },
     "execution_count": 7,
     "metadata": {},
     "output_type": "execute_result"
    }
   ],
   "source": [
    "# 将所有变量转成numpy形式\n",
    "allImagesFeatures_now = []\n",
    "for i in range(len(allImagesFeatures)):\n",
    "    imageFeatures = np.array(allImagesFeatures[i]).reshape(-1, )\n",
    "    allImagesFeatures_now.append(imageFeatures)\n",
    "allImagesFeatures = np.array(allImagesFeatures_now)\n",
    "allImagesFeatures.shape"
   ],
   "metadata": {
    "collapsed": false,
    "ExecuteTime": {
     "end_time": "2024-04-01T09:11:45.765407Z",
     "start_time": "2024-04-01T09:11:37.417169Z"
    }
   },
   "id": "2bf1c65e5e16f46",
   "execution_count": 7
  },
  {
   "cell_type": "code",
   "outputs": [
    {
     "data": {
      "text/plain": "(100, 384)"
     },
     "execution_count": 18,
     "metadata": {},
     "output_type": "execute_result"
    }
   ],
   "source": [
    "# 将所有变量转成numpy形式\n",
    "allTextFeatures_now = []\n",
    "for i in range(len(allTextList)):\n",
    "    textFeatures = np.array(allTextList[i, 1]).reshape(-1, )\n",
    "    allTextFeatures_now.append(textFeatures)\n",
    "allTextFeatures = np.array(allTextFeatures_now)\n",
    "allTextFeatures.shape"
   ],
   "metadata": {
    "collapsed": false,
    "ExecuteTime": {
     "end_time": "2024-04-01T09:15:11.832818Z",
     "start_time": "2024-04-01T09:15:11.824064Z"
    }
   },
   "id": "b8b4588be7259e9d",
   "execution_count": 18
  },
  {
   "cell_type": "code",
   "outputs": [
    {
     "name": "stdout",
     "output_type": "stream",
     "text": [
      "LSH:  0.06s\n",
      "L2:  0.48s\n"
     ]
    }
   ],
   "source": [
    "from modules.models.Retrieve import LSH, L2Index\n",
    "from time import time \n",
    "\n",
    "d = 64  # 向量维度\n",
    "nb = 190000  # 数据库大小\n",
    "nq = 256 * 10  # 查询向量的数量\n",
    "np.random.seed(1234)  # 保证可复现的结果\n",
    "\n",
    "# 生成一些随机样本向量\n",
    "xb = np.random.random((nb, d))\n",
    "xq = np.random.random((nq, d))\n",
    "\n",
    "t1 = time()\n",
    "lsh = LSH(k=3, d=d, nbits=d)\n",
    "topk_distence, topk_indices = lsh.search_topk_embeds(xb, xq)\n",
    "t2 = time()\n",
    "print(f'LSH: {t2 - t1 : .2f}s')\n",
    "\n",
    "t1 = time()\n",
    "l2index = L2Index(k=3, d=d)\n",
    "topk_distence, topk_indices = l2index.search_topk_embeds(xb, xq)\n",
    "t2 = time()\n",
    "print(f'L2: {t2 - t1 : .2f}s')"
   ],
   "metadata": {
    "collapsed": false,
    "ExecuteTime": {
     "end_time": "2024-04-01T09:15:12.739520Z",
     "start_time": "2024-04-01T09:15:12.127775Z"
    }
   },
   "id": "fd4fcbf590707448",
   "execution_count": 19
  },
  {
   "cell_type": "code",
   "outputs": [
    {
     "data": {
      "text/plain": "((100, 384), (1000, 1000))"
     },
     "execution_count": 20,
     "metadata": {},
     "output_type": "execute_result"
    }
   ],
   "source": [
    "allTextFeatures.shape, allImagesFeatures.shape"
   ],
   "metadata": {
    "collapsed": false,
    "ExecuteTime": {
     "end_time": "2024-04-01T09:15:15.264062Z",
     "start_time": "2024-04-01T09:15:15.257288Z"
    }
   },
   "id": "23e4ebd82282afc3",
   "execution_count": 20
  },
  {
   "cell_type": "code",
   "outputs": [],
   "source": [],
   "metadata": {
    "collapsed": false
   },
   "id": "c8cab9a8585ee185"
  }
 ],
 "metadata": {
  "kernelspec": {
   "display_name": "Python 3",
   "language": "python",
   "name": "python3"
  },
  "language_info": {
   "codemirror_mode": {
    "name": "ipython",
    "version": 2
   },
   "file_extension": ".py",
   "mimetype": "text/x-python",
   "name": "python",
   "nbconvert_exporter": "python",
   "pygments_lexer": "ipython2",
   "version": "2.7.6"
  }
 },
 "nbformat": 4,
 "nbformat_minor": 5
}
